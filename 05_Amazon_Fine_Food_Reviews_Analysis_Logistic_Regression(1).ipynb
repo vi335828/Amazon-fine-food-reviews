{
  "nbformat": 4,
  "nbformat_minor": 0,
  "metadata": {
    "colab": {
      "name": "05_Amazon_Fine_Food_Reviews_Analysis_Logistic_Regression(1).ipynb",
      "version": "0.3.2",
      "provenance": [],
      "collapsed_sections": [
        "BiQYRHVKTa3z",
        "Ne45CBR2Ta46",
        "8JHVipAdTa5m",
        "evVe8EczTa5n",
        "Bklrb44sTa5q",
        "ZUD95bhXTa5u",
        "E016NhliTa6Z"
      ]
    },
    "language_info": {
      "codemirror_mode": {
        "name": "ipython",
        "version": 3
      },
      "file_extension": ".py",
      "mimetype": "text/x-python",
      "name": "python",
      "nbconvert_exporter": "python",
      "pygments_lexer": "ipython3",
      "version": "3.7.1"
    },
    "kernelspec": {
      "display_name": "Python 3",
      "language": "python",
      "name": "python3"
    }
  },
  "cells": [
    {
      "metadata": {
        "id": "OtvjuYgrTa0M",
        "colab_type": "text"
      },
      "cell_type": "markdown",
      "source": [
        "# Amazon Fine Food Reviews Analysis\n",
        "\n",
        "\n",
        "Data Source: https://www.kaggle.com/snap/amazon-fine-food-reviews <br>\n",
        "\n",
        "EDA: https://nycdatascience.com/blog/student-works/amazon-fine-foods-visualization/\n",
        "\n",
        "\n",
        "The Amazon Fine Food Reviews dataset consists of reviews of fine foods from Amazon.<br>\n",
        "\n",
        "Number of reviews: 568,454<br>\n",
        "Number of users: 256,059<br>\n",
        "Number of products: 74,258<br>\n",
        "Timespan: Oct 1999 - Oct 2012<br>\n",
        "Number of Attributes/Columns in data: 10 \n",
        "\n",
        "Attribute Information:\n",
        "\n",
        "1. Id\n",
        "2. ProductId - unique identifier for the product\n",
        "3. UserId - unqiue identifier for the user\n",
        "4. ProfileName\n",
        "5. HelpfulnessNumerator - number of users who found the review helpful\n",
        "6. HelpfulnessDenominator - number of users who indicated whether they found the review helpful or not\n",
        "7. Score - rating between 1 and 5\n",
        "8. Time - timestamp for the review\n",
        "9. Summary - brief summary of the review\n",
        "10. Text - text of the review\n",
        "\n",
        "\n",
        "#### Objective:\n",
        "Given a review, determine whether the review is positive (rating of 4 or 5) or negative (rating of 1 or 2).\n",
        "\n",
        "<br>\n",
        "[Q] How to determine if a review is positive or negative?<br>\n",
        "<br> \n",
        "[Ans] We could use Score/Rating. A rating of 4 or 5 can be cosnidered as a positive review. A rating of 1 or 2 can be considered as negative one. A review of rating 3 is considered nuetral and such reviews are ignored from our analysis. This is an approximate and proxy way of determining the polarity (positivity/negativity) of a review.\n",
        "\n",
        "\n"
      ]
    },
    {
      "metadata": {
        "id": "P1Qu89gWTa0P",
        "colab_type": "text"
      },
      "cell_type": "markdown",
      "source": [
        "# [1]. Reading Data"
      ]
    },
    {
      "metadata": {
        "id": "zdV9myI7Ta0Q",
        "colab_type": "text"
      },
      "cell_type": "markdown",
      "source": [
        "## [1.1] Loading the data\n",
        "\n",
        "The dataset is available in two forms\n",
        "1. .csv file\n",
        "2. SQLite Database\n",
        "\n",
        "In order to load the data, We have used the SQLITE dataset as it is easier to query the data and visualise the data efficiently.\n",
        "<br> \n",
        "\n",
        "Here as we only want to get the global sentiment of the recommendations (positive or negative), we will purposefully ignore all Scores equal to 3. If the score is above 3, then the recommendation wil be set to \"positive\". Otherwise, it will be set to \"negative\"."
      ]
    },
    {
      "metadata": {
        "id": "6t-4HD_0Ta0R",
        "colab_type": "code",
        "colab": {}
      },
      "cell_type": "code",
      "source": [
        "%matplotlib inline\n",
        "import warnings\n",
        "warnings.filterwarnings(\"ignore\")\n",
        "\n",
        "\n",
        "import sqlite3\n",
        "import pandas as pd\n",
        "import numpy as np\n",
        "import nltk\n",
        "import string\n",
        "import matplotlib.pyplot as plt\n",
        "import seaborn as sns\n",
        "from sklearn.feature_extraction.text import TfidfTransformer\n",
        "from sklearn.feature_extraction.text import TfidfVectorizer\n",
        "\n",
        "from sklearn.feature_extraction.text import CountVectorizer\n",
        "from sklearn.metrics import confusion_matrix\n",
        "from sklearn import metrics\n",
        "from sklearn.metrics import roc_curve, auc\n",
        "from nltk.stem.porter import PorterStemmer\n",
        "\n",
        "import re\n",
        "# Tutorial about Python regular expressions: https://pymotw.com/2/re/\n",
        "import string\n",
        "from nltk.corpus import stopwords\n",
        "from nltk.stem import PorterStemmer\n",
        "from nltk.stem.wordnet import WordNetLemmatizer\n",
        "\n",
        "from gensim.models import Word2Vec\n",
        "from gensim.models import KeyedVectors\n",
        "import pickle\n",
        "\n",
        "from tqdm import tqdm\n",
        "import os\n",
        "from sklearn.model_selection import train_test_split\n",
        "from sklearn.linear_model import LogisticRegression\n",
        "from sklearn.model_selection import GridSearchCV\n",
        "from prettytable import  PrettyTable"
      ],
      "execution_count": 0,
      "outputs": []
    },
    {
      "metadata": {
        "id": "2Aw4fhLFTa0b",
        "colab_type": "code",
        "outputId": "64c31cca-4ef0-4777-e428-dbece5bf6c69",
        "colab": {
          "base_uri": "https://localhost:8080/",
          "height": 244
        }
      },
      "cell_type": "code",
      "source": [
        "# using SQLite Table to read data.\n",
        "con = sqlite3.connect('database.sqlite') \n",
        "\n",
        "# filtering only positive and negative reviews i.e. \n",
        "# not taking into consideration those reviews with Score=3\n",
        "# SELECT * FROM Reviews WHERE Score != 3 LIMIT 500000, will give top 500000 data points\n",
        "# you can change the number to any other number based on your computing power\n",
        "\n",
        "# filtered_data = pd.read_sql_query(\"\"\" SELECT * FROM Reviews WHERE Score != 3 LIMIT 500000\"\"\", con) \n",
        "# for tsne assignment you can take 5k data points\n",
        "\n",
        "filtered_data = pd.read_sql_query(\"\"\" SELECT * FROM Reviews WHERE Score != 3 LIMIT 100000\"\"\", con) \n",
        "\n",
        "# Give reviews with Score>3 a positive rating(1), and reviews with a score<3 a negative rating(0).\n",
        "def partition(x):\n",
        "    if x < 3:\n",
        "        return 0\n",
        "    return 1\n",
        "\n",
        "#changing reviews with score less than 3 to be positive and vice-versa\n",
        "actualScore = filtered_data['Score']\n",
        "positiveNegative = actualScore.map(partition) \n",
        "filtered_data['Score'] = positiveNegative\n",
        "print(\"Number of data points in our data\", filtered_data.shape)\n",
        "filtered_data.head(3)"
      ],
      "execution_count": 38,
      "outputs": [
        {
          "output_type": "stream",
          "text": [
            "Number of data points in our data (100000, 10)\n"
          ],
          "name": "stdout"
        },
        {
          "output_type": "execute_result",
          "data": {
            "text/html": [
              "<div>\n",
              "<style scoped>\n",
              "    .dataframe tbody tr th:only-of-type {\n",
              "        vertical-align: middle;\n",
              "    }\n",
              "\n",
              "    .dataframe tbody tr th {\n",
              "        vertical-align: top;\n",
              "    }\n",
              "\n",
              "    .dataframe thead th {\n",
              "        text-align: right;\n",
              "    }\n",
              "</style>\n",
              "<table border=\"1\" class=\"dataframe\">\n",
              "  <thead>\n",
              "    <tr style=\"text-align: right;\">\n",
              "      <th></th>\n",
              "      <th>Id</th>\n",
              "      <th>ProductId</th>\n",
              "      <th>UserId</th>\n",
              "      <th>ProfileName</th>\n",
              "      <th>HelpfulnessNumerator</th>\n",
              "      <th>HelpfulnessDenominator</th>\n",
              "      <th>Score</th>\n",
              "      <th>Time</th>\n",
              "      <th>Summary</th>\n",
              "      <th>Text</th>\n",
              "    </tr>\n",
              "  </thead>\n",
              "  <tbody>\n",
              "    <tr>\n",
              "      <th>0</th>\n",
              "      <td>1</td>\n",
              "      <td>B001E4KFG0</td>\n",
              "      <td>A3SGXH7AUHU8GW</td>\n",
              "      <td>delmartian</td>\n",
              "      <td>1</td>\n",
              "      <td>1</td>\n",
              "      <td>1</td>\n",
              "      <td>1303862400</td>\n",
              "      <td>Good Quality Dog Food</td>\n",
              "      <td>I have bought several of the Vitality canned d...</td>\n",
              "    </tr>\n",
              "    <tr>\n",
              "      <th>1</th>\n",
              "      <td>2</td>\n",
              "      <td>B00813GRG4</td>\n",
              "      <td>A1D87F6ZCVE5NK</td>\n",
              "      <td>dll pa</td>\n",
              "      <td>0</td>\n",
              "      <td>0</td>\n",
              "      <td>0</td>\n",
              "      <td>1346976000</td>\n",
              "      <td>Not as Advertised</td>\n",
              "      <td>Product arrived labeled as Jumbo Salted Peanut...</td>\n",
              "    </tr>\n",
              "    <tr>\n",
              "      <th>2</th>\n",
              "      <td>3</td>\n",
              "      <td>B000LQOCH0</td>\n",
              "      <td>ABXLMWJIXXAIN</td>\n",
              "      <td>Natalia Corres \"Natalia Corres\"</td>\n",
              "      <td>1</td>\n",
              "      <td>1</td>\n",
              "      <td>1</td>\n",
              "      <td>1219017600</td>\n",
              "      <td>\"Delight\" says it all</td>\n",
              "      <td>This is a confection that has been around a fe...</td>\n",
              "    </tr>\n",
              "  </tbody>\n",
              "</table>\n",
              "</div>"
            ],
            "text/plain": [
              "   Id   ProductId          UserId                      ProfileName  \\\n",
              "0   1  B001E4KFG0  A3SGXH7AUHU8GW                       delmartian   \n",
              "1   2  B00813GRG4  A1D87F6ZCVE5NK                           dll pa   \n",
              "2   3  B000LQOCH0   ABXLMWJIXXAIN  Natalia Corres \"Natalia Corres\"   \n",
              "\n",
              "   HelpfulnessNumerator  HelpfulnessDenominator  Score        Time  \\\n",
              "0                     1                       1      1  1303862400   \n",
              "1                     0                       0      0  1346976000   \n",
              "2                     1                       1      1  1219017600   \n",
              "\n",
              "                 Summary                                               Text  \n",
              "0  Good Quality Dog Food  I have bought several of the Vitality canned d...  \n",
              "1      Not as Advertised  Product arrived labeled as Jumbo Salted Peanut...  \n",
              "2  \"Delight\" says it all  This is a confection that has been around a fe...  "
            ]
          },
          "metadata": {
            "tags": []
          },
          "execution_count": 38
        }
      ]
    },
    {
      "metadata": {
        "id": "zqIAAPRhTa0l",
        "colab_type": "code",
        "colab": {}
      },
      "cell_type": "code",
      "source": [
        "display = pd.read_sql_query(\"\"\"\n",
        "SELECT UserId, ProductId, ProfileName, Time, Score, Text, COUNT(*)\n",
        "FROM Reviews\n",
        "GROUP BY UserId\n",
        "HAVING COUNT(*)>1\n",
        "\"\"\", con)"
      ],
      "execution_count": 0,
      "outputs": []
    },
    {
      "metadata": {
        "scrolled": true,
        "id": "XpbeyA7nTa0p",
        "colab_type": "code",
        "outputId": "fe5764a4-3f10-43c5-e66c-4ae52644a926",
        "colab": {
          "base_uri": "https://localhost:8080/",
          "height": 221
        }
      },
      "cell_type": "code",
      "source": [
        "print(display.shape)\n",
        "display.head()"
      ],
      "execution_count": 0,
      "outputs": [
        {
          "output_type": "stream",
          "text": [
            "(80668, 7)\n"
          ],
          "name": "stdout"
        },
        {
          "output_type": "execute_result",
          "data": {
            "text/html": [
              "<div>\n",
              "<style scoped>\n",
              "    .dataframe tbody tr th:only-of-type {\n",
              "        vertical-align: middle;\n",
              "    }\n",
              "\n",
              "    .dataframe tbody tr th {\n",
              "        vertical-align: top;\n",
              "    }\n",
              "\n",
              "    .dataframe thead th {\n",
              "        text-align: right;\n",
              "    }\n",
              "</style>\n",
              "<table border=\"1\" class=\"dataframe\">\n",
              "  <thead>\n",
              "    <tr style=\"text-align: right;\">\n",
              "      <th></th>\n",
              "      <th>UserId</th>\n",
              "      <th>ProductId</th>\n",
              "      <th>ProfileName</th>\n",
              "      <th>Time</th>\n",
              "      <th>Score</th>\n",
              "      <th>Text</th>\n",
              "      <th>COUNT(*)</th>\n",
              "    </tr>\n",
              "  </thead>\n",
              "  <tbody>\n",
              "    <tr>\n",
              "      <th>0</th>\n",
              "      <td>#oc-R115TNMSPFT9I7</td>\n",
              "      <td>B007Y59HVM</td>\n",
              "      <td>Breyton</td>\n",
              "      <td>1331510400</td>\n",
              "      <td>2</td>\n",
              "      <td>Overall its just OK when considering the price...</td>\n",
              "      <td>2</td>\n",
              "    </tr>\n",
              "    <tr>\n",
              "      <th>1</th>\n",
              "      <td>#oc-R11D9D7SHXIJB9</td>\n",
              "      <td>B005HG9ET0</td>\n",
              "      <td>Louis E. Emory \"hoppy\"</td>\n",
              "      <td>1342396800</td>\n",
              "      <td>5</td>\n",
              "      <td>My wife has recurring extreme muscle spasms, u...</td>\n",
              "      <td>3</td>\n",
              "    </tr>\n",
              "    <tr>\n",
              "      <th>2</th>\n",
              "      <td>#oc-R11DNU2NBKQ23Z</td>\n",
              "      <td>B007Y59HVM</td>\n",
              "      <td>Kim Cieszykowski</td>\n",
              "      <td>1348531200</td>\n",
              "      <td>1</td>\n",
              "      <td>This coffee is horrible and unfortunately not ...</td>\n",
              "      <td>2</td>\n",
              "    </tr>\n",
              "    <tr>\n",
              "      <th>3</th>\n",
              "      <td>#oc-R11O5J5ZVQE25C</td>\n",
              "      <td>B005HG9ET0</td>\n",
              "      <td>Penguin Chick</td>\n",
              "      <td>1346889600</td>\n",
              "      <td>5</td>\n",
              "      <td>This will be the bottle that you grab from the...</td>\n",
              "      <td>3</td>\n",
              "    </tr>\n",
              "    <tr>\n",
              "      <th>4</th>\n",
              "      <td>#oc-R12KPBODL2B5ZD</td>\n",
              "      <td>B007OSBE1U</td>\n",
              "      <td>Christopher P. Presta</td>\n",
              "      <td>1348617600</td>\n",
              "      <td>1</td>\n",
              "      <td>I didnt like this coffee. Instead of telling y...</td>\n",
              "      <td>2</td>\n",
              "    </tr>\n",
              "  </tbody>\n",
              "</table>\n",
              "</div>"
            ],
            "text/plain": [
              "               UserId   ProductId             ProfileName        Time  Score  \\\n",
              "0  #oc-R115TNMSPFT9I7  B007Y59HVM                 Breyton  1331510400      2   \n",
              "1  #oc-R11D9D7SHXIJB9  B005HG9ET0  Louis E. Emory \"hoppy\"  1342396800      5   \n",
              "2  #oc-R11DNU2NBKQ23Z  B007Y59HVM        Kim Cieszykowski  1348531200      1   \n",
              "3  #oc-R11O5J5ZVQE25C  B005HG9ET0           Penguin Chick  1346889600      5   \n",
              "4  #oc-R12KPBODL2B5ZD  B007OSBE1U   Christopher P. Presta  1348617600      1   \n",
              "\n",
              "                                                Text  COUNT(*)  \n",
              "0  Overall its just OK when considering the price...         2  \n",
              "1  My wife has recurring extreme muscle spasms, u...         3  \n",
              "2  This coffee is horrible and unfortunately not ...         2  \n",
              "3  This will be the bottle that you grab from the...         3  \n",
              "4  I didnt like this coffee. Instead of telling y...         2  "
            ]
          },
          "metadata": {
            "tags": []
          },
          "execution_count": 4
        }
      ]
    },
    {
      "metadata": {
        "id": "bIByTDc1Ta0u",
        "colab_type": "code",
        "outputId": "1460b8bf-1c6b-4df7-f601-40ba5fbca01e",
        "colab": {
          "base_uri": "https://localhost:8080/",
          "height": 80
        }
      },
      "cell_type": "code",
      "source": [
        "display[display['UserId']=='AZY10LLTJ71NX']"
      ],
      "execution_count": 0,
      "outputs": [
        {
          "output_type": "execute_result",
          "data": {
            "text/html": [
              "<div>\n",
              "<style scoped>\n",
              "    .dataframe tbody tr th:only-of-type {\n",
              "        vertical-align: middle;\n",
              "    }\n",
              "\n",
              "    .dataframe tbody tr th {\n",
              "        vertical-align: top;\n",
              "    }\n",
              "\n",
              "    .dataframe thead th {\n",
              "        text-align: right;\n",
              "    }\n",
              "</style>\n",
              "<table border=\"1\" class=\"dataframe\">\n",
              "  <thead>\n",
              "    <tr style=\"text-align: right;\">\n",
              "      <th></th>\n",
              "      <th>UserId</th>\n",
              "      <th>ProductId</th>\n",
              "      <th>ProfileName</th>\n",
              "      <th>Time</th>\n",
              "      <th>Score</th>\n",
              "      <th>Text</th>\n",
              "      <th>COUNT(*)</th>\n",
              "    </tr>\n",
              "  </thead>\n",
              "  <tbody>\n",
              "    <tr>\n",
              "      <th>80638</th>\n",
              "      <td>AZY10LLTJ71NX</td>\n",
              "      <td>B006P7E5ZI</td>\n",
              "      <td>undertheshrine \"undertheshrine\"</td>\n",
              "      <td>1334707200</td>\n",
              "      <td>5</td>\n",
              "      <td>I was recommended to try green tea extract to ...</td>\n",
              "      <td>5</td>\n",
              "    </tr>\n",
              "  </tbody>\n",
              "</table>\n",
              "</div>"
            ],
            "text/plain": [
              "              UserId   ProductId                      ProfileName        Time  \\\n",
              "80638  AZY10LLTJ71NX  B006P7E5ZI  undertheshrine \"undertheshrine\"  1334707200   \n",
              "\n",
              "       Score                                               Text  COUNT(*)  \n",
              "80638      5  I was recommended to try green tea extract to ...         5  "
            ]
          },
          "metadata": {
            "tags": []
          },
          "execution_count": 5
        }
      ]
    },
    {
      "metadata": {
        "id": "CwjhiY8mTa00",
        "colab_type": "code",
        "outputId": "cb10673f-876c-49f1-87f8-ae27ff87bfc4",
        "colab": {
          "base_uri": "https://localhost:8080/",
          "height": 34
        }
      },
      "cell_type": "code",
      "source": [
        "display['COUNT(*)'].sum()"
      ],
      "execution_count": 0,
      "outputs": [
        {
          "output_type": "execute_result",
          "data": {
            "text/plain": [
              "393063"
            ]
          },
          "metadata": {
            "tags": []
          },
          "execution_count": 6
        }
      ]
    },
    {
      "metadata": {
        "id": "HAXmF6o-Ta05",
        "colab_type": "text"
      },
      "cell_type": "markdown",
      "source": [
        "#  [2] Exploratory Data Analysis"
      ]
    },
    {
      "metadata": {
        "id": "l3VqOk6FTa07",
        "colab_type": "text"
      },
      "cell_type": "markdown",
      "source": [
        "## [2.1] Data Cleaning: Deduplication\n",
        "\n",
        "It is observed (as shown in the table below) that the reviews data had many duplicate entries. Hence it was necessary to remove duplicates in order to get unbiased results for the analysis of the data.  Following is an example:"
      ]
    },
    {
      "metadata": {
        "scrolled": false,
        "id": "MJJgxR0MTa08",
        "colab_type": "code",
        "outputId": "8ded00b9-af4b-4898-b42e-e11cc6a6a4b0",
        "colab": {
          "base_uri": "https://localhost:8080/",
          "height": 459
        }
      },
      "cell_type": "code",
      "source": [
        "display= pd.read_sql_query(\"\"\"\n",
        "SELECT *\n",
        "FROM Reviews\n",
        "WHERE Score != 3 AND UserId=\"AR5J8UI46CURR\"\n",
        "ORDER BY ProductID\n",
        "\"\"\", con)\n",
        "display.head()"
      ],
      "execution_count": 0,
      "outputs": [
        {
          "output_type": "execute_result",
          "data": {
            "text/html": [
              "<div>\n",
              "<style scoped>\n",
              "    .dataframe tbody tr th:only-of-type {\n",
              "        vertical-align: middle;\n",
              "    }\n",
              "\n",
              "    .dataframe tbody tr th {\n",
              "        vertical-align: top;\n",
              "    }\n",
              "\n",
              "    .dataframe thead th {\n",
              "        text-align: right;\n",
              "    }\n",
              "</style>\n",
              "<table border=\"1\" class=\"dataframe\">\n",
              "  <thead>\n",
              "    <tr style=\"text-align: right;\">\n",
              "      <th></th>\n",
              "      <th>Id</th>\n",
              "      <th>ProductId</th>\n",
              "      <th>UserId</th>\n",
              "      <th>ProfileName</th>\n",
              "      <th>HelpfulnessNumerator</th>\n",
              "      <th>HelpfulnessDenominator</th>\n",
              "      <th>Score</th>\n",
              "      <th>Time</th>\n",
              "      <th>Summary</th>\n",
              "      <th>Text</th>\n",
              "    </tr>\n",
              "  </thead>\n",
              "  <tbody>\n",
              "    <tr>\n",
              "      <th>0</th>\n",
              "      <td>78445</td>\n",
              "      <td>B000HDL1RQ</td>\n",
              "      <td>AR5J8UI46CURR</td>\n",
              "      <td>Geetha Krishnan</td>\n",
              "      <td>2</td>\n",
              "      <td>2</td>\n",
              "      <td>5</td>\n",
              "      <td>1199577600</td>\n",
              "      <td>LOACKER QUADRATINI VANILLA WAFERS</td>\n",
              "      <td>DELICIOUS WAFERS. I FIND THAT EUROPEAN WAFERS ...</td>\n",
              "    </tr>\n",
              "    <tr>\n",
              "      <th>1</th>\n",
              "      <td>138317</td>\n",
              "      <td>B000HDOPYC</td>\n",
              "      <td>AR5J8UI46CURR</td>\n",
              "      <td>Geetha Krishnan</td>\n",
              "      <td>2</td>\n",
              "      <td>2</td>\n",
              "      <td>5</td>\n",
              "      <td>1199577600</td>\n",
              "      <td>LOACKER QUADRATINI VANILLA WAFERS</td>\n",
              "      <td>DELICIOUS WAFERS. I FIND THAT EUROPEAN WAFERS ...</td>\n",
              "    </tr>\n",
              "    <tr>\n",
              "      <th>2</th>\n",
              "      <td>138277</td>\n",
              "      <td>B000HDOPYM</td>\n",
              "      <td>AR5J8UI46CURR</td>\n",
              "      <td>Geetha Krishnan</td>\n",
              "      <td>2</td>\n",
              "      <td>2</td>\n",
              "      <td>5</td>\n",
              "      <td>1199577600</td>\n",
              "      <td>LOACKER QUADRATINI VANILLA WAFERS</td>\n",
              "      <td>DELICIOUS WAFERS. I FIND THAT EUROPEAN WAFERS ...</td>\n",
              "    </tr>\n",
              "    <tr>\n",
              "      <th>3</th>\n",
              "      <td>73791</td>\n",
              "      <td>B000HDOPZG</td>\n",
              "      <td>AR5J8UI46CURR</td>\n",
              "      <td>Geetha Krishnan</td>\n",
              "      <td>2</td>\n",
              "      <td>2</td>\n",
              "      <td>5</td>\n",
              "      <td>1199577600</td>\n",
              "      <td>LOACKER QUADRATINI VANILLA WAFERS</td>\n",
              "      <td>DELICIOUS WAFERS. I FIND THAT EUROPEAN WAFERS ...</td>\n",
              "    </tr>\n",
              "    <tr>\n",
              "      <th>4</th>\n",
              "      <td>155049</td>\n",
              "      <td>B000PAQ75C</td>\n",
              "      <td>AR5J8UI46CURR</td>\n",
              "      <td>Geetha Krishnan</td>\n",
              "      <td>2</td>\n",
              "      <td>2</td>\n",
              "      <td>5</td>\n",
              "      <td>1199577600</td>\n",
              "      <td>LOACKER QUADRATINI VANILLA WAFERS</td>\n",
              "      <td>DELICIOUS WAFERS. I FIND THAT EUROPEAN WAFERS ...</td>\n",
              "    </tr>\n",
              "  </tbody>\n",
              "</table>\n",
              "</div>"
            ],
            "text/plain": [
              "       Id   ProductId         UserId      ProfileName  HelpfulnessNumerator  \\\n",
              "0   78445  B000HDL1RQ  AR5J8UI46CURR  Geetha Krishnan                     2   \n",
              "1  138317  B000HDOPYC  AR5J8UI46CURR  Geetha Krishnan                     2   \n",
              "2  138277  B000HDOPYM  AR5J8UI46CURR  Geetha Krishnan                     2   \n",
              "3   73791  B000HDOPZG  AR5J8UI46CURR  Geetha Krishnan                     2   \n",
              "4  155049  B000PAQ75C  AR5J8UI46CURR  Geetha Krishnan                     2   \n",
              "\n",
              "   HelpfulnessDenominator  Score        Time  \\\n",
              "0                       2      5  1199577600   \n",
              "1                       2      5  1199577600   \n",
              "2                       2      5  1199577600   \n",
              "3                       2      5  1199577600   \n",
              "4                       2      5  1199577600   \n",
              "\n",
              "                             Summary  \\\n",
              "0  LOACKER QUADRATINI VANILLA WAFERS   \n",
              "1  LOACKER QUADRATINI VANILLA WAFERS   \n",
              "2  LOACKER QUADRATINI VANILLA WAFERS   \n",
              "3  LOACKER QUADRATINI VANILLA WAFERS   \n",
              "4  LOACKER QUADRATINI VANILLA WAFERS   \n",
              "\n",
              "                                                Text  \n",
              "0  DELICIOUS WAFERS. I FIND THAT EUROPEAN WAFERS ...  \n",
              "1  DELICIOUS WAFERS. I FIND THAT EUROPEAN WAFERS ...  \n",
              "2  DELICIOUS WAFERS. I FIND THAT EUROPEAN WAFERS ...  \n",
              "3  DELICIOUS WAFERS. I FIND THAT EUROPEAN WAFERS ...  \n",
              "4  DELICIOUS WAFERS. I FIND THAT EUROPEAN WAFERS ...  "
            ]
          },
          "metadata": {
            "tags": []
          },
          "execution_count": 7
        }
      ]
    },
    {
      "metadata": {
        "id": "hNkqVx4KTa1D",
        "colab_type": "text"
      },
      "cell_type": "markdown",
      "source": [
        "As it can be seen above that same user has multiple reviews with same values for HelpfulnessNumerator, HelpfulnessDenominator, Score, Time, Summary and Text and on doing analysis it was found that <br>\n",
        "<br> \n",
        "ProductId=B000HDOPZG was Loacker Quadratini Vanilla Wafer Cookies, 8.82-Ounce Packages (Pack of 8)<br>\n",
        "<br> \n",
        "ProductId=B000HDL1RQ was Loacker Quadratini Lemon Wafer Cookies, 8.82-Ounce Packages (Pack of 8) and so on<br>\n",
        "\n",
        "It was inferred after analysis that reviews with same parameters other than ProductId belonged to the same product just having different flavour or quantity. Hence in order to reduce redundancy it was decided to eliminate the rows having same parameters.<br>\n",
        "\n",
        "The method used for the same was that we first sort the data according to ProductId and then just keep the first similar product review and delelte the others. for eg. in the above just the review for ProductId=B000HDL1RQ remains. This method ensures that there is only one representative for each product and deduplication without sorting would lead to possibility of different representatives still existing for the same product."
      ]
    },
    {
      "metadata": {
        "id": "2rekq3ttTa1E",
        "colab_type": "code",
        "colab": {}
      },
      "cell_type": "code",
      "source": [
        "#Sorting data according to ProductId in ascending order\n",
        "sorted_data=filtered_data.sort_values('ProductId', axis=0, ascending=True, inplace=False, kind='quicksort', na_position='last')"
      ],
      "execution_count": 0,
      "outputs": []
    },
    {
      "metadata": {
        "id": "4mSEXAdPTa1I",
        "colab_type": "code",
        "outputId": "e79926b1-1dc7-40c3-9d75-98177b2401dc",
        "colab": {
          "base_uri": "https://localhost:8080/",
          "height": 34
        }
      },
      "cell_type": "code",
      "source": [
        "#Deduplication of entries\n",
        "final=sorted_data.drop_duplicates(subset={\"UserId\",\"ProfileName\",\"Time\",\"Text\"}, keep='first', inplace=False)\n",
        "final.shape"
      ],
      "execution_count": 0,
      "outputs": [
        {
          "output_type": "execute_result",
          "data": {
            "text/plain": [
              "(87775, 10)"
            ]
          },
          "metadata": {
            "tags": []
          },
          "execution_count": 9
        }
      ]
    },
    {
      "metadata": {
        "id": "nwpo2sU2Ta1M",
        "colab_type": "code",
        "outputId": "76c903ec-0f38-44a4-aa0c-9f7b213ab717",
        "colab": {
          "base_uri": "https://localhost:8080/",
          "height": 34
        }
      },
      "cell_type": "code",
      "source": [
        "#Checking to see how much % of data still remains\n",
        "(final['Id'].size*1.0)/(filtered_data['Id'].size*1.0)*100"
      ],
      "execution_count": 0,
      "outputs": [
        {
          "output_type": "execute_result",
          "data": {
            "text/plain": [
              "87.775"
            ]
          },
          "metadata": {
            "tags": []
          },
          "execution_count": 10
        }
      ]
    },
    {
      "metadata": {
        "id": "eTXFvVWSTa1S",
        "colab_type": "text"
      },
      "cell_type": "markdown",
      "source": [
        "<b>Observation:-</b> It was also seen that in two rows given below the value of HelpfulnessNumerator is greater than HelpfulnessDenominator which is not practically possible hence these two rows too are removed from calcualtions"
      ]
    },
    {
      "metadata": {
        "id": "QfoVlGD8Ta1T",
        "colab_type": "code",
        "outputId": "a1e53ee0-4b8c-4af5-f9d6-35516ffc3622",
        "colab": {
          "base_uri": "https://localhost:8080/",
          "height": 179
        }
      },
      "cell_type": "code",
      "source": [
        "display= pd.read_sql_query(\"\"\"\n",
        "SELECT *\n",
        "FROM Reviews\n",
        "WHERE Score != 3 AND Id=44737 OR Id=64422\n",
        "ORDER BY ProductID\n",
        "\"\"\", con)\n",
        "\n",
        "display.head()"
      ],
      "execution_count": 0,
      "outputs": [
        {
          "output_type": "execute_result",
          "data": {
            "text/html": [
              "<div>\n",
              "<style scoped>\n",
              "    .dataframe tbody tr th:only-of-type {\n",
              "        vertical-align: middle;\n",
              "    }\n",
              "\n",
              "    .dataframe tbody tr th {\n",
              "        vertical-align: top;\n",
              "    }\n",
              "\n",
              "    .dataframe thead th {\n",
              "        text-align: right;\n",
              "    }\n",
              "</style>\n",
              "<table border=\"1\" class=\"dataframe\">\n",
              "  <thead>\n",
              "    <tr style=\"text-align: right;\">\n",
              "      <th></th>\n",
              "      <th>Id</th>\n",
              "      <th>ProductId</th>\n",
              "      <th>UserId</th>\n",
              "      <th>ProfileName</th>\n",
              "      <th>HelpfulnessNumerator</th>\n",
              "      <th>HelpfulnessDenominator</th>\n",
              "      <th>Score</th>\n",
              "      <th>Time</th>\n",
              "      <th>Summary</th>\n",
              "      <th>Text</th>\n",
              "    </tr>\n",
              "  </thead>\n",
              "  <tbody>\n",
              "    <tr>\n",
              "      <th>0</th>\n",
              "      <td>64422</td>\n",
              "      <td>B000MIDROQ</td>\n",
              "      <td>A161DK06JJMCYF</td>\n",
              "      <td>J. E. Stephens \"Jeanne\"</td>\n",
              "      <td>3</td>\n",
              "      <td>1</td>\n",
              "      <td>5</td>\n",
              "      <td>1224892800</td>\n",
              "      <td>Bought This for My Son at College</td>\n",
              "      <td>My son loves spaghetti so I didn't hesitate or...</td>\n",
              "    </tr>\n",
              "    <tr>\n",
              "      <th>1</th>\n",
              "      <td>44737</td>\n",
              "      <td>B001EQ55RW</td>\n",
              "      <td>A2V0I904FH7ABY</td>\n",
              "      <td>Ram</td>\n",
              "      <td>3</td>\n",
              "      <td>2</td>\n",
              "      <td>4</td>\n",
              "      <td>1212883200</td>\n",
              "      <td>Pure cocoa taste with crunchy almonds inside</td>\n",
              "      <td>It was almost a 'love at first bite' - the per...</td>\n",
              "    </tr>\n",
              "  </tbody>\n",
              "</table>\n",
              "</div>"
            ],
            "text/plain": [
              "      Id   ProductId          UserId              ProfileName  \\\n",
              "0  64422  B000MIDROQ  A161DK06JJMCYF  J. E. Stephens \"Jeanne\"   \n",
              "1  44737  B001EQ55RW  A2V0I904FH7ABY                      Ram   \n",
              "\n",
              "   HelpfulnessNumerator  HelpfulnessDenominator  Score        Time  \\\n",
              "0                     3                       1      5  1224892800   \n",
              "1                     3                       2      4  1212883200   \n",
              "\n",
              "                                        Summary  \\\n",
              "0             Bought This for My Son at College   \n",
              "1  Pure cocoa taste with crunchy almonds inside   \n",
              "\n",
              "                                                Text  \n",
              "0  My son loves spaghetti so I didn't hesitate or...  \n",
              "1  It was almost a 'love at first bite' - the per...  "
            ]
          },
          "metadata": {
            "tags": []
          },
          "execution_count": 11
        }
      ]
    },
    {
      "metadata": {
        "id": "VcjgBmpwTa1Z",
        "colab_type": "code",
        "colab": {}
      },
      "cell_type": "code",
      "source": [
        "final=final[final.HelpfulnessNumerator<=final.HelpfulnessDenominator]"
      ],
      "execution_count": 0,
      "outputs": []
    },
    {
      "metadata": {
        "id": "aU5FVMjvTa1d",
        "colab_type": "code",
        "outputId": "e2204400-8753-436e-cf77-0f852f088cff",
        "colab": {
          "base_uri": "https://localhost:8080/",
          "height": 85
        }
      },
      "cell_type": "code",
      "source": [
        "#Before starting the next phase of preprocessing lets see the number of entries left\n",
        "print(final.shape)\n",
        "\n",
        "#How many positive and negative reviews are present in our dataset?\n",
        "final['Score'].value_counts()"
      ],
      "execution_count": 0,
      "outputs": [
        {
          "output_type": "stream",
          "text": [
            "(87773, 10)\n"
          ],
          "name": "stdout"
        },
        {
          "output_type": "execute_result",
          "data": {
            "text/plain": [
              "1    73592\n",
              "0    14181\n",
              "Name: Score, dtype: int64"
            ]
          },
          "metadata": {
            "tags": []
          },
          "execution_count": 13
        }
      ]
    },
    {
      "metadata": {
        "id": "_eMZT1aITa1l",
        "colab_type": "text"
      },
      "cell_type": "markdown",
      "source": [
        "#  [3] Preprocessing"
      ]
    },
    {
      "metadata": {
        "id": "2WMn22VzTa1m",
        "colab_type": "text"
      },
      "cell_type": "markdown",
      "source": [
        "## [3.1].  Preprocessing Review Text\n",
        "\n",
        "Now that we have finished deduplication our data requires some preprocessing before we go on further with analysis and making the prediction model.\n",
        "\n",
        "Hence in the Preprocessing phase we do the following in the order below:-\n",
        "\n",
        "1. Begin by removing the html tags\n",
        "2. Remove any punctuations or limited set of special characters like , or . or # etc.\n",
        "3. Check if the word is made up of english letters and is not alpha-numeric\n",
        "4. Check to see if the length of the word is greater than 2 (as it was researched that there is no adjective in 2-letters)\n",
        "5. Convert the word to lowercase\n",
        "6. Remove Stopwords\n",
        "7. Finally Snowball Stemming the word (it was obsereved to be better than Porter Stemming)<br>\n",
        "\n",
        "After which we collect the words used to describe positive and negative reviews"
      ]
    },
    {
      "metadata": {
        "id": "Gn4DroagTa1n",
        "colab_type": "code",
        "outputId": "7ae4548a-5ac9-483e-97cd-31209315a8cd",
        "colab": {
          "base_uri": "https://localhost:8080/",
          "height": 173
        }
      },
      "cell_type": "code",
      "source": [
        "# printing some random reviews\n",
        "sent_0 = final['Text'].values[0]\n",
        "print(sent_0)\n",
        "print(\"=\"*50)\n",
        "\n",
        "sent_1000 = final['Text'].values[1000]\n",
        "print(sent_1000)\n",
        "print(\"=\"*50)\n",
        "\n",
        "sent_1500 = final['Text'].values[1500]\n",
        "print(sent_1500)\n",
        "print(\"=\"*50)\n",
        "\n",
        "sent_4900 = final['Text'].values[4900]\n",
        "print(sent_4900)\n",
        "print(\"=\"*50)"
      ],
      "execution_count": 0,
      "outputs": [
        {
          "output_type": "stream",
          "text": [
            "My dogs loves this chicken but its a product from China, so we wont be buying it anymore.  Its very hard to find any chicken products made in the USA but they are out there, but this one isnt.  Its too bad too because its a good product but I wont take any chances till they know what is going on with the china imports.\n",
            "==================================================\n",
            "The Candy Blocks were a nice visual for the Lego Birthday party but the candy has little taste to it.  Very little of the 2 lbs that I bought were eaten and I threw the rest away.  I would not buy the candy again.\n",
            "==================================================\n",
            "was way to hot for my blood, took a bite and did a jig  lol\n",
            "==================================================\n",
            "My dog LOVES these treats. They tend to have a very strong fish oil smell. So if you are afraid of the fishy smell, don't get it. But I think my dog likes it because of the smell. These treats are really small in size. They are great for training. You can give your dog several of these without worrying about him over eating. Amazon's price was much more reasonable than any other retailer. You can buy a 1 pound bag on Amazon for almost the same price as a 6 ounce bag at other retailers. It's definitely worth it to buy a big bag if your dog eats them a lot.\n",
            "==================================================\n"
          ],
          "name": "stdout"
        }
      ]
    },
    {
      "metadata": {
        "id": "ZYqxYXZZTa1u",
        "colab_type": "code",
        "outputId": "60aa2189-b021-4035-9802-d452654f9d93",
        "colab": {
          "base_uri": "https://localhost:8080/",
          "height": 54
        }
      },
      "cell_type": "code",
      "source": [
        "# remove urls from text python: https://stackoverflow.com/a/40823105/4084039\n",
        "sent_0 = re.sub(r\"http\\S+\", \"\", sent_0)\n",
        "sent_1000 = re.sub(r\"http\\S+\", \"\", sent_1000)\n",
        "sent_150 = re.sub(r\"http\\S+\", \"\", sent_1500)\n",
        "sent_4900 = re.sub(r\"http\\S+\", \"\", sent_4900)\n",
        "\n",
        "print(sent_0)"
      ],
      "execution_count": 0,
      "outputs": [
        {
          "output_type": "stream",
          "text": [
            "My dogs loves this chicken but its a product from China, so we wont be buying it anymore.  Its very hard to find any chicken products made in the USA but they are out there, but this one isnt.  Its too bad too because its a good product but I wont take any chances till they know what is going on with the china imports.\n"
          ],
          "name": "stdout"
        }
      ]
    },
    {
      "metadata": {
        "id": "i-wv3Sa4Ta11",
        "colab_type": "code",
        "outputId": "05b5c7d8-804d-4d31-8817-5a13366e1f22",
        "colab": {
          "base_uri": "https://localhost:8080/",
          "height": 156
        }
      },
      "cell_type": "code",
      "source": [
        "# https://stackoverflow.com/questions/16206380/python-beautifulsoup-how-to-remove-all-tags-from-an-element\n",
        "from bs4 import BeautifulSoup\n",
        "\n",
        "soup = BeautifulSoup(sent_0, 'lxml')\n",
        "text = soup.get_text()\n",
        "print(text)\n",
        "print(\"=\"*50)\n",
        "\n",
        "soup = BeautifulSoup(sent_1000, 'lxml')\n",
        "text = soup.get_text()\n",
        "print(text)\n",
        "print(\"=\"*50)\n",
        "\n",
        "soup = BeautifulSoup(sent_1500, 'lxml')\n",
        "text = soup.get_text()\n",
        "print(text)\n",
        "print(\"=\"*50)\n",
        "\n",
        "soup = BeautifulSoup(sent_4900, 'lxml')\n",
        "text = soup.get_text()\n",
        "print(text)"
      ],
      "execution_count": 0,
      "outputs": [
        {
          "output_type": "stream",
          "text": [
            "My dogs loves this chicken but its a product from China, so we wont be buying it anymore.  Its very hard to find any chicken products made in the USA but they are out there, but this one isnt.  Its too bad too because its a good product but I wont take any chances till they know what is going on with the china imports.\n",
            "==================================================\n",
            "The Candy Blocks were a nice visual for the Lego Birthday party but the candy has little taste to it.  Very little of the 2 lbs that I bought were eaten and I threw the rest away.  I would not buy the candy again.\n",
            "==================================================\n",
            "was way to hot for my blood, took a bite and did a jig  lol\n",
            "==================================================\n",
            "My dog LOVES these treats. They tend to have a very strong fish oil smell. So if you are afraid of the fishy smell, don't get it. But I think my dog likes it because of the smell. These treats are really small in size. They are great for training. You can give your dog several of these without worrying about him over eating. Amazon's price was much more reasonable than any other retailer. You can buy a 1 pound bag on Amazon for almost the same price as a 6 ounce bag at other retailers. It's definitely worth it to buy a big bag if your dog eats them a lot.\n"
          ],
          "name": "stdout"
        }
      ]
    },
    {
      "metadata": {
        "id": "a1x8p_4qTa18",
        "colab_type": "code",
        "colab": {}
      },
      "cell_type": "code",
      "source": [
        "# https://stackoverflow.com/a/47091490/4084039\n",
        "import re\n",
        "\n",
        "def decontracted(phrase):\n",
        "    # specific\n",
        "    phrase = re.sub(r\"won't\", \"will not\", phrase)\n",
        "    phrase = re.sub(r\"can\\'t\", \"can not\", phrase)\n",
        "\n",
        "    # general\n",
        "    phrase = re.sub(r\"n\\'t\", \" not\", phrase)\n",
        "    phrase = re.sub(r\"\\'re\", \" are\", phrase)\n",
        "    phrase = re.sub(r\"\\'s\", \" is\", phrase)\n",
        "    phrase = re.sub(r\"\\'d\", \" would\", phrase)\n",
        "    phrase = re.sub(r\"\\'ll\", \" will\", phrase)\n",
        "    phrase = re.sub(r\"\\'t\", \" not\", phrase)\n",
        "    phrase = re.sub(r\"\\'ve\", \" have\", phrase)\n",
        "    phrase = re.sub(r\"\\'m\", \" am\", phrase)\n",
        "    return phrase"
      ],
      "execution_count": 0,
      "outputs": []
    },
    {
      "metadata": {
        "id": "EEJjof7ATa2A",
        "colab_type": "code",
        "outputId": "c00fe48e-80d7-46fc-c431-994d0fc2af5d",
        "colab": {
          "base_uri": "https://localhost:8080/",
          "height": 51
        }
      },
      "cell_type": "code",
      "source": [
        "sent_1500 = decontracted(sent_1500)\n",
        "print(sent_1500)\n",
        "print(\"=\"*50)"
      ],
      "execution_count": 0,
      "outputs": [
        {
          "output_type": "stream",
          "text": [
            "was way to hot for my blood, took a bite and did a jig  lol\n",
            "==================================================\n"
          ],
          "name": "stdout"
        }
      ]
    },
    {
      "metadata": {
        "id": "lFxJ42wyTa2G",
        "colab_type": "code",
        "outputId": "d034e31c-24cb-4942-81c0-764ea4c8ac51",
        "colab": {
          "base_uri": "https://localhost:8080/",
          "height": 54
        }
      },
      "cell_type": "code",
      "source": [
        "#remove words with numbers python: https://stackoverflow.com/a/18082370/4084039\n",
        "sent_0 = re.sub(\"\\S*\\d\\S*\", \"\", sent_0).strip()\n",
        "print(sent_0)"
      ],
      "execution_count": 0,
      "outputs": [
        {
          "output_type": "stream",
          "text": [
            "My dogs loves this chicken but its a product from China, so we wont be buying it anymore.  Its very hard to find any chicken products made in the USA but they are out there, but this one isnt.  Its too bad too because its a good product but I wont take any chances till they know what is going on with the china imports.\n"
          ],
          "name": "stdout"
        }
      ]
    },
    {
      "metadata": {
        "id": "budQF1E3Ta2M",
        "colab_type": "code",
        "outputId": "4b66f7ff-e447-466f-8e89-05715ff16dab",
        "colab": {
          "base_uri": "https://localhost:8080/",
          "height": 34
        }
      },
      "cell_type": "code",
      "source": [
        "#remove spacial character: https://stackoverflow.com/a/5843547/4084039\n",
        "sent_1500 = re.sub('[^A-Za-z0-9]+', ' ', sent_1500)\n",
        "print(sent_1500)"
      ],
      "execution_count": 0,
      "outputs": [
        {
          "output_type": "stream",
          "text": [
            "was way to hot for my blood took a bite and did a jig lol\n"
          ],
          "name": "stdout"
        }
      ]
    },
    {
      "metadata": {
        "id": "bdHChQRPTa2R",
        "colab_type": "code",
        "colab": {}
      },
      "cell_type": "code",
      "source": [
        "# https://gist.github.com/sebleier/554280\n",
        "# we are removing the words from the stop words list: 'no', 'nor', 'not'\n",
        "# <br /><br /> ==> after the above steps, we are getting \"br br\"\n",
        "# we are including them into stop words list\n",
        "# instead of <br /> if we have <br/> these tags would have revmoved in the 1st step\n",
        "\n",
        "stopwords= set(['br', 'the', 'i', 'me', 'my', 'myself', 'we', 'our', 'ours', 'ourselves', 'you', \"you're\", \"you've\",\\\n",
        "            \"you'll\", \"you'd\", 'your', 'yours', 'yourself', 'yourselves', 'he', 'him', 'his', 'himself', \\\n",
        "            'she', \"she's\", 'her', 'hers', 'herself', 'it', \"it's\", 'its', 'itself', 'they', 'them', 'their',\\\n",
        "            'theirs', 'themselves', 'what', 'which', 'who', 'whom', 'this', 'that', \"that'll\", 'these', 'those', \\\n",
        "            'am', 'is', 'are', 'was', 'were', 'be', 'been', 'being', 'have', 'has', 'had', 'having', 'do', 'does', \\\n",
        "            'did', 'doing', 'a', 'an', 'the', 'and', 'but', 'if', 'or', 'because', 'as', 'until', 'while', 'of', \\\n",
        "            'at', 'by', 'for', 'with', 'about', 'against', 'between', 'into', 'through', 'during', 'before', 'after',\\\n",
        "            'above', 'below', 'to', 'from', 'up', 'down', 'in', 'out', 'on', 'off', 'over', 'under', 'again', 'further',\\\n",
        "            'then', 'once', 'here', 'there', 'when', 'where', 'why', 'how', 'all', 'any', 'both', 'each', 'few', 'more',\\\n",
        "            'most', 'other', 'some', 'such', 'only', 'own', 'same', 'so', 'than', 'too', 'very', \\\n",
        "            's', 't', 'can', 'will', 'just', 'don', \"don't\", 'should', \"should've\", 'now', 'd', 'll', 'm', 'o', 're', \\\n",
        "            've', 'y', 'ain', 'aren', \"aren't\", 'couldn', \"couldn't\", 'didn', \"didn't\", 'doesn', \"doesn't\", 'hadn',\\\n",
        "            \"hadn't\", 'hasn', \"hasn't\", 'haven', \"haven't\", 'isn', \"isn't\", 'ma', 'mightn', \"mightn't\", 'mustn',\\\n",
        "            \"mustn't\", 'needn', \"needn't\", 'shan', \"shan't\", 'shouldn', \"shouldn't\", 'wasn', \"wasn't\", 'weren', \"weren't\", \\\n",
        "            'won', \"won't\", 'wouldn', \"wouldn't\"])"
      ],
      "execution_count": 0,
      "outputs": []
    },
    {
      "metadata": {
        "id": "Q1YxoIAvTa2V",
        "colab_type": "code",
        "outputId": "2d0cf9d0-5e0e-432e-9f54-68fcafce7759",
        "colab": {
          "base_uri": "https://localhost:8080/",
          "height": 34
        }
      },
      "cell_type": "code",
      "source": [
        "\n",
        "# Combining all the above stundents \n",
        "from tqdm import tqdm\n",
        "preprocessed_reviews = []\n",
        "# tqdm is for printing the status bar\n",
        "for sentance in tqdm(final['Text'].values):\n",
        "    sentance = re.sub(r\"http\\S+\", \"\", sentance)\n",
        "    sentance = BeautifulSoup(sentance, 'lxml').get_text()\n",
        "    sentance = decontracted(sentance)\n",
        "    sentance = re.sub(\"\\S*\\d\\S*\", \"\", sentance).strip()\n",
        "    sentance = re.sub('[^A-Za-z]+', ' ', sentance)\n",
        "    # https://gist.github.com/sebleier/554280\n",
        "    sentance = ' '.join(e.lower() for e in sentance.split() if e.lower() not in stopwords)\n",
        "    preprocessed_reviews.append(sentance.strip())"
      ],
      "execution_count": 0,
      "outputs": [
        {
          "output_type": "stream",
          "text": [
            "100%|██████████| 87773/87773 [00:35<00:00, 2477.20it/s]\n"
          ],
          "name": "stderr"
        }
      ]
    },
    {
      "metadata": {
        "id": "hXmbFQifTa2a",
        "colab_type": "code",
        "outputId": "9750b04f-fc3a-4147-c4fa-6af58182c34c",
        "colab": {
          "base_uri": "https://localhost:8080/",
          "height": 34
        }
      },
      "cell_type": "code",
      "source": [
        "preprocessed_reviews[1500]"
      ],
      "execution_count": 39,
      "outputs": [
        {
          "output_type": "execute_result",
          "data": {
            "text/plain": [
              "'way hot blood took bite jig lol'"
            ]
          },
          "metadata": {
            "tags": []
          },
          "execution_count": 39
        }
      ]
    },
    {
      "metadata": {
        "id": "lN0-SeAbdu_p",
        "colab_type": "code",
        "colab": {}
      },
      "cell_type": "code",
      "source": [
        "#[3.2] spiliting the data into train & test here only before Featurization to avoid data leakage"
      ],
      "execution_count": 0,
      "outputs": []
    },
    {
      "metadata": {
        "id": "WeaYg8ZydzRy",
        "colab_type": "code",
        "colab": {}
      },
      "cell_type": "code",
      "source": [
        "xtrain,xtest,ytrain,ytest=train_test_split(preprocessed_reviews,final[\"Score\"],test_size=0.30,random_state=40)"
      ],
      "execution_count": 0,
      "outputs": []
    },
    {
      "metadata": {
        "id": "8SCv3Hhgy9Kt",
        "colab_type": "code",
        "outputId": "79f01728-a047-489c-f72c-ea6c837f80ad",
        "colab": {
          "base_uri": "https://localhost:8080/",
          "height": 34
        }
      },
      "cell_type": "code",
      "source": [
        "len(xtest)"
      ],
      "execution_count": 0,
      "outputs": [
        {
          "output_type": "execute_result",
          "data": {
            "text/plain": [
              "26332"
            ]
          },
          "metadata": {
            "tags": []
          },
          "execution_count": 26
        }
      ]
    },
    {
      "metadata": {
        "id": "_yVAtr-NTa2f",
        "colab_type": "text"
      },
      "cell_type": "markdown",
      "source": [
        "# [4] Featurization"
      ]
    },
    {
      "metadata": {
        "id": "whCvG0W5Ta2h",
        "colab_type": "text"
      },
      "cell_type": "markdown",
      "source": [
        "## [4.1] BAG OF WORDS"
      ]
    },
    {
      "metadata": {
        "id": "Tx6b712nzLqq",
        "colab_type": "code",
        "outputId": "a1bbb787-f49e-4fd7-dc95-88670034a4eb",
        "colab": {
          "base_uri": "https://localhost:8080/",
          "height": 102
        }
      },
      "cell_type": "code",
      "source": [
        "#BoW\n",
        "count_vect = CountVectorizer() #in scikit-learn\n",
        "xtrain_bow=xtrain\n",
        "count_vect.fit(xtrain_bow)\n",
        "\n",
        "\n",
        "\n",
        "xtrain_Bow_LR = count_vect.transform(xtrain_bow)\n",
        "print(\"the type of count vectorizer \",type(xtrain_Bow_LR))\n",
        "print(\"the shape of out text BOW vectorizer \",xtrain_Bow_LR.get_shape())\n",
        "print(\"the number of unique words \", xtrain_Bow_LR.get_shape()[1])\n",
        "print(\"some feature names \", count_vect.get_feature_names()[:10])\n",
        "print('='*50)"
      ],
      "execution_count": 0,
      "outputs": [
        {
          "output_type": "stream",
          "text": [
            "the type of count vectorizer  <class 'scipy.sparse.csr.csr_matrix'>\n",
            "the shape of out text BOW vectorizer  (61441, 46085)\n",
            "the number of unique words  46085\n",
            "some feature names  ['aa', 'aaa', 'aaaa', 'aaaaa', 'aaaaaaaaaaaa', 'aaaaaaaaaaaaaaa', 'aaaaaaahhhhhh', 'aaaaaaarrrrrggghhh', 'aaaaaawwwwwwwwww', 'aaaaah']\n",
            "==================================================\n"
          ],
          "name": "stdout"
        }
      ]
    },
    {
      "metadata": {
        "id": "ODs4eKWoTa2n",
        "colab_type": "text"
      },
      "cell_type": "markdown",
      "source": [
        "## [4.2] Bi-Grams and n-Grams."
      ]
    },
    {
      "metadata": {
        "id": "JAA1S29vTa2q",
        "colab_type": "code",
        "outputId": "136949db-00ed-44ad-c1ad-471bcc3dc36c",
        "colab": {
          "base_uri": "https://localhost:8080/",
          "height": 68
        }
      },
      "cell_type": "code",
      "source": [
        "#bi-gram, tri-gram and n-gram\n",
        "\n",
        "#removing stop words like \"not\" should be avoided before building n-grams\n",
        "# count_vect = CountVectorizer(ngram_range=(1,2))\n",
        "# please do read the CountVectorizer documentation http://scikit-learn.org/stable/modules/generated/sklearn.feature_extraction.text.CountVectorizer.html\n",
        "xtrain_bigram=xtrain\n",
        "# you can choose these numebrs min_df=10, max_features=5000, of your choice\n",
        "count_vect_bi= CountVectorizer(ngram_range=(1,2), min_df=10, max_features=5000)\n",
        "final_bigram_counts = count_vect_bi.fit_transform(xtrain_bigram)\n",
        "print(\"the type of count vectorizer \",type(final_bigram_counts))\n",
        "print(\"the shape of out text BOW vectorizer \",final_bigram_counts.get_shape())\n",
        "print(\"the number of unique words including both unigrams and bigrams \", final_bigram_counts.get_shape()[1])"
      ],
      "execution_count": 0,
      "outputs": [
        {
          "output_type": "stream",
          "text": [
            "the type of count vectorizer  <class 'scipy.sparse.csr.csr_matrix'>\n",
            "the shape of out text BOW vectorizer  (61441, 5000)\n",
            "the number of unique words including both unigrams and bigrams  5000\n"
          ],
          "name": "stdout"
        }
      ]
    },
    {
      "metadata": {
        "id": "Pb_InveuTa2u",
        "colab_type": "text"
      },
      "cell_type": "markdown",
      "source": [
        "## [4.3] TF-IDF"
      ]
    },
    {
      "metadata": {
        "id": "wtsYIGrSTa2v",
        "colab_type": "code",
        "outputId": "6c8a2a2e-56b2-4df0-a7de-e2d18777262f",
        "colab": {
          "base_uri": "https://localhost:8080/",
          "height": 102
        }
      },
      "cell_type": "code",
      "source": [
        "tf_idf_vect = TfidfVectorizer(ngram_range=(1,2), min_df=10)\n",
        "xtrain_tfidf=xtrain\n",
        "tf_idf_vect.fit(xtrain)\n",
        "print(\"some sample features(unique words in the corpus)\",tf_idf_vect.get_feature_names()[0:10])\n",
        "print('='*50)\n",
        "\n",
        "xtrain_tfidf_LR = tf_idf_vect.transform(xtrain_tfidf)\n",
        "print(\"the type of count vectorizer \",type(xtrain_tfidf_LR))\n",
        "print(\"the shape of out text TFIDF vectorizer \",xtrain_tfidf_LR.get_shape())\n",
        "print(\"the number of unique words including both unigrams and bigrams \", xtrain_tfidf_LR.get_shape()[1])"
      ],
      "execution_count": 89,
      "outputs": [
        {
          "output_type": "stream",
          "text": [
            "some sample features(unique words in the corpus) ['aa', 'aafco', 'aback', 'abandoned', 'abdominal', 'ability', 'able', 'able add', 'able buy', 'able chew']\n",
            "==================================================\n",
            "the type of count vectorizer  <class 'scipy.sparse.csr.csr_matrix'>\n",
            "the shape of out text TFIDF vectorizer  (61441, 36229)\n",
            "the number of unique words including both unigrams and bigrams  36229\n"
          ],
          "name": "stdout"
        }
      ]
    },
    {
      "metadata": {
        "id": "MiORWUjzTa21",
        "colab_type": "text"
      },
      "cell_type": "markdown",
      "source": [
        "## [4.4] Word2Vec"
      ]
    },
    {
      "metadata": {
        "id": "3qgGdRxxTa22",
        "colab_type": "code",
        "colab": {}
      },
      "cell_type": "code",
      "source": [
        "# Train your own Word2Vec model using your own text corpus\n",
        "i=0\n",
        "list_of_sentance=[]\n",
        "for sentance in xtrain:\n",
        "    list_of_sentance.append(sentance.split())"
      ],
      "execution_count": 0,
      "outputs": []
    },
    {
      "metadata": {
        "scrolled": true,
        "id": "vsQUCg8_Ta26",
        "colab_type": "code",
        "outputId": "83db4b6f-aa11-468c-aa03-34ebe6f4e3b3",
        "colab": {
          "base_uri": "https://localhost:8080/",
          "height": 88
        }
      },
      "cell_type": "code",
      "source": [
        "# Using Google News Word2Vectors\n",
        "\n",
        "# in this project we are using a pretrained model by google\n",
        "# its 3.3G file, once you load this into your memory \n",
        "# it occupies ~9Gb, so please do this step only if you have >12G of ram\n",
        "# we will provide a pickle file wich contains a dict , \n",
        "# and it contains all our courpus words as keys and  model[word] as values\n",
        "# To use this code-snippet, download \"GoogleNews-vectors-negative300.bin\" \n",
        "# from https://drive.google.com/file/d/0B7XkCwpI5KDYNlNUTTlSS21pQmM/edit\n",
        "# it's 1.9GB in size.\n",
        "\n",
        "\n",
        "# http://kavita-ganesan.com/gensim-word2vec-tutorial-starter-code/#.W17SRFAzZPY\n",
        "# you can comment this whole cell\n",
        "# or change these varible according to your need\n",
        "\n",
        "is_your_ram_gt_16g=False\n",
        "want_to_use_google_w2v = False\n",
        "want_to_train_w2v = True\n",
        "\n",
        "if want_to_train_w2v:\n",
        "    # min_count = 5 considers only words that occured atleast 5 times\n",
        "    w2v_model=Word2Vec(list_of_sentance,min_count=5,size=50, workers=4)\n",
        "    print(w2v_model.wv.most_similar('great'))\n",
        "    print('='*50)\n",
        "    print(w2v_model.wv.most_similar('worst'))\n",
        "    \n",
        "elif want_to_use_google_w2v and is_your_ram_gt_16g:\n",
        "    if os.path.isfile('GoogleNews-vectors-negative300.bin'):\n",
        "        w2v_model=KeyedVectors.load_word2vec_format('GoogleNews-vectors-negative300.bin', binary=True)\n",
        "        print(w2v_model.wv.most_similar('great'))\n",
        "        print(w2v_model.wv.most_similar('worst'))\n",
        "    else:\n",
        "        print(\"you don't have gogole's word2vec file, keep want_to_train_w2v = True, to train your own w2v \")"
      ],
      "execution_count": 0,
      "outputs": [
        {
          "output_type": "stream",
          "text": [
            "[('fantastic', 0.8348177671432495), ('good', 0.8151342272758484), ('awesome', 0.806560218334198), ('excellent', 0.7841207385063171), ('perfect', 0.7691203355789185), ('wonderful', 0.7548025250434875), ('fabulous', 0.7039495706558228), ('nice', 0.7033383250236511), ('amazing', 0.7011798620223999), ('terrific', 0.6887393593788147)]\n",
            "==================================================\n",
            "[('greatest', 0.7630314230918884), ('best', 0.7373080849647522), ('nastiest', 0.7165314555168152), ('tastiest', 0.6985960602760315), ('coolest', 0.6776434183120728), ('softest', 0.6648641228675842), ('closest', 0.663199782371521), ('shiniest', 0.6488693356513977), ('disgusting', 0.647188127040863), ('wins', 0.6007900834083557)]\n"
          ],
          "name": "stdout"
        }
      ]
    },
    {
      "metadata": {
        "id": "Cu2qP063Ta3A",
        "colab_type": "code",
        "outputId": "6f97e948-1143-48d9-b934-dcdb75f4abfb",
        "colab": {
          "base_uri": "https://localhost:8080/",
          "height": 71
        }
      },
      "cell_type": "code",
      "source": [
        "w2v_words = list(w2v_model.wv.vocab)\n",
        "print(\"number of words that occured minimum 5 times \",len(w2v_words))\n",
        "print(\"sample words \", w2v_words[0:50])"
      ],
      "execution_count": 0,
      "outputs": [
        {
          "output_type": "stream",
          "text": [
            "number of words that occured minimum 5 times  14749\n",
            "sample words  ['credit', 'year', 'old', 'golden', 'retriever', 'continued', 'good', 'health', 'dr', 'harvey', 'canine', 'feeding', 'food', 'years', 'searching', 'something', 'relieve', 'puppy', 'allergies', 'run', 'feed', 'else', 'personality', 'changes', 'gets', 'not', 'recommend', 'product', 'enough', 'trouble', 'getting', 'sleep', 'sleeping', 'heard', 'people', 'saw', 'oz', 'lol', 'yes', 'try', 'things', 'suggests', 'ounces', 'unsweetened', 'pie', 'cherry', 'juice', 'since', 'found', 'help']\n"
          ],
          "name": "stdout"
        }
      ]
    },
    {
      "metadata": {
        "id": "rcLhRXdmTa3G",
        "colab_type": "text"
      },
      "cell_type": "markdown",
      "source": [
        "## [4.4.1] Converting text into vectors using Avg W2V, TFIDF-W2V"
      ]
    },
    {
      "metadata": {
        "id": "90dZHAKETa3H",
        "colab_type": "text"
      },
      "cell_type": "markdown",
      "source": [
        "#### [4.4.1.1] Avg W2v"
      ]
    },
    {
      "metadata": {
        "id": "KrqQz6qoTa3I",
        "colab_type": "code",
        "outputId": "85326f4a-0333-4778-fadb-c2dd156ff966",
        "colab": {
          "base_uri": "https://localhost:8080/",
          "height": 68
        }
      },
      "cell_type": "code",
      "source": [
        "# average Word2Vec\n",
        "# compute average word2vec for each review.\n",
        "xtrain_Avgw2v_LR = []; # the avg-w2v for each sentence/review is stored in this list\n",
        "for sent in tqdm(list_of_sentance): # for each review/sentence\n",
        "    sent_vec = np.zeros(50) # as word vectors are of zero length 50, you might need to change this to 300 if you use google's w2v\n",
        "    cnt_words =0; # num of words with a valid vector in the sentence/review\n",
        "    for word in sent: # for each word in a review/sentence\n",
        "        if word in w2v_words:\n",
        "            vec = w2v_model.wv[word]\n",
        "            sent_vec += vec\n",
        "            cnt_words += 1\n",
        "    if cnt_words != 0:\n",
        "        sent_vec /= cnt_words\n",
        "    xtrain_Avgw2v_LR .append(sent_vec)\n",
        "print(len(xtrain_Avgw2v_LR))\n",
        "print(len(xtrain_Avgw2v_LR [0]))"
      ],
      "execution_count": 141,
      "outputs": [
        {
          "output_type": "stream",
          "text": [
            "100%|██████████| 61441/61441 [03:20<00:00, 306.33it/s]"
          ],
          "name": "stderr"
        },
        {
          "output_type": "stream",
          "text": [
            "61441\n",
            "50\n"
          ],
          "name": "stdout"
        },
        {
          "output_type": "stream",
          "text": [
            "\n"
          ],
          "name": "stderr"
        }
      ]
    },
    {
      "metadata": {
        "id": "vWCNCA2TTa3P",
        "colab_type": "text"
      },
      "cell_type": "markdown",
      "source": [
        "#### [4.4.1.2] TFIDF weighted W2v"
      ]
    },
    {
      "metadata": {
        "id": "pX-Zf08cTa3P",
        "colab_type": "code",
        "colab": {}
      },
      "cell_type": "code",
      "source": [
        "# S = [\"abc def pqr\", \"def def def abc\", \"pqr pqr def\"]\n",
        "model = TfidfVectorizer()\n",
        "tf_idf_matrix = model.fit_transform(xtrain)\n",
        "# we are converting a dictionary with word as a key, and the idf as a value\n",
        "dictionary = dict(zip(model.get_feature_names(), list(model.idf_)))"
      ],
      "execution_count": 0,
      "outputs": []
    },
    {
      "metadata": {
        "scrolled": true,
        "id": "LXnSjN8wTa3T",
        "colab_type": "code",
        "outputId": "c96eaaf2-6138-4d4c-9864-8f302804d838",
        "colab": {
          "base_uri": "https://localhost:8080/",
          "height": 54
        }
      },
      "cell_type": "code",
      "source": [
        "\n",
        "#below code used to take too much time for running so i have created a pickle file so that i can load it whenever i want to\n",
        "# TF-IDF weighted Word2Vec\n",
        "\"\"\"tfidf_feat = model.get_feature_names() # tfidf words/col-names\n",
        "xtrain_tfidfw2v_LR = []; # the tfidf-w2v for each sentence/review is stored in this list\n",
        "row=0;\n",
        "for sent in tqdm(list_of_sentance): # for each review/sentence \n",
        "    sent_vec = np.zeros(50) # as word vectors are of zero length\n",
        "    weight_sum =0; # num of words with a valid vector in the sentence/review\n",
        "    for word in sent: # for each word in a review/sentence\n",
        "        if word in w2v_words and word in tfidf_feat:\n",
        "            vec = w2v_model.wv[word]\n",
        "#            tf_idf = tf_idf_matrix[row, tfidf_feat.index(word)]\n",
        "            # to reduce the computation we are \n",
        "            # dictionary[word] = idf value of word in whole courpus\n",
        "            # sent.count(word) = tf valeus of word in this review\n",
        "            tf_idf = dictionary[word]*(sent.count(word)/len(sent))\n",
        "            sent_vec += (vec * tf_idf)\n",
        "            weight_sum += tf_idf\n",
        "    if weight_sum != 0:\n",
        "        sent_vec /= weight_sum\n",
        "    xtrain_tfidfw2v_LR.append(sent_vec)\n",
        "    row += 1\"\"\""
      ],
      "execution_count": 0,
      "outputs": [
        {
          "output_type": "execute_result",
          "data": {
            "text/plain": [
              "'tfidf_feat = model.get_feature_names() # tfidf words/col-names\\nxtrain_tfidfw2v_LR = []; # the tfidf-w2v for each sentence/review is stored in this list\\nrow=0;\\nfor sent in tqdm(list_of_sentance): # for each review/sentence \\n    sent_vec = np.zeros(50) # as word vectors are of zero length\\n    weight_sum =0; # num of words with a valid vector in the sentence/review\\n    for word in sent: # for each word in a review/sentence\\n        if word in w2v_words and word in tfidf_feat:\\n            vec = w2v_model.wv[word]\\n#            tf_idf = tf_idf_matrix[row, tfidf_feat.index(word)]\\n            # to reduce the computation we are \\n            # dictionary[word] = idf value of word in whole courpus\\n            # sent.count(word) = tf valeus of word in this review\\n            tf_idf = dictionary[word]*(sent.count(word)/len(sent))\\n            sent_vec += (vec * tf_idf)\\n            weight_sum += tf_idf\\n    if weight_sum != 0:\\n        sent_vec /= weight_sum\\n    xtrain_tfidfw2v_LR.append(sent_vec)\\n    row += 1'"
            ]
          },
          "metadata": {
            "tags": []
          },
          "execution_count": 35
        }
      ]
    },
    {
      "metadata": {
        "id": "EmEhhoc5Ta3Y",
        "colab_type": "code",
        "outputId": "75d64ad7-52e8-4d74-b892-fa1787cb7107",
        "colab": {
          "base_uri": "https://localhost:8080/",
          "height": 34
        }
      },
      "cell_type": "code",
      "source": [
        "#loading the pickle file \n",
        "import pickle\n",
        "xtrain_tfidfw2v_LR=[]\n",
        "with open('/root/tfidf_sent_vectors_train', 'rb') as fp:\n",
        "  xtrain_tfidfw2v_LR=pickle.load(fp)\n",
        "len(xtrain_tfidfw2v_LR)"
      ],
      "execution_count": 40,
      "outputs": [
        {
          "output_type": "execute_result",
          "data": {
            "text/plain": [
              "61441"
            ]
          },
          "metadata": {
            "tags": []
          },
          "execution_count": 40
        }
      ]
    },
    {
      "metadata": {
        "id": "QuKXs4VhTa3v",
        "colab_type": "text"
      },
      "cell_type": "markdown",
      "source": [
        "# [5] Assignment 5: Apply Logistic Regression"
      ]
    },
    {
      "metadata": {
        "id": "8HLosFMVTa3v",
        "colab_type": "text"
      },
      "cell_type": "markdown",
      "source": [
        "<ol>\n",
        "    <li><strong>Apply Logistic Regression on these feature sets</strong>\n",
        "        <ul>\n",
        "            <li><font color='red'>SET 1:</font>Review text, preprocessed one converted into vectors using (BOW)</li>\n",
        "            <li><font color='red'>SET 2:</font>Review text, preprocessed one converted into vectors using (TFIDF)</li>\n",
        "            <li><font color='red'>SET 3:</font>Review text, preprocessed one converted into vectors using (AVG W2v)</li>\n",
        "            <li><font color='red'>SET 4:</font>Review text, preprocessed one converted into vectors using (TFIDF W2v)</li>\n",
        "        </ul>\n",
        "    </li>\n",
        "    <br>\n",
        "    <li><strong>Hyper paramter tuning (find best hyper parameters corresponding the algorithm that you choose)</strong>\n",
        "        <ul>\n",
        "    <li>Find the best hyper parameter which will give the maximum <a href='https://www.appliedaicourse.com/course/applied-ai-course-online/lessons/receiver-operating-characteristic-curve-roc-curve-and-auc-1/'>AUC</a> value</li>\n",
        "    <li>Find the best hyper paramter using k-fold cross validation or simple cross validation data</li>\n",
        "    <li>Use gridsearch cv or randomsearch cv or you can also write your own for loops to do this task of hyperparameter tuning</li>          \n",
        "        </ul>\n",
        "    </li>\n",
        "    <br>\n",
        "    <li><strong>Pertubation Test</strong>\n",
        "        <ul>\n",
        "    <li>Get the weights W after fit your model with the data X.</li>\n",
        "    <li>Add a noise to the X (X' = X + e) and get the new data set X' (if X is a sparse\n",
        "matrix, X.data+=e)</li>\n",
        "    <li>Fit the model again on data X' and get the weights W'</li>\n",
        "    <li>Add a small eps value(to eliminate the divisible by zero error) to W and W’ i.e\n",
        "W=W+10^-6 and W’ = W’+10^-6</li>\n",
        "    <li>Now find the % change between W and W' (| (W-W') / (W) |)*100)</li>\n",
        "    <li>Calculate the 0th, 10th, 20th, 30th, ...100th percentiles, and observe any sudden rise in the values of percentage_change_vector</li>\n",
        "    <li> Ex: consider your 99th percentile is 1.3 and your 100th percentiles are 34.6, there is sudden rise from 1.3 to 34.6, now calculate the 99.1, 99.2, 99.3,..., 100th percentile values and get the proper value after which there is sudden rise the values, assume it is 2.5</li>\n",
        "            <li> Print the feature names whose % change is more than a threshold x(in our example it's 2.5)</li>\n",
        "        </ul>\n",
        "    </li>\n",
        "    <br>\n",
        "    <li><strong>Sparsity</strong>\n",
        "        <ul>\n",
        "    <li>Calculate sparsity on weight vector obtained after using L1 regularization</li>\n",
        "        </ul>\n",
        "    </li>\n",
        "    <br><font color='red'>NOTE: Do sparsity and multicollinearity for any one of the vectorizers. Bow or tf-idf is recommended.</font>\n",
        "    <br>\n",
        "    <br>\n",
        "    <li><strong>Feature importance</strong>\n",
        "        <ul>\n",
        "    <li>Get top 10 important features for both positive and negative classes separately.</li>\n",
        "        </ul>\n",
        "    </li>\n",
        "    <br>\n",
        "    <li><strong>Feature engineering</strong>\n",
        "        <ul>\n",
        "    <li>To increase the performance of your model, you can also experiment with with feature engineering like :</li>\n",
        "            <ul>\n",
        "            <li>Taking length of reviews as another feature.</li>\n",
        "            <li>Considering some features from review summary as well.</li>\n",
        "        </ul>\n",
        "        </ul>\n",
        "    </li>\n",
        "    <br>\n",
        "    <li><strong>Representation of results</strong>\n",
        "        <ul>\n",
        "    <li>You need to plot the performance of model both on train data and cross validation data for each hyper parameter, like shown in the figure.\n",
        "    <img src='train_cv_auc.JPG' width=300px></li>\n",
        "    <li>Once after you found the best hyper parameter, you need to train your model with it, and find the AUC on test data and plot the ROC curve on both train and test.\n",
        "    <img src='train_test_auc.JPG' width=300px></li>\n",
        "    <li>Along with plotting ROC curve, you need to print the <a href='https://www.appliedaicourse.com/course/applied-ai-course-online/lessons/confusion-matrix-tpr-fpr-fnr-tnr-1/'>confusion matrix</a> with predicted and original labels of test data points. Please visualize your confusion matrices using <a href='https://seaborn.pydata.org/generated/seaborn.heatmap.html'>seaborn heatmaps.\n",
        "    <img src='confusion_matrix.png' width=300px></li>\n",
        "        </ul>\n",
        "    </li>\n",
        "    <br>\n",
        "    <li><strong>Conclusion</strong>\n",
        "        <ul>\n",
        "    <li>You need to summarize the results at the end of the notebook, summarize it in the table format. To print out a table please refer to this prettytable library<a href='http://zetcode.com/python/prettytable/'>  link</a> \n",
        "        <img src='summary.JPG' width=400px>\n",
        "    </li>\n",
        "        </ul>\n",
        "</ol>"
      ]
    },
    {
      "metadata": {
        "id": "tFiCc1crTa3w",
        "colab_type": "text"
      },
      "cell_type": "markdown",
      "source": [
        "<h4><font color='red'>Note: Data Leakage</font></h4>\n",
        "\n",
        "1. There will be an issue of data-leakage if you vectorize the entire data and then split it into train/cv/test.\n",
        "2. To avoid the issue of data-leakag, make sure to split your data first and then vectorize it. \n",
        "3. While vectorizing your data, apply the method fit_transform() on you train data, and apply the method transform() on cv/test data.\n",
        "4. For more details please go through this <a href='https://soundcloud.com/applied-ai-course/leakage-bow-and-tfidf'>link.</a>"
      ]
    },
    {
      "metadata": {
        "id": "BGWUjGiXTa3x",
        "colab_type": "text"
      },
      "cell_type": "markdown",
      "source": [
        "# Applying Logistic Regression"
      ]
    },
    {
      "metadata": {
        "id": "2qiCcAI6Ta3y",
        "colab_type": "text"
      },
      "cell_type": "markdown",
      "source": [
        "## [5.1] Logistic Regression on BOW,<font color='red'> SET 1</font>"
      ]
    },
    {
      "metadata": {
        "id": "BiQYRHVKTa3z",
        "colab_type": "text"
      },
      "cell_type": "markdown",
      "source": [
        "### [5.1.1] Applying Logistic Regression with L1 regularization on BOW,<font color='red'> SET 1</font>"
      ]
    },
    {
      "metadata": {
        "id": "VUV_-U9dTa37",
        "colab_type": "code",
        "colab": {
          "base_uri": "https://localhost:8080/",
          "height": 85
        },
        "outputId": "1fbfe196-fbbc-4eaa-d388-bc7eb3885199"
      },
      "cell_type": "code",
      "source": [
        "#fit_transform has to happen only on train data to avoid data leakage\n",
        "xtest_bow_LR=xtest\n",
        "xtest_bow_LR=count_vect.transform(xtest_bow_LR)\n",
        "\n",
        "#check the size of our all data set\n",
        "\n",
        "print (xtrain_Bow_LR.shape)\n",
        "print (xtest_bow_LR.shape)\n",
        "ytest_bow_LR=ytest\n",
        "print (ytest_bow_LR.shape)\n",
        "ytrain_Bow_LR=ytrain\n",
        "print (ytrain_Bow_LR.shape)"
      ],
      "execution_count": 41,
      "outputs": [
        {
          "output_type": "stream",
          "text": [
            "(61441, 46085)\n",
            "(26332, 46085)\n",
            "(26332,)\n",
            "(61441,)\n"
          ],
          "name": "stdout"
        }
      ]
    },
    {
      "metadata": {
        "id": "yIXvHy1aTa4B",
        "colab_type": "code",
        "colab": {}
      },
      "cell_type": "code",
      "source": [
        "#tunning the hyperparameter with gridsearchcv on BOW\n",
        "c=[0.0001, 0.03, 0.01, 0.1, 0.3, 1, 3, 10, 100]\n",
        "\n",
        "param={\"C\":c}       \n",
        "\n",
        "LR=LogisticRegression(penalty=\"l1\",class_weight=\"balanced\")\n",
        "\n",
        "LR_Grid=GridSearchCV(LR,param_grid=param , cv=3, scoring='roc_auc')\n",
        "LR_Bow=LR_Grid.fit(xtrain_Bow_LR,ytrain_Bow_LR)\n"
      ],
      "execution_count": 0,
      "outputs": []
    },
    {
      "metadata": {
        "id": "nfAGHxVYTa4D",
        "colab_type": "code",
        "colab": {
          "base_uri": "https://localhost:8080/",
          "height": 102
        },
        "outputId": "b7606530-85da-4852-e159-a1a24095ddb0"
      },
      "cell_type": "code",
      "source": [
        "print (LR_Grid.best_estimator_)\n",
        "LR_Grid.best_score_"
      ],
      "execution_count": 43,
      "outputs": [
        {
          "output_type": "stream",
          "text": [
            "LogisticRegression(C=0.3, class_weight='balanced', dual=False,\n",
            "          fit_intercept=True, intercept_scaling=1, max_iter=100,\n",
            "          multi_class='warn', n_jobs=None, penalty='l1', random_state=None,\n",
            "          solver='warn', tol=0.0001, verbose=0, warm_start=False)\n"
          ],
          "name": "stdout"
        },
        {
          "output_type": "execute_result",
          "data": {
            "text/plain": [
              "0.9356774484948741"
            ]
          },
          "metadata": {
            "tags": []
          },
          "execution_count": 43
        }
      ]
    },
    {
      "metadata": {
        "id": "ghhTzRbYTa4L",
        "colab_type": "code",
        "colab": {
          "base_uri": "https://localhost:8080/",
          "height": 34
        },
        "outputId": "a5621581-edf2-434b-843f-06d3fd26b721"
      },
      "cell_type": "code",
      "source": [
        "#calculating the best lambda\n",
        "param_bow=pd.DataFrame(LR_Grid.cv_results_).sort_values('rank_test_score')\n",
        "best_lambda_bow=param_bow[\"param_C\"].iloc[0]\n",
        "\n",
        "\n",
        "lambda_values_bow=param_bow[\"param_C\"].unique()\n",
        "\n",
        "print (\"The best lambda for bow is : {0}\".format(best_lambda_bow))\n"
      ],
      "execution_count": 44,
      "outputs": [
        {
          "output_type": "stream",
          "text": [
            "The best lambda for bow is : 0.3\n"
          ],
          "name": "stdout"
        }
      ]
    },
    {
      "metadata": {
        "id": "DnCydZ7VTa4Q",
        "colab_type": "code",
        "colab": {
          "base_uri": "https://localhost:8080/",
          "height": 298
        },
        "outputId": "31f61785-acf7-4a00-bdff-fab54a8605df"
      },
      "cell_type": "code",
      "source": [
        "#graph for train scores of Grid search for all hyperparameters\n",
        "plt.figure(figsize=(8,6))\n",
        "plt.subplots_adjust(left=.2, right=0.95, bottom=0.15, top=0.65)\n",
        "\n",
        "sns.lineplot(param_bow[\"param_C\"],param_bow[\"mean_train_score\"],label=\"Grid_train score\")\n",
        "sns.lineplot(param_bow[\"param_C\"],param_bow[\"mean_test_score\"],label=\"Grid_test score\")\n",
        "plt.grid()\n",
        "plt.xlabel(\"lambda\")\n",
        "plt.ylabel(\"Accuracy score\")\n",
        "plt.xscale('log')\n",
        "plt.xticks(c)\n",
        "plt.title(\"Graph for auc train & test scores on BOW\")\n",
        "plt.show()"
      ],
      "execution_count": 45,
      "outputs": [
        {
          "output_type": "display_data",
          "data": {
            "image/png": "[encoded data removed]",
            "text/plain": [
              "<Figure size 576x432 with 1 Axes>"
            ]
          },
          "metadata": {
            "tags": []
          }
        }
      ]
    },
    {
      "metadata": {
        "id": "Y_kN-4HjTa4b",
        "colab_type": "code",
        "colab": {
          "base_uri": "https://localhost:8080/",
          "height": 295
        },
        "outputId": "66ce1925-55e3-4bf7-e2d6-0ce87f585de0"
      },
      "cell_type": "code",
      "source": [
        "#fitting our model on test(unseen data) data \n",
        "LR=LogisticRegression(penalty=\"l1\",C=best_lambda_bow,class_weight=\"balanced\")\n",
        "LR.fit(xtrain_Bow_LR,ytrain_Bow_LR)\n",
        "\n",
        "train_fpr_bow,train_tpr_bow,threshold=roc_curve(ytrain_Bow_LR,LR.predict_proba(xtrain_Bow_LR)[:,1])\n",
        "test_fpr_bow,test_tpr_bow,threshold=roc_curve(ytest_bow_LR,LR.predict_proba(xtest_bow_LR)[:,1])\n",
        "\n",
        "#plotiing the graph for auc score of both train & test \n",
        "sns.lineplot(train_fpr_bow,train_tpr_bow,color=\"r\",label=\"Train auc\" + str(auc(train_fpr_bow,train_tpr_bow) * float(100)))\n",
        "sns.lineplot(test_fpr_bow,test_tpr_bow,color=\"b\",label=\"Test auc\" + str(auc(test_fpr_bow,test_tpr_bow) * float(100)))\n",
        "plt.legend()\n",
        "plt.grid()\n",
        "plt.xlabel(\"FPR\")\n",
        "plt.ylabel(\"TPR\")\n",
        "plt.title(\"Auc graph for test data\")\n",
        "plt.show()"
      ],
      "execution_count": 46,
      "outputs": [
        {
          "output_type": "display_data",
          "data": {
            "image/png": "[encoded data removed]",
            "text/plain": [
              "<Figure size 432x288 with 1 Axes>"
            ]
          },
          "metadata": {
            "tags": []
          }
        }
      ]
    },
    {
      "metadata": {
        "id": "1Lw3HZlp79rS",
        "colab_type": "code",
        "colab": {
          "base_uri": "https://localhost:8080/",
          "height": 295
        },
        "outputId": "4ebc375a-a482-4252-b2f4-e3ffa219cf7d"
      },
      "cell_type": "code",
      "source": [
        "#confusion matrix on train data \n",
        "confusion_bow_train=confusion_matrix(ytrain_Bow_LR,LR.predict(xtrain_Bow_LR))\n",
        "sns.heatmap(confusion_bow_train,annot=True,fmt=\"d\",cmap=\"GnBu\")\n",
        "plt.title(\"confusion matrix on train data\")\n",
        "plt.xlabel(\"Predicated labels\")\n",
        "plt.ylabel(\"Actual labels\")\n",
        "plt.show()"
      ],
      "execution_count": 47,
      "outputs": [
        {
          "output_type": "display_data",
          "data": {
            "image/png": "[encoded data removed]",
            "text/plain": [
              "<Figure size 432x288 with 2 Axes>"
            ]
          },
          "metadata": {
            "tags": []
          }
        }
      ]
    },
    {
      "metadata": {
        "id": "521opLT0Ta4s",
        "colab_type": "code",
        "colab": {
          "base_uri": "https://localhost:8080/",
          "height": 295
        },
        "outputId": "1b139b73-481d-42ac-910f-f8654c00770a"
      },
      "cell_type": "code",
      "source": [
        "#confusion matrix on test data \n",
        "confusion_bow_test=confusion_matrix(ytest_bow_LR,LR.predict(xtest_bow_LR))\n",
        "sns.heatmap(confusion_bow_test,annot=True,fmt=\"d\",cmap=\"GnBu\")\n",
        "plt.title(\"confusion matrix on test data\")\n",
        "plt.xlabel(\"Predicated labels\")\n",
        "plt.ylabel(\"Actual labels\")\n",
        "plt.show()"
      ],
      "execution_count": 48,
      "outputs": [
        {
          "output_type": "display_data",
          "data": {
            "image/png": "[encoded data removed]",
            "text/plain": [
              "<Figure size 432x288 with 2 Axes>"
            ]
          },
          "metadata": {
            "tags": []
          }
        }
      ]
    },
    {
      "metadata": {
        "id": "GNoftrs1Ta4y",
        "colab_type": "text"
      },
      "cell_type": "markdown",
      "source": [
        "#### [5.1.1.1] Calculating sparsity on weight vector obtained using L1 regularization on BOW,<font color='red'> SET 1</font>"
      ]
    },
    {
      "metadata": {
        "id": "_jL23PFqTa4y",
        "colab_type": "code",
        "colab": {
          "base_uri": "https://localhost:8080/",
          "height": 34
        },
        "outputId": "fd27b6f2-1065-42c1-b116-cfdcf24f1857"
      },
      "cell_type": "code",
      "source": [
        "# Please write all the code with proper documentation\n",
        "weight=LR.coef_\n",
        "num_nonzero=np.count_nonzero(weight)\n",
        "print (num_nonzero)"
      ],
      "execution_count": 49,
      "outputs": [
        {
          "output_type": "stream",
          "text": [
            "2764\n"
          ],
          "name": "stdout"
        }
      ]
    },
    {
      "metadata": {
        "id": "A_oMgBAcTa42",
        "colab_type": "code",
        "colab": {
          "base_uri": "https://localhost:8080/",
          "height": 34
        },
        "outputId": "9de55531-4e5b-40d0-f674-7b9938d1a90e"
      },
      "cell_type": "code",
      "source": [
        "#printing the sparsity\n",
        "print (\"sparsity on weight vector obtained using L1 regularization on BOW is {}% \".format(num_nonzero/weight.shape[1] * (100)))"
      ],
      "execution_count": 50,
      "outputs": [
        {
          "output_type": "stream",
          "text": [
            "sparsity on weight vector obtained using L1 regularization on BOW is 5.9976131062167735% \n"
          ],
          "name": "stdout"
        }
      ]
    },
    {
      "metadata": {
        "id": "Ne45CBR2Ta46",
        "colab_type": "text"
      },
      "cell_type": "markdown",
      "source": [
        "### [5.1.2] Applying Logistic Regression with L2 regularization on BOW,<font color='red'> SET 1</font>"
      ]
    },
    {
      "metadata": {
        "id": "PC0ZGeyeTa46",
        "colab_type": "code",
        "colab": {}
      },
      "cell_type": "code",
      "source": [
        "#with L2\n",
        "LR=LogisticRegression(penalty=\"l2\",class_weight=\"balanced\")\n",
        "\n",
        "LR_Grid=GridSearchCV(LR,param_grid=param , cv=3, scoring='roc_auc')\n",
        "LR_Bow=LR_Grid.fit(xtrain_Bow_LR,ytrain_Bow_LR)\n"
      ],
      "execution_count": 0,
      "outputs": []
    },
    {
      "metadata": {
        "id": "EBQGjDklTa4_",
        "colab_type": "code",
        "colab": {
          "base_uri": "https://localhost:8080/",
          "height": 102
        },
        "outputId": "f792a40a-5183-412d-c8f4-92d904a2ca57"
      },
      "cell_type": "code",
      "source": [
        "print (LR_Grid.best_estimator_)\n",
        "LR_Grid.best_score_"
      ],
      "execution_count": 52,
      "outputs": [
        {
          "output_type": "stream",
          "text": [
            "LogisticRegression(C=0.1, class_weight='balanced', dual=False,\n",
            "          fit_intercept=True, intercept_scaling=1, max_iter=100,\n",
            "          multi_class='warn', n_jobs=None, penalty='l2', random_state=None,\n",
            "          solver='warn', tol=0.0001, verbose=0, warm_start=False)\n"
          ],
          "name": "stdout"
        },
        {
          "output_type": "execute_result",
          "data": {
            "text/plain": [
              "0.9384392852010274"
            ]
          },
          "metadata": {
            "tags": []
          },
          "execution_count": 52
        }
      ]
    },
    {
      "metadata": {
        "id": "iVFmYyCqTa5D",
        "colab_type": "code",
        "colab": {
          "base_uri": "https://localhost:8080/",
          "height": 34
        },
        "outputId": "deea8748-666f-45e5-eb97-a8294ed81f21"
      },
      "cell_type": "code",
      "source": [
        "#calculating the best lambda for l2\n",
        "param_bow=pd.DataFrame(LR_Grid.cv_results_).sort_values('rank_test_score')\n",
        "best_lambda_bow=param_bow[\"param_C\"].iloc[0]\n",
        "\n",
        "\n",
        "lambda_values_bow=param_bow[\"param_C\"].unique()\n",
        "\n",
        "print (\"The best lambda for bow is : {0}\".format(best_lambda_bow))\n"
      ],
      "execution_count": 53,
      "outputs": [
        {
          "output_type": "stream",
          "text": [
            "The best lambda for bow is : 0.1\n"
          ],
          "name": "stdout"
        }
      ]
    },
    {
      "metadata": {
        "id": "gnWivR7DTa5H",
        "colab_type": "code",
        "colab": {
          "base_uri": "https://localhost:8080/",
          "height": 298
        },
        "outputId": "f13b4546-5884-42e2-9c90-22389f069732"
      },
      "cell_type": "code",
      "source": [
        "#graph for train scores of Grid search for all hyperparameters with L2 regularization\n",
        "plt.figure(figsize=(8,6))\n",
        "plt.subplots_adjust(left=.2, right=0.95, bottom=0.15, top=0.65)\n",
        "\n",
        "sns.lineplot(param_bow[\"param_C\"],param_bow[\"mean_train_score\"],label=\"Grid_train score\")\n",
        "sns.lineplot(param_bow[\"param_C\"],param_bow[\"mean_test_score\"],label=\"Grid_test score\")\n",
        "plt.grid()\n",
        "plt.xlabel(\"lambda\")\n",
        "plt.ylabel(\"Accuracy score\")\n",
        "plt.xscale('log')\n",
        "plt.xticks(c)\n",
        "plt.title(\"Graph for auc train & test scores on BOW L2 regularization\")\n",
        "plt.show()"
      ],
      "execution_count": 54,
      "outputs": [
        {
          "output_type": "display_data",
          "data": {
            "image/png": "[encoded data removed]",
            "text/plain": [
              "<Figure size 576x432 with 1 Axes>"
            ]
          },
          "metadata": {
            "tags": []
          }
        }
      ]
    },
    {
      "metadata": {
        "id": "yJQOhIvMTa5N",
        "colab_type": "code",
        "colab": {
          "base_uri": "https://localhost:8080/",
          "height": 295
        },
        "outputId": "7605d4bc-9d30-4452-f7b7-c90a38f47e24"
      },
      "cell_type": "code",
      "source": [
        "#fitting our model on test(unseen data) data \n",
        "LR=LogisticRegression(penalty=\"l2\",C=best_lambda_bow,class_weight=\"balanced\")\n",
        "LR.fit(xtrain_Bow_LR,ytrain_Bow_LR)\n",
        "\n",
        "train_fpr_bow,train_tpr_bow,threshold=roc_curve(ytrain_Bow_LR,LR.predict_proba(xtrain_Bow_LR)[:,1])\n",
        "test_fpr_bow,test_tpr_bow,threshold=roc_curve(ytest_bow_LR,LR.predict_proba(xtest_bow_LR)[:,1])\n",
        "\n",
        "#plotiing the graph for auc score of both train & test \n",
        "sns.lineplot(train_fpr_bow,train_tpr_bow,color=\"r\",label=\"Train auc\" + str(auc(train_fpr_bow,train_tpr_bow) * float(100)))\n",
        "sns.lineplot(test_fpr_bow,test_tpr_bow,color=\"b\",label=\"Test auc\" + str(auc(test_fpr_bow,test_tpr_bow) * float(100)))\n",
        "plt.legend()\n",
        "plt.grid()\n",
        "plt.xlabel(\"FPR\")\n",
        "plt.ylabel(\"TPR\")\n",
        "plt.title(\"Auc graph for test data\")\n",
        "plt.show()"
      ],
      "execution_count": 55,
      "outputs": [
        {
          "output_type": "display_data",
          "data": {
            "image/png": "[encoded data removed]",
            "text/plain": [
              "<Figure size 432x288 with 1 Axes>"
            ]
          },
          "metadata": {
            "tags": []
          }
        }
      ]
    },
    {
      "metadata": {
        "id": "iP-vOrrB8XeS",
        "colab_type": "code",
        "colab": {
          "base_uri": "https://localhost:8080/",
          "height": 295
        },
        "outputId": "713d683d-8935-4eee-b6fd-3fda99b67254"
      },
      "cell_type": "code",
      "source": [
        "#confusion matrix on train data for l2 \n",
        "confusion_Bow_train=confusion_matrix(ytrain_Bow_LR,LR.predict(xtrain_Bow_LR))\n",
        "sns.heatmap(confusion_Bow_train,annot=True,fmt=\"d\",cmap=\"GnBu\")\n",
        "plt.title(\"confusion matrix on train data\")\n",
        "plt.xlabel(\"Predicated labels\")\n",
        "plt.ylabel(\"Actual labels\")\n",
        "plt.show()"
      ],
      "execution_count": 56,
      "outputs": [
        {
          "output_type": "display_data",
          "data": {
            "image/png": "[encoded data removed]",
            "text/plain": [
              "<Figure size 432x288 with 2 Axes>"
            ]
          },
          "metadata": {
            "tags": []
          }
        }
      ]
    },
    {
      "metadata": {
        "id": "d5oBnAi-Ta5T",
        "colab_type": "code",
        "colab": {
          "base_uri": "https://localhost:8080/",
          "height": 295
        },
        "outputId": "944738b6-e925-4fdf-a43b-d746ed351776"
      },
      "cell_type": "code",
      "source": [
        "#confusion matrix on test data for l2 \n",
        "confusion_bow_test=confusion_matrix(ytest_bow_LR,LR.predict(xtest_bow_LR))\n",
        "sns.heatmap(confusion_bow_test,annot=True,fmt=\"d\",cmap=\"GnBu\")\n",
        "plt.title(\"confusion matrix on test data\")\n",
        "plt.xlabel(\"Predicated labels\")\n",
        "plt.ylabel(\"Actual labels\")\n",
        "plt.show()"
      ],
      "execution_count": 57,
      "outputs": [
        {
          "output_type": "display_data",
          "data": {
            "image/png": "[encoded data removed]",
            "text/plain": [
              "<Figure size 432x288 with 2 Axes>"
            ]
          },
          "metadata": {
            "tags": []
          }
        }
      ]
    },
    {
      "metadata": {
        "id": "1N9QDbnoTa5W",
        "colab_type": "text"
      },
      "cell_type": "markdown",
      "source": [
        "#### [5.1.2.1] Performing pertubation test (multicollinearity check) on BOW,<font color='red'> SET 1</font>"
      ]
    },
    {
      "metadata": {
        "id": "DiBybongr7n9",
        "colab_type": "code",
        "colab": {}
      },
      "cell_type": "code",
      "source": [
        "#i am taking only 10k points for my perbutation testing because i have low ram and when i was generating new data set by adding a small noise to original data,\n",
        "#it was always giving memory erro even i tried in google colab but there also it was thowing me session crashed error "
      ],
      "execution_count": 0,
      "outputs": []
    },
    {
      "metadata": {
        "id": "vVzT-LbnTa5X",
        "colab_type": "code",
        "colab": {
          "base_uri": "https://localhost:8080/",
          "height": 51
        },
        "outputId": "85c5477c-b9ee-4946-dffa-d7b8cc9bd60b"
      },
      "cell_type": "code",
      "source": [
        "\n",
        "previous_weight=LR.coef_[0]\n",
        "previous_weight"
      ],
      "execution_count": 59,
      "outputs": [
        {
          "output_type": "execute_result",
          "data": {
            "text/plain": [
              "array([ 0.06273675,  0.01256487,  0.00814529, ...,  0.00187167,\n",
              "       -0.02968413,  0.00033746])"
            ]
          },
          "metadata": {
            "tags": []
          },
          "execution_count": 59
        }
      ]
    },
    {
      "metadata": {
        "id": "2zPICbXTTa5a",
        "colab_type": "code",
        "colab": {}
      },
      "cell_type": "code",
      "source": [
        "#generating new data set by adding a small noise to original data \n",
        "xtrain_Bow_LR.dtype=np.float64\n",
        "noisey_data=xtrain_Bow_LR[0:10000].todense() + 0.01\n"
      ],
      "execution_count": 0,
      "outputs": []
    },
    {
      "metadata": {
        "id": "f-ePwAMYTa5i",
        "colab_type": "code",
        "outputId": "557c7564-7465-4d72-a829-69548feb3db8",
        "colab": {
          "base_uri": "https://localhost:8080/",
          "height": 85
        }
      },
      "cell_type": "code",
      "source": [
        "#fitting the data \n",
        "LR_again=LogisticRegression(penalty=\"l2\",C=best_lambda_bow,class_weight=\"balanced\")\n",
        "LR_again.fit(noisey_data,ytrain_Bow_LR[0:10000])\n"
      ],
      "execution_count": 71,
      "outputs": [
        {
          "output_type": "execute_result",
          "data": {
            "text/plain": [
              "LogisticRegression(C=0.1, class_weight='balanced', dual=False,\n",
              "          fit_intercept=True, intercept_scaling=1, max_iter=100,\n",
              "          multi_class='warn', n_jobs=None, penalty='l2', random_state=None,\n",
              "          solver='warn', tol=0.0001, verbose=0, warm_start=False)"
            ]
          },
          "metadata": {
            "tags": []
          },
          "execution_count": 71
        }
      ]
    },
    {
      "metadata": {
        "id": "OZldW5hmTa5k",
        "colab_type": "code",
        "colab": {}
      },
      "cell_type": "code",
      "source": [
        "new_weight=LR_again.coef_[0]"
      ],
      "execution_count": 0,
      "outputs": []
    },
    {
      "metadata": {
        "id": "8CA7MFjhhJVu",
        "colab_type": "code",
        "colab": {}
      },
      "cell_type": "code",
      "source": [
        "# Adding small esilon to weight vector to avoid division by 0\n",
        "previous_weight += 10**-6\n",
        "new_weight += 10**-6"
      ],
      "execution_count": 0,
      "outputs": []
    },
    {
      "metadata": {
        "id": "4HUXQhSDks5p",
        "colab_type": "code",
        "colab": {}
      },
      "cell_type": "code",
      "source": [
        "percentage_change=abs( (previous_weight-new_weight)/(previous_weight) ) * float(100)"
      ],
      "execution_count": 0,
      "outputs": []
    },
    {
      "metadata": {
        "id": "fE3YfJnAktCE",
        "colab_type": "code",
        "colab": {
          "base_uri": "https://localhost:8080/",
          "height": 456
        },
        "outputId": "20c54933-6faf-4d58-c965-bd99f72fbfc3"
      },
      "cell_type": "code",
      "source": [
        "#plotting the percentile values on graph\n",
        "for i in range(0,101,10):\n",
        "    print(\"{0}th percentile is : {1} \".format(i,np.percentile(percentage_change,i)))\n",
        "          \n",
        "         \n",
        "sns.lineplot(range(0,101,10),np.percentile(percentage_change,range(0,101,10)))\n",
        "plt.show()"
      ],
      "execution_count": 75,
      "outputs": [
        {
          "output_type": "stream",
          "text": [
            "0th percentile is : 1.2951139119078932 \n",
            "10th percentile is : 99.26918285013949 \n",
            "20th percentile is : 99.93073732204707 \n",
            "30th percentile is : 99.9806653020229 \n",
            "40th percentile is : 99.99211742125098 \n",
            "50th percentile is : 99.9961937907041 \n",
            "60th percentile is : 99.99809937157394 \n",
            "70th percentile is : 99.99949384052034 \n",
            "80th percentile is : 100.00090632427387 \n",
            "90th percentile is : 100.00380891090768 \n",
            "100th percentile is : 4010.66426592103 \n"
          ],
          "name": "stdout"
        },
        {
          "output_type": "display_data",
          "data": {
            "image/png": "[encoded data removed]",
            "text/plain": [
              "<Figure size 432x288 with 1 Axes>"
            ]
          },
          "metadata": {
            "tags": []
          }
        }
      ]
    },
    {
      "metadata": {
        "id": "nAfE1-FsktAD",
        "colab_type": "code",
        "colab": {}
      },
      "cell_type": "code",
      "source": [
        "#if you observe above plot there is huge change between 80 to 100 .. if you look more deeply then it mostly from 90 to 100 , so same as above we can plot for 90 to 100"
      ],
      "execution_count": 0,
      "outputs": []
    },
    {
      "metadata": {
        "id": "J8Y17RlLks9n",
        "colab_type": "code",
        "colab": {
          "base_uri": "https://localhost:8080/",
          "height": 456
        },
        "outputId": "07c113c6-d859-42e6-eed6-fe6d76e28c06"
      },
      "cell_type": "code",
      "source": [
        "for i in range(90,101,1):\n",
        "    print(\"{0}th percentile is : {1} \".format(i,np.percentile(percentage_change,i)))\n",
        "          \n",
        "         \n",
        "sns.lineplot(range(90,101,1),np.percentile(percentage_change,range(90,101,1)))\n",
        "plt.show()"
      ],
      "execution_count": 77,
      "outputs": [
        {
          "output_type": "stream",
          "text": [
            "90th percentile is : 100.00380891090768 \n",
            "91th percentile is : 100.00464521845753 \n",
            "92th percentile is : 100.00581675395118 \n",
            "93th percentile is : 100.00758962384545 \n",
            "94th percentile is : 100.01028028777428 \n",
            "95th percentile is : 100.01471622758784 \n",
            "96th percentile is : 100.02245345597437 \n",
            "97th percentile is : 100.04071756597418 \n",
            "98th percentile is : 100.12083211382034 \n",
            "99th percentile is : 100.48930213890857 \n",
            "100th percentile is : 4010.66426592103 \n"
          ],
          "name": "stdout"
        },
        {
          "output_type": "display_data",
          "data": {
            "image/png": "[encoded data removed]",
            "text/plain": [
              "<Figure size 432x288 with 1 Axes>"
            ]
          },
          "metadata": {
            "tags": []
          }
        }
      ]
    },
    {
      "metadata": {
        "id": "SBYM0pX4natd",
        "colab_type": "code",
        "colab": {}
      },
      "cell_type": "code",
      "source": [
        "#Again if you observe above plot there is huge change between 99 to 100 .so same as above we can plot for 99 to 100"
      ],
      "execution_count": 0,
      "outputs": []
    },
    {
      "metadata": {
        "id": "jA1nQwlrna4G",
        "colab_type": "code",
        "colab": {
          "base_uri": "https://localhost:8080/",
          "height": 439
        },
        "outputId": "6f089026-248e-4965-8c4d-e4b96980f4db"
      },
      "cell_type": "code",
      "source": [
        "for i in np.linspace(99,100,10):\n",
        "    print(\"{0}th percentile is : {1} \".format(i,np.percentile(percentage_change,i)))\n",
        "          \n",
        "         \n",
        "sns.lineplot(np.linspace(99,100,10),np.percentile(percentage_change,np.linspace(99,100,10)))\n",
        "plt.show()"
      ],
      "execution_count": 79,
      "outputs": [
        {
          "output_type": "stream",
          "text": [
            "99.0th percentile is : 100.48930213890857 \n",
            "99.11111111111111th percentile is : 100.615103450938 \n",
            "99.22222222222223th percentile is : 100.9103762084672 \n",
            "99.33333333333333th percentile is : 101.27278539523913 \n",
            "99.44444444444444th percentile is : 101.93807413529319 \n",
            "99.55555555555556th percentile is : 102.99469708617549 \n",
            "99.66666666666667th percentile is : 105.00056655070667 \n",
            "99.77777777777777th percentile is : 113.90579652438865 \n",
            "99.88888888888889th percentile is : 138.57552829337035 \n",
            "100.0th percentile is : 4010.66426592103 \n"
          ],
          "name": "stdout"
        },
        {
          "output_type": "display_data",
          "data": {
            "image/png": "[encoded data removed]",
            "text/plain": [
              "<Figure size 432x288 with 1 Axes>"
            ]
          },
          "metadata": {
            "tags": []
          }
        }
      ]
    },
    {
      "metadata": {
        "id": "Db88uETvrHK4",
        "colab_type": "code",
        "colab": {}
      },
      "cell_type": "code",
      "source": [
        "#ploting between (between 99.90 to 100 )"
      ],
      "execution_count": 0,
      "outputs": []
    },
    {
      "metadata": {
        "id": "9BaAZ6Utna1z",
        "colab_type": "code",
        "colab": {
          "base_uri": "https://localhost:8080/",
          "height": 354
        },
        "outputId": "78874356-1ade-4eff-c682-1677ad9b41d8"
      },
      "cell_type": "code",
      "source": [
        "for i in np.linspace(99.90,100,5):\n",
        "    print(\"{0}th percentile is : {1} \".format(i,np.percentile(percentage_change,i)))\n",
        "          \n",
        "         \n",
        "sns.lineplot(np.linspace(99.90,100,5),np.percentile(percentage_change,np.linspace(99.90,100,5)))\n",
        "plt.xticks(np.linspace(99.90,100,5))\n",
        "plt.show()"
      ],
      "execution_count": 81,
      "outputs": [
        {
          "output_type": "stream",
          "text": [
            "99.9th percentile is : 142.37124244821786 \n",
            "99.92500000000001th percentile is : 144.95671320665699 \n",
            "99.95th percentile is : 206.11019903343407 \n",
            "99.975th percentile is : 342.7777808507483 \n",
            "100.0th percentile is : 4010.66426592103 \n"
          ],
          "name": "stdout"
        },
        {
          "output_type": "display_data",
          "data": {
            "image/png": "[encoded data removed]",
            "text/plain": [
              "<Figure size 432x288 with 1 Axes>"
            ]
          },
          "metadata": {
            "tags": []
          }
        }
      ]
    },
    {
      "metadata": {
        "id": "VOB9-mBmnazT",
        "colab_type": "code",
        "colab": {}
      },
      "cell_type": "code",
      "source": [
        "#by looking at above we can set our threshhold at 0.25e^7 , also this can vary as we are taking ony 10000 points because computional power "
      ],
      "execution_count": 0,
      "outputs": []
    },
    {
      "metadata": {
        "id": "IyXUh_winaxD",
        "colab_type": "code",
        "colab": {}
      },
      "cell_type": "code",
      "source": [
        ""
      ],
      "execution_count": 0,
      "outputs": []
    },
    {
      "metadata": {
        "id": "8JHVipAdTa5m",
        "colab_type": "text"
      },
      "cell_type": "markdown",
      "source": [
        "### [5.1.3] Feature Importance on BOW,<font color='red'> SET 1</font>"
      ]
    },
    {
      "metadata": {
        "id": "evVe8EczTa5n",
        "colab_type": "text"
      },
      "cell_type": "markdown",
      "source": [
        "#### [5.1.3.1] Top 10 important features of positive class from<font color='red'> SET 1</font>"
      ]
    },
    {
      "metadata": {
        "id": "QVbakTcDTa5o",
        "colab_type": "code",
        "colab": {
          "base_uri": "https://localhost:8080/",
          "height": 221
        },
        "outputId": "8430297a-b464-41c0-cf0f-3fa1170451e4"
      },
      "cell_type": "code",
      "source": [
        "Pos=LR.coef_.argsort()\n",
        "words=np.take(count_vect.get_feature_names(),Pos[0][-10:])\n",
        "print (\"Top 10 Postive feature are below  : \\n\")\n",
        "for i in words:\n",
        "  print (i)\n"
      ],
      "execution_count": 83,
      "outputs": [
        {
          "output_type": "stream",
          "text": [
            "Top 10 Postive feature are below  : \n",
            "\n",
            "best\n",
            "pleased\n",
            "wonderful\n",
            "pleasantly\n",
            "amazing\n",
            "yummy\n",
            "awesome\n",
            "perfect\n",
            "excellent\n",
            "delicious\n"
          ],
          "name": "stdout"
        }
      ]
    },
    {
      "metadata": {
        "id": "Bklrb44sTa5q",
        "colab_type": "text"
      },
      "cell_type": "markdown",
      "source": [
        "#### [5.1.3.2] Top 10 important features of negative class from<font color='red'> SET 1</font>"
      ]
    },
    {
      "metadata": {
        "id": "U_7Tlny2Ta5r",
        "colab_type": "code",
        "colab": {
          "base_uri": "https://localhost:8080/",
          "height": 221
        },
        "outputId": "fab11be5-eafa-43d4-c7bf-874c00e48630"
      },
      "cell_type": "code",
      "source": [
        "Pos=LR.coef_.argsort()\n",
        "words=np.take(count_vect.get_feature_names(),Pos[0][:10])\n",
        "print (\"Top 10 negative feature are below  : \\n\")\n",
        "for i in words:\n",
        "  print (i)\n",
        "\n"
      ],
      "execution_count": 84,
      "outputs": [
        {
          "output_type": "stream",
          "text": [
            "Top 10 negative feature are below  : \n",
            "\n",
            "worst\n",
            "disappointing\n",
            "terrible\n",
            "disappointment\n",
            "awful\n",
            "disappointed\n",
            "threw\n",
            "rip\n",
            "horrible\n",
            "unfortunately\n"
          ],
          "name": "stdout"
        }
      ]
    },
    {
      "metadata": {
        "id": "7k7pE5IVTa5t",
        "colab_type": "text"
      },
      "cell_type": "markdown",
      "source": [
        "## [5.2] Logistic Regression on TFIDF,<font color='red'> SET 2</font>"
      ]
    },
    {
      "metadata": {
        "id": "ZUD95bhXTa5u",
        "colab_type": "text"
      },
      "cell_type": "markdown",
      "source": [
        "### [5.2.1] Applying Logistic Regression with L1 regularization on TFIDF,<font color='red'> SET 2</font>"
      ]
    },
    {
      "metadata": {
        "id": "wMTjy37cTa50",
        "colab_type": "code",
        "colab": {
          "base_uri": "https://localhost:8080/",
          "height": 85
        },
        "outputId": "d9c8353d-c281-49bf-cd2a-bb684f893655"
      },
      "cell_type": "code",
      "source": [
        "#fit_transform has to happen only on train data to avoid data leakage\n",
        "xtest_tfidf_LR=xtest\n",
        "xtest_tfidf_LR=tf_idf_vect.transform(xtest_tfidf_LR)\n",
        "\n",
        "#check the size of our all data set\n",
        "\n",
        "print (xtrain_tfidf_LR.shape)\n",
        "print (xtest_tfidf_LR.shape)\n",
        "ytest_tfidf_LR=ytest\n",
        "print (ytest_tfidf_LR.shape)\n",
        "ytrain_tfidf_LR=ytrain\n",
        "print (ytrain_tfidf_LR.shape)"
      ],
      "execution_count": 90,
      "outputs": [
        {
          "output_type": "stream",
          "text": [
            "(61441, 36229)\n",
            "(26332, 36229)\n",
            "(26332,)\n",
            "(61441,)\n"
          ],
          "name": "stdout"
        }
      ]
    },
    {
      "metadata": {
        "id": "e4_YDwh8Ta54",
        "colab_type": "code",
        "colab": {}
      },
      "cell_type": "code",
      "source": [
        "#tunning the hyperparameter with gridsearchcv on BOW    \n",
        "\n",
        "LR=LogisticRegression(penalty=\"l1\",class_weight=\"balanced\")\n",
        "\n",
        "LR_Grid=GridSearchCV(LR,param_grid=param , cv=3, scoring='roc_auc')\n",
        "LR_tfidf=LR_Grid.fit(xtrain_tfidf_LR,ytrain_tfidf_LR)\n"
      ],
      "execution_count": 0,
      "outputs": []
    },
    {
      "metadata": {
        "id": "UwTEz3iDTa59",
        "colab_type": "code",
        "colab": {
          "base_uri": "https://localhost:8080/",
          "height": 102
        },
        "outputId": "f85d966f-18e3-4dff-d60c-1c23ee83a597"
      },
      "cell_type": "code",
      "source": [
        "print (LR_Grid.best_estimator_)\n",
        "LR_Grid.best_score_"
      ],
      "execution_count": 92,
      "outputs": [
        {
          "output_type": "stream",
          "text": [
            "LogisticRegression(C=3, class_weight='balanced', dual=False,\n",
            "          fit_intercept=True, intercept_scaling=1, max_iter=100,\n",
            "          multi_class='warn', n_jobs=None, penalty='l1', random_state=None,\n",
            "          solver='warn', tol=0.0001, verbose=0, warm_start=False)\n"
          ],
          "name": "stdout"
        },
        {
          "output_type": "execute_result",
          "data": {
            "text/plain": [
              "0.9560480343336397"
            ]
          },
          "metadata": {
            "tags": []
          },
          "execution_count": 92
        }
      ]
    },
    {
      "metadata": {
        "id": "iYss6r_pTa6B",
        "colab_type": "code",
        "colab": {
          "base_uri": "https://localhost:8080/",
          "height": 34
        },
        "outputId": "687a2fb2-a5b2-4bc5-ac06-c192850beb90"
      },
      "cell_type": "code",
      "source": [
        "#calculating the best lambda\n",
        "param_tfidf=pd.DataFrame(LR_Grid.cv_results_).sort_values('rank_test_score')\n",
        "best_lambda_tfidf=param_tfidf[\"param_C\"].iloc[0]\n",
        "\n",
        "\n",
        "lambda_values_tfidf=param_tfidf[\"param_C\"].unique()\n",
        "\n",
        "print (\"The best lambda for bow is : {0}\".format(best_lambda_tfidf))\n"
      ],
      "execution_count": 93,
      "outputs": [
        {
          "output_type": "stream",
          "text": [
            "The best lambda for bow is : 3\n"
          ],
          "name": "stdout"
        }
      ]
    },
    {
      "metadata": {
        "id": "BlzgGIKNTa6H",
        "colab_type": "code",
        "colab": {
          "base_uri": "https://localhost:8080/",
          "height": 298
        },
        "outputId": "77c3fbc7-96f6-4859-cb68-082bd8076a08"
      },
      "cell_type": "code",
      "source": [
        "#graph for train scores of Grid search for all hyperparameters\n",
        "plt.figure(figsize=(8,6))\n",
        "plt.subplots_adjust(left=.2, right=0.95, bottom=0.15, top=0.65)\n",
        "\n",
        "sns.lineplot(param_tfidf[\"param_C\"],param_tfidf[\"mean_train_score\"],label=\"Grid_train score\")\n",
        "sns.lineplot(param_tfidf[\"param_C\"],param_tfidf[\"mean_test_score\"],label=\"Grid_test score\")\n",
        "plt.grid()\n",
        "plt.xlabel(\"lambda\")\n",
        "plt.ylabel(\"Accuracy score\")\n",
        "plt.xscale('log')\n",
        "plt.xticks(c)\n",
        "plt.title(\"Graph for auc train scores & test scores on tfidf\")\n",
        "plt.show()"
      ],
      "execution_count": 94,
      "outputs": [
        {
          "output_type": "display_data",
          "data": {
            "image/png": "[encoded data removed]",
            "text/plain": [
              "<Figure size 576x432 with 1 Axes>"
            ]
          },
          "metadata": {
            "tags": []
          }
        }
      ]
    },
    {
      "metadata": {
        "id": "VpBIUgk7Ta6T",
        "colab_type": "code",
        "colab": {
          "base_uri": "https://localhost:8080/",
          "height": 295
        },
        "outputId": "026003d3-687a-4abc-d95f-6be2122eff45"
      },
      "cell_type": "code",
      "source": [
        "#fitting our model on test(unseen data) data \n",
        "LR_tfidf=LogisticRegression(C=best_lambda_tfidf)\n",
        "LR_tfidf.fit(xtrain_tfidf_LR,ytrain_tfidf_LR)\n",
        "\n",
        "train_fpr_tfidf,train_tpr_tfidf,threshold=roc_curve(ytrain_tfidf_LR,LR_tfidf.predict_proba(xtrain_tfidf_LR)[:,1])\n",
        "test_fpr_tfidf,test_tpr_tfidf,threshold=roc_curve(ytest_tfidf_LR,LR_tfidf.predict_proba(xtest_tfidf_LR)[:,1])\n",
        "\n",
        "#plotiing the graph for auc score of both train & test \n",
        "sns.lineplot(train_fpr_tfidf,train_tpr_tfidf,color=\"r\",label=\"Train auc\" + str(auc(train_fpr_tfidf,train_tpr_tfidf) * float(100)))\n",
        "sns.lineplot(test_fpr_tfidf,test_tpr_tfidf,color=\"b\",label=\"Test auc\" + str(auc(test_fpr_tfidf,test_tpr_tfidf) * float(100)))\n",
        "plt.legend()\n",
        "plt.grid()\n",
        "plt.xlabel(\"FPR\")\n",
        "plt.ylabel(\"TPR\")\n",
        "plt.title(\"Auc graph for test data\")\n",
        "plt.show()"
      ],
      "execution_count": 113,
      "outputs": [
        {
          "output_type": "display_data",
          "data": {
            "image/png": "[encoded data removed]",
            "text/plain": [
              "<Figure size 432x288 with 1 Axes>"
            ]
          },
          "metadata": {
            "tags": []
          }
        }
      ]
    },
    {
      "metadata": {
        "id": "9aKZrz0nzMCl",
        "colab_type": "code",
        "colab": {
          "base_uri": "https://localhost:8080/",
          "height": 295
        },
        "outputId": "331c00fe-5e80-4b75-a1f5-d09656ab61bc"
      },
      "cell_type": "code",
      "source": [
        "#confusion matrix on train data \n",
        "confusion_tfidf_train=confusion_matrix(ytrain_tfidf_LR,LR_tfidf.predict(xtrain_tfidf_LR))\n",
        "sns.heatmap(confusion_tfidf_train,annot=True,fmt=\"d\",cmap=\"GnBu\")\n",
        "plt.title(\"confusion matrix on train data\")\n",
        "plt.xlabel(\"Predicated labels\")\n",
        "plt.ylabel(\"Actual labels\")\n",
        "plt.show()"
      ],
      "execution_count": 114,
      "outputs": [
        {
          "output_type": "display_data",
          "data": {
            "image/png": "[encoded data removed]",
            "text/plain": [
              "<Figure size 432x288 with 2 Axes>"
            ]
          },
          "metadata": {
            "tags": []
          }
        }
      ]
    },
    {
      "metadata": {
        "id": "R3D4uFzCTa6X",
        "colab_type": "code",
        "colab": {
          "base_uri": "https://localhost:8080/",
          "height": 295
        },
        "outputId": "4773164f-245f-4c76-d802-5816249d089f"
      },
      "cell_type": "code",
      "source": [
        "#confusion matrix on test data \n",
        "confusion_tfidf_test=confusion_matrix(ytest_tfidf_LR,LR_tfidf.predict(xtest_tfidf_LR))\n",
        "sns.heatmap(confusion_tfidf_test,annot=True,fmt=\"d\",cmap=\"GnBu\")\n",
        "plt.title(\"confusion matrix on test data\")\n",
        "plt.xlabel(\"Predicated labels\")\n",
        "plt.ylabel(\"Actual labels\")\n",
        "plt.show()"
      ],
      "execution_count": 115,
      "outputs": [
        {
          "output_type": "display_data",
          "data": {
            "image/png": "[encoded data removed]",
            "text/plain": [
              "<Figure size 432x288 with 2 Axes>"
            ]
          },
          "metadata": {
            "tags": []
          }
        }
      ]
    },
    {
      "metadata": {
        "id": "E016NhliTa6Z",
        "colab_type": "text"
      },
      "cell_type": "markdown",
      "source": [
        "### [5.2.2] Applying Logistic Regression with L2 regularization on TFIDF,<font color='red'> SET 2</font>"
      ]
    },
    {
      "metadata": {
        "id": "9qJ6HWbXTa6a",
        "colab_type": "code",
        "colab": {}
      },
      "cell_type": "code",
      "source": [
        "#with L2\n",
        "LR=LogisticRegression(penalty=\"l2\",class_weight=\"balanced\")\n",
        "\n",
        "LR_Grid=GridSearchCV(LR,param_grid=param , cv=3, scoring='roc_auc')\n",
        "LR_tfidf=LR_Grid.fit(xtrain_tfidf_LR,ytrain_tfidf_LR)\n",
        "\n",
        "\n"
      ],
      "execution_count": 0,
      "outputs": []
    },
    {
      "metadata": {
        "id": "j21bpq24Ta6c",
        "colab_type": "code",
        "colab": {
          "base_uri": "https://localhost:8080/",
          "height": 102
        },
        "outputId": "a4f2706f-3994-4d5d-ae4c-90aab7deef96"
      },
      "cell_type": "code",
      "source": [
        "print (LR_Grid.best_estimator_)\n",
        "LR_Grid.best_score_\n"
      ],
      "execution_count": 119,
      "outputs": [
        {
          "output_type": "stream",
          "text": [
            "LogisticRegression(C=3, class_weight='balanced', dual=False,\n",
            "          fit_intercept=True, intercept_scaling=1, max_iter=100,\n",
            "          multi_class='warn', n_jobs=None, penalty='l2', random_state=None,\n",
            "          solver='warn', tol=0.0001, verbose=0, warm_start=False)\n"
          ],
          "name": "stdout"
        },
        {
          "output_type": "execute_result",
          "data": {
            "text/plain": [
              "0.9614970417822172"
            ]
          },
          "metadata": {
            "tags": []
          },
          "execution_count": 119
        }
      ]
    },
    {
      "metadata": {
        "id": "ic4taHEdTa6g",
        "colab_type": "code",
        "colab": {
          "base_uri": "https://localhost:8080/",
          "height": 34
        },
        "outputId": "223f6b4b-c565-4fb2-df98-79b7fd05d321"
      },
      "cell_type": "code",
      "source": [
        "#calculating the best lambda\n",
        "param_tfidf=pd.DataFrame(LR_Grid.cv_results_).sort_values('rank_test_score')\n",
        "best_lambda_tfidf=param_tfidf[\"param_C\"].iloc[0]\n",
        "\n",
        "\n",
        "lambda_values_bow=param_tfidf[\"param_C\"].unique()\n",
        "\n",
        "print (\"The best lambda for bow is : {0}\".format(best_lambda_tfidf))\n"
      ],
      "execution_count": 120,
      "outputs": [
        {
          "output_type": "stream",
          "text": [
            "The best lambda for bow is : 3\n"
          ],
          "name": "stdout"
        }
      ]
    },
    {
      "metadata": {
        "id": "fIpUhqnWTa6k",
        "colab_type": "code",
        "colab": {
          "base_uri": "https://localhost:8080/",
          "height": 298
        },
        "outputId": "50ea069c-c001-4254-b326-1e3012a5638c"
      },
      "cell_type": "code",
      "source": [
        "#graph for train scores of Grid search for all hyperparameters\n",
        "plt.figure(figsize=(8,6))\n",
        "plt.subplots_adjust(left=.2, right=0.95, bottom=0.15, top=0.65)\n",
        "\n",
        "sns.lineplot(param_tfidf[\"param_C\"],param_tfidf[\"mean_train_score\"],label=\"Grid_train score\")\n",
        "sns.lineplot(param_tfidf[\"param_C\"],param_tfidf[\"mean_test_score\"],label=\"Grid_test score\")\n",
        "plt.grid()\n",
        "plt.xlabel(\"lambda\")\n",
        "plt.ylabel(\"Accuracy score\")\n",
        "plt.xscale('log')\n",
        "plt.xticks(c)\n",
        "plt.title(\"Graph for auc train scores & test scores on tfidf\")\n",
        "plt.show()"
      ],
      "execution_count": 121,
      "outputs": [
        {
          "output_type": "display_data",
          "data": {
            "image/png": "[encoded data removed]",
            "text/plain": [
              "<Figure size 576x432 with 1 Axes>"
            ]
          },
          "metadata": {
            "tags": []
          }
        }
      ]
    },
    {
      "metadata": {
        "id": "hLgVIIx1Ta6q",
        "colab_type": "code",
        "colab": {
          "base_uri": "https://localhost:8080/",
          "height": 295
        },
        "outputId": "62c3ec07-2803-44f4-e910-465d3013dd66"
      },
      "cell_type": "code",
      "source": [
        "#fitting our model on test(unseen data) data \n",
        "LR=LogisticRegression(penalty=\"l2\",C=best_lambda_tfidf)\n",
        "LR.fit(xtrain_tfidf_LR,ytrain_tfidf_LR)\n",
        "\n",
        "train_fpr_tfidf,train_tpr_tfidf,threshold=roc_curve(ytrain_tfidf_LR,LR.predict_proba(xtrain_tfidf_LR)[:,1])\n",
        "test_fpr_tfidf,test_tpr_tfidf,threshold=roc_curve(ytest_tfidf_LR,LR.predict_proba(xtest_tfidf_LR)[:,1])\n",
        "\n",
        "#plotiing the graph for auc score of both train & test \n",
        "sns.lineplot(train_fpr_tfidf,train_tpr_tfidf,color=\"r\",label=\"Train auc\" + str(auc(train_fpr_tfidf,train_tpr_tfidf) * float(100)))\n",
        "sns.lineplot(test_fpr_tfidf,test_tpr_tfidf,color=\"b\",label=\"Test auc\" + str(auc(test_fpr_tfidf,test_tpr_tfidf) * float(100)))\n",
        "plt.legend()\n",
        "plt.grid()\n",
        "plt.xlabel(\"FPR\")\n",
        "plt.ylabel(\"TPR\")\n",
        "plt.title(\"Auc graph for test data\")\n",
        "plt.show()"
      ],
      "execution_count": 122,
      "outputs": [
        {
          "output_type": "display_data",
          "data": {
            "image/png": "[encoded data removed]",
            "text/plain": [
              "<Figure size 432x288 with 1 Axes>"
            ]
          },
          "metadata": {
            "tags": []
          }
        }
      ]
    },
    {
      "metadata": {
        "id": "8fKQa0jU2req",
        "colab_type": "code",
        "colab": {
          "base_uri": "https://localhost:8080/",
          "height": 295
        },
        "outputId": "749f2835-1879-40ce-f284-c83e4bd2f42c"
      },
      "cell_type": "code",
      "source": [
        "#confusion matrix on train data \n",
        "confusion_tfidf_test=confusion_matrix(ytrain_tfidf_LR,LR.predict(xtrain_tfidf_LR))\n",
        "sns.heatmap(confusion_tfidf_test,annot=True,fmt=\"d\",cmap=\"GnBu\")\n",
        "plt.title(\"confusion matrix on train data\")\n",
        "plt.xlabel(\"Predicated labels\")\n",
        "plt.ylabel(\"Actual labels\")\n",
        "plt.show()"
      ],
      "execution_count": 124,
      "outputs": [
        {
          "output_type": "display_data",
          "data": {
            "image/png": "[encoded data removed]",
            "text/plain": [
              "<Figure size 432x288 with 2 Axes>"
            ]
          },
          "metadata": {
            "tags": []
          }
        }
      ]
    },
    {
      "metadata": {
        "id": "O-XaX1NCTa6w",
        "colab_type": "code",
        "colab": {
          "base_uri": "https://localhost:8080/",
          "height": 295
        },
        "outputId": "fbe4bcd3-33c3-4930-e7aa-df5c9ee494d8"
      },
      "cell_type": "code",
      "source": [
        "#confusion matrix on test data \n",
        "confusion_tfidf_test=confusion_matrix(ytest_tfidf_LR,LR.predict(xtest_tfidf_LR))\n",
        "sns.heatmap(confusion_tfidf_test,annot=True,fmt=\"d\",cmap=\"GnBu\")\n",
        "plt.title(\"confusion matrix on test data\")\n",
        "plt.xlabel(\"Predicated labels\")\n",
        "plt.ylabel(\"Actual labels\")\n",
        "plt.show()"
      ],
      "execution_count": 125,
      "outputs": [
        {
          "output_type": "display_data",
          "data": {
            "image/png": "[encoded data removed]",
            "text/plain": [
              "<Figure size 432x288 with 2 Axes>"
            ]
          },
          "metadata": {
            "tags": []
          }
        }
      ]
    },
    {
      "metadata": {
        "id": "3EHS1TxP2q4H",
        "colab_type": "code",
        "colab": {}
      },
      "cell_type": "code",
      "source": [
        ""
      ],
      "execution_count": 0,
      "outputs": []
    },
    {
      "metadata": {
        "id": "9HknPSTRTa60",
        "colab_type": "text"
      },
      "cell_type": "markdown",
      "source": [
        "### [5.2.3] Feature Importance on TFIDF,<font color='red'> SET 2</font>"
      ]
    },
    {
      "metadata": {
        "id": "Wwdt4OxFTa61",
        "colab_type": "text"
      },
      "cell_type": "markdown",
      "source": [
        "#### [5.2.3.1] Top 10 important features of positive class from<font color='red'> SET 2</font>"
      ]
    },
    {
      "metadata": {
        "colab_type": "code",
        "id": "QU9j_EnW4T30",
        "colab": {
          "base_uri": "https://localhost:8080/",
          "height": 221
        },
        "outputId": "c489b526-9ebc-4c22-a2ea-6e7a9ee28908"
      },
      "cell_type": "code",
      "source": [
        "Pos=LR.coef_.argsort()\n",
        "words=np.take(tf_idf_vect.get_feature_names(),Pos[0][-10:])\n",
        "print (\"Top 10 Postive feature are below  : \\n\")\n",
        "for i in words:\n",
        "  print (i)\n"
      ],
      "execution_count": 128,
      "outputs": [
        {
          "output_type": "stream",
          "text": [
            "Top 10 Postive feature are below  : \n",
            "\n",
            "love\n",
            "amazing\n",
            "loves\n",
            "excellent\n",
            "not disappointed\n",
            "perfect\n",
            "good\n",
            "best\n",
            "delicious\n",
            "great\n"
          ],
          "name": "stdout"
        }
      ]
    },
    {
      "metadata": {
        "colab_type": "code",
        "id": "ALEXYJMw4T37",
        "colab": {}
      },
      "cell_type": "code",
      "source": [
        "\n"
      ],
      "execution_count": 0,
      "outputs": []
    },
    {
      "metadata": {
        "id": "0puDlFLETa66",
        "colab_type": "text"
      },
      "cell_type": "markdown",
      "source": [
        "#### [5.2.3.2] Top 10 important features of negative class from<font color='red'> SET 2</font>"
      ]
    },
    {
      "metadata": {
        "id": "FbLVd11QTa66",
        "colab_type": "code",
        "colab": {
          "base_uri": "https://localhost:8080/",
          "height": 221
        },
        "outputId": "c4a74ed2-4c04-4842-cf68-6284c9dad1ac"
      },
      "cell_type": "code",
      "source": [
        "Pos=LR.coef_.argsort()\n",
        "words=np.take(tf_idf_vect.get_feature_names(),Pos[0][:10])\n",
        "print (\"Top 10 negative feature are below  : \\n\")\n",
        "for i in words:\n",
        "  print (i)\n"
      ],
      "execution_count": 130,
      "outputs": [
        {
          "output_type": "stream",
          "text": [
            "Top 10 negative feature are below  : \n",
            "\n",
            "disappointed\n",
            "worst\n",
            "not good\n",
            "terrible\n",
            "not worth\n",
            "awful\n",
            "not\n",
            "not recommend\n",
            "disappointing\n",
            "disappointment\n"
          ],
          "name": "stdout"
        }
      ]
    },
    {
      "metadata": {
        "id": "ab-j20xxTa69",
        "colab_type": "text"
      },
      "cell_type": "markdown",
      "source": [
        "## [5.3] Logistic Regression on AVG W2V,<font color='red'> SET 3</font>"
      ]
    },
    {
      "metadata": {
        "id": "xrmpmCgfTa69",
        "colab_type": "text"
      },
      "cell_type": "markdown",
      "source": [
        "### [5.3.1] Applying Logistic Regression with L1 regularization on AVG W2V<font color='red'> SET 3</font>"
      ]
    },
    {
      "metadata": {
        "id": "scSvOx0zTa7A",
        "colab_type": "code",
        "colab": {
          "base_uri": "https://localhost:8080/",
          "height": 51
        },
        "outputId": "41c449eb-f20e-47f3-a040-3b04170886a5"
      },
      "cell_type": "code",
      "source": [
        "#avgw2v on test data\n",
        "i=0\n",
        "list_of_sentance_test=[]\n",
        "for sentance in xtest:\n",
        "    list_of_sentance_test.append(sentance.split())\n",
        "    \n",
        "        \n",
        "    \n",
        "xtest_Avgw2v_LR = []; \n",
        "for sent in list_of_sentance_test: \n",
        "    sent_vec = np.zeros(50)\n",
        "    cnt_words =0; \n",
        "    for word in sent: \n",
        "        if word in w2v_words:\n",
        "            vec = w2v_model.wv[word]\n",
        "            sent_vec += vec\n",
        "            cnt_words += 1\n",
        "    if cnt_words != 0:\n",
        "        sent_vec /= cnt_words\n",
        "    xtest_Avgw2v_LR.append(sent_vec)\n",
        "print(len(xtest_Avgw2v_LR))\n",
        "print(len(xtest_Avgw2v_LR[0]))"
      ],
      "execution_count": 138,
      "outputs": [
        {
          "output_type": "stream",
          "text": [
            "26332\n",
            "50\n"
          ],
          "name": "stdout"
        }
      ]
    },
    {
      "metadata": {
        "id": "cHTHo80Vi1MA",
        "colab_type": "code",
        "colab": {
          "base_uri": "https://localhost:8080/",
          "height": 68
        },
        "outputId": "5d525f27-b193-41ea-8353-1900b761a483"
      },
      "cell_type": "code",
      "source": [
        "#check the size of our all data set\n",
        "ytest_Avgw2v_LR=ytest\n",
        "ytrain_Avgw2v_LR=ytrain \n",
        "print (len(xtrain_Avgw2v_LR))\n",
        "print (len(xtest_Avgw2v_LR))\n",
        "print (len(ytest_Avgw2v_LR))"
      ],
      "execution_count": 142,
      "outputs": [
        {
          "output_type": "stream",
          "text": [
            "61441\n",
            "26332\n",
            "26332\n"
          ],
          "name": "stdout"
        }
      ]
    },
    {
      "metadata": {
        "id": "xNkMaRoKDiVh",
        "colab_type": "code",
        "colab": {}
      },
      "cell_type": "code",
      "source": [
        ""
      ],
      "execution_count": 0,
      "outputs": []
    },
    {
      "metadata": {
        "id": "iaF1AIt5Ta7G",
        "colab_type": "code",
        "colab": {}
      },
      "cell_type": "code",
      "source": [
        "LR=LogisticRegression(penalty=\"l1\",class_weight=\"balanced\")\n",
        "LR_Grid=GridSearchCV(LR,param_grid=param , cv=3, scoring='roc_auc')\n",
        "LR_avgw2v=LR_Grid.fit(xtrain_Avgw2v_LR,ytrain_Avgw2v_LR)"
      ],
      "execution_count": 0,
      "outputs": []
    },
    {
      "metadata": {
        "id": "8TStuIibTa7J",
        "colab_type": "code",
        "colab": {
          "base_uri": "https://localhost:8080/",
          "height": 102
        },
        "outputId": "97f40fef-57c3-4f7b-bc3a-5f64dd99cd1a"
      },
      "cell_type": "code",
      "source": [
        "print (LR_Grid.best_estimator_)\n",
        "LR_Grid.best_score_"
      ],
      "execution_count": 145,
      "outputs": [
        {
          "output_type": "stream",
          "text": [
            "LogisticRegression(C=0.3, class_weight='balanced', dual=False,\n",
            "          fit_intercept=True, intercept_scaling=1, max_iter=100,\n",
            "          multi_class='warn', n_jobs=None, penalty='l1', random_state=None,\n",
            "          solver='warn', tol=0.0001, verbose=0, warm_start=False)\n"
          ],
          "name": "stdout"
        },
        {
          "output_type": "execute_result",
          "data": {
            "text/plain": [
              "0.9050796079009951"
            ]
          },
          "metadata": {
            "tags": []
          },
          "execution_count": 145
        }
      ]
    },
    {
      "metadata": {
        "id": "ps2wtD1FTa7M",
        "colab_type": "code",
        "colab": {
          "base_uri": "https://localhost:8080/",
          "height": 34
        },
        "outputId": "55328974-638d-44f7-a7dd-21ee9dc48a0a"
      },
      "cell_type": "code",
      "source": [
        "#calculating the best lambda\n",
        "param_avgw2v=pd.DataFrame(LR_Grid.cv_results_).sort_values('rank_test_score')\n",
        "best_lambda_avgw2v=param_avgw2v[\"param_C\"].iloc[0]\n",
        "\n",
        "\n",
        "lambda_values_avgw2v=param_avgw2v[\"param_C\"].unique()\n",
        "\n",
        "print (\"The best lambda for avgw2v is : {0}\".format(best_lambda_avgw2v))\n"
      ],
      "execution_count": 146,
      "outputs": [
        {
          "output_type": "stream",
          "text": [
            "The best lambda for avgw2v is : 0.3\n"
          ],
          "name": "stdout"
        }
      ]
    },
    {
      "metadata": {
        "id": "uSQVvY9fTa7P",
        "colab_type": "code",
        "colab": {
          "base_uri": "https://localhost:8080/",
          "height": 298
        },
        "outputId": "1642726f-3649-4322-c103-55f7a0bdeb4d"
      },
      "cell_type": "code",
      "source": [
        "#graph for train scores of Grid search for all hyperparameters\n",
        "\n",
        "plt.figure(figsize=(8,6))\n",
        "plt.subplots_adjust(left=.2, right=0.95, bottom=0.15, top=0.65)\n",
        "\n",
        "sns.lineplot(param_avgw2v[\"param_C\"],param_avgw2v[\"mean_train_score\"],label=\"Grid_train score\")\n",
        "sns.lineplot(param_avgw2v[\"param_C\"],param_avgw2v[\"mean_test_score\"],label=\"Grid_test score\")\n",
        "\n",
        "plt.grid()\n",
        "plt.xlabel(\"lambda\")\n",
        "plt.ylabel(\"Accuracy score\")\n",
        "plt.xscale('log')\n",
        "plt.xticks(c)\n",
        "plt.title(\"Graph for auc train & test scores on AVGW2V\")\n",
        "plt.show()"
      ],
      "execution_count": 147,
      "outputs": [
        {
          "output_type": "display_data",
          "data": {
            "image/png": "[encoded data removed]",
            "text/plain": [
              "<Figure size 576x432 with 1 Axes>"
            ]
          },
          "metadata": {
            "tags": []
          }
        }
      ]
    },
    {
      "metadata": {
        "id": "jPu_h0UQTa7U",
        "colab_type": "code",
        "colab": {
          "base_uri": "https://localhost:8080/",
          "height": 295
        },
        "outputId": "c2cc6fcb-2d42-49e9-e7cc-67288e1e2a6f"
      },
      "cell_type": "code",
      "source": [
        "#fitting our model on test(unseen data) data \n",
        "LR=LogisticRegression(penalty=\"l1\",class_weight=\"balanced\")\n",
        "LR.fit(xtrain_Avgw2v_LR,ytrain_Avgw2v_LR)\n",
        "\n",
        "train_fpr_avgw2v,train_tpr_avgw2v,threshold=roc_curve(ytrain_Avgw2v_LR,LR.predict_proba(xtrain_Avgw2v_LR)[:,1])\n",
        "test_fpr_avgw2v,test_tpr_avgw2v,threshold=roc_curve(ytest_Avgw2v_LR,LR.predict_proba(xtest_Avgw2v_LR)[:,1])\n",
        "\n",
        "#plotiing the graph for auc score of both train & test \n",
        "sns.lineplot(train_fpr_avgw2v,train_tpr_avgw2v,color=\"r\",label=\"Train auc\" + str(auc(train_fpr_avgw2v,train_tpr_avgw2v) * float(100)))\n",
        "sns.lineplot(test_fpr_avgw2v,test_tpr_avgw2v,color=\"b\",label=\"Test auc\" + str(auc(test_fpr_avgw2v,test_tpr_avgw2v) * float(100)))\n",
        "plt.legend()\n",
        "plt.xlabel(\"FPR\")\n",
        "plt.ylabel(\"TPR\")\n",
        "plt.title(\"Auc graph for test data\")\n",
        "plt.show()"
      ],
      "execution_count": 148,
      "outputs": [
        {
          "output_type": "display_data",
          "data": {
            "image/png": "[encoded data removed]",
            "text/plain": [
              "<Figure size 432x288 with 1 Axes>"
            ]
          },
          "metadata": {
            "tags": []
          }
        }
      ]
    },
    {
      "metadata": {
        "id": "qwqT0r-CCxP2",
        "colab_type": "code",
        "colab": {
          "base_uri": "https://localhost:8080/",
          "height": 295
        },
        "outputId": "c8ceda1a-9e3a-4a34-c467-d64f516f2ffd"
      },
      "cell_type": "code",
      "source": [
        "#confusion matrix on test data \n",
        "confusion_avgw2v_train=confusion_matrix(ytrain_Avgw2v_LR,LR.predict(xtrain_Avgw2v_LR))\n",
        "sns.heatmap(confusion_avgw2v_train,annot=True,fmt=\"d\",cmap=\"RdYlGn\")\n",
        "plt.title(\"confusion matrix on train data\")\n",
        "plt.xlabel(\"Predicated labels\")\n",
        "plt.ylabel(\"Actual labels\")\n",
        "plt.show()"
      ],
      "execution_count": 149,
      "outputs": [
        {
          "output_type": "display_data",
          "data": {
            "image/png": "[encoded data removed]",
            "text/plain": [
              "<Figure size 432x288 with 2 Axes>"
            ]
          },
          "metadata": {
            "tags": []
          }
        }
      ]
    },
    {
      "metadata": {
        "id": "JmsAizzDTa7Y",
        "colab_type": "code",
        "colab": {
          "base_uri": "https://localhost:8080/",
          "height": 295
        },
        "outputId": "a20ed2cb-7ac2-4052-d56b-caeb6c126484"
      },
      "cell_type": "code",
      "source": [
        "#confusion matrix on test data \n",
        "confusion_avgw2v_test=confusion_matrix(ytest_Avgw2v_LR,LR.predict(xtest_Avgw2v_LR))\n",
        "sns.heatmap(confusion_avgw2v_test,annot=True,fmt=\"d\",cmap=\"RdYlGn\")\n",
        "plt.title(\"confusion matrix on test data\")\n",
        "plt.xlabel(\"Predicated labels\")\n",
        "plt.ylabel(\"Actual labels\")\n",
        "plt.show()"
      ],
      "execution_count": 150,
      "outputs": [
        {
          "output_type": "display_data",
          "data": {
            "image/png": "[encoded data removed]",
            "text/plain": [
              "<Figure size 432x288 with 2 Axes>"
            ]
          },
          "metadata": {
            "tags": []
          }
        }
      ]
    },
    {
      "metadata": {
        "id": "9jEufMiHTa7b",
        "colab_type": "text"
      },
      "cell_type": "markdown",
      "source": [
        "### [5.3.2] Applying Logistic Regression with L2 regularization on AVG W2V,<font color='red'> SET 3</font>"
      ]
    },
    {
      "metadata": {
        "id": "zWqkX6TETa7c",
        "colab_type": "code",
        "colab": {}
      },
      "cell_type": "code",
      "source": [
        "LR=LogisticRegression(penalty=\"l2\",class_weight=\"balanced\")\n",
        "LR_Grid=GridSearchCV(LR,param_grid=param , cv=3, scoring='roc_auc')\n",
        "LR_avgw2v=LR_Grid.fit(xtrain_Avgw2v_LR,ytrain_Avgw2v_LR)"
      ],
      "execution_count": 0,
      "outputs": []
    },
    {
      "metadata": {
        "id": "mSATVkryTa7f",
        "colab_type": "code",
        "colab": {
          "base_uri": "https://localhost:8080/",
          "height": 102
        },
        "outputId": "0f50d03c-69aa-4e46-bc50-eac403cf38f8"
      },
      "cell_type": "code",
      "source": [
        "print (LR_Grid.best_estimator_)\n",
        "LR_Grid.best_score_"
      ],
      "execution_count": 158,
      "outputs": [
        {
          "output_type": "stream",
          "text": [
            "LogisticRegression(C=0.1, class_weight='balanced', dual=False,\n",
            "          fit_intercept=True, intercept_scaling=1, max_iter=100,\n",
            "          multi_class='warn', n_jobs=None, penalty='l2', random_state=None,\n",
            "          solver='warn', tol=0.0001, verbose=0, warm_start=False)\n"
          ],
          "name": "stdout"
        },
        {
          "output_type": "execute_result",
          "data": {
            "text/plain": [
              "0.9050887259374575"
            ]
          },
          "metadata": {
            "tags": []
          },
          "execution_count": 158
        }
      ]
    },
    {
      "metadata": {
        "id": "rMjumbeVTa7i",
        "colab_type": "code",
        "colab": {
          "base_uri": "https://localhost:8080/",
          "height": 34
        },
        "outputId": "a22b6ced-c970-4542-ebe4-7cbcafaddc9c"
      },
      "cell_type": "code",
      "source": [
        "#calculating the best lambda\n",
        "param_avgw2v=pd.DataFrame(LR_Grid.cv_results_).sort_values('rank_test_score')\n",
        "best_lambda_avgw2v=param_avgw2v[\"param_C\"].iloc[0]\n",
        "\n",
        "\n",
        "lambda_values_avgw2v=param_avgw2v[\"param_C\"].unique()\n",
        "\n",
        "print (\"The best lambda for avgw2v is : {0}\".format(best_lambda_avgw2v))\n"
      ],
      "execution_count": 159,
      "outputs": [
        {
          "output_type": "stream",
          "text": [
            "The best lambda for avgw2v is : 0.1\n"
          ],
          "name": "stdout"
        }
      ]
    },
    {
      "metadata": {
        "id": "3P7Ba8a_Ta7m",
        "colab_type": "code",
        "colab": {
          "base_uri": "https://localhost:8080/",
          "height": 298
        },
        "outputId": "f9b5f6df-cb0e-4b8e-af18-a4bbf879c3b7"
      },
      "cell_type": "code",
      "source": [
        "#graph for train scores of Grid search for all hyperparameters\n",
        "\n",
        "plt.figure(figsize=(8,6))\n",
        "plt.subplots_adjust(left=.2, right=0.95, bottom=0.15, top=0.65)\n",
        "\n",
        "sns.lineplot(param_avgw2v[\"param_C\"],param_avgw2v[\"mean_train_score\"],label=\"Grid_train score\")\n",
        "sns.lineplot(param_avgw2v[\"param_C\"],param_avgw2v[\"mean_test_score\"],label=\"Grid_test score\")\n",
        "plt.grid()\n",
        "plt.xlabel(\"lambda\")\n",
        "plt.ylabel(\"Accuracy score\")\n",
        "plt.xscale('log')\n",
        "plt.xticks(c)\n",
        "plt.title(\"Graph for auc train& test scores on AVGW2V\")\n",
        "plt.show()"
      ],
      "execution_count": 160,
      "outputs": [
        {
          "output_type": "display_data",
          "data": {
            "image/png": "[encoded data removed]",
            "text/plain": [
              "<Figure size 576x432 with 1 Axes>"
            ]
          },
          "metadata": {
            "tags": []
          }
        }
      ]
    },
    {
      "metadata": {
        "id": "rrEvwK9fTa7q",
        "colab_type": "code",
        "colab": {
          "base_uri": "https://localhost:8080/",
          "height": 295
        },
        "outputId": "ad484e23-b0b5-4c26-fbc3-ebfe22426ebb"
      },
      "cell_type": "code",
      "source": [
        "#fitting our model on test(unseen data) data \n",
        "LR=LogisticRegression(penalty=\"l2\",class_weight=\"balanced\")\n",
        "LR.fit(xtrain_Avgw2v_LR,ytrain_Avgw2v_LR)\n",
        "\n",
        "train_fpr_avgw2v,train_tpr_avgw2v,threshold=roc_curve(ytrain_Avgw2v_LR,LR.predict_proba(xtrain_Avgw2v_LR)[:,1])\n",
        "test_fpr_avgw2v,test_tpr_avgw2v,threshold=roc_curve(ytest_Avgw2v_LR,LR.predict_proba(xtest_Avgw2v_LR)[:,1])\n",
        "\n",
        "#plotiing the graph for auc score of both train & test \n",
        "sns.lineplot(train_fpr_avgw2v,train_tpr_avgw2v,color=\"r\",label=\"Train auc\" + str(auc(train_fpr_avgw2v,train_tpr_avgw2v) * float(100)))\n",
        "sns.lineplot(test_fpr_avgw2v,test_tpr_avgw2v,color=\"b\",label=\"Test auc\" + str(auc(test_fpr_avgw2v,test_tpr_avgw2v) * float(100)))\n",
        "plt.legend()\n",
        "plt.grid()\n",
        "plt.xlabel(\"FPR\")\n",
        "plt.ylabel(\"TPR\")\n",
        "plt.title(\"Auc graph for test data\")\n",
        "plt.show()"
      ],
      "execution_count": 161,
      "outputs": [
        {
          "output_type": "display_data",
          "data": {
            "image/png": "[encoded data removed]",
            "text/plain": [
              "<Figure size 432x288 with 1 Axes>"
            ]
          },
          "metadata": {
            "tags": []
          }
        }
      ]
    },
    {
      "metadata": {
        "id": "Z_7RRmyUDA_D",
        "colab_type": "code",
        "colab": {
          "base_uri": "https://localhost:8080/",
          "height": 295
        },
        "outputId": "d17fd2cc-cba8-4a82-aaf5-b1763177cf01"
      },
      "cell_type": "code",
      "source": [
        "#confusion matrix on train data \n",
        "confusion_avgw2v_train=confusion_matrix(ytrain_Avgw2v_LR,LR.predict(xtrain_Avgw2v_LR))\n",
        "sns.heatmap(confusion_avgw2v_train,annot=True,fmt=\"d\",cmap=\"RdYlGn\")\n",
        "plt.title(\"confusion matrix on train data\")\n",
        "plt.xlabel(\"Predicated labels\")\n",
        "plt.ylabel(\"Actual labels\")\n",
        "plt.show()"
      ],
      "execution_count": 163,
      "outputs": [
        {
          "output_type": "display_data",
          "data": {
            "image/png": "[encoded data removed]",
            "text/plain": [
              "<Figure size 432x288 with 2 Axes>"
            ]
          },
          "metadata": {
            "tags": []
          }
        }
      ]
    },
    {
      "metadata": {
        "id": "X25wmE87Ta7v",
        "colab_type": "code",
        "colab": {
          "base_uri": "https://localhost:8080/",
          "height": 295
        },
        "outputId": "307478a5-1590-4675-c2e8-533d3314ac9e"
      },
      "cell_type": "code",
      "source": [
        "#confusion matrix on test data \n",
        "confusion_avgw2v_test=confusion_matrix(ytest_Avgw2v_LR,LR.predict(xtest_Avgw2v_LR))\n",
        "sns.heatmap(confusion_avgw2v_test,annot=True,fmt=\"d\",cmap=\"RdYlGn\")\n",
        "plt.title(\"confusion matrix on test data\")\n",
        "plt.xlabel(\"Predicated labels\")\n",
        "plt.ylabel(\"Actual labels\")\n",
        "plt.show()"
      ],
      "execution_count": 162,
      "outputs": [
        {
          "output_type": "display_data",
          "data": {
            "image/png": "[encoded data removed]",
            "text/plain": [
              "<Figure size 432x288 with 2 Axes>"
            ]
          },
          "metadata": {
            "tags": []
          }
        }
      ]
    },
    {
      "metadata": {
        "id": "yPK9gS65Ta7y",
        "colab_type": "code",
        "colab": {}
      },
      "cell_type": "code",
      "source": [
        ""
      ],
      "execution_count": 0,
      "outputs": []
    },
    {
      "metadata": {
        "id": "6VH4h3zfTa70",
        "colab_type": "text"
      },
      "cell_type": "markdown",
      "source": [
        "## [5.4] Logistic Regression on TFIDF W2V,<font color='red'> SET 4</font>"
      ]
    },
    {
      "metadata": {
        "id": "Ii2k1e66Ta71",
        "colab_type": "text"
      },
      "cell_type": "markdown",
      "source": [
        "### [5.4.1] Applying Logistic Regression with L1 regularization on TFIDF W2V,<font color='red'> SET 4</font>"
      ]
    },
    {
      "metadata": {
        "id": "brGK_cf5Ta74",
        "colab_type": "code",
        "colab": {}
      },
      "cell_type": "code",
      "source": [
        "# TF-IDF weighted Word2Vec on test \n",
        "tfidf_feat = model.get_feature_names() \n",
        "xtest_tfidfw2v_LR = []; \n",
        "row=0;\n",
        "\n",
        "for sent in list_of_sentance_test: \n",
        "    sent_vec = np.zeros(50) \n",
        "    weight_sum =0; \n",
        "    for word in sent: \n",
        "        if word in w2v_words and word in tfidf_feat:\n",
        "            vec = w2v_model.wv[word]\n",
        "            tf_idf = dictionary[word]*(sent.count(word)/len(sent))\n",
        "            sent_vec += (vec * tf_idf)\n",
        "            weight_sum += tf_idf\n",
        "    if weight_sum != 0:\n",
        "        sent_vec /= weight_sum\n",
        "    xtest_tfidfw2v_LR.append(sent_vec)\n",
        "    row += 1"
      ],
      "execution_count": 0,
      "outputs": []
    },
    {
      "metadata": {
        "id": "eTBe9uRWjVHC",
        "colab_type": "code",
        "colab": {
          "base_uri": "https://localhost:8080/",
          "height": 85
        },
        "outputId": "ff8074ef-8a8b-433c-e059-6efe599a6189"
      },
      "cell_type": "code",
      "source": [
        "#check the size of our all data set\n",
        "\n",
        "print (len(xtrain_tfidfw2v_LR))\n",
        "print (len(xtest_tfidfw2v_LR))\n",
        "ytest_tfidfw2v_LR=ytest\n",
        "print (len(ytest_tfidfw2v_LR))\n",
        "ytrain_tfidfw2v_LR=ytrain\n",
        "print (ytrain_tfidfw2v_LR.shape)"
      ],
      "execution_count": 180,
      "outputs": [
        {
          "output_type": "stream",
          "text": [
            "61441\n",
            "26332\n",
            "26332\n",
            "(61441,)\n"
          ],
          "name": "stdout"
        }
      ]
    },
    {
      "metadata": {
        "id": "303sVNz1Ta76",
        "colab_type": "code",
        "colab": {}
      },
      "cell_type": "code",
      "source": [
        "LR=LogisticRegression(penalty=\"l2\",class_weight=\"balanced\")\n",
        "LR_Grid=GridSearchCV(LR,param_grid=param , cv=3, scoring='roc_auc')\n",
        "LR_avgw2v=LR_Grid.fit(xtrain_tfidfw2v_LR,ytrain_tfidfw2v_LR)"
      ],
      "execution_count": 0,
      "outputs": []
    },
    {
      "metadata": {
        "id": "DC0o1wDMTa78",
        "colab_type": "code",
        "colab": {
          "base_uri": "https://localhost:8080/",
          "height": 102
        },
        "outputId": "67759436-b532-49a7-b212-9ef65f773e7c"
      },
      "cell_type": "code",
      "source": [
        "print (LR_Grid.best_estimator_)\n",
        "LR_Grid.best_score_"
      ],
      "execution_count": 182,
      "outputs": [
        {
          "output_type": "stream",
          "text": [
            "LogisticRegression(C=0.1, class_weight='balanced', dual=False,\n",
            "          fit_intercept=True, intercept_scaling=1, max_iter=100,\n",
            "          multi_class='warn', n_jobs=None, penalty='l2', random_state=None,\n",
            "          solver='warn', tol=0.0001, verbose=0, warm_start=False)\n"
          ],
          "name": "stdout"
        },
        {
          "output_type": "execute_result",
          "data": {
            "text/plain": [
              "0.8819833028959781"
            ]
          },
          "metadata": {
            "tags": []
          },
          "execution_count": 182
        }
      ]
    },
    {
      "metadata": {
        "id": "zHgFZ9PoTa8B",
        "colab_type": "code",
        "colab": {
          "base_uri": "https://localhost:8080/",
          "height": 34
        },
        "outputId": "f93d0e7e-5685-42d6-f35f-cc0c00306e7b"
      },
      "cell_type": "code",
      "source": [
        "#calculating the best lambda\n",
        "param_tfidfw2v=pd.DataFrame(LR_Grid.cv_results_).sort_values('rank_test_score')\n",
        "best_lambda_tfidfw2v=param_tfidfw2v[\"param_C\"].iloc[0]\n",
        "\n",
        "\n",
        "lambda_values_tfidfw2v=param_tfidfw2v[\"param_C\"].unique()\n",
        "\n",
        "print (\"The best lambda for avgw2v is : {0}\".format(best_lambda_tfidfw2v))\n"
      ],
      "execution_count": 183,
      "outputs": [
        {
          "output_type": "stream",
          "text": [
            "The best lambda for avgw2v is : 0.1\n"
          ],
          "name": "stdout"
        }
      ]
    },
    {
      "metadata": {
        "id": "OdSGNHf1Ta8D",
        "colab_type": "code",
        "colab": {
          "base_uri": "https://localhost:8080/",
          "height": 298
        },
        "outputId": "5b6e5722-de0e-4d11-f287-8bb2ee266513"
      },
      "cell_type": "code",
      "source": [
        "#graph for train scores of Grid search for all hyperparameters\n",
        "\n",
        "plt.figure(figsize=(8,6))\n",
        "plt.subplots_adjust(left=.2, right=0.95, bottom=0.15, top=0.65)\n",
        "\n",
        "sns.lineplot(param_tfidfw2v[\"param_C\"],param_tfidfw2v[\"mean_train_score\"],label=\"Grid_train score\")\n",
        "sns.lineplot(param_tfidfw2v[\"param_C\"],param_tfidfw2v[\"mean_test_score\"],label=\"Grid_test score\")\n",
        "plt.grid()\n",
        "plt.xlabel(\"lambda\")\n",
        "plt.ylabel(\"Accuracy score\")\n",
        "plt.xscale('log')\n",
        "plt.xticks(c)\n",
        "plt.title(\"Graph for auc train & test scores on tfidfw2v\")\n",
        "plt.show()"
      ],
      "execution_count": 184,
      "outputs": [
        {
          "output_type": "display_data",
          "data": {
            "image/png": "[encoded data removed]",
            "text/plain": [
              "<Figure size 576x432 with 1 Axes>"
            ]
          },
          "metadata": {
            "tags": []
          }
        }
      ]
    },
    {
      "metadata": {
        "id": "cNcx6rU2Ta8L",
        "colab_type": "code",
        "colab": {
          "base_uri": "https://localhost:8080/",
          "height": 295
        },
        "outputId": "ca091edf-c4a4-4e52-ae24-28a6b73e473d"
      },
      "cell_type": "code",
      "source": [
        "#fitting our model on test(unseen data) data \n",
        "LR=LogisticRegression(penalty=\"l1\",C=best_lambda_tfidfw2v,class_weight=\"balanced\")\n",
        "LR.fit(xtrain_tfidfw2v_LR,ytrain_tfidfw2v_LR)\n",
        "\n",
        "train_fpr_tfidfw2v,train_tpr_tfidfw2v,threshold=roc_curve(ytrain_tfidfw2v_LR,LR.predict_proba(xtrain_tfidfw2v_LR)[:,1])\n",
        "test_fpr_tfidfw2v,test_tpr_tfidfw2v,threshold=roc_curve(ytest_tfidfw2v_LR,LR.predict_proba(xtest_tfidfw2v_LR)[:,1])\n",
        "\n",
        "#plotiing the graph for auc score of both train & test \n",
        "sns.lineplot(train_fpr_tfidfw2v,train_tpr_tfidfw2v,color=\"r\",label=\"Train auc\" + str(auc(train_fpr_tfidfw2v,train_tpr_tfidfw2v) * float(100)))\n",
        "sns.lineplot(test_fpr_tfidfw2v,test_tpr_tfidfw2v,color=\"b\",label=\"Test auc\" + str(auc(test_fpr_tfidfw2v,test_tpr_tfidfw2v) * float(100)))\n",
        "plt.legend()\n",
        "plt.grid()\n",
        "plt.xlabel(\"FPR\")\n",
        "plt.ylabel(\"TPR\")\n",
        "plt.title(\"Auc graph for test data\")\n",
        "plt.show()"
      ],
      "execution_count": 185,
      "outputs": [
        {
          "output_type": "display_data",
          "data": {
            "image/png": "[encoded data removed]",
            "text/plain": [
              "<Figure size 432x288 with 1 Axes>"
            ]
          },
          "metadata": {
            "tags": []
          }
        }
      ]
    },
    {
      "metadata": {
        "id": "wcGU2qLiDbT6",
        "colab_type": "code",
        "colab": {
          "base_uri": "https://localhost:8080/",
          "height": 295
        },
        "outputId": "29ab2bf4-30c1-4383-bd12-003aed4f380e"
      },
      "cell_type": "code",
      "source": [
        "#confusion matrix on train data \n",
        "confusion_tfidfw2v_train=confusion_matrix(ytrain_tfidfw2v_LR,LR.predict(xtrain_tfidfw2v_LR))\n",
        "sns.heatmap(confusion_tfidfw2v_train,annot=True,fmt=\"d\",cmap='hot')\n",
        "plt.title(\"confusion matrix on train data\")\n",
        "plt.xlabel(\"Predicated labels\")\n",
        "plt.ylabel(\"Actual labels\")\n",
        "plt.show()"
      ],
      "execution_count": 186,
      "outputs": [
        {
          "output_type": "display_data",
          "data": {
            "image/png": "[encoded data removed]",
            "text/plain": [
              "<Figure size 432x288 with 2 Axes>"
            ]
          },
          "metadata": {
            "tags": []
          }
        }
      ]
    },
    {
      "metadata": {
        "id": "eLoj9IY8Ta8N",
        "colab_type": "code",
        "colab": {
          "base_uri": "https://localhost:8080/",
          "height": 295
        },
        "outputId": "540ece9b-c1af-4f3c-e2f3-de0d4901f436"
      },
      "cell_type": "code",
      "source": [
        "#confusion matrix on test data \n",
        "confusion_tfidfw2v_test=confusion_matrix(ytest_tfidfw2v_LR,LR.predict(xtest_tfidfw2v_LR))\n",
        "sns.heatmap(confusion_tfidfw2v_test,annot=True,fmt=\"d\",cmap='hot')\n",
        "plt.title(\"confusion matrix on test data\")\n",
        "plt.xlabel(\"Predicated labels\")\n",
        "plt.ylabel(\"Actual labels\")\n",
        "plt.show()"
      ],
      "execution_count": 187,
      "outputs": [
        {
          "output_type": "display_data",
          "data": {
            "image/png": "[encoded data removed]",
            "text/plain": [
              "<Figure size 432x288 with 2 Axes>"
            ]
          },
          "metadata": {
            "tags": []
          }
        }
      ]
    },
    {
      "metadata": {
        "id": "JnqWRhO8Ta8P",
        "colab_type": "text"
      },
      "cell_type": "markdown",
      "source": [
        "### [5.4.2] Applying Logistic Regression with L2 regularization on TFIDF W2V,<font color='red'> SET 4</font>"
      ]
    },
    {
      "metadata": {
        "id": "ZW80odDXTa8Q",
        "colab_type": "code",
        "colab": {}
      },
      "cell_type": "code",
      "source": [
        "LR=LogisticRegression(penalty=\"l2\",class_weight=\"balanced\")\n",
        "LR_Grid=GridSearchCV(LR,param_grid=param , cv=3, scoring='roc_auc')\n",
        "LR_avgw2v=LR_Grid.fit(xtrain_avgw2v_LR,ytrain_avgw2v_LR)"
      ],
      "execution_count": 0,
      "outputs": []
    },
    {
      "metadata": {
        "id": "6rYzOwxfTa8S",
        "colab_type": "code",
        "colab": {
          "base_uri": "https://localhost:8080/",
          "height": 102
        },
        "outputId": "6be228b3-920f-4738-f323-b73b308e3f0d"
      },
      "cell_type": "code",
      "source": [
        "print (LR_Grid.best_estimator_)\n",
        "LR_Grid.best_score_"
      ],
      "execution_count": 189,
      "outputs": [
        {
          "output_type": "stream",
          "text": [
            "LogisticRegression(C=0.1, class_weight='balanced', dual=False,\n",
            "          fit_intercept=True, intercept_scaling=1, max_iter=100,\n",
            "          multi_class='warn', n_jobs=None, penalty='l2', random_state=None,\n",
            "          solver='warn', tol=0.0001, verbose=0, warm_start=False)\n"
          ],
          "name": "stdout"
        },
        {
          "output_type": "execute_result",
          "data": {
            "text/plain": [
              "0.9050887259374575"
            ]
          },
          "metadata": {
            "tags": []
          },
          "execution_count": 189
        }
      ]
    },
    {
      "metadata": {
        "id": "mg6_ntH5Ta8V",
        "colab_type": "code",
        "colab": {
          "base_uri": "https://localhost:8080/",
          "height": 34
        },
        "outputId": "d5df496e-c508-4cf3-86bb-3512c8e44b53"
      },
      "cell_type": "code",
      "source": [
        "#calculating the best lambda\n",
        "param_tfidfw2v=pd.DataFrame(LR_Grid.cv_results_).sort_values('rank_test_score')\n",
        "best_lambda_tfidfw2v=param_tfidfw2v[\"param_C\"].iloc[0]\n",
        "\n",
        "\n",
        "lambda_values_tfidfw2v=param_tfidfw2v[\"param_C\"].unique()\n",
        "\n",
        "print (\"The best lambda for tfidfw2v is : {0}\".format(best_lambda_tfidfw2v))\n"
      ],
      "execution_count": 190,
      "outputs": [
        {
          "output_type": "stream",
          "text": [
            "The best lambda for tfidfw2v is : 0.1\n"
          ],
          "name": "stdout"
        }
      ]
    },
    {
      "metadata": {
        "id": "yRlaDAH-Ta8X",
        "colab_type": "code",
        "colab": {
          "base_uri": "https://localhost:8080/",
          "height": 298
        },
        "outputId": "4f77ec84-b48c-42a7-8f8b-43bb6646ca31"
      },
      "cell_type": "code",
      "source": [
        "#graph for train scores of Grid search for all hyperparameters\n",
        "\n",
        "plt.figure(figsize=(8,6))\n",
        "plt.subplots_adjust(left=.2, right=0.95, bottom=0.15, top=0.65)\n",
        "\n",
        "sns.lineplot(param_tfidfw2v[\"param_C\"],param_tfidfw2v[\"mean_train_score\"],label=\"Grid_train score\")\n",
        "sns.lineplot(param_tfidfw2v[\"param_C\"],param_tfidfw2v[\"mean_test_score\"],label=\"Grid_test score\")\n",
        "plt.grid()\n",
        "plt.xlabel(\"lambda\")\n",
        "plt.ylabel(\"Accuracy score\")\n",
        "plt.xscale('log')\n",
        "plt.xticks(c)\n",
        "plt.title(\"Graph for auc train & test scores on tfidfw2v\")\n",
        "plt.show()"
      ],
      "execution_count": 191,
      "outputs": [
        {
          "output_type": "display_data",
          "data": {
            "image/png": "[encoded data removed]",
            "text/plain": [
              "<Figure size 576x432 with 1 Axes>"
            ]
          },
          "metadata": {
            "tags": []
          }
        }
      ]
    },
    {
      "metadata": {
        "id": "gXM60h4pTa8b",
        "colab_type": "code",
        "colab": {
          "base_uri": "https://localhost:8080/",
          "height": 295
        },
        "outputId": "36826caf-a806-4f7c-be49-8a873831b9d1"
      },
      "cell_type": "code",
      "source": [
        "#fitting our model on test(unseen data) data \n",
        "LR=LogisticRegression(penalty=\"l2\",C=best_lambda_tfidfw2v,class_weight=\"balanced\")\n",
        "LR.fit(xtrain_tfidfw2v_LR,ytrain_tfidfw2v_LR)\n",
        "\n",
        "train_fpr_tfidfw2v,train_tpr_tfidfw2v,threshold=roc_curve(ytrain_tfidfw2v_LR,LR.predict_proba(xtrain_tfidfw2v_LR)[:,1])\n",
        "test_fpr_tfidfw2v,test_tpr_tfidfw2v,threshold=roc_curve(ytest_tfidfw2v_LR,LR.predict_proba(xtest_tfidfw2v_LR)[:,1])\n",
        "\n",
        "#plotiing the graph for auc score of both train & test \n",
        "sns.lineplot(train_fpr_tfidfw2v,train_tpr_tfidfw2v,color=\"r\",label=\"Train auc\" + str(auc(train_fpr_tfidfw2v,train_tpr_tfidfw2v) * float(100)))\n",
        "sns.lineplot(test_fpr_tfidfw2v,test_tpr_tfidfw2v,color=\"b\",label=\"Test auc\" + str(auc(test_fpr_tfidfw2v,test_tpr_tfidfw2v) * float(100)))\n",
        "plt.legend()\n",
        "plt.grid()\n",
        "plt.xlabel(\"FPR\")\n",
        "plt.ylabel(\"TPR\")\n",
        "plt.title(\"Auc graph for test data\")\n",
        "plt.show()"
      ],
      "execution_count": 192,
      "outputs": [
        {
          "output_type": "display_data",
          "data": {
            "image/png": "[encoded data removed]",
            "text/plain": [
              "<Figure size 432x288 with 1 Axes>"
            ]
          },
          "metadata": {
            "tags": []
          }
        }
      ]
    },
    {
      "metadata": {
        "id": "yfV6Yji-EDsS",
        "colab_type": "code",
        "colab": {
          "base_uri": "https://localhost:8080/",
          "height": 295
        },
        "outputId": "0e1bbdfe-d8ae-4058-de2f-e4accd55ee3a"
      },
      "cell_type": "code",
      "source": [
        "#confusion matrix on train data \n",
        "confusion_tfidfw2v_train=confusion_matrix(ytrain_tfidfw2v_LR,LR.predict(xtrain_tfidfw2v_LR))\n",
        "sns.heatmap(confusion_tfidfw2v_train,annot=True,fmt=\"d\",cmap='hot')\n",
        "plt.title(\"confusion matrix on train data\")\n",
        "plt.xlabel(\"Predicated labels\")\n",
        "plt.ylabel(\"Actual labels\")\n",
        "plt.show()"
      ],
      "execution_count": 193,
      "outputs": [
        {
          "output_type": "display_data",
          "data": {
            "image/png": "[encoded data removed]",
            "text/plain": [
              "<Figure size 432x288 with 2 Axes>"
            ]
          },
          "metadata": {
            "tags": []
          }
        }
      ]
    },
    {
      "metadata": {
        "id": "5OWwM3xuTa8d",
        "colab_type": "code",
        "colab": {
          "base_uri": "https://localhost:8080/",
          "height": 295
        },
        "outputId": "f624218f-7803-4e72-de19-609b7371298e"
      },
      "cell_type": "code",
      "source": [
        "#confusion matrix on test data \n",
        "confusion_tfidfw2v_test=confusion_matrix(ytest_tfidfw2v_LR,LR.predict(xtest_tfidfw2v_LR))\n",
        "sns.heatmap(confusion_tfidfw2v_test,annot=True,fmt=\"d\",cmap='hot')\n",
        "plt.title(\"confusion matrix on test data\")\n",
        "plt.xlabel(\"Predicated labels\")\n",
        "plt.ylabel(\"Actual labels\")\n",
        "plt.show()"
      ],
      "execution_count": 194,
      "outputs": [
        {
          "output_type": "display_data",
          "data": {
            "image/png": "[encoded data removed]",
            "text/plain": [
              "<Figure size 432x288 with 2 Axes>"
            ]
          },
          "metadata": {
            "tags": []
          }
        }
      ]
    },
    {
      "metadata": {
        "id": "W0GBzo9gTa8f",
        "colab_type": "text"
      },
      "cell_type": "markdown",
      "source": [
        "# [6] Conclusions"
      ]
    },
    {
      "metadata": {
        "id": "9_kl79SMTa8f",
        "colab_type": "code",
        "colab": {
          "base_uri": "https://localhost:8080/",
          "height": 153
        },
        "outputId": "5502c4f5-6506-457c-fa8e-8f986c3be30d"
      },
      "cell_type": "code",
      "source": [
        "#conclusions\n",
        "conculsion=PrettyTable()\n",
        "conculsion.field_names=[\"Model\",\"best lambda\",\"Test_Auc\"]\n",
        "conculsion.add_row([\"Bow\",best_lambda_bow,auc(test_fpr_bow,test_tpr_bow) * float(100)])\n",
        "conculsion.add_row([\"Tfidf\",best_lambda_tfidf,auc(test_fpr_tfidf,test_tpr_tfidf) * float(100)])\n",
        "conculsion.add_row([\"Avgw2v\",best_lambda_avgw2v,auc(test_fpr_avgw2v,test_tpr_avgw2v) * float(100)])\n",
        "conculsion.add_row([\"Tfidf-W2v\",best_lambda_tfidfw2v,auc(test_fpr_tfidfw2v,test_tpr_tfidfw2v) * float(100)])\n",
        "print (conculsion)"
      ],
      "execution_count": 195,
      "outputs": [
        {
          "output_type": "stream",
          "text": [
            "+-----------+-------------+-------------------+\n",
            "|   Model   | best lambda |      Test_Auc     |\n",
            "+-----------+-------------+-------------------+\n",
            "|    Bow    |    0.0001   |        50.0       |\n",
            "|   Tfidf   |      3      | 96.47476996629894 |\n",
            "|   Avgw2v  |     0.1     | 90.44959868396928 |\n",
            "| Tfidf-W2v |     0.1     | 55.50859228769811 |\n",
            "+-----------+-------------+-------------------+\n"
          ],
          "name": "stdout"
        }
      ]
    },
    {
      "metadata": {
        "id": "nP5Gfq67EUTd",
        "colab_type": "code",
        "colab": {}
      },
      "cell_type": "code",
      "source": [
        ""
      ],
      "execution_count": 0,
      "outputs": []
    },
    {
      "metadata": {
        "id": "A-vhFztuIiOZ",
        "colab_type": "code",
        "colab": {}
      },
      "cell_type": "code",
      "source": [
        ""
      ],
      "execution_count": 0,
      "outputs": []
    }
  ]
}
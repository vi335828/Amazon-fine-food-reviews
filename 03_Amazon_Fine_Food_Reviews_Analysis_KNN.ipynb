{
  "nbformat": 4,
  "nbformat_minor": 0,
  "metadata": {
    "colab": {
      "name": "03_Amazon_Fine_Food_Reviews_Analysis_KNN.ipynb",
      "version": "0.3.2",
      "provenance": [],
      "collapsed_sections": []
    },
    "language_info": {
      "codemirror_mode": {
        "name": "ipython",
        "version": 3
      },
      "file_extension": ".py",
      "mimetype": "text/x-python",
      "name": "python",
      "nbconvert_exporter": "python",
      "pygments_lexer": "ipython3",
      "version": "3.7.1"
    },
    "kernelspec": {
      "display_name": "Python 3",
      "language": "python",
      "name": "python3"
    }
  },
  "cells": [
    {
      "metadata": {
        "colab_type": "text",
        "id": "m1hjGMm7dyjk"
      },
      "cell_type": "markdown",
      "source": [
        "# Amazon Fine Food Reviews Analysis\n",
        "\n",
        "\n",
        "Data Source: https://www.kaggle.com/snap/amazon-fine-food-reviews <br>\n",
        "\n",
        "EDA: https://nycdatascience.com/blog/student-works/amazon-fine-foods-visualization/\n",
        "\n",
        "\n",
        "The Amazon Fine Food Reviews dataset consists of reviews of fine foods from Amazon.<br>\n",
        "\n",
        "Number of reviews: 568,454<br>\n",
        "Number of users: 256,059<br>\n",
        "Number of products: 74,258<br>\n",
        "Timespan: Oct 1999 - Oct 2012<br>\n",
        "Number of Attributes/Columns in data: 10 \n",
        "\n",
        "Attribute Information:\n",
        "\n",
        "1. Id\n",
        "2. ProductId - unique identifier for the product\n",
        "3. UserId - unqiue identifier for the user\n",
        "4. ProfileName\n",
        "5. HelpfulnessNumerator - number of users who found the review helpful\n",
        "6. HelpfulnessDenominator - number of users who indicated whether they found the review helpful or not\n",
        "7. Score - rating between 1 and 5\n",
        "8. Time - timestamp for the review\n",
        "9. Summary - brief summary of the review\n",
        "10. Text - text of the review\n",
        "\n",
        "\n",
        "#### Objective:\n",
        "Given a review, determine whether the review is positive (rating of 4 or 5) or negative (rating of 1 or 2).\n",
        "\n",
        "<br>\n",
        "[Q] How to determine if a review is positive or negative?<br>\n",
        "<br> \n",
        "[Ans] We could use Score/Rating. A rating of 4 or 5 can be cosnidered as a positive review. A rating of 1 or 2 can be considered as negative one. A review of rating 3 is considered nuetral and such reviews are ignored from our analysis. This is an approximate and proxy way of determining the polarity (positivity/negativity) of a review.\n",
        "\n",
        "\n"
      ]
    },
    {
      "metadata": {
        "colab_type": "text",
        "id": "__ZP9emedyjm"
      },
      "cell_type": "markdown",
      "source": [
        "# [1]. Reading Data"
      ]
    },
    {
      "metadata": {
        "colab_type": "text",
        "id": "mho9bAAVdyjo"
      },
      "cell_type": "markdown",
      "source": [
        "## [1.1] Loading the data\n",
        "\n",
        "The dataset is available in two forms\n",
        "1. .csv file\n",
        "2. SQLite Database\n",
        "\n",
        "In order to load the data, We have used the SQLITE dataset as it is easier to query the data and visualise the data efficiently.\n",
        "<br> \n",
        "\n",
        "Here as we only want to get the global sentiment of the recommendations (positive or negative), we will purposefully ignore all Scores equal to 3. If the score is above 3, then the recommendation wil be set to \"positive\". Otherwise, it will be set to \"negative\"."
      ]
    },
    {
      "metadata": {
        "colab_type": "code",
        "id": "VCQD-XPMdyjp",
        "outputId": "52bfc8dd-131c-4782-fc61-ef735a8fd18a",
        "colab": {
          "base_uri": "https://localhost:8080/",
          "height": 34
        }
      },
      "cell_type": "code",
      "source": [
        "%matplotlib inline\n",
        "import warnings\n",
        "warnings.filterwarnings(\"ignore\")\n",
        "\n",
        "\n",
        "import sqlite3\n",
        "import pandas as pd\n",
        "import numpy as np\n",
        "import nltk\n",
        "import string\n",
        "import matplotlib.pyplot as plt\n",
        "import seaborn as sns\n",
        "from sklearn.feature_extraction.text import TfidfTransformer\n",
        "from sklearn.feature_extraction.text import TfidfVectorizer\n",
        "\n",
        "from sklearn.feature_extraction.text import CountVectorizer\n",
        "from sklearn.metrics import confusion_matrix\n",
        "from sklearn import metrics\n",
        "from sklearn.metrics import roc_curve, auc\n",
        "from nltk.stem.porter import PorterStemmer\n",
        "\n",
        "import re\n",
        "# Tutorial about Python regular expressions: https://pymotw.com/2/re/\n",
        "import string\n",
        "from nltk.corpus import stopwords\n",
        "from nltk.stem import PorterStemmer\n",
        "from nltk.stem.wordnet import WordNetLemmatizer\n",
        "\n",
        "from gensim.models import Word2Vec\n",
        "from gensim.models import KeyedVectors\n",
        "import pickle\n",
        "\n",
        "from tqdm import tqdm\n",
        "import os\n",
        "from sklearn.model_selection import train_test_split\n",
        "from sklearn.neighbors import KNeighborsClassifier\n",
        "from sklearn.model_selection import  GridSearchCV\n",
        "from prettytable import PrettyTable"
      ],
      "execution_count": 1,
      "outputs": [
        {
          "output_type": "stream",
          "text": [
            "paramiko missing, opening SSH/SCP/SFTP paths will be disabled.  `pip install paramiko` to suppress\n"
          ],
          "name": "stderr"
        }
      ]
    },
    {
      "metadata": {
        "colab_type": "code",
        "id": "dmz-8sZvdyjv",
        "outputId": "1b3d9902-a909-4096-8d22-bc15d2ef8a88",
        "colab": {
          "base_uri": "https://localhost:8080/",
          "height": 244
        }
      },
      "cell_type": "code",
      "source": [
        "# using SQLite Table to read data.\n",
        "con = sqlite3.connect('database.sqlite') \n",
        "\n",
        "# filtering only positive and negative reviews i.e. \n",
        "# not taking into consideration those reviews with Score=3\n",
        "# SELECT * FROM Reviews WHERE Score != 3 LIMIT 500000, will give top 500000 data points\n",
        "# you can change the number to any other number based on your computing power\n",
        "\n",
        "# filtered_data = pd.read_sql_query(\"\"\" SELECT * FROM Reviews WHERE Score != 3 LIMIT 500000\"\"\", con) \n",
        "# for tsne assignment you can take 5k data points\n",
        "\n",
        "#limiting my datasize to 100000 data points because of low ram size of my PC\n",
        "filtered_data = pd.read_sql_query(\"\"\" SELECT * FROM Reviews WHERE Score != 3 LIMIT 100000\"\"\", con) \n",
        "\n",
        "# Give reviews with Score>3 a positive rating(1), and reviews with a score<3 a negative rating(0).\n",
        "def partition(x):\n",
        "    if x < 3:\n",
        "        return 0\n",
        "    return 1\n",
        "\n",
        "#changing reviews with score less than 3 to be positive and vice-versa\n",
        "actualScore = filtered_data['Score']\n",
        "positiveNegative = actualScore.map(partition) \n",
        "filtered_data['Score'] = positiveNegative\n",
        "print(\"Number of data points in our data\", filtered_data.shape)\n",
        "filtered_data.head(3)"
      ],
      "execution_count": 2,
      "outputs": [
        {
          "output_type": "stream",
          "text": [
            "Number of data points in our data (100000, 10)\n"
          ],
          "name": "stdout"
        },
        {
          "output_type": "execute_result",
          "data": {
            "text/html": [
              "<div>\n",
              "<style scoped>\n",
              "    .dataframe tbody tr th:only-of-type {\n",
              "        vertical-align: middle;\n",
              "    }\n",
              "\n",
              "    .dataframe tbody tr th {\n",
              "        vertical-align: top;\n",
              "    }\n",
              "\n",
              "    .dataframe thead th {\n",
              "        text-align: right;\n",
              "    }\n",
              "</style>\n",
              "<table border=\"1\" class=\"dataframe\">\n",
              "  <thead>\n",
              "    <tr style=\"text-align: right;\">\n",
              "      <th></th>\n",
              "      <th>Id</th>\n",
              "      <th>ProductId</th>\n",
              "      <th>UserId</th>\n",
              "      <th>ProfileName</th>\n",
              "      <th>HelpfulnessNumerator</th>\n",
              "      <th>HelpfulnessDenominator</th>\n",
              "      <th>Score</th>\n",
              "      <th>Time</th>\n",
              "      <th>Summary</th>\n",
              "      <th>Text</th>\n",
              "    </tr>\n",
              "  </thead>\n",
              "  <tbody>\n",
              "    <tr>\n",
              "      <th>0</th>\n",
              "      <td>1</td>\n",
              "      <td>B001E4KFG0</td>\n",
              "      <td>A3SGXH7AUHU8GW</td>\n",
              "      <td>delmartian</td>\n",
              "      <td>1</td>\n",
              "      <td>1</td>\n",
              "      <td>1</td>\n",
              "      <td>1303862400</td>\n",
              "      <td>Good Quality Dog Food</td>\n",
              "      <td>I have bought several of the Vitality canned d...</td>\n",
              "    </tr>\n",
              "    <tr>\n",
              "      <th>1</th>\n",
              "      <td>2</td>\n",
              "      <td>B00813GRG4</td>\n",
              "      <td>A1D87F6ZCVE5NK</td>\n",
              "      <td>dll pa</td>\n",
              "      <td>0</td>\n",
              "      <td>0</td>\n",
              "      <td>0</td>\n",
              "      <td>1346976000</td>\n",
              "      <td>Not as Advertised</td>\n",
              "      <td>Product arrived labeled as Jumbo Salted Peanut...</td>\n",
              "    </tr>\n",
              "    <tr>\n",
              "      <th>2</th>\n",
              "      <td>3</td>\n",
              "      <td>B000LQOCH0</td>\n",
              "      <td>ABXLMWJIXXAIN</td>\n",
              "      <td>Natalia Corres \"Natalia Corres\"</td>\n",
              "      <td>1</td>\n",
              "      <td>1</td>\n",
              "      <td>1</td>\n",
              "      <td>1219017600</td>\n",
              "      <td>\"Delight\" says it all</td>\n",
              "      <td>This is a confection that has been around a fe...</td>\n",
              "    </tr>\n",
              "  </tbody>\n",
              "</table>\n",
              "</div>"
            ],
            "text/plain": [
              "   Id   ProductId          UserId                      ProfileName  \\\n",
              "0   1  B001E4KFG0  A3SGXH7AUHU8GW                       delmartian   \n",
              "1   2  B00813GRG4  A1D87F6ZCVE5NK                           dll pa   \n",
              "2   3  B000LQOCH0   ABXLMWJIXXAIN  Natalia Corres \"Natalia Corres\"   \n",
              "\n",
              "   HelpfulnessNumerator  HelpfulnessDenominator  Score        Time  \\\n",
              "0                     1                       1      1  1303862400   \n",
              "1                     0                       0      0  1346976000   \n",
              "2                     1                       1      1  1219017600   \n",
              "\n",
              "                 Summary                                               Text  \n",
              "0  Good Quality Dog Food  I have bought several of the Vitality canned d...  \n",
              "1      Not as Advertised  Product arrived labeled as Jumbo Salted Peanut...  \n",
              "2  \"Delight\" says it all  This is a confection that has been around a fe...  "
            ]
          },
          "metadata": {
            "tags": []
          },
          "execution_count": 2
        }
      ]
    },
    {
      "metadata": {
        "colab_type": "code",
        "id": "oLUBSH8Jd2h7",
        "colab": {}
      },
      "cell_type": "code",
      "source": [
        ""
      ],
      "execution_count": 0,
      "outputs": []
    },
    {
      "metadata": {
        "colab_type": "code",
        "id": "czBJ1vp5dyj5",
        "colab": {}
      },
      "cell_type": "code",
      "source": [
        "display = pd.read_sql_query(\"\"\"\n",
        "SELECT UserId, ProductId, ProfileName, Time, Score, Text, COUNT(*)\n",
        "FROM Reviews\n",
        "GROUP BY UserId\n",
        "HAVING COUNT(*)>1\n",
        "\"\"\", con)"
      ],
      "execution_count": 0,
      "outputs": []
    },
    {
      "metadata": {
        "colab_type": "code",
        "id": "nixojkEidyj9",
        "outputId": "c98f7345-934b-457a-9ec3-99a805eed696",
        "scrolled": true,
        "colab": {
          "base_uri": "https://localhost:8080/",
          "height": 221
        }
      },
      "cell_type": "code",
      "source": [
        "print(display.shape)\n",
        "display.head()"
      ],
      "execution_count": 4,
      "outputs": [
        {
          "output_type": "stream",
          "text": [
            "(80668, 7)\n"
          ],
          "name": "stdout"
        },
        {
          "output_type": "execute_result",
          "data": {
            "text/html": [
              "<div>\n",
              "<style scoped>\n",
              "    .dataframe tbody tr th:only-of-type {\n",
              "        vertical-align: middle;\n",
              "    }\n",
              "\n",
              "    .dataframe tbody tr th {\n",
              "        vertical-align: top;\n",
              "    }\n",
              "\n",
              "    .dataframe thead th {\n",
              "        text-align: right;\n",
              "    }\n",
              "</style>\n",
              "<table border=\"1\" class=\"dataframe\">\n",
              "  <thead>\n",
              "    <tr style=\"text-align: right;\">\n",
              "      <th></th>\n",
              "      <th>UserId</th>\n",
              "      <th>ProductId</th>\n",
              "      <th>ProfileName</th>\n",
              "      <th>Time</th>\n",
              "      <th>Score</th>\n",
              "      <th>Text</th>\n",
              "      <th>COUNT(*)</th>\n",
              "    </tr>\n",
              "  </thead>\n",
              "  <tbody>\n",
              "    <tr>\n",
              "      <th>0</th>\n",
              "      <td>#oc-R115TNMSPFT9I7</td>\n",
              "      <td>B007Y59HVM</td>\n",
              "      <td>Breyton</td>\n",
              "      <td>1331510400</td>\n",
              "      <td>2</td>\n",
              "      <td>Overall its just OK when considering the price...</td>\n",
              "      <td>2</td>\n",
              "    </tr>\n",
              "    <tr>\n",
              "      <th>1</th>\n",
              "      <td>#oc-R11D9D7SHXIJB9</td>\n",
              "      <td>B005HG9ET0</td>\n",
              "      <td>Louis E. Emory \"hoppy\"</td>\n",
              "      <td>1342396800</td>\n",
              "      <td>5</td>\n",
              "      <td>My wife has recurring extreme muscle spasms, u...</td>\n",
              "      <td>3</td>\n",
              "    </tr>\n",
              "    <tr>\n",
              "      <th>2</th>\n",
              "      <td>#oc-R11DNU2NBKQ23Z</td>\n",
              "      <td>B007Y59HVM</td>\n",
              "      <td>Kim Cieszykowski</td>\n",
              "      <td>1348531200</td>\n",
              "      <td>1</td>\n",
              "      <td>This coffee is horrible and unfortunately not ...</td>\n",
              "      <td>2</td>\n",
              "    </tr>\n",
              "    <tr>\n",
              "      <th>3</th>\n",
              "      <td>#oc-R11O5J5ZVQE25C</td>\n",
              "      <td>B005HG9ET0</td>\n",
              "      <td>Penguin Chick</td>\n",
              "      <td>1346889600</td>\n",
              "      <td>5</td>\n",
              "      <td>This will be the bottle that you grab from the...</td>\n",
              "      <td>3</td>\n",
              "    </tr>\n",
              "    <tr>\n",
              "      <th>4</th>\n",
              "      <td>#oc-R12KPBODL2B5ZD</td>\n",
              "      <td>B007OSBE1U</td>\n",
              "      <td>Christopher P. Presta</td>\n",
              "      <td>1348617600</td>\n",
              "      <td>1</td>\n",
              "      <td>I didnt like this coffee. Instead of telling y...</td>\n",
              "      <td>2</td>\n",
              "    </tr>\n",
              "  </tbody>\n",
              "</table>\n",
              "</div>"
            ],
            "text/plain": [
              "               UserId   ProductId             ProfileName        Time  Score  \\\n",
              "0  #oc-R115TNMSPFT9I7  B007Y59HVM                 Breyton  1331510400      2   \n",
              "1  #oc-R11D9D7SHXIJB9  B005HG9ET0  Louis E. Emory \"hoppy\"  1342396800      5   \n",
              "2  #oc-R11DNU2NBKQ23Z  B007Y59HVM        Kim Cieszykowski  1348531200      1   \n",
              "3  #oc-R11O5J5ZVQE25C  B005HG9ET0           Penguin Chick  1346889600      5   \n",
              "4  #oc-R12KPBODL2B5ZD  B007OSBE1U   Christopher P. Presta  1348617600      1   \n",
              "\n",
              "                                                Text  COUNT(*)  \n",
              "0  Overall its just OK when considering the price...         2  \n",
              "1  My wife has recurring extreme muscle spasms, u...         3  \n",
              "2  This coffee is horrible and unfortunately not ...         2  \n",
              "3  This will be the bottle that you grab from the...         3  \n",
              "4  I didnt like this coffee. Instead of telling y...         2  "
            ]
          },
          "metadata": {
            "tags": []
          },
          "execution_count": 4
        }
      ]
    },
    {
      "metadata": {
        "colab_type": "code",
        "id": "A8yor5AqdykD",
        "outputId": "cba3f3a7-a3fc-4ef4-e81a-f24b0d4dbab5",
        "colab": {
          "base_uri": "https://localhost:8080/",
          "height": 80
        }
      },
      "cell_type": "code",
      "source": [
        "display[display['UserId']=='AZY10LLTJ71NX']"
      ],
      "execution_count": 5,
      "outputs": [
        {
          "output_type": "execute_result",
          "data": {
            "text/html": [
              "<div>\n",
              "<style scoped>\n",
              "    .dataframe tbody tr th:only-of-type {\n",
              "        vertical-align: middle;\n",
              "    }\n",
              "\n",
              "    .dataframe tbody tr th {\n",
              "        vertical-align: top;\n",
              "    }\n",
              "\n",
              "    .dataframe thead th {\n",
              "        text-align: right;\n",
              "    }\n",
              "</style>\n",
              "<table border=\"1\" class=\"dataframe\">\n",
              "  <thead>\n",
              "    <tr style=\"text-align: right;\">\n",
              "      <th></th>\n",
              "      <th>UserId</th>\n",
              "      <th>ProductId</th>\n",
              "      <th>ProfileName</th>\n",
              "      <th>Time</th>\n",
              "      <th>Score</th>\n",
              "      <th>Text</th>\n",
              "      <th>COUNT(*)</th>\n",
              "    </tr>\n",
              "  </thead>\n",
              "  <tbody>\n",
              "    <tr>\n",
              "      <th>80638</th>\n",
              "      <td>AZY10LLTJ71NX</td>\n",
              "      <td>B006P7E5ZI</td>\n",
              "      <td>undertheshrine \"undertheshrine\"</td>\n",
              "      <td>1334707200</td>\n",
              "      <td>5</td>\n",
              "      <td>I was recommended to try green tea extract to ...</td>\n",
              "      <td>5</td>\n",
              "    </tr>\n",
              "  </tbody>\n",
              "</table>\n",
              "</div>"
            ],
            "text/plain": [
              "              UserId   ProductId                      ProfileName        Time  \\\n",
              "80638  AZY10LLTJ71NX  B006P7E5ZI  undertheshrine \"undertheshrine\"  1334707200   \n",
              "\n",
              "       Score                                               Text  COUNT(*)  \n",
              "80638      5  I was recommended to try green tea extract to ...         5  "
            ]
          },
          "metadata": {
            "tags": []
          },
          "execution_count": 5
        }
      ]
    },
    {
      "metadata": {
        "colab_type": "code",
        "id": "W3o9hVw5dykJ",
        "outputId": "f80df648-7b24-4c04-e9d0-4f394a2f4170",
        "colab": {
          "base_uri": "https://localhost:8080/",
          "height": 34
        }
      },
      "cell_type": "code",
      "source": [
        "display['COUNT(*)'].sum()"
      ],
      "execution_count": 6,
      "outputs": [
        {
          "output_type": "execute_result",
          "data": {
            "text/plain": [
              "393063"
            ]
          },
          "metadata": {
            "tags": []
          },
          "execution_count": 6
        }
      ]
    },
    {
      "metadata": {
        "colab_type": "text",
        "id": "qQncwqOvdykQ"
      },
      "cell_type": "markdown",
      "source": [
        "#  [2] Exploratory Data Analysis"
      ]
    },
    {
      "metadata": {
        "colab_type": "text",
        "id": "W17-ciGDdykS"
      },
      "cell_type": "markdown",
      "source": [
        "## [2.1] Data Cleaning: Deduplication\n",
        "\n",
        "It is observed (as shown in the table below) that the reviews data had many duplicate entries. Hence it was necessary to remove duplicates in order to get unbiased results for the analysis of the data.  Following is an example:"
      ]
    },
    {
      "metadata": {
        "colab_type": "code",
        "id": "RvPrMMZJdykU",
        "outputId": "1f76a9e2-15f2-4c77-aa6a-26e07b6f0e62",
        "scrolled": false,
        "colab": {
          "base_uri": "https://localhost:8080/",
          "height": 459
        }
      },
      "cell_type": "code",
      "source": [
        "display= pd.read_sql_query(\"\"\"\n",
        "SELECT *\n",
        "FROM Reviews\n",
        "WHERE Score != 3 AND UserId=\"AR5J8UI46CURR\"\n",
        "ORDER BY ProductID\n",
        "\"\"\", con)\n",
        "display.head()"
      ],
      "execution_count": 7,
      "outputs": [
        {
          "output_type": "execute_result",
          "data": {
            "text/html": [
              "<div>\n",
              "<style scoped>\n",
              "    .dataframe tbody tr th:only-of-type {\n",
              "        vertical-align: middle;\n",
              "    }\n",
              "\n",
              "    .dataframe tbody tr th {\n",
              "        vertical-align: top;\n",
              "    }\n",
              "\n",
              "    .dataframe thead th {\n",
              "        text-align: right;\n",
              "    }\n",
              "</style>\n",
              "<table border=\"1\" class=\"dataframe\">\n",
              "  <thead>\n",
              "    <tr style=\"text-align: right;\">\n",
              "      <th></th>\n",
              "      <th>Id</th>\n",
              "      <th>ProductId</th>\n",
              "      <th>UserId</th>\n",
              "      <th>ProfileName</th>\n",
              "      <th>HelpfulnessNumerator</th>\n",
              "      <th>HelpfulnessDenominator</th>\n",
              "      <th>Score</th>\n",
              "      <th>Time</th>\n",
              "      <th>Summary</th>\n",
              "      <th>Text</th>\n",
              "    </tr>\n",
              "  </thead>\n",
              "  <tbody>\n",
              "    <tr>\n",
              "      <th>0</th>\n",
              "      <td>78445</td>\n",
              "      <td>B000HDL1RQ</td>\n",
              "      <td>AR5J8UI46CURR</td>\n",
              "      <td>Geetha Krishnan</td>\n",
              "      <td>2</td>\n",
              "      <td>2</td>\n",
              "      <td>5</td>\n",
              "      <td>1199577600</td>\n",
              "      <td>LOACKER QUADRATINI VANILLA WAFERS</td>\n",
              "      <td>DELICIOUS WAFERS. I FIND THAT EUROPEAN WAFERS ...</td>\n",
              "    </tr>\n",
              "    <tr>\n",
              "      <th>1</th>\n",
              "      <td>138317</td>\n",
              "      <td>B000HDOPYC</td>\n",
              "      <td>AR5J8UI46CURR</td>\n",
              "      <td>Geetha Krishnan</td>\n",
              "      <td>2</td>\n",
              "      <td>2</td>\n",
              "      <td>5</td>\n",
              "      <td>1199577600</td>\n",
              "      <td>LOACKER QUADRATINI VANILLA WAFERS</td>\n",
              "      <td>DELICIOUS WAFERS. I FIND THAT EUROPEAN WAFERS ...</td>\n",
              "    </tr>\n",
              "    <tr>\n",
              "      <th>2</th>\n",
              "      <td>138277</td>\n",
              "      <td>B000HDOPYM</td>\n",
              "      <td>AR5J8UI46CURR</td>\n",
              "      <td>Geetha Krishnan</td>\n",
              "      <td>2</td>\n",
              "      <td>2</td>\n",
              "      <td>5</td>\n",
              "      <td>1199577600</td>\n",
              "      <td>LOACKER QUADRATINI VANILLA WAFERS</td>\n",
              "      <td>DELICIOUS WAFERS. I FIND THAT EUROPEAN WAFERS ...</td>\n",
              "    </tr>\n",
              "    <tr>\n",
              "      <th>3</th>\n",
              "      <td>73791</td>\n",
              "      <td>B000HDOPZG</td>\n",
              "      <td>AR5J8UI46CURR</td>\n",
              "      <td>Geetha Krishnan</td>\n",
              "      <td>2</td>\n",
              "      <td>2</td>\n",
              "      <td>5</td>\n",
              "      <td>1199577600</td>\n",
              "      <td>LOACKER QUADRATINI VANILLA WAFERS</td>\n",
              "      <td>DELICIOUS WAFERS. I FIND THAT EUROPEAN WAFERS ...</td>\n",
              "    </tr>\n",
              "    <tr>\n",
              "      <th>4</th>\n",
              "      <td>155049</td>\n",
              "      <td>B000PAQ75C</td>\n",
              "      <td>AR5J8UI46CURR</td>\n",
              "      <td>Geetha Krishnan</td>\n",
              "      <td>2</td>\n",
              "      <td>2</td>\n",
              "      <td>5</td>\n",
              "      <td>1199577600</td>\n",
              "      <td>LOACKER QUADRATINI VANILLA WAFERS</td>\n",
              "      <td>DELICIOUS WAFERS. I FIND THAT EUROPEAN WAFERS ...</td>\n",
              "    </tr>\n",
              "  </tbody>\n",
              "</table>\n",
              "</div>"
            ],
            "text/plain": [
              "       Id   ProductId         UserId      ProfileName  HelpfulnessNumerator  \\\n",
              "0   78445  B000HDL1RQ  AR5J8UI46CURR  Geetha Krishnan                     2   \n",
              "1  138317  B000HDOPYC  AR5J8UI46CURR  Geetha Krishnan                     2   \n",
              "2  138277  B000HDOPYM  AR5J8UI46CURR  Geetha Krishnan                     2   \n",
              "3   73791  B000HDOPZG  AR5J8UI46CURR  Geetha Krishnan                     2   \n",
              "4  155049  B000PAQ75C  AR5J8UI46CURR  Geetha Krishnan                     2   \n",
              "\n",
              "   HelpfulnessDenominator  Score        Time  \\\n",
              "0                       2      5  1199577600   \n",
              "1                       2      5  1199577600   \n",
              "2                       2      5  1199577600   \n",
              "3                       2      5  1199577600   \n",
              "4                       2      5  1199577600   \n",
              "\n",
              "                             Summary  \\\n",
              "0  LOACKER QUADRATINI VANILLA WAFERS   \n",
              "1  LOACKER QUADRATINI VANILLA WAFERS   \n",
              "2  LOACKER QUADRATINI VANILLA WAFERS   \n",
              "3  LOACKER QUADRATINI VANILLA WAFERS   \n",
              "4  LOACKER QUADRATINI VANILLA WAFERS   \n",
              "\n",
              "                                                Text  \n",
              "0  DELICIOUS WAFERS. I FIND THAT EUROPEAN WAFERS ...  \n",
              "1  DELICIOUS WAFERS. I FIND THAT EUROPEAN WAFERS ...  \n",
              "2  DELICIOUS WAFERS. I FIND THAT EUROPEAN WAFERS ...  \n",
              "3  DELICIOUS WAFERS. I FIND THAT EUROPEAN WAFERS ...  \n",
              "4  DELICIOUS WAFERS. I FIND THAT EUROPEAN WAFERS ...  "
            ]
          },
          "metadata": {
            "tags": []
          },
          "execution_count": 7
        }
      ]
    },
    {
      "metadata": {
        "colab_type": "text",
        "id": "d9Q3cpR_dykZ"
      },
      "cell_type": "markdown",
      "source": [
        "As it can be seen above that same user has multiple reviews with same values for HelpfulnessNumerator, HelpfulnessDenominator, Score, Time, Summary and Text and on doing analysis it was found that <br>\n",
        "<br> \n",
        "ProductId=B000HDOPZG was Loacker Quadratini Vanilla Wafer Cookies, 8.82-Ounce Packages (Pack of 8)<br>\n",
        "<br> \n",
        "ProductId=B000HDL1RQ was Loacker Quadratini Lemon Wafer Cookies, 8.82-Ounce Packages (Pack of 8) and so on<br>\n",
        "\n",
        "It was inferred after analysis that reviews with same parameters other than ProductId belonged to the same product just having different flavour or quantity. Hence in order to reduce redundancy it was decided to eliminate the rows having same parameters.<br>\n",
        "\n",
        "The method used for the same was that we first sort the data according to ProductId and then just keep the first similar product review and delelte the others. for eg. in the above just the review for ProductId=B000HDL1RQ remains. This method ensures that there is only one representative for each product and deduplication without sorting would lead to possibility of different representatives still existing for the same product."
      ]
    },
    {
      "metadata": {
        "colab_type": "code",
        "id": "6Lf3MfY0dyka",
        "colab": {}
      },
      "cell_type": "code",
      "source": [
        "#Sorting data according to ProductId in ascending order\n",
        "sorted_data=filtered_data.sort_values('ProductId', axis=0, ascending=True, inplace=False, kind='quicksort', na_position='last')"
      ],
      "execution_count": 0,
      "outputs": []
    },
    {
      "metadata": {
        "colab_type": "code",
        "id": "WxUORNf1dyke",
        "outputId": "c6cee81e-41c3-4884-f6bf-779168e8f141",
        "colab": {
          "base_uri": "https://localhost:8080/",
          "height": 34
        }
      },
      "cell_type": "code",
      "source": [
        "#Deduplication of entries\n",
        "final=sorted_data.drop_duplicates(subset={\"UserId\",\"ProfileName\",\"Time\",\"Text\"}, keep='first', inplace=False)\n",
        "final.shape"
      ],
      "execution_count": 9,
      "outputs": [
        {
          "output_type": "execute_result",
          "data": {
            "text/plain": [
              "(87775, 10)"
            ]
          },
          "metadata": {
            "tags": []
          },
          "execution_count": 9
        }
      ]
    },
    {
      "metadata": {
        "colab_type": "code",
        "id": "HSPilmRPdykk",
        "outputId": "b443a306-9f4a-4472-c3e4-f9a62a06a499",
        "colab": {
          "base_uri": "https://localhost:8080/",
          "height": 34
        }
      },
      "cell_type": "code",
      "source": [
        "#Checking to see how much % of data still remains\n",
        "(final['Id'].size*1.0)/(filtered_data['Id'].size*1.0)*100"
      ],
      "execution_count": 10,
      "outputs": [
        {
          "output_type": "execute_result",
          "data": {
            "text/plain": [
              "87.775"
            ]
          },
          "metadata": {
            "tags": []
          },
          "execution_count": 10
        }
      ]
    },
    {
      "metadata": {
        "colab_type": "text",
        "id": "-v1hF_0qdykp"
      },
      "cell_type": "markdown",
      "source": [
        "<b>Observation:-</b> It was also seen that in two rows given below the value of HelpfulnessNumerator is greater than HelpfulnessDenominator which is not practically possible hence these two rows too are removed from calcualtions"
      ]
    },
    {
      "metadata": {
        "colab_type": "code",
        "id": "yhK34qItdykq",
        "outputId": "0935742d-4d75-4007-e3bc-53d9b36b8111",
        "colab": {
          "base_uri": "https://localhost:8080/",
          "height": 179
        }
      },
      "cell_type": "code",
      "source": [
        "display= pd.read_sql_query(\"\"\"\n",
        "SELECT *\n",
        "FROM Reviews\n",
        "WHERE Score != 3 AND Id=44737 OR Id=64422\n",
        "ORDER BY ProductID\n",
        "\"\"\", con)\n",
        "\n",
        "display.head()"
      ],
      "execution_count": 11,
      "outputs": [
        {
          "output_type": "execute_result",
          "data": {
            "text/html": [
              "<div>\n",
              "<style scoped>\n",
              "    .dataframe tbody tr th:only-of-type {\n",
              "        vertical-align: middle;\n",
              "    }\n",
              "\n",
              "    .dataframe tbody tr th {\n",
              "        vertical-align: top;\n",
              "    }\n",
              "\n",
              "    .dataframe thead th {\n",
              "        text-align: right;\n",
              "    }\n",
              "</style>\n",
              "<table border=\"1\" class=\"dataframe\">\n",
              "  <thead>\n",
              "    <tr style=\"text-align: right;\">\n",
              "      <th></th>\n",
              "      <th>Id</th>\n",
              "      <th>ProductId</th>\n",
              "      <th>UserId</th>\n",
              "      <th>ProfileName</th>\n",
              "      <th>HelpfulnessNumerator</th>\n",
              "      <th>HelpfulnessDenominator</th>\n",
              "      <th>Score</th>\n",
              "      <th>Time</th>\n",
              "      <th>Summary</th>\n",
              "      <th>Text</th>\n",
              "    </tr>\n",
              "  </thead>\n",
              "  <tbody>\n",
              "    <tr>\n",
              "      <th>0</th>\n",
              "      <td>64422</td>\n",
              "      <td>B000MIDROQ</td>\n",
              "      <td>A161DK06JJMCYF</td>\n",
              "      <td>J. E. Stephens \"Jeanne\"</td>\n",
              "      <td>3</td>\n",
              "      <td>1</td>\n",
              "      <td>5</td>\n",
              "      <td>1224892800</td>\n",
              "      <td>Bought This for My Son at College</td>\n",
              "      <td>My son loves spaghetti so I didn't hesitate or...</td>\n",
              "    </tr>\n",
              "    <tr>\n",
              "      <th>1</th>\n",
              "      <td>44737</td>\n",
              "      <td>B001EQ55RW</td>\n",
              "      <td>A2V0I904FH7ABY</td>\n",
              "      <td>Ram</td>\n",
              "      <td>3</td>\n",
              "      <td>2</td>\n",
              "      <td>4</td>\n",
              "      <td>1212883200</td>\n",
              "      <td>Pure cocoa taste with crunchy almonds inside</td>\n",
              "      <td>It was almost a 'love at first bite' - the per...</td>\n",
              "    </tr>\n",
              "  </tbody>\n",
              "</table>\n",
              "</div>"
            ],
            "text/plain": [
              "      Id   ProductId          UserId              ProfileName  \\\n",
              "0  64422  B000MIDROQ  A161DK06JJMCYF  J. E. Stephens \"Jeanne\"   \n",
              "1  44737  B001EQ55RW  A2V0I904FH7ABY                      Ram   \n",
              "\n",
              "   HelpfulnessNumerator  HelpfulnessDenominator  Score        Time  \\\n",
              "0                     3                       1      5  1224892800   \n",
              "1                     3                       2      4  1212883200   \n",
              "\n",
              "                                        Summary  \\\n",
              "0             Bought This for My Son at College   \n",
              "1  Pure cocoa taste with crunchy almonds inside   \n",
              "\n",
              "                                                Text  \n",
              "0  My son loves spaghetti so I didn't hesitate or...  \n",
              "1  It was almost a 'love at first bite' - the per...  "
            ]
          },
          "metadata": {
            "tags": []
          },
          "execution_count": 11
        }
      ]
    },
    {
      "metadata": {
        "colab_type": "code",
        "id": "iliTcgXzdyk1",
        "colab": {}
      },
      "cell_type": "code",
      "source": [
        "final=final[final.HelpfulnessNumerator<=final.HelpfulnessDenominator]"
      ],
      "execution_count": 0,
      "outputs": []
    },
    {
      "metadata": {
        "colab_type": "code",
        "id": "tmc9tKkrdyk7",
        "outputId": "ba2b2e48-ed31-4eca-80f7-0f86f0a0ae00",
        "colab": {
          "base_uri": "https://localhost:8080/",
          "height": 85
        }
      },
      "cell_type": "code",
      "source": [
        "#Before starting the next phase of preprocessing lets see the number of entries left\n",
        "print(final.shape)\n",
        "\n",
        "#How many positive and negative reviews are present in our dataset?\n",
        "final['Score'].value_counts()"
      ],
      "execution_count": 13,
      "outputs": [
        {
          "output_type": "stream",
          "text": [
            "(87773, 10)\n"
          ],
          "name": "stdout"
        },
        {
          "output_type": "execute_result",
          "data": {
            "text/plain": [
              "1    73592\n",
              "0    14181\n",
              "Name: Score, dtype: int64"
            ]
          },
          "metadata": {
            "tags": []
          },
          "execution_count": 13
        }
      ]
    },
    {
      "metadata": {
        "colab_type": "text",
        "id": "mykPL6CHdylC"
      },
      "cell_type": "markdown",
      "source": [
        "#  [3] Preprocessing"
      ]
    },
    {
      "metadata": {
        "colab_type": "text",
        "id": "Eiu1lXMBdylD"
      },
      "cell_type": "markdown",
      "source": [
        "## [3.1].  Preprocessing Review Text\n",
        "\n",
        "Now that we have finished deduplication our data requires some preprocessing before we go on further with analysis and making the prediction model.\n",
        "\n",
        "Hence in the Preprocessing phase we do the following in the order below:-\n",
        "\n",
        "1. Begin by removing the html tags\n",
        "2. Remove any punctuations or limited set of special characters like , or . or # etc.\n",
        "3. Check if the word is made up of english letters and is not alpha-numeric\n",
        "4. Check to see if the length of the word is greater than 2 (as it was researched that there is no adjective in 2-letters)\n",
        "5. Convert the word to lowercase\n",
        "6. Remove Stopwords\n",
        "7. Finally Snowball Stemming the word (it was obsereved to be better than Porter Stemming)<br>\n",
        "\n",
        "After which we collect the words used to describe positive and negative reviews"
      ]
    },
    {
      "metadata": {
        "colab_type": "code",
        "id": "4lI-JvegdylF",
        "outputId": "20293415-d86f-444a-ceb3-b4c4069f354e",
        "colab": {
          "base_uri": "https://localhost:8080/",
          "height": 173
        }
      },
      "cell_type": "code",
      "source": [
        "# printing some random reviews\n",
        "sent_0 = final['Text'].values[0]\n",
        "print(sent_0)\n",
        "print(\"=\"*50)\n",
        "\n",
        "sent_1000 = final['Text'].values[1000]\n",
        "print(sent_1000)\n",
        "print(\"=\"*50)\n",
        "\n",
        "sent_1500 = final['Text'].values[1500]\n",
        "print(sent_1500)\n",
        "print(\"=\"*50)\n",
        "\n",
        "sent_4900 = final['Text'].values[4900]\n",
        "print(sent_4900)\n",
        "print(\"=\"*50)"
      ],
      "execution_count": 14,
      "outputs": [
        {
          "output_type": "stream",
          "text": [
            "My dogs loves this chicken but its a product from China, so we wont be buying it anymore.  Its very hard to find any chicken products made in the USA but they are out there, but this one isnt.  Its too bad too because its a good product but I wont take any chances till they know what is going on with the china imports.\n",
            "==================================================\n",
            "The Candy Blocks were a nice visual for the Lego Birthday party but the candy has little taste to it.  Very little of the 2 lbs that I bought were eaten and I threw the rest away.  I would not buy the candy again.\n",
            "==================================================\n",
            "was way to hot for my blood, took a bite and did a jig  lol\n",
            "==================================================\n",
            "My dog LOVES these treats. They tend to have a very strong fish oil smell. So if you are afraid of the fishy smell, don't get it. But I think my dog likes it because of the smell. These treats are really small in size. They are great for training. You can give your dog several of these without worrying about him over eating. Amazon's price was much more reasonable than any other retailer. You can buy a 1 pound bag on Amazon for almost the same price as a 6 ounce bag at other retailers. It's definitely worth it to buy a big bag if your dog eats them a lot.\n",
            "==================================================\n"
          ],
          "name": "stdout"
        }
      ]
    },
    {
      "metadata": {
        "colab_type": "code",
        "id": "DpBl37E2dylK",
        "outputId": "a2ce24c3-b502-48c8-8697-7104f501db34",
        "colab": {
          "base_uri": "https://localhost:8080/",
          "height": 54
        }
      },
      "cell_type": "code",
      "source": [
        "# remove urls from text python: https://stackoverflow.com/a/40823105/4084039\n",
        "sent_0 = re.sub(r\"http\\S+\", \"\", sent_0)\n",
        "sent_1000 = re.sub(r\"http\\S+\", \"\", sent_1000)\n",
        "sent_150 = re.sub(r\"http\\S+\", \"\", sent_1500)\n",
        "sent_4900 = re.sub(r\"http\\S+\", \"\", sent_4900)\n",
        "\n",
        "print(sent_0)"
      ],
      "execution_count": 15,
      "outputs": [
        {
          "output_type": "stream",
          "text": [
            "My dogs loves this chicken but its a product from China, so we wont be buying it anymore.  Its very hard to find any chicken products made in the USA but they are out there, but this one isnt.  Its too bad too because its a good product but I wont take any chances till they know what is going on with the china imports.\n"
          ],
          "name": "stdout"
        }
      ]
    },
    {
      "metadata": {
        "colab_type": "code",
        "id": "fi_MklChdylQ",
        "outputId": "a039c144-81af-4c20-89bf-64d8cc776f51",
        "colab": {
          "base_uri": "https://localhost:8080/",
          "height": 156
        }
      },
      "cell_type": "code",
      "source": [
        "# https://stackoverflow.com/questions/16206380/python-beautifulsoup-how-to-remove-all-tags-from-an-element\n",
        "from bs4 import BeautifulSoup\n",
        "\n",
        "soup = BeautifulSoup(sent_0, 'lxml')\n",
        "text = soup.get_text()\n",
        "print(text)\n",
        "print(\"=\"*50)\n",
        "\n",
        "soup = BeautifulSoup(sent_1000, 'lxml')\n",
        "text = soup.get_text()\n",
        "print(text)\n",
        "print(\"=\"*50)\n",
        "\n",
        "soup = BeautifulSoup(sent_1500, 'lxml')\n",
        "text = soup.get_text()\n",
        "print(text)\n",
        "print(\"=\"*50)\n",
        "\n",
        "soup = BeautifulSoup(sent_4900, 'lxml')\n",
        "text = soup.get_text()\n",
        "print(text)"
      ],
      "execution_count": 16,
      "outputs": [
        {
          "output_type": "stream",
          "text": [
            "My dogs loves this chicken but its a product from China, so we wont be buying it anymore.  Its very hard to find any chicken products made in the USA but they are out there, but this one isnt.  Its too bad too because its a good product but I wont take any chances till they know what is going on with the china imports.\n",
            "==================================================\n",
            "The Candy Blocks were a nice visual for the Lego Birthday party but the candy has little taste to it.  Very little of the 2 lbs that I bought were eaten and I threw the rest away.  I would not buy the candy again.\n",
            "==================================================\n",
            "was way to hot for my blood, took a bite and did a jig  lol\n",
            "==================================================\n",
            "My dog LOVES these treats. They tend to have a very strong fish oil smell. So if you are afraid of the fishy smell, don't get it. But I think my dog likes it because of the smell. These treats are really small in size. They are great for training. You can give your dog several of these without worrying about him over eating. Amazon's price was much more reasonable than any other retailer. You can buy a 1 pound bag on Amazon for almost the same price as a 6 ounce bag at other retailers. It's definitely worth it to buy a big bag if your dog eats them a lot.\n"
          ],
          "name": "stdout"
        }
      ]
    },
    {
      "metadata": {
        "colab_type": "code",
        "id": "NOhLk-uUdylW",
        "colab": {}
      },
      "cell_type": "code",
      "source": [
        "# https://stackoverflow.com/a/47091490/4084039\n",
        "import re\n",
        "\n",
        "def decontracted(phrase):\n",
        "    # specific\n",
        "    phrase = re.sub(r\"won't\", \"will not\", phrase)\n",
        "    phrase = re.sub(r\"can\\'t\", \"can not\", phrase)\n",
        "\n",
        "    # general\n",
        "    phrase = re.sub(r\"n\\'t\", \" not\", phrase)\n",
        "    phrase = re.sub(r\"\\'re\", \" are\", phrase)\n",
        "    phrase = re.sub(r\"\\'s\", \" is\", phrase)\n",
        "    phrase = re.sub(r\"\\'d\", \" would\", phrase)\n",
        "    phrase = re.sub(r\"\\'ll\", \" will\", phrase)\n",
        "    phrase = re.sub(r\"\\'t\", \" not\", phrase)\n",
        "    phrase = re.sub(r\"\\'ve\", \" have\", phrase)\n",
        "    phrase = re.sub(r\"\\'m\", \" am\", phrase)\n",
        "    return phrase"
      ],
      "execution_count": 0,
      "outputs": []
    },
    {
      "metadata": {
        "colab_type": "code",
        "id": "iz4HM9j_dylZ",
        "outputId": "b4cac6e5-e392-4538-e4d7-1164393079b2",
        "colab": {
          "base_uri": "https://localhost:8080/",
          "height": 51
        }
      },
      "cell_type": "code",
      "source": [
        "sent_1500 = decontracted(sent_1500)\n",
        "print(sent_1500)\n",
        "print(\"=\"*50)"
      ],
      "execution_count": 18,
      "outputs": [
        {
          "output_type": "stream",
          "text": [
            "was way to hot for my blood, took a bite and did a jig  lol\n",
            "==================================================\n"
          ],
          "name": "stdout"
        }
      ]
    },
    {
      "metadata": {
        "colab_type": "code",
        "id": "N9cRfAv5dyld",
        "outputId": "86636c6b-a8d7-4669-92b2-720da5e16959",
        "colab": {
          "base_uri": "https://localhost:8080/",
          "height": 54
        }
      },
      "cell_type": "code",
      "source": [
        "#remove words with numbers python: https://stackoverflow.com/a/18082370/4084039\n",
        "sent_0 = re.sub(\"\\S*\\d\\S*\", \"\", sent_0).strip()\n",
        "print(sent_0)"
      ],
      "execution_count": 19,
      "outputs": [
        {
          "output_type": "stream",
          "text": [
            "My dogs loves this chicken but its a product from China, so we wont be buying it anymore.  Its very hard to find any chicken products made in the USA but they are out there, but this one isnt.  Its too bad too because its a good product but I wont take any chances till they know what is going on with the china imports.\n"
          ],
          "name": "stdout"
        }
      ]
    },
    {
      "metadata": {
        "colab_type": "code",
        "id": "v5fW4FzGdyli",
        "outputId": "3ad47520-c7b2-434f-8729-6580cab23a13",
        "colab": {
          "base_uri": "https://localhost:8080/",
          "height": 34
        }
      },
      "cell_type": "code",
      "source": [
        "#remove spacial character: https://stackoverflow.com/a/5843547/4084039\n",
        "sent_1500 = re.sub('[^A-Za-z0-9]+', ' ', sent_1500)\n",
        "print(sent_1500)"
      ],
      "execution_count": 20,
      "outputs": [
        {
          "output_type": "stream",
          "text": [
            "was way to hot for my blood took a bite and did a jig lol\n"
          ],
          "name": "stdout"
        }
      ]
    },
    {
      "metadata": {
        "colab_type": "code",
        "id": "akuT-hUadylm",
        "colab": {}
      },
      "cell_type": "code",
      "source": [
        "# https://gist.github.com/sebleier/554280\n",
        "# we are removing the words from the stop words list: 'no', 'nor', 'not'\n",
        "# <br /><br /> ==> after the above steps, we are getting \"br br\"\n",
        "# we are including them into stop words list\n",
        "# instead of <br /> if we have <br/> these tags would have revmoved in the 1st step\n",
        "\n",
        "stopwords= set(['br', 'the', 'i', 'me', 'my', 'myself', 'we', 'our', 'ours', 'ourselves', 'you', \"you're\", \"you've\",\\\n",
        "            \"you'll\", \"you'd\", 'your', 'yours', 'yourself', 'yourselves', 'he', 'him', 'his', 'himself', \\\n",
        "            'she', \"she's\", 'her', 'hers', 'herself', 'it', \"it's\", 'its', 'itself', 'they', 'them', 'their',\\\n",
        "            'theirs', 'themselves', 'what', 'which', 'who', 'whom', 'this', 'that', \"that'll\", 'these', 'those', \\\n",
        "            'am', 'is', 'are', 'was', 'were', 'be', 'been', 'being', 'have', 'has', 'had', 'having', 'do', 'does', \\\n",
        "            'did', 'doing', 'a', 'an', 'the', 'and', 'but', 'if', 'or', 'because', 'as', 'until', 'while', 'of', \\\n",
        "            'at', 'by', 'for', 'with', 'about', 'against', 'between', 'into', 'through', 'during', 'before', 'after',\\\n",
        "            'above', 'below', 'to', 'from', 'up', 'down', 'in', 'out', 'on', 'off', 'over', 'under', 'again', 'further',\\\n",
        "            'then', 'once', 'here', 'there', 'when', 'where', 'why', 'how', 'all', 'any', 'both', 'each', 'few', 'more',\\\n",
        "            'most', 'other', 'some', 'such', 'only', 'own', 'same', 'so', 'than', 'too', 'very', \\\n",
        "            's', 't', 'can', 'will', 'just', 'don', \"don't\", 'should', \"should've\", 'now', 'd', 'll', 'm', 'o', 're', \\\n",
        "            've', 'y', 'ain', 'aren', \"aren't\", 'couldn', \"couldn't\", 'didn', \"didn't\", 'doesn', \"doesn't\", 'hadn',\\\n",
        "            \"hadn't\", 'hasn', \"hasn't\", 'haven', \"haven't\", 'isn', \"isn't\", 'ma', 'mightn', \"mightn't\", 'mustn',\\\n",
        "            \"mustn't\", 'needn', \"needn't\", 'shan', \"shan't\", 'shouldn', \"shouldn't\", 'wasn', \"wasn't\", 'weren', \"weren't\", \\\n",
        "            'won', \"won't\", 'wouldn', \"wouldn't\"])"
      ],
      "execution_count": 0,
      "outputs": []
    },
    {
      "metadata": {
        "colab_type": "code",
        "id": "ywCfBbsvdylq",
        "outputId": "dc6a8249-d8a5-46ba-bcb7-29e77452fbb4",
        "colab": {
          "base_uri": "https://localhost:8080/",
          "height": 34
        }
      },
      "cell_type": "code",
      "source": [
        "# Combining all the above stundents \n",
        "from tqdm import tqdm\n",
        "preprocessed_reviews = []\n",
        "# tqdm is for printing the status bar\n",
        "for sentance in tqdm(final['Text'].values):\n",
        "    sentance = re.sub(r\"http\\S+\", \"\", sentance)\n",
        "    sentance = BeautifulSoup(sentance, 'lxml').get_text()\n",
        "    sentance = decontracted(sentance)\n",
        "    sentance = re.sub(\"\\S*\\d\\S*\", \"\", sentance).strip()\n",
        "    sentance = re.sub('[^A-Za-z]+', ' ', sentance)\n",
        "    # https://gist.github.com/sebleier/554280\n",
        "    sentance = ' '.join(e.lower() for e in sentance.split() if e.lower() not in stopwords)\n",
        "    preprocessed_reviews.append(sentance.strip())"
      ],
      "execution_count": 22,
      "outputs": [
        {
          "output_type": "stream",
          "text": [
            "100%|██████████| 87773/87773 [00:33<00:00, 2601.67it/s]\n"
          ],
          "name": "stderr"
        }
      ]
    },
    {
      "metadata": {
        "colab_type": "code",
        "id": "Nv3gI-OAdylv",
        "outputId": "566defe6-8c6c-4267-e363-308863c9b1c2",
        "colab": {
          "base_uri": "https://localhost:8080/",
          "height": 34
        }
      },
      "cell_type": "code",
      "source": [
        "preprocessed_reviews[1500]"
      ],
      "execution_count": 23,
      "outputs": [
        {
          "output_type": "execute_result",
          "data": {
            "text/plain": [
              "'way hot blood took bite jig lol'"
            ]
          },
          "metadata": {
            "tags": []
          },
          "execution_count": 23
        }
      ]
    },
    {
      "metadata": {
        "colab_type": "text",
        "id": "j0jZq0ALdyl6"
      },
      "cell_type": "markdown",
      "source": [
        "# [4] Featurization"
      ]
    },
    {
      "metadata": {
        "colab_type": "text",
        "id": "Q_Mx_3ktdyl7"
      },
      "cell_type": "markdown",
      "source": [
        "## [4.1] BAG OF WORDS"
      ]
    },
    {
      "metadata": {
        "colab_type": "code",
        "id": "wi_Qenyzdyl9",
        "outputId": "43d776c1-e80e-4e71-f1a6-599fcb451e76",
        "colab": {
          "base_uri": "https://localhost:8080/",
          "height": 102
        }
      },
      "cell_type": "code",
      "source": [
        "#BoW\n",
        "count_vect = CountVectorizer() #in scikit-learn\n",
        "count_vect.fit(preprocessed_reviews)\n",
        "print(\"some feature names \", count_vect.get_feature_names()[:10])\n",
        "print('='*50)\n",
        "\n",
        "final_counts = count_vect.transform(preprocessed_reviews)\n",
        "print(\"the type of count vectorizer \",type(final_counts))\n",
        "print(\"the shape of out text BOW vectorizer \",final_counts.get_shape())\n",
        "print(\"the number of unique words \", final_counts.get_shape()[1])"
      ],
      "execution_count": 24,
      "outputs": [
        {
          "output_type": "stream",
          "text": [
            "some feature names  ['aa', 'aaa', 'aaaa', 'aaaaa', 'aaaaaaaaaaaa', 'aaaaaaaaaaaaaaa', 'aaaaaaahhhhhh', 'aaaaaaarrrrrggghhh', 'aaaaaawwwwwwwwww', 'aaaaah']\n",
            "==================================================\n",
            "the type of count vectorizer  <class 'scipy.sparse.csr.csr_matrix'>\n",
            "the shape of out text BOW vectorizer  (87773, 54904)\n",
            "the number of unique words  54904\n"
          ],
          "name": "stdout"
        }
      ]
    },
    {
      "metadata": {
        "colab_type": "text",
        "id": "H_vL12l6dymG"
      },
      "cell_type": "markdown",
      "source": [
        "## [4.2] Bi-Grams and n-Grams."
      ]
    },
    {
      "metadata": {
        "colab_type": "code",
        "id": "aMHHObR7dymH",
        "outputId": "5d03a609-fe9f-4817-e9d0-d0faf73e65f5",
        "colab": {
          "base_uri": "https://localhost:8080/",
          "height": 68
        }
      },
      "cell_type": "code",
      "source": [
        "#bi-gram, tri-gram and n-gram\n",
        "\n",
        "#removing stop words like \"not\" should be avoided before building n-grams\n",
        "# count_vect = CountVectorizer(ngram_range=(1,2))\n",
        "# please do read the CountVectorizer documentation http://scikit-learn.org/stable/modules/generated/sklearn.feature_extraction.text.CountVectorizer.html\n",
        "\n",
        "# you can choose these numebrs min_df=10, max_features=5000, of your choice\n",
        "count_vect = CountVectorizer(ngram_range=(1,2), min_df=10, max_features=5000)\n",
        "final_bigram_counts = count_vect.fit_transform(preprocessed_reviews)\n",
        "print(\"the type of count vectorizer \",type(final_bigram_counts))\n",
        "print(\"the shape of out text BOW vectorizer \",final_bigram_counts.get_shape())\n",
        "print(\"the number of unique words including both unigrams and bigrams \", final_bigram_counts.get_shape()[1])"
      ],
      "execution_count": 25,
      "outputs": [
        {
          "output_type": "stream",
          "text": [
            "the type of count vectorizer  <class 'scipy.sparse.csr.csr_matrix'>\n",
            "the shape of out text BOW vectorizer  (87773, 5000)\n",
            "the number of unique words including both unigrams and bigrams  5000\n"
          ],
          "name": "stdout"
        }
      ]
    },
    {
      "metadata": {
        "colab_type": "text",
        "id": "GXubagdMdymN"
      },
      "cell_type": "markdown",
      "source": [
        "## [4.3] TF-IDF"
      ]
    },
    {
      "metadata": {
        "colab_type": "code",
        "id": "8z72KgzVdymO",
        "outputId": "45e89022-a20c-4c26-ee51-9be962db26ef",
        "colab": {
          "base_uri": "https://localhost:8080/",
          "height": 102
        }
      },
      "cell_type": "code",
      "source": [
        "tf_idf_vect = TfidfVectorizer(ngram_range=(1,2), min_df=10)\n",
        "tf_idf_vect.fit(preprocessed_reviews)\n",
        "print(\"some sample features(unique words in the corpus)\",tf_idf_vect.get_feature_names()[0:10])\n",
        "print('='*50)\n",
        "\n",
        "final_tf_idf = tf_idf_vect.transform(preprocessed_reviews)\n",
        "print(\"the type of count vectorizer \",type(final_tf_idf))\n",
        "print(\"the shape of out text TFIDF vectorizer \",final_tf_idf.get_shape())\n",
        "print(\"the number of unique words including both unigrams and bigrams \", final_tf_idf.get_shape()[1])"
      ],
      "execution_count": 26,
      "outputs": [
        {
          "output_type": "stream",
          "text": [
            "some sample features(unique words in the corpus) ['aa', 'aafco', 'aback', 'abandon', 'abandoned', 'abdominal', 'ability', 'able', 'able add', 'able brew']\n",
            "==================================================\n",
            "the type of count vectorizer  <class 'scipy.sparse.csr.csr_matrix'>\n",
            "the shape of out text TFIDF vectorizer  (87773, 51709)\n",
            "the number of unique words including both unigrams and bigrams  51709\n"
          ],
          "name": "stdout"
        }
      ]
    },
    {
      "metadata": {
        "colab_type": "text",
        "id": "ssj1XqWIdymT"
      },
      "cell_type": "markdown",
      "source": [
        "## [4.4] Word2Vec"
      ]
    },
    {
      "metadata": {
        "colab_type": "code",
        "id": "uI0mCbfTdymU",
        "colab": {}
      },
      "cell_type": "code",
      "source": [
        "# Train your own Word2Vec model using your own text corpus\n",
        "i=0\n",
        "list_of_sentance=[]\n",
        "for sentance in preprocessed_reviews:\n",
        "    list_of_sentance.append(sentance.split())"
      ],
      "execution_count": 0,
      "outputs": []
    },
    {
      "metadata": {
        "colab_type": "code",
        "id": "5eKVDtdwdymY",
        "outputId": "f7fd888c-3db6-45bc-e514-7e35ce03f3bf",
        "scrolled": true,
        "colab": {
          "base_uri": "https://localhost:8080/",
          "height": 88
        }
      },
      "cell_type": "code",
      "source": [
        "# Using Google News Word2Vectors\n",
        "\n",
        "# in this project we are using a pretrained model by google\n",
        "# its 3.3G file, once you load this into your memory \n",
        "# it occupies ~9Gb, so please do this step only if you have >12G of ram\n",
        "# we will provide a pickle file wich contains a dict , \n",
        "# and it contains all our courpus words as keys and  model[word] as values\n",
        "# To use this code-snippet, download \"GoogleNews-vectors-negative300.bin\" \n",
        "# from https://drive.google.com/file/d/0B7XkCwpI5KDYNlNUTTlSS21pQmM/edit\n",
        "# it's 1.9GB in size.\n",
        "\n",
        "\n",
        "# http://kavita-ganesan.com/gensim-word2vec-tutorial-starter-code/#.W17SRFAzZPY\n",
        "# you can comment this whole cell\n",
        "# or change these varible according to your need\n",
        "\n",
        "is_your_ram_gt_16g=False\n",
        "want_to_use_google_w2v = False\n",
        "want_to_train_w2v = True\n",
        "\n",
        "if want_to_train_w2v:\n",
        "    # min_count = 5 considers only words that occured atleast 5 times\n",
        "    w2v_model=Word2Vec(list_of_sentance,min_count=5,size=50, workers=4)\n",
        "    print(w2v_model.wv.most_similar('great'))\n",
        "    print('='*50)\n",
        "    print(w2v_model.wv.most_similar('worst'))\n",
        "    \n",
        "elif want_to_use_google_w2v and is_your_ram_gt_16g:\n",
        "    if os.path.isfile('GoogleNews-vectors-negative300.bin'):\n",
        "        w2v_model=KeyedVectors.load_word2vec_format('GoogleNews-vectors-negative300.bin', binary=True)\n",
        "        print(w2v_model.wv.most_similar('great'))\n",
        "        print(w2v_model.wv.most_similar('worst'))\n",
        "    else:\n",
        "        print(\"you don't have gogole's word2vec file, keep want_to_train_w2v = True, to train your own w2v \")"
      ],
      "execution_count": 28,
      "outputs": [
        {
          "output_type": "stream",
          "text": [
            "[('terrific', 0.8406945466995239), ('fantastic', 0.839320719242096), ('awesome', 0.8385831117630005), ('excellent', 0.8262341022491455), ('good', 0.8104950785636902), ('wonderful', 0.7798656225204468), ('amazing', 0.7273678183555603), ('fabulous', 0.7269560694694519), ('nice', 0.7138434648513794), ('perfect', 0.7037696242332458)]\n",
            "==================================================\n",
            "[('greatest', 0.7391455769538879), ('best', 0.7279096841812134), ('tastiest', 0.7069547772407532), ('disgusting', 0.6928437352180481), ('nastiest', 0.665142297744751), ('horrible', 0.6650989055633545), ('coolest', 0.6442241668701172), ('closest', 0.5988109707832336), ('awful', 0.5972532629966736), ('terrible', 0.5943410992622375)]\n"
          ],
          "name": "stdout"
        }
      ]
    },
    {
      "metadata": {
        "colab_type": "code",
        "id": "cNjvf2_0dymc",
        "outputId": "66a9441f-89b1-480e-d0fa-9bb7ca22ea1a",
        "colab": {
          "base_uri": "https://localhost:8080/",
          "height": 71
        }
      },
      "cell_type": "code",
      "source": [
        "w2v_words = list(w2v_model.wv.vocab)\n",
        "print(\"number of words that occured minimum 5 times \",len(w2v_words))\n",
        "print(\"sample words \", w2v_words[0:50])"
      ],
      "execution_count": 29,
      "outputs": [
        {
          "output_type": "stream",
          "text": [
            "number of words that occured minimum 5 times  17386\n",
            "sample words  ['dogs', 'loves', 'chicken', 'product', 'china', 'wont', 'buying', 'anymore', 'hard', 'find', 'products', 'made', 'usa', 'one', 'isnt', 'bad', 'good', 'take', 'chances', 'till', 'know', 'going', 'imports', 'love', 'saw', 'pet', 'store', 'tag', 'attached', 'regarding', 'satisfied', 'safe', 'infestation', 'literally', 'everywhere', 'flying', 'around', 'kitchen', 'bought', 'hoping', 'least', 'get', 'rid', 'weeks', 'fly', 'stuck', 'squishing', 'buggers', 'success', 'rate']\n"
          ],
          "name": "stdout"
        }
      ]
    },
    {
      "metadata": {
        "colab_type": "text",
        "id": "2h4u7SnQdymh"
      },
      "cell_type": "markdown",
      "source": [
        "## [4.4.1] Converting text into vectors using Avg W2V, TFIDF-W2V"
      ]
    },
    {
      "metadata": {
        "colab_type": "text",
        "id": "LhAPlY1tdymi"
      },
      "cell_type": "markdown",
      "source": [
        "#### [4.4.1.1] Avg W2v"
      ]
    },
    {
      "metadata": {
        "colab_type": "code",
        "id": "XaN2hWy8dymj",
        "outputId": "1bc29c91-84a0-4eed-c90a-971180b704d9",
        "colab": {
          "base_uri": "https://localhost:8080/",
          "height": 68
        }
      },
      "cell_type": "code",
      "source": [
        "# average Word2Vec\n",
        "# compute average word2vec for each review.\n",
        "sent_vectors = []; # the avg-w2v for each sentence/review is stored in this list\n",
        "for sent in tqdm(list_of_sentance): # for each review/sentence\n",
        "    sent_vec = np.zeros(50) # as word vectors are of zero length 50, you might need to change this to 300 if you use google's w2v\n",
        "    cnt_words =0; # num of words with a valid vector in the sentence/review\n",
        "    for word in sent: # for each word in a review/sentence\n",
        "        if word in w2v_words:\n",
        "            vec = w2v_model.wv[word]\n",
        "            sent_vec += vec\n",
        "            cnt_words += 1\n",
        "    if cnt_words != 0:\n",
        "        sent_vec /= cnt_words\n",
        "    sent_vectors.append(sent_vec)\n",
        "print(len(sent_vectors))\n",
        "print(len(sent_vectors[0]))"
      ],
      "execution_count": 30,
      "outputs": [
        {
          "output_type": "stream",
          "text": [
            "100%|██████████| 87773/87773 [03:21<00:00, 435.69it/s]"
          ],
          "name": "stderr"
        },
        {
          "output_type": "stream",
          "text": [
            "87773\n",
            "50\n"
          ],
          "name": "stdout"
        },
        {
          "output_type": "stream",
          "text": [
            "\n"
          ],
          "name": "stderr"
        }
      ]
    },
    {
      "metadata": {
        "colab_type": "text",
        "id": "9CUBoflYdymn"
      },
      "cell_type": "markdown",
      "source": [
        "#### [4.4.1.2] TFIDF weighted W2v"
      ]
    },
    {
      "metadata": {
        "colab_type": "code",
        "id": "EorjdxEAdymo",
        "colab": {}
      },
      "cell_type": "code",
      "source": [
        "# S = [\"abc def pqr\", \"def def def abc\", \"pqr pqr def\"]\n",
        "model = TfidfVectorizer()\n",
        "tf_idf_matrix = model.fit_transform(preprocessed_reviews)\n",
        "# we are converting a dictionary with word as a key, and the idf as a value\n",
        "dictionary = dict(zip(model.get_feature_names(), list(model.idf_)))"
      ],
      "execution_count": 0,
      "outputs": []
    },
    {
      "metadata": {
        "colab_type": "raw",
        "id": "wjv8Pa4Kdymr",
        "scrolled": true
      },
      "cell_type": "markdown",
      "source": [
        "# TF-IDF weighted Word2Vec\n",
        "tfidf_feat = model.get_feature_names() # tfidf words/col-names\n",
        "# final_tf_idf is the sparse matrix with row= sentence, col=word and cell_val = tfidf\n",
        "\n",
        "#below code used to take too much time for running so i have created a pickle file so that i can load it whenever i want to \n",
        "# save my time. \n",
        "\"\"\"tfidf_sent_vectors = []; # the tfidf-w2v for each sentence/review is stored in this list\n",
        "row=0;\n",
        "for sent in tqdm(list_of_sentance): # for each review/sentence \n",
        "    sent_vec = np.zeros(50) # as word vectors are of zero length\n",
        "    weight_sum =0; # num of words with a valid vector in the sentence/review\n",
        "    for word in sent: # for each word in a review/sentence\n",
        "        if word in w2v_words and word in tfidf_feat:\n",
        "            vec = w2v_model.wv[word]\n",
        "#             tf_idf = tf_idf_matrix[row, tfidf_feat.index(word)]\n",
        "            # to reduce the computation we are \n",
        "            # dictionary[word] = idf value of word in whole courpus\n",
        "            # sent.count(word) = tf valeus of word in this review\n",
        "            tf_idf = dictionary[word]*(sent.count(word)/len(sent))\n",
        "            sent_vec += (vec * tf_idf)\n",
        "            weight_sum += tf_idf\n",
        "    if weight_sum != 0:\n",
        "        sent_vec /= weight_sum\n",
        "    tfidf_sent_vectors.append(sent_vec)\n",
        "    row += 1\"\"\""
      ]
    },
    {
      "metadata": {
        "colab_type": "raw",
        "id": "7sv525j4dyms"
      },
      "cell_type": "markdown",
      "source": [
        "\"\"\"import pickle\n",
        "with open('tfidf_sent_vectors', 'wb') as fp:\n",
        "    pickle.dump(tfidf_sent_vectors, fp)\"\"\"\n",
        "#"
      ]
    },
    {
      "metadata": {
        "colab_type": "code",
        "id": "ry0IeQn5dymt",
        "colab": {}
      },
      "cell_type": "code",
      "source": [
        "#loading the pickle file \n",
        "import pickle\n",
        "\n",
        "with open('/root/tfidf_sent_vectors', 'rb') as fp:\n",
        "    tfidf_sent_vectors= pickle.load(fp)"
      ],
      "execution_count": 0,
      "outputs": []
    },
    {
      "metadata": {
        "colab_type": "code",
        "id": "pH4k_e1Cdymw",
        "outputId": "4a91657e-5cb2-4451-dffa-7e7bb93a7569",
        "colab": {
          "base_uri": "https://localhost:8080/",
          "height": 34
        }
      },
      "cell_type": "code",
      "source": [
        "len(tfidf_sent_vectors)"
      ],
      "execution_count": 34,
      "outputs": [
        {
          "output_type": "execute_result",
          "data": {
            "text/plain": [
              "87773"
            ]
          },
          "metadata": {
            "tags": []
          },
          "execution_count": 34
        }
      ]
    },
    {
      "metadata": {
        "colab_type": "text",
        "id": "UDwMV1bGdym8"
      },
      "cell_type": "markdown",
      "source": [
        "# [5] Assignment 3: KNN"
      ]
    },
    {
      "metadata": {
        "colab_type": "code",
        "id": "qI6Vn4pHdym9",
        "colab": {}
      },
      "cell_type": "code",
      "source": [
        "### i have used 25000 points for Brute force as i am having less ram i.e 4GB and for KD-Tree BOw & TFidf i took 10000 points also & for TFIDFW2v and avgw2v i have used 25k points"
      ],
      "execution_count": 0,
      "outputs": []
    },
    {
      "metadata": {
        "colab_type": "text",
        "id": "WCa1iN5mdynF"
      },
      "cell_type": "markdown",
      "source": [
        "<ol>\n",
        "    <li><strong>Apply Knn(brute force version) on these feature sets</strong>\n",
        "        <ul>\n",
        "            <li><font color='red'>SET 1:</font>Review text, preprocessed one converted into vectors using (BOW)</li>\n",
        "            <li><font color='red'>SET 2:</font>Review text, preprocessed one converted into vectors using (TFIDF)</li>\n",
        "            <li><font color='red'>SET 3:</font>Review text, preprocessed one converted into vectors using (AVG W2v)</li>\n",
        "            <li><font color='red'>SET 4:</font>Review text, preprocessed one converted into vectors using (TFIDF W2v)</li>\n",
        "        </ul>\n",
        "    </li>\n",
        "    <br>\n",
        "    <li><strong>Apply Knn(kd tree version) on these feature sets</strong>\n",
        "        <br><font color='red'>NOTE: </font>sklearn implementation of kd-tree accepts only dense matrices, you need to convert the sparse matrices of CountVectorizer/TfidfVectorizer into dense matices. You can convert sparse matrices to dense using .toarray() attribute. For more information please visit this <a href='https://docs.scipy.org/doc/scipy-0.18.1/reference/generated/scipy.sparse.csr_matrix.toarray.html'>link</a>\n",
        "        <ul>\n",
        "            <li><font color='red'>SET 5:</font>Review text, preprocessed one converted into vectors using (BOW) but with restriction on maximum features generated.\n",
        "            <pre>\n",
        "            count_vect = CountVectorizer(min_df=10, max_features=500) \n",
        "            count_vect.fit(preprocessed_reviews)\n",
        "            </pre>\n",
        "            </li>\n",
        "            <li><font color='red'>SET 6:</font>Review text, preprocessed one converted into vectors using (TFIDF) but with restriction on maximum features generated.\n",
        "            <pre>\n",
        "                tf_idf_vect = TfidfVectorizer(min_df=10, max_features=500)\n",
        "                tf_idf_vect.fit(preprocessed_reviews)\n",
        "            </pre>\n",
        "            </li>\n",
        "            <li><font color='red'>SET 3:</font>Review text, preprocessed one converted into vectors using (AVG W2v)</li>\n",
        "            <li><font color='red'>SET 4:</font>Review text, preprocessed one converted into vectors using (TFIDF W2v)</li>\n",
        "        </ul>\n",
        "    </li>\n",
        "    <br>\n",
        "    <li><strong>The hyper paramter tuning(find best K)</strong>\n",
        "        <ul>\n",
        "    <li>Find the best hyper parameter which will give the maximum <a href='https://www.appliedaicourse.com/course/applied-ai-course-online/lessons/receiver-operating-characteristic-curve-roc-curve-and-auc-1/'>AUC</a> value</li>\n",
        "    <li>Find the best hyper paramter using k-fold cross validation or simple cross validation data</li>\n",
        "    <li>Use gridsearch cv or randomsearch cv or you can also write your own for loops to do this task of hyperparameter tuning</li>\n",
        "        </ul>\n",
        "    </li>\n",
        "    <br>\n",
        "    <li>\n",
        "    <strong>Representation of results</strong>\n",
        "        <ul>\n",
        "    <li>You need to plot the performance of model both on train data and cross validation data for each hyper parameter, like shown in the figure\n",
        "    <img src='train_cv_auc.JPG' width=300px></li>\n",
        "    <li>Once after you found the best hyper parameter, you need to train your model with it, and find the AUC on test data and plot the ROC curve on both train and test.\n",
        "    <img src='train_test_auc.JPG' width=300px></li>\n",
        "    <li>Along with plotting ROC curve, you need to print the <a href='https://www.appliedaicourse.com/course/applied-ai-course-online/lessons/confusion-matrix-tpr-fpr-fnr-tnr-1/'>confusion matrix</a> with predicted and original labels of test data points\n",
        "    <img src='confusion_matrix.png' width=300px></li>\n",
        "        </ul>\n",
        "    </li>\n",
        "    <br>\n",
        "    <li><strong>Conclusion</strong>\n",
        "        <ul>\n",
        "    <li>You need to summarize the results at the end of the notebook, summarize it in the table format. To print out a table please refer to this prettytable library<a href='http://zetcode.com/python/prettytable/'> link</a> \n",
        "        <img src='summary.JPG' width=400px>\n",
        "    </li>\n",
        "        </ul>\n",
        "</ol>"
      ]
    },
    {
      "metadata": {
        "colab_type": "text",
        "id": "okDGoVV7dynF"
      },
      "cell_type": "markdown",
      "source": [
        "<h4><font color='red'>Note: Data Leakage</font></h4>\n",
        "\n",
        "1. There will be an issue of data-leakage if you vectorize the entire data and then split it into train/cv/test.\n",
        "2. To avoid the issue of data-leakag, make sure to split your data first and then vectorize it. \n",
        "3. While vectorizing your data, apply the method fit_transform() on you train data, and apply the method transform() on cv/test data.\n",
        "4. For more details please go through this <a href='https://soundcloud.com/applied-ai-course/leakage-bow-and-tfidf'>link.</a>"
      ]
    },
    {
      "metadata": {
        "colab_type": "text",
        "id": "FB9bBiVJdynG"
      },
      "cell_type": "markdown",
      "source": [
        "## [5.1] Applying KNN brute force"
      ]
    },
    {
      "metadata": {
        "colab_type": "text",
        "id": "jk0V30rGdynH"
      },
      "cell_type": "markdown",
      "source": [
        "### [5.1.1] Applying KNN brute force on BOW,<font color='red'> SET 1</font>"
      ]
    },
    {
      "metadata": {
        "colab_type": "code",
        "id": "nxEMwbNwdynK",
        "colab": {}
      },
      "cell_type": "code",
      "source": [
        "\n",
        "\n",
        "#spiliting the main data into train ,cv & test \n",
        "xtrain_Bow_knn,xtest_bow_knn,ytrain_Bow_knn,ytest_bow_knn=train_test_split(preprocessed_reviews,final[\"Score\"],test_size=0.30,random_state=40)\n"
      ],
      "execution_count": 0,
      "outputs": []
    },
    {
      "metadata": {
        "colab_type": "code",
        "id": "LSUScRocdynO",
        "outputId": "48160afa-2129-468e-f831-e411a16ecb53",
        "colab": {
          "base_uri": "https://localhost:8080/",
          "height": 68
        }
      },
      "cell_type": "code",
      "source": [
        "#fit_transform has to happen only on train data to avoid data leakage\n",
        "count_vect=CountVectorizer()\n",
        "xtrain_Bow_knn=count_vect.fit_transform(xtrain_Bow_knn)\n",
        "xtest_bow_knn=count_vect.transform(xtest_bow_knn)\n",
        "\n",
        "#check the size of our all data set\n",
        "\n",
        "print (xtrain_Bow_knn.shape)\n",
        "print (xtest_bow_knn.shape)\n",
        "print (ytest_bow_knn.shape)"
      ],
      "execution_count": 37,
      "outputs": [
        {
          "output_type": "stream",
          "text": [
            "(61441, 46085)\n",
            "(26332, 46085)\n",
            "(26332,)\n"
          ],
          "name": "stdout"
        }
      ]
    },
    {
      "metadata": {
        "colab_type": "code",
        "id": "aRqNNLd7dynR",
        "colab": {}
      },
      "cell_type": "code",
      "source": [
        "#tunning the hyperparameter with gridsearchcv on BOW\n",
        "k=list(range(1,20,2))\n",
        "param={\"n_neighbors\":list(range(1,20,2))}       \n",
        "\n",
        "Knn=KNeighborsClassifier(algorithm=\"brute\")\n",
        "\n",
        "Knn_Grid=GridSearchCV(Knn,param_grid=param , cv=3, scoring='roc_auc')\n",
        "Knn_Bow=Knn_Grid.fit(xtrain_Bow_knn[0:25000],ytrain_Bow_knn[0:25000])\n"
      ],
      "execution_count": 0,
      "outputs": []
    },
    {
      "metadata": {
        "colab_type": "code",
        "id": "QcmCcccudynU",
        "outputId": "3cfade4e-e349-4dce-b5b6-bba8a417b0ae",
        "colab": {
          "base_uri": "https://localhost:8080/",
          "height": 85
        }
      },
      "cell_type": "code",
      "source": [
        "print (Knn_Grid.best_estimator_)\n",
        "Knn_Grid.best_score_"
      ],
      "execution_count": 39,
      "outputs": [
        {
          "output_type": "stream",
          "text": [
            "KNeighborsClassifier(algorithm='brute', leaf_size=30, metric='minkowski',\n",
            "           metric_params=None, n_jobs=None, n_neighbors=15, p=2,\n",
            "           weights='uniform')\n"
          ],
          "name": "stdout"
        },
        {
          "output_type": "execute_result",
          "data": {
            "text/plain": [
              "0.6571629768216887"
            ]
          },
          "metadata": {
            "tags": []
          },
          "execution_count": 39
        }
      ]
    },
    {
      "metadata": {
        "colab_type": "code",
        "id": "CRsNVsXCdync",
        "outputId": "41f5fd59-561c-4d28-aa83-f1a3bae24fa7",
        "colab": {
          "base_uri": "https://localhost:8080/",
          "height": 34
        }
      },
      "cell_type": "code",
      "source": [
        "#calculating the best k\n",
        "param_bow=pd.DataFrame(Knn_Grid.cv_results_).sort_values('rank_test_score')\n",
        "best_k_bow=param_bow[\"param_n_neighbors\"].iloc[0]\n",
        "\n",
        "\n",
        "k_values_bow=param_bow[\"param_n_neighbors\"].unique()\n",
        "\n",
        "print (\"The best K for bow is : {0}\".format(best_k_bow))\n"
      ],
      "execution_count": 40,
      "outputs": [
        {
          "output_type": "stream",
          "text": [
            "The best K for bow is : 15\n"
          ],
          "name": "stdout"
        }
      ]
    },
    {
      "metadata": {
        "colab_type": "code",
        "id": "1bYgSaH2dyng",
        "outputId": "60a5b5e5-01d1-4353-96b9-1b8d1cf08f0e",
        "colab": {
          "base_uri": "https://localhost:8080/",
          "height": 294
        }
      },
      "cell_type": "code",
      "source": [
        "#graph for train scores of Grid search for all hyperparameters\n",
        "\n",
        "plt.figure(figsize=(8,6))\n",
        "plt.subplots_adjust(left=.2, right=0.95, bottom=0.15, top=0.65)\n",
        "\n",
        "sns.lineplot(param_bow[\"param_n_neighbors\"],param_bow[\"mean_train_score\"],label=\"Grid_train score\")\n",
        "sns.lineplot(param_bow[\"param_n_neighbors\"],param_bow[\"mean_test_score\"],label=\"Grid_test score\")\n",
        "plt.grid()\n",
        "plt.xlabel(\"K-value\")\n",
        "plt.ylabel(\"Accuracy score\")\n",
        "plt.xticks(k)\n",
        "plt.title(\"Graph for auc train scores & test scores on BOW\")\n",
        "plt.show()"
      ],
      "execution_count": 41,
      "outputs": [
        {
          "output_type": "display_data",
          "data": {
            "image/png": "[encoded data removed]",
            "text/plain": [
              "<Figure size 576x432 with 1 Axes>"
            ]
          },
          "metadata": {
            "tags": []
          }
        }
      ]
    },
    {
      "metadata": {
        "colab_type": "code",
        "id": "vDVA3tYjdyno",
        "outputId": "09ff15c2-e96a-4811-e3c9-b913d14ee294",
        "colab": {
          "base_uri": "https://localhost:8080/",
          "height": 295
        }
      },
      "cell_type": "code",
      "source": [
        "#fitting our model on test(unseen data) data \n",
        "Knn=KNeighborsClassifier(n_neighbors=best_k_bow,algorithm=\"brute\")\n",
        "Knn.fit(xtrain_Bow_knn[0:25000],ytrain_Bow_knn[0:25000])\n",
        "\n",
        "train_fpr_bow,train_tpr_bow,threshold=roc_curve(ytrain_Bow_knn,Knn.predict_proba(xtrain_Bow_knn)[:,1])\n",
        "test_fpr_bow,test_tpr_bow,threshold=roc_curve(ytest_bow_knn,Knn.predict_proba(xtest_bow_knn)[:,1])\n",
        "\n",
        "#plotiing the graph for auc score of both train & test \n",
        "sns.lineplot(train_fpr_bow,train_tpr_bow,color=\"r\",label=\"Train auc\" + str(auc(train_fpr_bow,train_tpr_bow) * float(100)))\n",
        "sns.lineplot(test_fpr_bow,test_tpr_bow,color=\"b\",label=\"Test auc\" + str(auc(test_fpr_bow,test_tpr_bow) * float(100)))\n",
        "plt.legend()\n",
        "plt.grid()\n",
        "plt.xlabel(\"hyperparametr\")\n",
        "plt.ylabel(\"auc scores\")\n",
        "plt.title(\"Auc graph for test data\")\n",
        "plt.show()"
      ],
      "execution_count": 42,
      "outputs": [
        {
          "output_type": "display_data",
          "data": {
            "image/png": "[encoded data removed]",
            "text/plain": [
              "<Figure size 432x288 with 1 Axes>"
            ]
          },
          "metadata": {
            "tags": []
          }
        }
      ]
    },
    {
      "metadata": {
        "id": "wmzW6zcE2H80",
        "colab_type": "code",
        "colab": {
          "base_uri": "https://localhost:8080/",
          "height": 295
        },
        "outputId": "8fd4b07b-b166-4968-b129-c2b651c15235"
      },
      "cell_type": "code",
      "source": [
        "#confusion matrix on train data \n",
        "confusion_bow_train=confusion_matrix(ytrain_Bow_knn,Knn.predict(xtrain_Bow_knn))\n",
        "sns.heatmap(confusion_bow_train,annot=True,fmt=\"d\",cmap='hot')\n",
        "plt.title(\"confusion matrix on train data\")\n",
        "plt.xlabel(\"Predicated labels\")\n",
        "plt.ylabel(\"Actual labels\")\n",
        "plt.show()"
      ],
      "execution_count": 45,
      "outputs": [
        {
          "output_type": "display_data",
          "data": {
            "image/png": "[encoded data removed]",
            "text/plain": [
              "<Figure size 432x288 with 2 Axes>"
            ]
          },
          "metadata": {
            "tags": []
          }
        }
      ]
    },
    {
      "metadata": {
        "colab_type": "code",
        "id": "xPjXqwC6dyns",
        "outputId": "a784caea-c075-4168-83c4-704946d2cee7",
        "colab": {
          "base_uri": "https://localhost:8080/",
          "height": 295
        }
      },
      "cell_type": "code",
      "source": [
        "#confusion matrix on test data \n",
        "confusion_bow_test=confusion_matrix(ytest_bow_knn,Knn.predict(xtest_bow_knn))\n",
        "sns.heatmap(confusion_bow_test,annot=True,fmt=\"d\",cmap=\"GnBu\")\n",
        "plt.title(\"confusion matrix on test data\")\n",
        "plt.xlabel(\"Predicated labels\")\n",
        "plt.ylabel(\"Actual labels\")\n",
        "plt.show()"
      ],
      "execution_count": 46,
      "outputs": [
        {
          "output_type": "display_data",
          "data": {
            "image/png": "[encoded data removed]",
            "text/plain": [
              "<Figure size 432x288 with 2 Axes>"
            ]
          },
          "metadata": {
            "tags": []
          }
        }
      ]
    },
    {
      "metadata": {
        "colab_type": "text",
        "id": "AeXsLIRWdyny"
      },
      "cell_type": "markdown",
      "source": [
        "### [5.1.2] Applying KNN brute force on TFIDF,<font color='red'> SET 2</font>"
      ]
    },
    {
      "metadata": {
        "colab_type": "code",
        "id": "WOiIHc3pdynz",
        "colab": {}
      },
      "cell_type": "code",
      "source": [
        "\n",
        "#spiliting the main data into train & test \n",
        "xtrain_tfidf_knn,xtest_tfidf_knn,ytrain_tfidf_knn,ytest_tfidf_knn=train_test_split(preprocessed_reviews,final[\"Score\"],test_size=0.30,random_state=40)\n"
      ],
      "execution_count": 0,
      "outputs": []
    },
    {
      "metadata": {
        "colab_type": "code",
        "id": "FvMrWvbDdyn1",
        "outputId": "20171231-047a-46fd-9d7d-a2a05770a982",
        "colab": {
          "base_uri": "https://localhost:8080/",
          "height": 68
        }
      },
      "cell_type": "code",
      "source": [
        "#fit_transform has to happen only on train data to avoid data leakage\n",
        "count_vect=TfidfVectorizer()\n",
        "xtrain_tfidf_knn=count_vect.fit_transform(xtrain_tfidf_knn)\n",
        "xtest_tfidf_knn=count_vect.transform(xtest_tfidf_knn)\n",
        "\n",
        "#check the size of our all data set\n",
        "\n",
        "print (xtrain_tfidf_knn.shape)\n",
        "print (xtest_tfidf_knn.shape)\n",
        "print (ytest_tfidf_knn.shape)"
      ],
      "execution_count": 48,
      "outputs": [
        {
          "output_type": "stream",
          "text": [
            "(61441, 46085)\n",
            "(26332, 46085)\n",
            "(26332,)\n"
          ],
          "name": "stdout"
        }
      ]
    },
    {
      "metadata": {
        "colab_type": "code",
        "id": "_ZwNYo_xdyn6",
        "colab": {}
      },
      "cell_type": "code",
      "source": [
        "#tunning the hyperparameter with gridsearchcv on TFIDF\n",
        "\n",
        "depth={\"n_neighbors\":list(range(1,20,2))}       \n",
        "\n",
        "Knn=KNeighborsClassifier(algorithm=\"brute\")\n",
        "\n",
        "Knn_Grid=GridSearchCV(Knn,param_grid=depth , cv=3, scoring='roc_auc')\n",
        "Knn_tfidf=Knn_Grid.fit(xtrain_tfidf_knn[0:25000],ytrain_tfidf_knn[0:25000])\n"
      ],
      "execution_count": 0,
      "outputs": []
    },
    {
      "metadata": {
        "colab_type": "code",
        "id": "Y7hkI6qpdyn-",
        "outputId": "5d76fbb5-9a63-45a2-cff5-df41f8c34bd9",
        "colab": {
          "base_uri": "https://localhost:8080/",
          "height": 85
        }
      },
      "cell_type": "code",
      "source": [
        "print (Knn_Grid.best_estimator_)\n",
        "Knn_Grid.best_score_"
      ],
      "execution_count": 50,
      "outputs": [
        {
          "output_type": "stream",
          "text": [
            "KNeighborsClassifier(algorithm='brute', leaf_size=30, metric='minkowski',\n",
            "           metric_params=None, n_jobs=None, n_neighbors=13, p=2,\n",
            "           weights='uniform')\n"
          ],
          "name": "stdout"
        },
        {
          "output_type": "execute_result",
          "data": {
            "text/plain": [
              "0.5066106160150788"
            ]
          },
          "metadata": {
            "tags": []
          },
          "execution_count": 50
        }
      ]
    },
    {
      "metadata": {
        "colab_type": "code",
        "id": "wSBtl0dwdyoC",
        "outputId": "c5d40d60-af62-4547-da78-7f0c21b38925",
        "colab": {
          "base_uri": "https://localhost:8080/",
          "height": 34
        }
      },
      "cell_type": "code",
      "source": [
        "#calculating the best k\n",
        "param_tfidf=pd.DataFrame(Knn_Grid.cv_results_).sort_values('rank_test_score')\n",
        "best_k_tfidf=param_tfidf[\"param_n_neighbors\"].iloc[0]\n",
        "\n",
        "\n",
        "k_values_tfidf=param_tfidf[\"param_n_neighbors\"].unique()\n",
        "\n",
        "print (\"The best K for tfidf is : {0}\".format(best_k_tfidf))\n"
      ],
      "execution_count": 51,
      "outputs": [
        {
          "output_type": "stream",
          "text": [
            "The best K for tfidf is : 13\n"
          ],
          "name": "stdout"
        }
      ]
    },
    {
      "metadata": {
        "colab_type": "code",
        "id": "4Ct8Ne5edyoF",
        "outputId": "a0291ca7-cc2d-40c5-853a-42f13e22a056",
        "colab": {
          "base_uri": "https://localhost:8080/",
          "height": 294
        }
      },
      "cell_type": "code",
      "source": [
        "#graph for train scores of Grid search for all hyperparameters\n",
        "\n",
        "plt.figure(figsize=(8,6))\n",
        "plt.subplots_adjust(left=.2, right=0.95, bottom=0.15, top=0.65)\n",
        "\n",
        "sns.lineplot(param_tfidf[\"param_n_neighbors\"],param_tfidf[\"mean_train_score\"],label=\"Grid_train score\")\n",
        "sns.lineplot(param_tfidf[\"param_n_neighbors\"],param_tfidf[\"mean_test_score\"],label=\"Grid_test score\")\n",
        "plt.grid()\n",
        "plt.xlabel(\"K-value\")\n",
        "plt.ylabel(\"Accuracy score\")\n",
        "plt.xticks(k)\n",
        "plt.title(\"Graph for auc train scores & test score on TFIDF\")\n",
        "plt.show()"
      ],
      "execution_count": 52,
      "outputs": [
        {
          "output_type": "display_data",
          "data": {
            "image/png": "[encoded data removed]",
            "text/plain": [
              "<Figure size 576x432 with 1 Axes>"
            ]
          },
          "metadata": {
            "tags": []
          }
        }
      ]
    },
    {
      "metadata": {
        "colab_type": "code",
        "id": "t3WB5932dyoP",
        "outputId": "8cbfe197-b312-4f63-9bc2-79af670d3207",
        "colab": {
          "base_uri": "https://localhost:8080/",
          "height": 295
        }
      },
      "cell_type": "code",
      "source": [
        "#fitting our model on test(unseen data) data \n",
        "Knn=KNeighborsClassifier(n_neighbors=best_k_tfidf,algorithm=\"brute\")\n",
        "Knn.fit(xtrain_tfidf_knn[0:25000],ytrain_tfidf_knn[0:25000])\n",
        "\n",
        "train_fpr_tfidf,train_tpr_tfidf,threshold=roc_curve(ytrain_tfidf_knn,Knn.predict_proba(xtrain_tfidf_knn)[:,1])\n",
        "test_fpr_tfidf,test_tpr_tfidf,threshold=roc_curve(ytest_tfidf_knn,Knn.predict_proba(xtest_tfidf_knn)[:,1])\n",
        "\n",
        "#plotiing the graph for auc score of both train & test \n",
        "sns.lineplot(train_fpr_tfidf,train_tpr_tfidf,color=\"r\",label=\"Train auc\" + str(auc(train_fpr_tfidf,train_tpr_tfidf) * float(100)))\n",
        "sns.lineplot(test_fpr_tfidf,test_tpr_tfidf,color=\"b\",label=\"Test auc\" + str(auc(test_fpr_tfidf,test_tpr_tfidf) * float(100)))\n",
        "plt.legend()\n",
        "plt.grid()\n",
        "plt.xlabel(\"FPR\")\n",
        "plt.ylabel(\"TPR\")\n",
        "plt.title(\"Auc graph for test data\")\n",
        "plt.show()"
      ],
      "execution_count": 53,
      "outputs": [
        {
          "output_type": "display_data",
          "data": {
            "image/png": "[encoded data removed]",
            "text/plain": [
              "<Figure size 432x288 with 1 Axes>"
            ]
          },
          "metadata": {
            "tags": []
          }
        }
      ]
    },
    {
      "metadata": {
        "id": "gA40O5yG2WUY",
        "colab_type": "code",
        "colab": {
          "base_uri": "https://localhost:8080/",
          "height": 295
        },
        "outputId": "181d4801-a445-4ea8-c1e2-66550d6b7671"
      },
      "cell_type": "code",
      "source": [
        "#confusion matrix on train data \n",
        "confusion_tfidf_train=confusion_matrix(ytrain_tfidf_knn,Knn.predict(xtrain_tfidf_knn))\n",
        "sns.heatmap(confusion_tfidf_train,annot=True,fmt=\"d\",cmap='hot')\n",
        "plt.title(\"confusion matrix on train data\")\n",
        "plt.xlabel(\"Predicated labels\")\n",
        "plt.ylabel(\"Actual labels\")\n",
        "plt.show()"
      ],
      "execution_count": 54,
      "outputs": [
        {
          "output_type": "display_data",
          "data": {
            "image/png": "[encoded data removed]",
            "text/plain": [
              "<Figure size 432x288 with 2 Axes>"
            ]
          },
          "metadata": {
            "tags": []
          }
        }
      ]
    },
    {
      "metadata": {
        "colab_type": "code",
        "id": "7hZ-zL06dyoT",
        "outputId": "9b9073c5-647b-477b-817c-2786cba1ed98",
        "colab": {
          "base_uri": "https://localhost:8080/",
          "height": 295
        }
      },
      "cell_type": "code",
      "source": [
        "#confusion matrix on test data \n",
        "confusion_tfidf_test=confusion_matrix(ytest_tfidf_knn,Knn.predict(xtest_tfidf_knn))\n",
        "sns.heatmap(confusion_tfidf_test,annot=True,fmt=\"d\",cmap=\"PuBu\")\n",
        "plt.title(\"confusion matrix on test data\")\n",
        "plt.xlabel(\"Predicated labels\")\n",
        "plt.ylabel(\"Actual labels\")\n",
        "plt.show()"
      ],
      "execution_count": 55,
      "outputs": [
        {
          "output_type": "display_data",
          "data": {
            "image/png": "[encoded data removed]",
            "text/plain": [
              "<Figure size 432x288 with 2 Axes>"
            ]
          },
          "metadata": {
            "tags": []
          }
        }
      ]
    },
    {
      "metadata": {
        "id": "jRGeeBys2VxR",
        "colab_type": "code",
        "colab": {}
      },
      "cell_type": "code",
      "source": [
        ""
      ],
      "execution_count": 0,
      "outputs": []
    },
    {
      "metadata": {
        "colab_type": "text",
        "id": "9kTJLixIdyoW"
      },
      "cell_type": "markdown",
      "source": [
        "### [5.1.3] Applying KNN brute force on AVG W2V,<font color='red'> SET 3</font>"
      ]
    },
    {
      "metadata": {
        "colab_type": "code",
        "id": "hnHEzH_NdyoX",
        "colab": {}
      },
      "cell_type": "code",
      "source": [
        "\n",
        "\n",
        "#spiliting the main data into train ,cv & test \n",
        "xtrain_avgw2v_knn,xtest_avgw2v_knn,ytrain_avgw2v_knn,ytest_avgw2v_knn=train_test_split(sent_vectors,final[\"Score\"],test_size=0.20,random_state=40)"
      ],
      "execution_count": 0,
      "outputs": []
    },
    {
      "metadata": {
        "colab_type": "code",
        "id": "cJxqreAldyoc",
        "outputId": "1c8761d4-68b3-4558-960a-b18038c4f831",
        "colab": {
          "base_uri": "https://localhost:8080/",
          "height": 68
        }
      },
      "cell_type": "code",
      "source": [
        "#check the size of our all data set\n",
        "\n",
        "print (len(xtrain_avgw2v_knn))\n",
        "print (len(xtest_avgw2v_knn))\n",
        "print (len(ytest_avgw2v_knn))"
      ],
      "execution_count": 57,
      "outputs": [
        {
          "output_type": "stream",
          "text": [
            "70218\n",
            "17555\n",
            "17555\n"
          ],
          "name": "stdout"
        }
      ]
    },
    {
      "metadata": {
        "colab_type": "code",
        "id": "rUeHqEKtdyog",
        "colab": {}
      },
      "cell_type": "code",
      "source": [
        "#tunning the hyperparameter with gridsearchcv on AVGW2V\n",
        "    \n",
        "\n",
        "Knn=KNeighborsClassifier(algorithm=\"brute\")\n",
        "\n",
        "Knn_Grid=GridSearchCV(Knn,param_grid=param, cv=3, scoring='roc_auc')\n",
        "Knn_avgw2v=Knn_Grid.fit(xtrain_avgw2v_knn[0:25000],ytrain_avgw2v_knn[0:25000])\n"
      ],
      "execution_count": 0,
      "outputs": []
    },
    {
      "metadata": {
        "colab_type": "code",
        "id": "hTyprMxxdyoj",
        "outputId": "6c2e8d9c-d4df-40d6-bfbf-07905a710a62",
        "colab": {
          "base_uri": "https://localhost:8080/",
          "height": 85
        }
      },
      "cell_type": "code",
      "source": [
        "print (Knn_Grid.best_estimator_)\n",
        "Knn_Grid.best_score_"
      ],
      "execution_count": 59,
      "outputs": [
        {
          "output_type": "stream",
          "text": [
            "KNeighborsClassifier(algorithm='brute', leaf_size=30, metric='minkowski',\n",
            "           metric_params=None, n_jobs=None, n_neighbors=19, p=2,\n",
            "           weights='uniform')\n"
          ],
          "name": "stdout"
        },
        {
          "output_type": "execute_result",
          "data": {
            "text/plain": [
              "0.8734301833325113"
            ]
          },
          "metadata": {
            "tags": []
          },
          "execution_count": 59
        }
      ]
    },
    {
      "metadata": {
        "colab_type": "code",
        "id": "s7-APiBndyoo",
        "outputId": "4c0bc547-b195-46aa-8ef1-02608708a65a",
        "colab": {
          "base_uri": "https://localhost:8080/",
          "height": 34
        }
      },
      "cell_type": "code",
      "source": [
        "#calculating the best k\n",
        "param_avgw2v=pd.DataFrame(Knn_Grid.cv_results_).sort_values('rank_test_score')\n",
        "best_k_avgw2v=param_avgw2v[\"param_n_neighbors\"].iloc[0]\n",
        "\n",
        "\n",
        "k_values_avgw2v=param_avgw2v[\"param_n_neighbors\"].unique()\n",
        "\n",
        "print (\"The best K for avgw2v is : {0}\".format(best_k_avgw2v))\n"
      ],
      "execution_count": 60,
      "outputs": [
        {
          "output_type": "stream",
          "text": [
            "The best K for avgw2v is : 19\n"
          ],
          "name": "stdout"
        }
      ]
    },
    {
      "metadata": {
        "colab_type": "code",
        "id": "VqhCz_iLdyor",
        "outputId": "ef7c9277-d73c-49df-d4cd-511cedccbb2a",
        "colab": {
          "base_uri": "https://localhost:8080/",
          "height": 294
        }
      },
      "cell_type": "code",
      "source": [
        "#graph for train scores of Grid search for all hyperparameters\n",
        "\n",
        "plt.figure(figsize=(8,6))\n",
        "plt.subplots_adjust(left=.2, right=0.95, bottom=0.15, top=0.65)\n",
        "\n",
        "sns.lineplot(param_avgw2v[\"param_n_neighbors\"],param_avgw2v[\"mean_train_score\"],label=\"Grid_train score\")\n",
        "sns.lineplot(param_avgw2v[\"param_n_neighbors\"],param_avgw2v[\"mean_test_score\"],label=\"Grid_test score\")\n",
        "plt.grid()\n",
        "plt.xlabel(\"K-value\")\n",
        "plt.ylabel(\"Accuracy score\")\n",
        "plt.xticks(k)\n",
        "plt.title(\"Graph for auc train scores & Test scores on AVGW2V\")\n",
        "plt.show()"
      ],
      "execution_count": 61,
      "outputs": [
        {
          "output_type": "display_data",
          "data": {
            "image/png": "[encoded data removed]",
            "text/plain": [
              "<Figure size 576x432 with 1 Axes>"
            ]
          },
          "metadata": {
            "tags": []
          }
        }
      ]
    },
    {
      "metadata": {
        "colab_type": "code",
        "id": "FfJURWzZdyox",
        "outputId": "eb03ee5d-09cd-416e-cd4b-8055126569da",
        "colab": {
          "base_uri": "https://localhost:8080/",
          "height": 295
        }
      },
      "cell_type": "code",
      "source": [
        "#fitting our model on test(unseen data) data \n",
        "Knn=KNeighborsClassifier(n_neighbors=best_k_avgw2v,algorithm=\"brute\")\n",
        "Knn.fit(xtrain_avgw2v_knn[0:25000],ytrain_avgw2v_knn[0:25000])\n",
        "\n",
        "train_fpr_avgw2v,train_tpr_avgw2v,threshold=roc_curve(ytrain_avgw2v_knn,Knn.predict_proba(xtrain_avgw2v_knn)[:,1])\n",
        "test_fpr_avgw2v,test_tpr_avgw2v,threshold=roc_curve(ytest_avgw2v_knn,Knn.predict_proba(xtest_avgw2v_knn)[:,1])\n",
        "\n",
        "#plotiing the graph for auc score of both train & test \n",
        "sns.lineplot(train_fpr_avgw2v,train_tpr_avgw2v,color=\"r\",label=\"Train auc\" + str(auc(train_fpr_avgw2v,train_tpr_avgw2v) * float(100)))\n",
        "sns.lineplot(test_fpr_avgw2v,test_tpr_avgw2v,color=\"b\",label=\"Test auc\" + str(auc(test_fpr_avgw2v,test_tpr_avgw2v) * float(100)))\n",
        "plt.legend()\n",
        "plt.grid()\n",
        "plt.xlabel(\"FPR\")\n",
        "plt.ylabel(\"TPR\")\n",
        "plt.title(\"Auc graph for test data\")\n",
        "plt.show()"
      ],
      "execution_count": 62,
      "outputs": [
        {
          "output_type": "display_data",
          "data": {
            "image/png": "[encoded data removed]",
            "text/plain": [
              "<Figure size 432x288 with 1 Axes>"
            ]
          },
          "metadata": {
            "tags": []
          }
        }
      ]
    },
    {
      "metadata": {
        "id": "-6Pc9Fd627we",
        "colab_type": "code",
        "colab": {
          "base_uri": "https://localhost:8080/",
          "height": 295
        },
        "outputId": "229e1fe6-7cd0-482c-aacf-ad14dbec7510"
      },
      "cell_type": "code",
      "source": [
        "#confusion matrix on train data \n",
        "confusion_avgw2v_train=confusion_matrix(ytrain_avgw2v_knn,Knn.predict(xtrain_avgw2v_knn))\n",
        "sns.heatmap(confusion_avgw2v_train,annot=True,fmt=\"d\",cmap='hot')\n",
        "plt.title(\"confusion matrix on train data\")\n",
        "plt.xlabel(\"Predicated labels\")\n",
        "plt.ylabel(\"Actual labels\")\n",
        "plt.show()"
      ],
      "execution_count": 63,
      "outputs": [
        {
          "output_type": "display_data",
          "data": {
            "image/png": "[encoded data removed]",
            "text/plain": [
              "<Figure size 432x288 with 2 Axes>"
            ]
          },
          "metadata": {
            "tags": []
          }
        }
      ]
    },
    {
      "metadata": {
        "colab_type": "code",
        "id": "uuWGsVhcdyoz",
        "outputId": "1c5a988c-b032-4245-f24e-9258a3b7e198",
        "colab": {
          "base_uri": "https://localhost:8080/",
          "height": 295
        }
      },
      "cell_type": "code",
      "source": [
        "#confusion matrix on test data \n",
        "confusion_avgw2v_test=confusion_matrix(ytest_avgw2v_knn,Knn.predict(xtest_avgw2v_knn))\n",
        "sns.heatmap(confusion_avgw2v_test,annot=True,fmt=\"d\",cmap=\"RdYlGn\")\n",
        "plt.title(\"confusion matrix on test data\")\n",
        "plt.xlabel(\"Predicated labels\")\n",
        "plt.ylabel(\"Actual labels\")\n",
        "plt.show()"
      ],
      "execution_count": 64,
      "outputs": [
        {
          "output_type": "display_data",
          "data": {
            "image/png": "[encoded data removed]",
            "text/plain": [
              "<Figure size 432x288 with 2 Axes>"
            ]
          },
          "metadata": {
            "tags": []
          }
        }
      ]
    },
    {
      "metadata": {
        "colab_type": "text",
        "id": "JzJ0-mG6dyo3"
      },
      "cell_type": "markdown",
      "source": [
        "### [5.1.4] Applying KNN brute force on TFIDF W2V,<font color='red'> SET 4</font>"
      ]
    },
    {
      "metadata": {
        "colab_type": "code",
        "id": "xjFKXbWtdyo3",
        "colab": {}
      },
      "cell_type": "code",
      "source": [
        "\n",
        "\n",
        "#spiliting the main data into train ,cv & test \n",
        "xtrain_tfidfw2v_knn,xtest_tfidfw2v_knn,ytrain_tfidfw2v_knn,ytest_tfidfw2v_knn=train_test_split(tfidf_sent_vectors,final[\"Score\"],test_size=0.20,random_state=40)"
      ],
      "execution_count": 0,
      "outputs": []
    },
    {
      "metadata": {
        "colab_type": "code",
        "id": "7QhpHvEgdyo5",
        "outputId": "d3c7c7f9-0a03-472b-bfee-76b3e0a68b3e",
        "colab": {
          "base_uri": "https://localhost:8080/",
          "height": 68
        }
      },
      "cell_type": "code",
      "source": [
        "#check the size of our all data set\n",
        "\n",
        "print (len(xtrain_tfidfw2v_knn))\n",
        "print (len(xtest_tfidfw2v_knn))\n",
        "print (len(ytest_tfidfw2v_knn))"
      ],
      "execution_count": 66,
      "outputs": [
        {
          "output_type": "stream",
          "text": [
            "70218\n",
            "17555\n",
            "17555\n"
          ],
          "name": "stdout"
        }
      ]
    },
    {
      "metadata": {
        "colab_type": "code",
        "id": "jh_mCgO-dyo8",
        "colab": {}
      },
      "cell_type": "code",
      "source": [
        "#tunning the hyperparameter with gridsearchcv on TFIDFW2V\n",
        "\n",
        "    \n",
        "\n",
        "Knn=KNeighborsClassifier(algorithm=\"brute\")\n",
        "\n",
        "Knn_Grid=GridSearchCV(Knn,param_grid=depth , cv=3, scoring='roc_auc')\n",
        "Knn_tfidfw2v=Knn_Grid.fit(xtrain_tfidfw2v_knn[0:25000],ytrain_tfidfw2v_knn[0:25000])\n"
      ],
      "execution_count": 0,
      "outputs": []
    },
    {
      "metadata": {
        "colab_type": "code",
        "id": "9hjruwPNdypA",
        "outputId": "55d8ef0d-583d-4e5b-b7ce-d89b4d1134a0",
        "colab": {
          "base_uri": "https://localhost:8080/",
          "height": 85
        }
      },
      "cell_type": "code",
      "source": [
        "print (Knn_Grid.best_estimator_)\n",
        "Knn_Grid.best_score_"
      ],
      "execution_count": 68,
      "outputs": [
        {
          "output_type": "stream",
          "text": [
            "KNeighborsClassifier(algorithm='brute', leaf_size=30, metric='minkowski',\n",
            "           metric_params=None, n_jobs=None, n_neighbors=19, p=2,\n",
            "           weights='uniform')\n"
          ],
          "name": "stdout"
        },
        {
          "output_type": "execute_result",
          "data": {
            "text/plain": [
              "0.8411677500688294"
            ]
          },
          "metadata": {
            "tags": []
          },
          "execution_count": 68
        }
      ]
    },
    {
      "metadata": {
        "colab_type": "code",
        "id": "Ym9AMhAMdypF",
        "outputId": "58cb0eab-b91a-4ce2-864d-e501f04920bb",
        "colab": {
          "base_uri": "https://localhost:8080/",
          "height": 34
        }
      },
      "cell_type": "code",
      "source": [
        "#calculating the best k\n",
        "param_tfidfw2v=pd.DataFrame(Knn_Grid.cv_results_).sort_values('rank_test_score')\n",
        "best_k_tfidfw2v=param_tfidfw2v[\"param_n_neighbors\"].iloc[0]\n",
        "\n",
        "\n",
        "k_values_tfidfw2v=param_tfidfw2v[\"param_n_neighbors\"].unique()\n",
        "\n",
        "print (\"The best K for tfidfw2v is : {0}\".format(best_k_tfidfw2v))"
      ],
      "execution_count": 69,
      "outputs": [
        {
          "output_type": "stream",
          "text": [
            "The best K for tfidfw2v is : 19\n"
          ],
          "name": "stdout"
        }
      ]
    },
    {
      "metadata": {
        "colab_type": "code",
        "id": "ThuFfeOqdypK",
        "outputId": "cf878281-00c5-4de8-9586-985627a16a9e",
        "colab": {
          "base_uri": "https://localhost:8080/",
          "height": 294
        }
      },
      "cell_type": "code",
      "source": [
        "#graph for train scores of Grid search for all hyperparameters\n",
        "\n",
        "plt.figure(figsize=(8,6))\n",
        "plt.subplots_adjust(left=.2, right=0.95, bottom=0.15, top=0.65)\n",
        "\n",
        "sns.lineplot(param_tfidfw2v[\"param_n_neighbors\"],param_tfidfw2v[\"mean_train_score\"],label=\"Grid_train score\")\n",
        "sns.lineplot(param_tfidfw2v[\"param_n_neighbors\"],param_tfidfw2v[\"mean_test_score\"],label=\"Grid_test score\")\n",
        "plt.grid()\n",
        "plt.xlabel(\"K-value\")\n",
        "plt.ylabel(\"Accuracy score\")\n",
        "plt.xticks(k)\n",
        "plt.title(\"Graph for auc train & test scores on tfidfw2v\")\n",
        "plt.show()"
      ],
      "execution_count": 70,
      "outputs": [
        {
          "output_type": "display_data",
          "data": {
            "image/png": "[encoded data removed]",
            "text/plain": [
              "<Figure size 576x432 with 1 Axes>"
            ]
          },
          "metadata": {
            "tags": []
          }
        }
      ]
    },
    {
      "metadata": {
        "colab_type": "code",
        "id": "LwbLp12edypS",
        "outputId": "63dffe2d-3c07-432a-a3d8-9a6f4ce25cb7",
        "colab": {
          "base_uri": "https://localhost:8080/",
          "height": 295
        }
      },
      "cell_type": "code",
      "source": [
        "#fitting our model on test(unseen data) data \n",
        "Knn=KNeighborsClassifier(n_neighbors=best_k_tfidfw2v,algorithm=\"brute\")\n",
        "Knn.fit(xtrain_tfidfw2v_knn[0:25000],ytrain_tfidfw2v_knn[0:25000])\n",
        "\n",
        "train_fpr_tfidfw2v,train_tpr_tfidfw2v,threshold=roc_curve(ytrain_tfidfw2v_knn,Knn.predict_proba(xtrain_tfidfw2v_knn)[:,1])\n",
        "test_fpr_tfidfw2v,test_tpr_tfidfw2v,threshold=roc_curve(ytest_tfidfw2v_knn,Knn.predict_proba(xtest_tfidfw2v_knn)[:,1])\n",
        "\n",
        "#plotiing the graph for auc score of both train & test \n",
        "sns.lineplot(train_fpr_tfidfw2v,train_tpr_tfidfw2v,color=\"r\",label=\"Train auc\" + str(auc(train_fpr_tfidfw2v,train_tpr_tfidfw2v) * float(100)))\n",
        "sns.lineplot(test_fpr_tfidfw2v,test_tpr_tfidfw2v,color=\"b\",label=\"Test auc\" + str(auc(test_fpr_tfidfw2v,test_tpr_tfidfw2v) * float(100)))\n",
        "plt.legend()\n",
        "plt.grid()\n",
        "plt.xlabel(\"FPR\")\n",
        "plt.ylabel(\"TPR\")\n",
        "plt.title(\"Auc graph for test data\")\n",
        "plt.show()"
      ],
      "execution_count": 71,
      "outputs": [
        {
          "output_type": "display_data",
          "data": {
            "image/png": "[encoded data removed]",
            "text/plain": [
              "<Figure size 432x288 with 1 Axes>"
            ]
          },
          "metadata": {
            "tags": []
          }
        }
      ]
    },
    {
      "metadata": {
        "id": "wVBcoGLR3Pn6",
        "colab_type": "code",
        "colab": {
          "base_uri": "https://localhost:8080/",
          "height": 295
        },
        "outputId": "5e4a2b7d-5529-4b7a-edb1-577b1c24705c"
      },
      "cell_type": "code",
      "source": [
        "#confusion matrix on train data \n",
        "confusion_tfidfw2v_train=confusion_matrix(ytrain_tfidfw2v_knn,Knn.predict(xtrain_tfidfw2v_knn))\n",
        "sns.heatmap(confusion_tfidfw2v_train,annot=True,fmt=\"d\",cmap='hot')\n",
        "plt.title(\"confusion matrix on train data\")\n",
        "plt.xlabel(\"Predicated labels\")\n",
        "plt.ylabel(\"Actual labels\")\n",
        "plt.show()"
      ],
      "execution_count": 72,
      "outputs": [
        {
          "output_type": "display_data",
          "data": {
            "image/png": "[encoded data removed]",
            "text/plain": [
              "<Figure size 432x288 with 2 Axes>"
            ]
          },
          "metadata": {
            "tags": []
          }
        }
      ]
    },
    {
      "metadata": {
        "colab_type": "code",
        "id": "sZC05cn-dypY",
        "outputId": "71b3688d-fedb-4e58-996b-996aa7ac49ea",
        "colab": {
          "base_uri": "https://localhost:8080/",
          "height": 295
        }
      },
      "cell_type": "code",
      "source": [
        "#confusion matrix on test data \n",
        "confusion_tfidfw2v_test=confusion_matrix(ytest_tfidfw2v_knn,Knn.predict(xtest_tfidfw2v_knn))\n",
        "sns.heatmap(confusion_avgw2v_test,annot=True,fmt=\"d\",cmap='hot')\n",
        "plt.title(\"confusion matrix on test data\")\n",
        "plt.xlabel(\"Predicated labels\")\n",
        "plt.ylabel(\"Actual labels\")\n",
        "plt.show()"
      ],
      "execution_count": 73,
      "outputs": [
        {
          "output_type": "display_data",
          "data": {
            "image/png": "[encoded data removed]",
            "text/plain": [
              "<Figure size 432x288 with 2 Axes>"
            ]
          },
          "metadata": {
            "tags": []
          }
        }
      ]
    },
    {
      "metadata": {
        "colab_type": "text",
        "id": "zRIdSKIsdypb"
      },
      "cell_type": "markdown",
      "source": [
        "# Conclusion on brute Knn"
      ]
    },
    {
      "metadata": {
        "colab_type": "code",
        "id": "GDD6HaXEdypc",
        "outputId": "97525539-bd9c-4d9a-e8f2-82fd88ff795a",
        "colab": {
          "base_uri": "https://localhost:8080/",
          "height": 153
        }
      },
      "cell_type": "code",
      "source": [
        "# Brute knn conclusions\n",
        "conculsion=PrettyTable()\n",
        "conculsion.field_names=[\"Model\",\"best k\",\"Test_Auc\"]\n",
        "conculsion.add_row([\"Bow\",best_k_bow,auc(test_fpr_bow,test_tpr_bow) * float(100)])\n",
        "conculsion.add_row([\"Tfidf\",best_k_tfidf,auc(test_fpr_tfidf,test_tpr_tfidf) * float(100)])\n",
        "conculsion.add_row([\"Avgw2v\",best_k_avgw2v,auc(test_fpr_avgw2v,test_tpr_avgw2v) * float(100)])\n",
        "conculsion.add_row([\"Tfidf-W2v\",best_k_tfidfw2v,auc(test_fpr_tfidfw2v,test_tpr_tfidfw2v) * float(100)])\n",
        "print (conculsion)"
      ],
      "execution_count": 74,
      "outputs": [
        {
          "output_type": "stream",
          "text": [
            "+-----------+--------+-------------------+\n",
            "|   Model   | best k |      Test_Auc     |\n",
            "+-----------+--------+-------------------+\n",
            "|    Bow    |   15   | 65.66737783930391 |\n",
            "|   Tfidf   |   13   | 50.61697237454307 |\n",
            "|   Avgw2v  |   19   | 87.68535803477592 |\n",
            "| Tfidf-W2v |   19   | 84.54541654196863 |\n",
            "+-----------+--------+-------------------+\n"
          ],
          "name": "stdout"
        }
      ]
    },
    {
      "metadata": {
        "colab_type": "text",
        "id": "jml3mit8dypi"
      },
      "cell_type": "markdown",
      "source": [
        "## [5.2] Applying KNN kd-tree"
      ]
    },
    {
      "metadata": {
        "colab_type": "text",
        "id": "9k2AhSZHdypi"
      },
      "cell_type": "markdown",
      "source": [
        "### [5.2.1] Applying KNN kd-tree on BOW,<font color='red'> SET 5</font>"
      ]
    },
    {
      "metadata": {
        "colab_type": "code",
        "id": "FMFgLx8Sdypj",
        "colab": {}
      },
      "cell_type": "code",
      "source": [
        "\n",
        "\n",
        "#spiliting the main data into train ,cv & test \n",
        "xtrain_Bow_knn,xtest_bow_knn,ytrain_Bow_knn,ytest_bow_knn=train_test_split(preprocessed_reviews,final[\"Score\"],test_size=0.30,random_state=40)\n"
      ],
      "execution_count": 0,
      "outputs": []
    },
    {
      "metadata": {
        "colab_type": "code",
        "id": "Zl9GKdpldypl",
        "outputId": "256ba3f6-a303-456e-ff46-dce70e2dad90",
        "colab": {
          "base_uri": "https://localhost:8080/",
          "height": 68
        }
      },
      "cell_type": "code",
      "source": [
        "#fit_transform has to happen only on train data to avoid data leakage\n",
        "count_vect=CountVectorizer(min_df=10, max_features=500)\n",
        "xtrain_Bow_knn=count_vect.fit_transform(xtrain_Bow_knn)\n",
        "xtest_bow_knn=count_vect.transform(xtest_bow_knn)\n",
        "\n",
        "#check the size of our all data set\n",
        "\n",
        "print (xtrain_Bow_knn.shape)\n",
        "print (xtest_bow_knn.shape)\n",
        "print (ytest_bow_knn.shape)\n",
        "\n"
      ],
      "execution_count": 76,
      "outputs": [
        {
          "output_type": "stream",
          "text": [
            "(61441, 500)\n",
            "(26332, 500)\n",
            "(26332,)\n"
          ],
          "name": "stdout"
        }
      ]
    },
    {
      "metadata": {
        "colab_type": "code",
        "id": "yG65ChgOdypo",
        "outputId": "20e0db70-b278-477e-a77a-2029a6acfb26",
        "colab": {
          "base_uri": "https://localhost:8080/",
          "height": 51
        }
      },
      "cell_type": "code",
      "source": [
        "print  (type(xtrain_Bow_knn))\n",
        "\n",
        "#As kd_tree dont accept sparse matrix we need to convert our matrix into dens form as follows .\n",
        "\n",
        "xtrain_Bow_knn=xtrain_Bow_knn.toarray()\n",
        "xtest_bow_knn=xtest_bow_knn.toarray()\n",
        "\n",
        "print (type(xtrain_Bow_knn))"
      ],
      "execution_count": 77,
      "outputs": [
        {
          "output_type": "stream",
          "text": [
            "<class 'scipy.sparse.csr.csr_matrix'>\n",
            "<class 'numpy.ndarray'>\n"
          ],
          "name": "stdout"
        }
      ]
    },
    {
      "metadata": {
        "colab_type": "code",
        "id": "LBEPXR_wdyps",
        "colab": {}
      },
      "cell_type": "code",
      "source": [
        "#tunning the hyperparameter with gridsearchcv on BOW\n",
        "k=list(range(1,20,2))\n",
        "depth={\"n_neighbors\":list(range(1,20,2))}       \n",
        "\n",
        "Knn=KNeighborsClassifier(algorithm=\"kd_tree\")\n",
        "\n",
        "Knn_Grid=GridSearchCV(Knn,param_grid=depth , cv=3, scoring='roc_auc')\n",
        "Knn_Bow=Knn_Grid.fit(xtrain_Bow_knn[0:10000],ytrain_Bow_knn[0:10000])\n"
      ],
      "execution_count": 0,
      "outputs": []
    },
    {
      "metadata": {
        "colab_type": "code",
        "id": "B-6I7GSadypw",
        "outputId": "f5ab7d5a-004a-4e19-c89d-727bac6b8c7c",
        "colab": {
          "base_uri": "https://localhost:8080/",
          "height": 85
        }
      },
      "cell_type": "code",
      "source": [
        "print (Knn_Grid.best_estimator_)\n",
        "Knn_Grid.best_score_"
      ],
      "execution_count": 79,
      "outputs": [
        {
          "output_type": "stream",
          "text": [
            "KNeighborsClassifier(algorithm='kd_tree', leaf_size=30, metric='minkowski',\n",
            "           metric_params=None, n_jobs=None, n_neighbors=19, p=2,\n",
            "           weights='uniform')\n"
          ],
          "name": "stdout"
        },
        {
          "output_type": "execute_result",
          "data": {
            "text/plain": [
              "0.7336367208577095"
            ]
          },
          "metadata": {
            "tags": []
          },
          "execution_count": 79
        }
      ]
    },
    {
      "metadata": {
        "colab_type": "code",
        "id": "qObA4o47dypz",
        "outputId": "7323382e-4e89-471c-8a07-bc9970690cb0",
        "colab": {
          "base_uri": "https://localhost:8080/",
          "height": 34
        }
      },
      "cell_type": "code",
      "source": [
        "#calculating the best k\n",
        "param_bow=pd.DataFrame(Knn_Grid.cv_results_).sort_values('rank_test_score')\n",
        "best_k_bow=param_bow[\"param_n_neighbors\"].iloc[0]\n",
        "\n",
        "\n",
        "k_values_bow=param_bow[\"param_n_neighbors\"].unique()\n",
        "\n",
        "print (\"The best K for bow is : {0}\".format(best_k_bow))\n"
      ],
      "execution_count": 80,
      "outputs": [
        {
          "output_type": "stream",
          "text": [
            "The best K for bow is : 19\n"
          ],
          "name": "stdout"
        }
      ]
    },
    {
      "metadata": {
        "colab_type": "code",
        "id": "m-EQOUWHdyp1",
        "outputId": "ea15ae27-76ff-4cce-b6f9-280a69a86160",
        "colab": {
          "base_uri": "https://localhost:8080/",
          "height": 294
        }
      },
      "cell_type": "code",
      "source": [
        "#graph for train scores of Grid search for all hyperparameters\n",
        "\n",
        "plt.figure(figsize=(8,6))\n",
        "plt.subplots_adjust(left=.2, right=0.95, bottom=0.15, top=0.65)\n",
        "\n",
        "sns.lineplot(param_bow[\"param_n_neighbors\"],param_bow[\"mean_train_score\"],label=\"Grid_train score\")\n",
        "sns.lineplot(param_bow[\"param_n_neighbors\"],param_bow[\"mean_test_score\"],label=\"Grid_test score\")\n",
        "plt.grid()\n",
        "plt.xlabel(\"K-value\")\n",
        "plt.ylabel(\"Accuracy score\")\n",
        "plt.xticks(k)\n",
        "plt.title(\"Graph for auc Train & Test scores on BOW\")\n",
        "plt.show()"
      ],
      "execution_count": 81,
      "outputs": [
        {
          "output_type": "display_data",
          "data": {
            "image/png": "[encoded data removed]",
            "text/plain": [
              "<Figure size 576x432 with 1 Axes>"
            ]
          },
          "metadata": {
            "tags": []
          }
        }
      ]
    },
    {
      "metadata": {
        "colab_type": "code",
        "id": "MCQLXOkkdyp7",
        "outputId": "e4390a51-5274-45ad-907b-1ad8b9220ee4",
        "colab": {
          "base_uri": "https://localhost:8080/",
          "height": 295
        }
      },
      "cell_type": "code",
      "source": [
        "#fitting our model on test(unseen data) data \n",
        "Knn=KNeighborsClassifier(n_neighbors=best_k_bow,algorithm=\"kd_tree\")\n",
        "Knn.fit(xtrain_Bow_knn[0:25000],ytrain_Bow_knn[0:25000])\n",
        "\n",
        "train_fpr_bow,train_tpr_bow,threshold=roc_curve(ytrain_Bow_knn,Knn.predict_proba(xtrain_Bow_knn)[:,1])\n",
        "test_fpr_bow,test_tpr_bow,threshold=roc_curve(ytest_bow_knn,Knn.predict_proba(xtest_bow_knn)[:,1])\n",
        "\n",
        "#plotiing the graph for auc score of both train & test \n",
        "sns.lineplot(train_fpr_bow,train_tpr_bow,color=\"r\",label=\"Train auc\" + str(auc(train_fpr_bow,train_tpr_bow) * float(100)))\n",
        "sns.lineplot(test_fpr_bow,test_tpr_bow,color=\"b\",label=\"Test auc\" + str(auc(test_fpr_bow,test_tpr_bow) * float(100)))\n",
        "plt.legend()\n",
        "plt.grid()\n",
        "plt.xlabel(\"FPR\")\n",
        "plt.ylabel(\"TPR\")\n",
        "plt.title(\"Auc graph for test data\")\n",
        "plt.show()"
      ],
      "execution_count": 83,
      "outputs": [
        {
          "output_type": "display_data",
          "data": {
            "image/png": "[encoded data removed]",
            "text/plain": [
              "<Figure size 432x288 with 1 Axes>"
            ]
          },
          "metadata": {
            "tags": []
          }
        }
      ]
    },
    {
      "metadata": {
        "id": "IEUgFiH84xwD",
        "colab_type": "code",
        "colab": {
          "base_uri": "https://localhost:8080/",
          "height": 295
        },
        "outputId": "b8cc4146-6b06-454c-ddaa-ad92b702be1d"
      },
      "cell_type": "code",
      "source": [
        "#confusion matrix on train data \n",
        "confusion_Bow_train=confusion_matrix(ytrain_Bow_knn,Knn.predict(xtrain_Bow_knn))\n",
        "sns.heatmap(confusion_Bow_train,annot=True,fmt=\"d\",cmap='hot')\n",
        "plt.title(\"confusion matrix on train data\")\n",
        "plt.xlabel(\"Predicated labels\")\n",
        "plt.ylabel(\"Actual labels\")\n",
        "plt.show()"
      ],
      "execution_count": 84,
      "outputs": [
        {
          "output_type": "display_data",
          "data": {
            "image/png": "[encoded data removed]",
            "text/plain": [
              "<Figure size 432x288 with 2 Axes>"
            ]
          },
          "metadata": {
            "tags": []
          }
        }
      ]
    },
    {
      "metadata": {
        "colab_type": "code",
        "id": "V1RVXTQVdyp-",
        "outputId": "6bccb6bf-9820-4238-a5df-a33183c487c8",
        "colab": {
          "base_uri": "https://localhost:8080/",
          "height": 295
        }
      },
      "cell_type": "code",
      "source": [
        "#confusion matrix on test data \n",
        "confusion_bow_test=confusion_matrix(ytest_bow_knn,Knn.predict(xtest_bow_knn))\n",
        "sns.heatmap(confusion_bow_test,annot=True,fmt=\"d\",cmap=\"GnBu\")\n",
        "plt.title(\"confusion matrix on test data\")\n",
        "plt.xlabel(\"Predicated labels\")\n",
        "plt.ylabel(\"Actual labels\")\n",
        "plt.show()"
      ],
      "execution_count": 85,
      "outputs": [
        {
          "output_type": "display_data",
          "data": {
            "image/png": "[encoded data removed]",
            "text/plain": [
              "<Figure size 432x288 with 2 Axes>"
            ]
          },
          "metadata": {
            "tags": []
          }
        }
      ]
    },
    {
      "metadata": {
        "colab_type": "text",
        "id": "6XUc9MBVdyqB"
      },
      "cell_type": "markdown",
      "source": [
        "### [5.2.2] Applying KNN kd-tree on TFIDF,<font color='red'> SET 6</font>"
      ]
    },
    {
      "metadata": {
        "colab_type": "code",
        "id": "DQJqiX8BdyqB",
        "colab": {}
      },
      "cell_type": "code",
      "source": [
        "\n",
        "\n",
        "#spiliting the main data into train ,cv & test \n",
        "xtrain_tfidf_knn,xtest_tfidf_knn,ytrain_tfidf_knn,ytest_tfidf_knn=train_test_split(preprocessed_reviews,final[\"Score\"],test_size=0.30,random_state=40)\n"
      ],
      "execution_count": 0,
      "outputs": []
    },
    {
      "metadata": {
        "colab_type": "code",
        "id": "Mn2olfkEdyqD",
        "outputId": "34850015-91e6-400a-aa39-a3d9e76648f8",
        "colab": {
          "base_uri": "https://localhost:8080/",
          "height": 68
        }
      },
      "cell_type": "code",
      "source": [
        "#fit_transform has to happen only on train data to avoid data leakage\n",
        "count_vect=TfidfVectorizer(min_df=10,max_features=500)\n",
        "xtrain_tfidf_knn=count_vect.fit_transform(xtrain_tfidf_knn)\n",
        "xtest_tfidf_knn=count_vect.transform(xtest_tfidf_knn)\n",
        "\n",
        "#check the size of our all data set\n",
        "\n",
        "print (xtrain_tfidf_knn.shape)\n",
        "print (xtest_tfidf_knn.shape)\n",
        "print (ytest_tfidf_knn.shape)"
      ],
      "execution_count": 87,
      "outputs": [
        {
          "output_type": "stream",
          "text": [
            "(61441, 500)\n",
            "(26332, 500)\n",
            "(26332,)\n"
          ],
          "name": "stdout"
        }
      ]
    },
    {
      "metadata": {
        "colab_type": "code",
        "id": "Sbxn5goWdyqG",
        "outputId": "fea47495-3dff-41d0-e9ab-fac2230c019e",
        "colab": {
          "base_uri": "https://localhost:8080/",
          "height": 51
        }
      },
      "cell_type": "code",
      "source": [
        "print  (type(xtrain_tfidf_knn))\n",
        "\n",
        "#As kd_tree dont accept sparse matrix we need to convert our matrix into dens form as follows .\n",
        "\n",
        "xtrain_tfidf_knn=xtrain_tfidf_knn.toarray()\n",
        "xtest_tfidf_knn=xtest_tfidf_knn.toarray()\n",
        "\n",
        "print (type(xtrain_tfidf_knn))"
      ],
      "execution_count": 88,
      "outputs": [
        {
          "output_type": "stream",
          "text": [
            "<class 'scipy.sparse.csr.csr_matrix'>\n",
            "<class 'numpy.ndarray'>\n"
          ],
          "name": "stdout"
        }
      ]
    },
    {
      "metadata": {
        "colab_type": "code",
        "id": "zjNMjSDAdyqI",
        "colab": {}
      },
      "cell_type": "code",
      "source": [
        "#tunning the hyperparameter with gridsearchcv on TFIDF\n",
        "k=list(range(1,20,2))\n",
        "depth={\"n_neighbors\":list(range(1,20,2))}       \n",
        "\n",
        "Knn=KNeighborsClassifier(algorithm=\"kd_tree\")\n",
        "\n",
        "Knn_Grid=GridSearchCV(Knn,param_grid=depth , cv=3, scoring='roc_auc')\n",
        "Knn_tfidf=Knn_Grid.fit(xtrain_tfidf_knn[0:10000],ytrain_tfidf_knn[0:10000])\n"
      ],
      "execution_count": 0,
      "outputs": []
    },
    {
      "metadata": {
        "colab_type": "code",
        "id": "bbmNR6K8dyqK",
        "outputId": "ab190ded-7791-46e4-8673-88228e2f4ef6",
        "colab": {
          "base_uri": "https://localhost:8080/",
          "height": 85
        }
      },
      "cell_type": "code",
      "source": [
        "print (Knn_Grid.best_estimator_)\n",
        "Knn_Grid.best_score_"
      ],
      "execution_count": 90,
      "outputs": [
        {
          "output_type": "stream",
          "text": [
            "KNeighborsClassifier(algorithm='kd_tree', leaf_size=30, metric='minkowski',\n",
            "           metric_params=None, n_jobs=None, n_neighbors=19, p=2,\n",
            "           weights='uniform')\n"
          ],
          "name": "stdout"
        },
        {
          "output_type": "execute_result",
          "data": {
            "text/plain": [
              "0.6836465293951546"
            ]
          },
          "metadata": {
            "tags": []
          },
          "execution_count": 90
        }
      ]
    },
    {
      "metadata": {
        "colab_type": "code",
        "id": "RXP7Nmj_dyqN",
        "outputId": "16578863-275a-4db6-f821-8aca0a1bb449",
        "colab": {
          "base_uri": "https://localhost:8080/",
          "height": 34
        }
      },
      "cell_type": "code",
      "source": [
        "#calculating the best k\n",
        "param_tfidf=pd.DataFrame(Knn_Grid.cv_results_).sort_values('rank_test_score')\n",
        "best_k_tfidf=param_tfidf[\"param_n_neighbors\"].iloc[0]\n",
        "\n",
        "\n",
        "k_values_tfidf=param_tfidf[\"param_n_neighbors\"].unique()\n",
        "\n",
        "print (\"The best K for tfidf is : {0}\".format(best_k_tfidf))\n"
      ],
      "execution_count": 91,
      "outputs": [
        {
          "output_type": "stream",
          "text": [
            "The best K for tfidf is : 19\n"
          ],
          "name": "stdout"
        }
      ]
    },
    {
      "metadata": {
        "colab_type": "code",
        "id": "wNn8bCHbdyqR",
        "outputId": "37f7cafe-ec4e-462b-fffd-ac9f39c72f67",
        "colab": {
          "base_uri": "https://localhost:8080/",
          "height": 294
        }
      },
      "cell_type": "code",
      "source": [
        "#graph for train scores of Grid search for all hyperparameters\n",
        "\n",
        "plt.figure(figsize=(8,6))\n",
        "plt.subplots_adjust(left=.2, right=0.95, bottom=0.15, top=0.65)\n",
        "\n",
        "sns.lineplot(param_tfidf[\"param_n_neighbors\"],param_tfidf[\"mean_train_score\"],label=\"Grid_train score\")\n",
        "sns.lineplot(param_tfidf[\"param_n_neighbors\"],param_tfidf[\"mean_test_score\"],label=\"Grid_test score\")\n",
        "plt.grid()\n",
        "plt.xlabel(\"K-value\")\n",
        "plt.ylabel(\"Accuracy score\")\n",
        "plt.xticks(k)\n",
        "plt.title(\"Graph for auc train & Test scores on TFIDF\")\n",
        "plt.show()"
      ],
      "execution_count": 92,
      "outputs": [
        {
          "output_type": "display_data",
          "data": {
            "image/png": "[encoded data removed]",
            "text/plain": [
              "<Figure size 576x432 with 1 Axes>"
            ]
          },
          "metadata": {
            "tags": []
          }
        }
      ]
    },
    {
      "metadata": {
        "colab_type": "code",
        "id": "yeN1eNfZdyqW",
        "outputId": "3ea99f31-2c46-438d-b2b3-6be876f84a7d",
        "colab": {
          "base_uri": "https://localhost:8080/",
          "height": 295
        }
      },
      "cell_type": "code",
      "source": [
        "#fitting our model on test(unseen data) data \n",
        "Knn=KNeighborsClassifier(n_neighbors=best_k_tfidf,algorithm=\"kd_tree\")\n",
        "Knn.fit(xtrain_tfidf_knn[0:25000],ytrain_tfidf_knn[0:25000])\n",
        "\n",
        "train_fpr_tfidf,train_tpr_tfidf,threshold=roc_curve(ytrain_tfidf_knn,Knn.predict_proba(xtrain_tfidf_knn)[:,1])\n",
        "test_fpr_tfidf,test_tpr_tfidf,threshold=roc_curve(ytest_tfidf_knn,Knn.predict_proba(xtest_tfidf_knn)[:,1])\n",
        "\n",
        "#plotiing the graph for auc score of both train & test \n",
        "sns.lineplot(train_fpr_tfidf,train_tpr_tfidf,color=\"r\",label=\"Train auc\" + str(auc(train_fpr_tfidf,train_tpr_tfidf) * float(100)))\n",
        "sns.lineplot(test_fpr_tfidf,test_tpr_tfidf,color=\"b\",label=\"Test auc\" + str(auc(test_fpr_tfidf,test_tpr_tfidf) * float(100)))\n",
        "plt.legend()\n",
        "plt.grid()\n",
        "plt.xlabel(\"hyperparametr\")\n",
        "plt.ylabel(\"auc scores\")\n",
        "plt.title(\"Auc graph for test data\")\n",
        "plt.show()"
      ],
      "execution_count": 93,
      "outputs": [
        {
          "output_type": "display_data",
          "data": {
            "image/png": "[encoded data removed]",
            "text/plain": [
              "<Figure size 432x288 with 1 Axes>"
            ]
          },
          "metadata": {
            "tags": []
          }
        }
      ]
    },
    {
      "metadata": {
        "id": "fbR5KTde5DQ8",
        "colab_type": "code",
        "colab": {
          "base_uri": "https://localhost:8080/",
          "height": 295
        },
        "outputId": "04e586a6-db9b-4e3c-8640-cec6c5eadaf5"
      },
      "cell_type": "code",
      "source": [
        "#confusion matrix on train data \n",
        "confusion_tfidf_train=confusion_matrix(ytrain_tfidf_knn,Knn.predict(xtrain_tfidf_knn))\n",
        "sns.heatmap(confusion_tfidf_train,annot=True,fmt=\"d\",cmap='hot')\n",
        "plt.title(\"confusion matrix on train data\")\n",
        "plt.xlabel(\"Predicated labels\")\n",
        "plt.ylabel(\"Actual labels\")\n",
        "plt.show()"
      ],
      "execution_count": 94,
      "outputs": [
        {
          "output_type": "display_data",
          "data": {
            "image/png": "[encoded data removed]",
            "text/plain": [
              "<Figure size 432x288 with 2 Axes>"
            ]
          },
          "metadata": {
            "tags": []
          }
        }
      ]
    },
    {
      "metadata": {
        "colab_type": "code",
        "id": "EiOgzHOldyqa",
        "outputId": "c52f77ab-6c6d-4ca3-f389-48d1ececc405",
        "colab": {
          "base_uri": "https://localhost:8080/",
          "height": 295
        }
      },
      "cell_type": "code",
      "source": [
        "#confusion matrix on test data \n",
        "confusion_tfidf_test=confusion_matrix(ytest_tfidf_knn,Knn.predict(xtest_tfidf_knn))\n",
        "sns.heatmap(confusion_tfidf_test,annot=True,fmt=\"d\",cmap=\"PuBu\")\n",
        "plt.title(\"confusion matrix on test data\")\n",
        "plt.xlabel(\"Predicated labels\")\n",
        "plt.ylabel(\"Actual labels\")\n",
        "plt.show()"
      ],
      "execution_count": 95,
      "outputs": [
        {
          "output_type": "display_data",
          "data": {
            "image/png": "[encoded data removed]",
            "text/plain": [
              "<Figure size 432x288 with 2 Axes>"
            ]
          },
          "metadata": {
            "tags": []
          }
        }
      ]
    },
    {
      "metadata": {
        "colab_type": "text",
        "id": "nPhi5251dyqd"
      },
      "cell_type": "markdown",
      "source": [
        "### [5.2.3] Applying KNN kd-tree on AVG W2V,<font color='red'> SET 3</font>"
      ]
    },
    {
      "metadata": {
        "colab_type": "code",
        "id": "1Urn_akhdyqd",
        "colab": {}
      },
      "cell_type": "code",
      "source": [
        "\n",
        "\n",
        "#spiliting the main data into train ,cv & test \n",
        "xtrain_avgw2v_knn,xtest_avgw2v_knn,ytrain_avgw2v_knn,ytest_avgw2v_knn=train_test_split(sent_vectors,final[\"Score\"],test_size=0.20,random_state=40)"
      ],
      "execution_count": 0,
      "outputs": []
    },
    {
      "metadata": {
        "colab_type": "code",
        "id": "hL9OZa1edyqf",
        "outputId": "4f7056d4-091f-4bd5-9cc9-af7c379f3395",
        "colab": {
          "base_uri": "https://localhost:8080/",
          "height": 68
        }
      },
      "cell_type": "code",
      "source": [
        "#check the size of our all data set\n",
        "\n",
        "print (len(xtrain_avgw2v_knn))\n",
        "print (len(xtest_avgw2v_knn))\n",
        "print (len(ytest_avgw2v_knn))"
      ],
      "execution_count": 97,
      "outputs": [
        {
          "output_type": "stream",
          "text": [
            "70218\n",
            "17555\n",
            "17555\n"
          ],
          "name": "stdout"
        }
      ]
    },
    {
      "metadata": {
        "colab_type": "code",
        "id": "ixWshcDsdyqi",
        "colab": {}
      },
      "cell_type": "code",
      "source": [
        "#tunning the hyperparameter with gridsearchcv on AVGW2V\n",
        "k=list(range(1,20,2))\n",
        "depth={\"n_neighbors\":list(range(1,20,2))}       \n",
        "\n",
        "Knn=KNeighborsClassifier(algorithm=\"kd_tree\")\n",
        "\n",
        "Knn_Grid=GridSearchCV(Knn,param_grid=depth , cv=3, scoring='roc_auc')\n",
        "Knn_avgw2v=Knn_Grid.fit(xtrain_avgw2v_knn[0:10000],ytrain_avgw2v_knn[0:10000])\n"
      ],
      "execution_count": 0,
      "outputs": []
    },
    {
      "metadata": {
        "colab_type": "code",
        "id": "zMLk0ymTdyqn",
        "outputId": "0ccd4463-ea15-42a0-8497-8db6f07e7030",
        "colab": {
          "base_uri": "https://localhost:8080/",
          "height": 85
        }
      },
      "cell_type": "code",
      "source": [
        "print (Knn_Grid.best_estimator_)\n",
        "Knn_Grid.best_score_"
      ],
      "execution_count": 99,
      "outputs": [
        {
          "output_type": "stream",
          "text": [
            "KNeighborsClassifier(algorithm='kd_tree', leaf_size=30, metric='minkowski',\n",
            "           metric_params=None, n_jobs=None, n_neighbors=19, p=2,\n",
            "           weights='uniform')\n"
          ],
          "name": "stdout"
        },
        {
          "output_type": "execute_result",
          "data": {
            "text/plain": [
              "0.8554218544535154"
            ]
          },
          "metadata": {
            "tags": []
          },
          "execution_count": 99
        }
      ]
    },
    {
      "metadata": {
        "colab_type": "code",
        "id": "uxAN63Sldyqp",
        "outputId": "92c3f6ec-7f36-4a5b-c061-2977238bdf25",
        "colab": {
          "base_uri": "https://localhost:8080/",
          "height": 34
        }
      },
      "cell_type": "code",
      "source": [
        "#calculating the best K\n",
        "param_avgw2v=pd.DataFrame(Knn_Grid.cv_results_).sort_values('rank_test_score')\n",
        "best_k_avgw2v=param_avgw2v[\"param_n_neighbors\"].iloc[0]\n",
        "\n",
        "\n",
        "k_values_avgw2v=param_avgw2v[\"param_n_neighbors\"].unique()\n",
        "\n",
        "print (\"The best K for avgw2v is : {0}\".format(best_k_avgw2v))\n"
      ],
      "execution_count": 100,
      "outputs": [
        {
          "output_type": "stream",
          "text": [
            "The best K for avgw2v is : 19\n"
          ],
          "name": "stdout"
        }
      ]
    },
    {
      "metadata": {
        "colab_type": "code",
        "id": "zMlKDOvldyqs",
        "outputId": "9436500a-3812-4237-b1ab-79df226bca34",
        "colab": {
          "base_uri": "https://localhost:8080/",
          "height": 294
        }
      },
      "cell_type": "code",
      "source": [
        "#graph for train scores of Grid search for all hyperparameters\n",
        "\n",
        "plt.figure(figsize=(8,6))\n",
        "plt.subplots_adjust(left=.2, right=0.95, bottom=0.15, top=0.65)\n",
        "\n",
        "sns.lineplot(param_avgw2v[\"param_n_neighbors\"],param_avgw2v[\"mean_train_score\"],label=\"Grid_train score\")\n",
        "sns.lineplot(param_avgw2v[\"param_n_neighbors\"],param_avgw2v[\"mean_test_score\"],label=\"Grid_test score\")\n",
        "plt.grid()\n",
        "plt.xlabel(\"K-value\")\n",
        "plt.ylabel(\"Accuracy score\")\n",
        "plt.xticks(k)\n",
        "plt.title(\"Graph for auc train & test scores on AVGW2V\")\n",
        "plt.show()"
      ],
      "execution_count": 101,
      "outputs": [
        {
          "output_type": "display_data",
          "data": {
            "image/png": "[encoded data removed]",
            "text/plain": [
              "<Figure size 576x432 with 1 Axes>"
            ]
          },
          "metadata": {
            "tags": []
          }
        }
      ]
    },
    {
      "metadata": {
        "colab_type": "code",
        "id": "EW3a2lnhdyqz",
        "outputId": "0be68fe3-a4ee-404f-b72d-24ef15ee7f3e",
        "colab": {
          "base_uri": "https://localhost:8080/",
          "height": 295
        }
      },
      "cell_type": "code",
      "source": [
        "#fitting our model on test(unseen data) data \n",
        "Knn=KNeighborsClassifier(n_neighbors=best_k_avgw2v,algorithm=\"kd_tree\")\n",
        "Knn.fit(xtrain_avgw2v_knn[0:10000],ytrain_avgw2v_knn[0:10000])\n",
        "\n",
        "train_fpr_avgw2v,train_tpr_avgw2v,threshold=roc_curve(ytrain_avgw2v_knn,Knn.predict_proba(xtrain_avgw2v_knn)[:,1])\n",
        "test_fpr_avgw2v,test_tpr_avgw2v,threshold=roc_curve(ytest_avgw2v_knn,Knn.predict_proba(xtest_avgw2v_knn)[:,1])\n",
        "\n",
        "#plotiing the graph for auc score of both train & test \n",
        "sns.lineplot(train_fpr_avgw2v,train_tpr_avgw2v,color=\"r\",label=\"Train auc\" + str(auc(train_fpr_avgw2v,train_tpr_avgw2v) * float(100)))\n",
        "sns.lineplot(test_fpr_avgw2v,test_tpr_avgw2v,color=\"b\",label=\"Test auc\" + str(auc(test_fpr_avgw2v,test_tpr_avgw2v) * float(100)))\n",
        "plt.legend()\n",
        "plt.grid()\n",
        "plt.xlabel(\"FPR\")\n",
        "plt.ylabel(\"TPR\")\n",
        "plt.title(\"Auc graph for test data\")\n",
        "plt.show()"
      ],
      "execution_count": 115,
      "outputs": [
        {
          "output_type": "display_data",
          "data": {
            "image/png": "[encoded data removed]",
            "text/plain": [
              "<Figure size 432x288 with 1 Axes>"
            ]
          },
          "metadata": {
            "tags": []
          }
        }
      ]
    },
    {
      "metadata": {
        "id": "OT8pw3aH5SZ6",
        "colab_type": "code",
        "colab": {
          "base_uri": "https://localhost:8080/",
          "height": 295
        },
        "outputId": "dcfcd283-5507-43a4-db1a-82b906b2b05f"
      },
      "cell_type": "code",
      "source": [
        "#confusion matrix on train data \n",
        "confusion_avgw2v_train=confusion_matrix(ytrain_avgw2v_knn,Knn.predict(xtrain_avgw2v_knn))\n",
        "sns.heatmap(confusion_avgw2v_train,annot=True,fmt=\"d\",cmap='hot')\n",
        "plt.title(\"confusion matrix on train data\")\n",
        "plt.xlabel(\"Predicated labels\")\n",
        "plt.ylabel(\"Actual labels\")\n",
        "plt.show()"
      ],
      "execution_count": 116,
      "outputs": [
        {
          "output_type": "display_data",
          "data": {
            "image/png": "[encoded data removed]",
            "text/plain": [
              "<Figure size 432x288 with 2 Axes>"
            ]
          },
          "metadata": {
            "tags": []
          }
        }
      ]
    },
    {
      "metadata": {
        "colab_type": "code",
        "id": "JoJA-VoRdyq2",
        "outputId": "6ce9339e-76d8-47e6-ea85-a5b845fa789e",
        "colab": {
          "base_uri": "https://localhost:8080/",
          "height": 295
        }
      },
      "cell_type": "code",
      "source": [
        "#confusion matrix on test data \n",
        "confusion_avgw2v_test=confusion_matrix(ytest_avgw2v_knn,Knn.predict(xtest_avgw2v_knn))\n",
        "sns.heatmap(confusion_avgw2v_test,annot=True,fmt=\"d\",cmap=\"RdYlGn\")\n",
        "plt.title(\"confusion matrix on test data\")\n",
        "plt.xlabel(\"Predicated labels\")\n",
        "plt.ylabel(\"Actual labels\")\n",
        "plt.show()"
      ],
      "execution_count": 117,
      "outputs": [
        {
          "output_type": "display_data",
          "data": {
            "image/png": "[encoded data removed]",
            "text/plain": [
              "<Figure size 432x288 with 2 Axes>"
            ]
          },
          "metadata": {
            "tags": []
          }
        }
      ]
    },
    {
      "metadata": {
        "colab_type": "text",
        "id": "Dc3Po5yWdyq5"
      },
      "cell_type": "markdown",
      "source": [
        "### [5.2.4] Applying KNN kd-tree on TFIDF W2V,<font color='red'> SET 4</font>"
      ]
    },
    {
      "metadata": {
        "colab_type": "code",
        "id": "eNOUAYIfdyq5",
        "colab": {}
      },
      "cell_type": "code",
      "source": [
        "\n",
        "\n",
        "#spiliting the main data into train ,cv & test \n",
        "xtrain_tfidfw2v_knn,xtest_tfidfw2v_knn,ytrain_tfidfw2v_knn,ytest_tfidfw2v_knn=train_test_split(tfidf_sent_vectors,final[\"Score\"],test_size=0.20,random_state=40)"
      ],
      "execution_count": 0,
      "outputs": []
    },
    {
      "metadata": {
        "colab_type": "code",
        "id": "XCC8VghFdyq8",
        "outputId": "db2cab98-116b-42bc-b228-cb2b51b22f90",
        "colab": {
          "base_uri": "https://localhost:8080/",
          "height": 68
        }
      },
      "cell_type": "code",
      "source": [
        "#check the size of our all data set\n",
        "\n",
        "print (len(xtrain_tfidfw2v_knn))\n",
        "print (len(xtest_tfidfw2v_knn))\n",
        "print (len(ytest_tfidfw2v_knn))"
      ],
      "execution_count": 119,
      "outputs": [
        {
          "output_type": "stream",
          "text": [
            "70218\n",
            "17555\n",
            "17555\n"
          ],
          "name": "stdout"
        }
      ]
    },
    {
      "metadata": {
        "colab_type": "code",
        "id": "DP11v5yddyq-",
        "colab": {}
      },
      "cell_type": "code",
      "source": [
        "#tunning the hyperparameter with gridsearchcv on TFIDFW2V\n",
        "k=list(range(1,20,2))\n",
        "depth={\"n_neighbors\":list(range(1,20,2))}       \n",
        "\n",
        "Knn=KNeighborsClassifier(algorithm=\"brute\")\n",
        "\n",
        "Knn_Grid=GridSearchCV(Knn,param_grid=depth , cv=3, scoring='roc_auc')\n",
        "Knn_tfidfw2v=Knn_Grid.fit(xtrain_tfidfw2v_knn[0:10000],ytrain_tfidfw2v_knn[0:10000])\n"
      ],
      "execution_count": 0,
      "outputs": []
    },
    {
      "metadata": {
        "colab_type": "code",
        "id": "WSNXvpFjdyq_",
        "outputId": "24e9e4ab-0d1a-4b66-fce4-d41e2735e395",
        "colab": {
          "base_uri": "https://localhost:8080/",
          "height": 85
        }
      },
      "cell_type": "code",
      "source": [
        "print (Knn_Grid.best_estimator_)\n",
        "Knn_Grid.best_score_"
      ],
      "execution_count": 121,
      "outputs": [
        {
          "output_type": "stream",
          "text": [
            "KNeighborsClassifier(algorithm='brute', leaf_size=30, metric='minkowski',\n",
            "           metric_params=None, n_jobs=None, n_neighbors=19, p=2,\n",
            "           weights='uniform')\n"
          ],
          "name": "stdout"
        },
        {
          "output_type": "execute_result",
          "data": {
            "text/plain": [
              "0.815440105372078"
            ]
          },
          "metadata": {
            "tags": []
          },
          "execution_count": 121
        }
      ]
    },
    {
      "metadata": {
        "colab_type": "code",
        "id": "afLNmr1sdyrD",
        "outputId": "78c8e5fa-9fc0-449d-b3a6-4de9946baaed",
        "colab": {
          "base_uri": "https://localhost:8080/",
          "height": 34
        }
      },
      "cell_type": "code",
      "source": [
        "#calculating the best k\n",
        "param_tfidfw2v=pd.DataFrame(Knn_Grid.cv_results_).sort_values('rank_test_score')\n",
        "best_k_tfidfw2v=param_tfidfw2v[\"param_n_neighbors\"].iloc[0]\n",
        "\n",
        "\n",
        "k_values_tfidfw2v=param_tfidfw2v[\"param_n_neighbors\"].unique()\n",
        "\n",
        "print (\"The best K for tfidfw2v is : {0}\".format(best_k_tfidfw2v))"
      ],
      "execution_count": 122,
      "outputs": [
        {
          "output_type": "stream",
          "text": [
            "The best K for tfidfw2v is : 19\n"
          ],
          "name": "stdout"
        }
      ]
    },
    {
      "metadata": {
        "colab_type": "code",
        "id": "z4g2oIYRdyrF",
        "outputId": "eb4cff32-bf0b-40b0-8d02-a8c0e3656ec5",
        "colab": {
          "base_uri": "https://localhost:8080/",
          "height": 294
        }
      },
      "cell_type": "code",
      "source": [
        "#graph for train scores of Grid search for all hyperparameters\n",
        "\n",
        "plt.figure(figsize=(8,6))\n",
        "plt.subplots_adjust(left=.2, right=0.95, bottom=0.15, top=0.65)\n",
        "\n",
        "sns.lineplot(param_tfidfw2v[\"param_n_neighbors\"],param_tfidfw2v[\"mean_train_score\"],label=\"Grid_train score\")\n",
        "sns.lineplot(param_tfidfw2v[\"param_n_neighbors\"],param_tfidfw2v[\"mean_test_score\"],label=\"Grid_test score\")\n",
        "plt.grid()\n",
        "plt.xlabel(\"K-value\")\n",
        "plt.ylabel(\"Accuracy score\")\n",
        "plt.xticks(k)\n",
        "plt.title(\"Graph for auc train & test scores on tfidfw2v\")\n",
        "plt.show()"
      ],
      "execution_count": 110,
      "outputs": [
        {
          "output_type": "display_data",
          "data": {
            "image/png": "[encoded data removed]",
            "text/plain": [
              "<Figure size 576x432 with 1 Axes>"
            ]
          },
          "metadata": {
            "tags": []
          }
        }
      ]
    },
    {
      "metadata": {
        "colab_type": "code",
        "id": "BQLq72rFdyrM",
        "outputId": "9c1a4d72-ff01-4d3a-d656-b221ddff595f",
        "colab": {
          "base_uri": "https://localhost:8080/",
          "height": 295
        }
      },
      "cell_type": "code",
      "source": [
        "#fitting our model on test(unseen data) data \n",
        "Knn=KNeighborsClassifier(n_neighbors=best_k_tfidfw2v,algorithm=\"kd_tree\")\n",
        "Knn.fit(xtrain_tfidfw2v_knn[0:10000],ytrain_tfidfw2v_knn[0:10000])\n",
        "\n",
        "train_fpr_tfidfw2v,train_tpr_tfidfw2v,threshold=roc_curve(ytrain_tfidfw2v_knn,Knn.predict_proba(xtrain_tfidfw2v_knn)[:,1])\n",
        "test_fpr_tfidfw2v,test_tpr_tfidfw2v,threshold=roc_curve(ytest_tfidfw2v_knn,Knn.predict_proba(xtest_tfidfw2v_knn)[:,1])\n",
        "\n",
        "#plotiing the graph for auc score of both train & test \n",
        "sns.lineplot(train_fpr_tfidfw2v,train_tpr_tfidfw2v,color=\"r\",label=\"Train auc\" + str(auc(train_fpr_tfidfw2v,train_tpr_tfidfw2v) * float(100)))\n",
        "sns.lineplot(test_fpr_tfidfw2v,test_tpr_tfidfw2v,color=\"b\",label=\"Test auc\" + str(auc(test_fpr_tfidfw2v,test_tpr_tfidfw2v) * float(100)))\n",
        "plt.legend()\n",
        "plt.grid()\n",
        "plt.xlabel(\"hyperparametr\")\n",
        "plt.ylabel(\"auc scores\")\n",
        "plt.title(\"Auc graph for test data\")\n",
        "plt.show()"
      ],
      "execution_count": 111,
      "outputs": [
        {
          "output_type": "display_data",
          "data": {
            "image/png": "[encoded data removed]",
            "text/plain": [
              "<Figure size 432x288 with 1 Axes>"
            ]
          },
          "metadata": {
            "tags": []
          }
        }
      ]
    },
    {
      "metadata": {
        "id": "Wf63WjkQ5xtx",
        "colab_type": "code",
        "colab": {
          "base_uri": "https://localhost:8080/",
          "height": 295
        },
        "outputId": "4d30153c-aca6-4e71-950e-4cbf80db23a3"
      },
      "cell_type": "code",
      "source": [
        "#confusion matrix on train data \n",
        "confusion_tfidfw2v_train=confusion_matrix(ytrain_tfidfw2v_knn,Knn.predict(xtrain_tfidfw2v_knn))\n",
        "sns.heatmap(confusion_tfidfw2v_train,annot=True,fmt=\"d\",cmap='hot')\n",
        "plt.title(\"confusion matrix on train data\")\n",
        "plt.xlabel(\"Predicated labels\")\n",
        "plt.ylabel(\"Actual labels\")\n",
        "plt.show()"
      ],
      "execution_count": 112,
      "outputs": [
        {
          "output_type": "display_data",
          "data": {
            "image/png": "[encoded data removed]",
            "text/plain": [
              "<Figure size 432x288 with 2 Axes>"
            ]
          },
          "metadata": {
            "tags": []
          }
        }
      ]
    },
    {
      "metadata": {
        "colab_type": "code",
        "id": "KuwoAFE7dyrQ",
        "outputId": "f98a3cdd-2207-4dba-d62b-d0153ae0c209",
        "colab": {
          "base_uri": "https://localhost:8080/",
          "height": 295
        }
      },
      "cell_type": "code",
      "source": [
        "#confusion matrix on test data \n",
        "confusion_tfidfw2v_test=confusion_matrix(ytest_tfidfw2v_knn,Knn.predict(xtest_tfidfw2v_knn))\n",
        "sns.heatmap(confusion_avgw2v_test,annot=True,fmt=\"d\",cmap='hot')\n",
        "plt.title(\"confusion matrix on test data\")\n",
        "plt.xlabel(\"Predicated labels\")\n",
        "plt.ylabel(\"Actual labels\")\n",
        "plt.show()"
      ],
      "execution_count": 113,
      "outputs": [
        {
          "output_type": "display_data",
          "data": {
            "image/png": "[encoded data removed]",
            "text/plain": [
              "<Figure size 432x288 with 2 Axes>"
            ]
          },
          "metadata": {
            "tags": []
          }
        }
      ]
    },
    {
      "metadata": {
        "colab_type": "text",
        "id": "TEicebiWdyrS"
      },
      "cell_type": "markdown",
      "source": [
        "# [6] Conclusions KD-tree"
      ]
    },
    {
      "metadata": {
        "colab_type": "code",
        "id": "8zoGplZ5dyrS",
        "colab": {}
      },
      "cell_type": "code",
      "source": [
        ""
      ],
      "execution_count": 0,
      "outputs": []
    },
    {
      "metadata": {
        "colab_type": "code",
        "id": "DIRu2bnYdyrU",
        "outputId": "94088d24-6fb1-423f-ba3f-7e7624c90cc8",
        "colab": {
          "base_uri": "https://localhost:8080/",
          "height": 153
        }
      },
      "cell_type": "code",
      "source": [
        "\n",
        "# KD-tree conclusions\n",
        "conculsion=PrettyTable()\n",
        "conculsion.field_names=[\"Model\",\"best k\",\"Test_Auc\"]\n",
        "conculsion.add_row([\"Bow\",best_k_bow,auc(test_fpr_bow,test_tpr_bow) * float(100)])\n",
        "conculsion.add_row([\"Tfidf\",best_k_tfidf,auc(test_fpr_tfidf,test_tpr_tfidf) * float(100)])\n",
        "conculsion.add_row([\"Avgw2v\",best_k_avgw2v,auc(test_fpr_avgw2v,test_tpr_avgw2v) * float(100)])\n",
        "conculsion.add_row([\"Tfidf-W2v\",best_k_tfidfw2v,auc(test_fpr_tfidfw2v,test_tpr_tfidfw2v) * float(100)])\n",
        "print (conculsion)"
      ],
      "execution_count": 114,
      "outputs": [
        {
          "output_type": "stream",
          "text": [
            "+-----------+--------+-------------------+\n",
            "|   Model   | best k |      Test_Auc     |\n",
            "+-----------+--------+-------------------+\n",
            "|    Bow    |   19   | 73.44832114275835 |\n",
            "|   Tfidf   |   19   |  60.5086455520394 |\n",
            "|   Avgw2v  |   19   | 86.83228239418118 |\n",
            "| Tfidf-W2v |   19   | 83.08544871178901 |\n",
            "+-----------+--------+-------------------+\n"
          ],
          "name": "stdout"
        }
      ]
    },
    {
      "metadata": {
        "colab_type": "code",
        "id": "uid24Pu7dyrW",
        "colab": {}
      },
      "cell_type": "code",
      "source": [
        ""
      ],
      "execution_count": 0,
      "outputs": []
    }
  ]
}
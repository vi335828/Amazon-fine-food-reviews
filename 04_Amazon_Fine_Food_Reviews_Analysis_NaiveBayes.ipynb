{
  "nbformat": 4,
  "nbformat_minor": 0,
  "metadata": {
    "colab": {
      "name": "04 Amazon Fine Food Reviews Analysis_NaiveBayes.ipynb",
      "version": "0.3.2",
      "provenance": [],
      "collapsed_sections": []
    },
    "language_info": {
      "codemirror_mode": {
        "name": "ipython",
        "version": 3
      },
      "file_extension": ".py",
      "mimetype": "text/x-python",
      "name": "python",
      "nbconvert_exporter": "python",
      "pygments_lexer": "ipython3",
      "version": "3.7.1"
    },
    "kernelspec": {
      "display_name": "Python 3",
      "language": "python",
      "name": "python3"
    }
  },
  "cells": [
    {
      "metadata": {
        "colab_type": "text",
        "id": "UIn1GsFNJkjH"
      },
      "cell_type": "markdown",
      "source": [
        "# Amazon Fine Food Reviews Analysis\n",
        "\n",
        "\n",
        "Data Source: https://www.kaggle.com/snap/amazon-fine-food-reviews <br>\n",
        "\n",
        "EDA: https://nycdatascience.com/blog/student-works/amazon-fine-foods-visualization/\n",
        "\n",
        "\n",
        "The Amazon Fine Food Reviews dataset consists of reviews of fine foods from Amazon.<br>\n",
        "\n",
        "Number of reviews: 568,454<br>\n",
        "Number of users: 256,059<br>\n",
        "Number of products: 74,258<br>\n",
        "Timespan: Oct 1999 - Oct 2012<br>\n",
        "Number of Attributes/Columns in data: 10 \n",
        "\n",
        "Attribute Information:\n",
        "\n",
        "1. Id\n",
        "2. ProductId - unique identifier for the product\n",
        "3. UserId - unqiue identifier for the user\n",
        "4. ProfileName\n",
        "5. HelpfulnessNumerator - number of users who found the review helpful\n",
        "6. HelpfulnessDenominator - number of users who indicated whether they found the review helpful or not\n",
        "7. Score - rating between 1 and 5\n",
        "8. Time - timestamp for the review\n",
        "9. Summary - brief summary of the review\n",
        "10. Text - text of the review\n",
        "\n",
        "\n",
        "#### Objective:\n",
        "Given a review, determine whether the review is positive (rating of 4 or 5) or negative (rating of 1 or 2).\n",
        "\n",
        "<br>\n",
        "[Q] How to determine if a review is positive or negative?<br>\n",
        "<br> \n",
        "[Ans] We could use Score/Rating. A rating of 4 or 5 can be cosnidered as a positive review. A rating of 1 or 2 can be considered as negative one. A review of rating 3 is considered nuetral and such reviews are ignored from our analysis. This is an approximate and proxy way of determining the polarity (positivity/negativity) of a review.\n",
        "\n",
        "\n"
      ]
    },
    {
      "metadata": {
        "colab_type": "text",
        "id": "5Uf26aoLJkjJ"
      },
      "cell_type": "markdown",
      "source": [
        "# [1]. Reading Data"
      ]
    },
    {
      "metadata": {
        "colab_type": "text",
        "id": "yo-LaJg3JkjK"
      },
      "cell_type": "markdown",
      "source": [
        "## [1.1] Loading the data\n",
        "\n",
        "The dataset is available in two forms\n",
        "1. .csv file\n",
        "2. SQLite Database\n",
        "\n",
        "In order to load the data, We have used the SQLITE dataset as it is easier to query the data and visualise the data efficiently.\n",
        "<br> \n",
        "\n",
        "Here as we only want to get the global sentiment of the recommendations (positive or negative), we will purposefully ignore all Scores equal to 3. If the score is above 3, then the recommendation wil be set to \"positive\". Otherwise, it will be set to \"negative\"."
      ]
    },
    {
      "metadata": {
        "colab_type": "code",
        "id": "dLYq3BkfJkjL",
        "colab": {
          "base_uri": "https://localhost:8080/",
          "height": 34
        },
        "outputId": "a9812255-31c3-46ed-a130-089edc43bff6"
      },
      "cell_type": "code",
      "source": [
        "%matplotlib inline\n",
        "import warnings\n",
        "warnings.filterwarnings(\"ignore\")\n",
        "\n",
        "\n",
        "import sqlite3\n",
        "import pandas as pd\n",
        "import numpy as np\n",
        "import nltk\n",
        "import string\n",
        "import matplotlib.pyplot as plt\n",
        "import seaborn as sns\n",
        "from sklearn.feature_extraction.text import TfidfTransformer\n",
        "from sklearn.feature_extraction.text import TfidfVectorizer\n",
        "\n",
        "from sklearn.feature_extraction.text import CountVectorizer\n",
        "from sklearn.metrics import confusion_matrix\n",
        "from sklearn import metrics\n",
        "from sklearn.metrics import roc_curve, auc\n",
        "from nltk.stem.porter import PorterStemmer\n",
        "\n",
        "import re\n",
        "# Tutorial about Python regular expressions: https://pymotw.com/2/re/\n",
        "import string\n",
        "from nltk.corpus import stopwords\n",
        "from nltk.stem import PorterStemmer\n",
        "from nltk.stem.wordnet import WordNetLemmatizer\n",
        "\n",
        "from gensim.models import Word2Vec\n",
        "from gensim.models import KeyedVectors\n",
        "import pickle\n",
        "\n",
        "from tqdm import tqdm\n",
        "import os\n",
        "from sklearn.model_selection import train_test_split\n",
        "from sklearn.naive_bayes import MultinomialNB\n",
        "from sklearn.model_selection import GridSearchCV\n",
        "from prettytable import PrettyTable"
      ],
      "execution_count": 1,
      "outputs": [
        {
          "output_type": "stream",
          "text": [
            "paramiko missing, opening SSH/SCP/SFTP paths will be disabled.  `pip install paramiko` to suppress\n"
          ],
          "name": "stderr"
        }
      ]
    },
    {
      "metadata": {
        "colab_type": "code",
        "id": "rXVxnx_NJkjO",
        "outputId": "99a6efad-2f26-4e92-875e-74900b9d34d4",
        "colab": {
          "base_uri": "https://localhost:8080/",
          "height": 244
        }
      },
      "cell_type": "code",
      "source": [
        "# using SQLite Table to read data.\n",
        "con = sqlite3.connect('database.sqlite') \n",
        "\n",
        "# filtering only positive and negative reviews i.e. \n",
        "# not taking into consideration those reviews with Score=3\n",
        "# SELECT * FROM Reviews WHERE Score != 3 LIMIT 500000, will give top 500000 data points\n",
        "# you can change the number to any other number based on your computing power\n",
        "\n",
        "# filtered_data = pd.read_sql_query(\"\"\" SELECT * FROM Reviews WHERE Score != 3 LIMIT 500000\"\"\", con) \n",
        "# for tsne assignment you can take 5k data points\n",
        "#limiting my datasize to 100000 data points because of low ram size of my PC\n",
        "\n",
        "filtered_data = pd.read_sql_query(\"\"\" SELECT * FROM Reviews WHERE Score != 3 LIMIT 100000\"\"\", con) \n",
        "\n",
        "# Give reviews with Score>3 a positive rating(1), and reviews with a score<3 a negative rating(0).\n",
        "def partition(x):\n",
        "    if x < 3:\n",
        "        return 0\n",
        "    return 1\n",
        "\n",
        "#changing reviews with score less than 3 to be positive and vice-versa\n",
        "actualScore = filtered_data['Score']\n",
        "positiveNegative = actualScore.map(partition) \n",
        "filtered_data['Score'] = positiveNegative\n",
        "print(\"Number of data points in our data\", filtered_data.shape)\n",
        "filtered_data.head(3)"
      ],
      "execution_count": 2,
      "outputs": [
        {
          "output_type": "stream",
          "text": [
            "Number of data points in our data (100000, 10)\n"
          ],
          "name": "stdout"
        },
        {
          "output_type": "execute_result",
          "data": {
            "text/html": [
              "<div>\n",
              "<style scoped>\n",
              "    .dataframe tbody tr th:only-of-type {\n",
              "        vertical-align: middle;\n",
              "    }\n",
              "\n",
              "    .dataframe tbody tr th {\n",
              "        vertical-align: top;\n",
              "    }\n",
              "\n",
              "    .dataframe thead th {\n",
              "        text-align: right;\n",
              "    }\n",
              "</style>\n",
              "<table border=\"1\" class=\"dataframe\">\n",
              "  <thead>\n",
              "    <tr style=\"text-align: right;\">\n",
              "      <th></th>\n",
              "      <th>Id</th>\n",
              "      <th>ProductId</th>\n",
              "      <th>UserId</th>\n",
              "      <th>ProfileName</th>\n",
              "      <th>HelpfulnessNumerator</th>\n",
              "      <th>HelpfulnessDenominator</th>\n",
              "      <th>Score</th>\n",
              "      <th>Time</th>\n",
              "      <th>Summary</th>\n",
              "      <th>Text</th>\n",
              "    </tr>\n",
              "  </thead>\n",
              "  <tbody>\n",
              "    <tr>\n",
              "      <th>0</th>\n",
              "      <td>1</td>\n",
              "      <td>B001E4KFG0</td>\n",
              "      <td>A3SGXH7AUHU8GW</td>\n",
              "      <td>delmartian</td>\n",
              "      <td>1</td>\n",
              "      <td>1</td>\n",
              "      <td>1</td>\n",
              "      <td>1303862400</td>\n",
              "      <td>Good Quality Dog Food</td>\n",
              "      <td>I have bought several of the Vitality canned d...</td>\n",
              "    </tr>\n",
              "    <tr>\n",
              "      <th>1</th>\n",
              "      <td>2</td>\n",
              "      <td>B00813GRG4</td>\n",
              "      <td>A1D87F6ZCVE5NK</td>\n",
              "      <td>dll pa</td>\n",
              "      <td>0</td>\n",
              "      <td>0</td>\n",
              "      <td>0</td>\n",
              "      <td>1346976000</td>\n",
              "      <td>Not as Advertised</td>\n",
              "      <td>Product arrived labeled as Jumbo Salted Peanut...</td>\n",
              "    </tr>\n",
              "    <tr>\n",
              "      <th>2</th>\n",
              "      <td>3</td>\n",
              "      <td>B000LQOCH0</td>\n",
              "      <td>ABXLMWJIXXAIN</td>\n",
              "      <td>Natalia Corres \"Natalia Corres\"</td>\n",
              "      <td>1</td>\n",
              "      <td>1</td>\n",
              "      <td>1</td>\n",
              "      <td>1219017600</td>\n",
              "      <td>\"Delight\" says it all</td>\n",
              "      <td>This is a confection that has been around a fe...</td>\n",
              "    </tr>\n",
              "  </tbody>\n",
              "</table>\n",
              "</div>"
            ],
            "text/plain": [
              "   Id   ProductId          UserId                      ProfileName  \\\n",
              "0   1  B001E4KFG0  A3SGXH7AUHU8GW                       delmartian   \n",
              "1   2  B00813GRG4  A1D87F6ZCVE5NK                           dll pa   \n",
              "2   3  B000LQOCH0   ABXLMWJIXXAIN  Natalia Corres \"Natalia Corres\"   \n",
              "\n",
              "   HelpfulnessNumerator  HelpfulnessDenominator  Score        Time  \\\n",
              "0                     1                       1      1  1303862400   \n",
              "1                     0                       0      0  1346976000   \n",
              "2                     1                       1      1  1219017600   \n",
              "\n",
              "                 Summary                                               Text  \n",
              "0  Good Quality Dog Food  I have bought several of the Vitality canned d...  \n",
              "1      Not as Advertised  Product arrived labeled as Jumbo Salted Peanut...  \n",
              "2  \"Delight\" says it all  This is a confection that has been around a fe...  "
            ]
          },
          "metadata": {
            "tags": []
          },
          "execution_count": 2
        }
      ]
    },
    {
      "metadata": {
        "colab_type": "code",
        "id": "ZLasp3QxJkjS",
        "colab": {}
      },
      "cell_type": "code",
      "source": [
        "display = pd.read_sql_query(\"\"\"\n",
        "SELECT UserId, ProductId, ProfileName, Time, Score, Text, COUNT(*)\n",
        "FROM Reviews\n",
        "GROUP BY UserId\n",
        "HAVING COUNT(*)>1\n",
        "\"\"\", con)"
      ],
      "execution_count": 0,
      "outputs": []
    },
    {
      "metadata": {
        "colab_type": "code",
        "id": "pHzk_lUkJkjW",
        "outputId": "4e267e91-ee55-4d7b-b0c5-a04897a996c1",
        "scrolled": true,
        "colab": {
          "base_uri": "https://localhost:8080/",
          "height": 221
        }
      },
      "cell_type": "code",
      "source": [
        "print(display.shape)\n",
        "display.head()"
      ],
      "execution_count": 4,
      "outputs": [
        {
          "output_type": "stream",
          "text": [
            "(80668, 7)\n"
          ],
          "name": "stdout"
        },
        {
          "output_type": "execute_result",
          "data": {
            "text/html": [
              "<div>\n",
              "<style scoped>\n",
              "    .dataframe tbody tr th:only-of-type {\n",
              "        vertical-align: middle;\n",
              "    }\n",
              "\n",
              "    .dataframe tbody tr th {\n",
              "        vertical-align: top;\n",
              "    }\n",
              "\n",
              "    .dataframe thead th {\n",
              "        text-align: right;\n",
              "    }\n",
              "</style>\n",
              "<table border=\"1\" class=\"dataframe\">\n",
              "  <thead>\n",
              "    <tr style=\"text-align: right;\">\n",
              "      <th></th>\n",
              "      <th>UserId</th>\n",
              "      <th>ProductId</th>\n",
              "      <th>ProfileName</th>\n",
              "      <th>Time</th>\n",
              "      <th>Score</th>\n",
              "      <th>Text</th>\n",
              "      <th>COUNT(*)</th>\n",
              "    </tr>\n",
              "  </thead>\n",
              "  <tbody>\n",
              "    <tr>\n",
              "      <th>0</th>\n",
              "      <td>#oc-R115TNMSPFT9I7</td>\n",
              "      <td>B007Y59HVM</td>\n",
              "      <td>Breyton</td>\n",
              "      <td>1331510400</td>\n",
              "      <td>2</td>\n",
              "      <td>Overall its just OK when considering the price...</td>\n",
              "      <td>2</td>\n",
              "    </tr>\n",
              "    <tr>\n",
              "      <th>1</th>\n",
              "      <td>#oc-R11D9D7SHXIJB9</td>\n",
              "      <td>B005HG9ET0</td>\n",
              "      <td>Louis E. Emory \"hoppy\"</td>\n",
              "      <td>1342396800</td>\n",
              "      <td>5</td>\n",
              "      <td>My wife has recurring extreme muscle spasms, u...</td>\n",
              "      <td>3</td>\n",
              "    </tr>\n",
              "    <tr>\n",
              "      <th>2</th>\n",
              "      <td>#oc-R11DNU2NBKQ23Z</td>\n",
              "      <td>B007Y59HVM</td>\n",
              "      <td>Kim Cieszykowski</td>\n",
              "      <td>1348531200</td>\n",
              "      <td>1</td>\n",
              "      <td>This coffee is horrible and unfortunately not ...</td>\n",
              "      <td>2</td>\n",
              "    </tr>\n",
              "    <tr>\n",
              "      <th>3</th>\n",
              "      <td>#oc-R11O5J5ZVQE25C</td>\n",
              "      <td>B005HG9ET0</td>\n",
              "      <td>Penguin Chick</td>\n",
              "      <td>1346889600</td>\n",
              "      <td>5</td>\n",
              "      <td>This will be the bottle that you grab from the...</td>\n",
              "      <td>3</td>\n",
              "    </tr>\n",
              "    <tr>\n",
              "      <th>4</th>\n",
              "      <td>#oc-R12KPBODL2B5ZD</td>\n",
              "      <td>B007OSBE1U</td>\n",
              "      <td>Christopher P. Presta</td>\n",
              "      <td>1348617600</td>\n",
              "      <td>1</td>\n",
              "      <td>I didnt like this coffee. Instead of telling y...</td>\n",
              "      <td>2</td>\n",
              "    </tr>\n",
              "  </tbody>\n",
              "</table>\n",
              "</div>"
            ],
            "text/plain": [
              "               UserId   ProductId             ProfileName        Time  Score  \\\n",
              "0  #oc-R115TNMSPFT9I7  B007Y59HVM                 Breyton  1331510400      2   \n",
              "1  #oc-R11D9D7SHXIJB9  B005HG9ET0  Louis E. Emory \"hoppy\"  1342396800      5   \n",
              "2  #oc-R11DNU2NBKQ23Z  B007Y59HVM        Kim Cieszykowski  1348531200      1   \n",
              "3  #oc-R11O5J5ZVQE25C  B005HG9ET0           Penguin Chick  1346889600      5   \n",
              "4  #oc-R12KPBODL2B5ZD  B007OSBE1U   Christopher P. Presta  1348617600      1   \n",
              "\n",
              "                                                Text  COUNT(*)  \n",
              "0  Overall its just OK when considering the price...         2  \n",
              "1  My wife has recurring extreme muscle spasms, u...         3  \n",
              "2  This coffee is horrible and unfortunately not ...         2  \n",
              "3  This will be the bottle that you grab from the...         3  \n",
              "4  I didnt like this coffee. Instead of telling y...         2  "
            ]
          },
          "metadata": {
            "tags": []
          },
          "execution_count": 4
        }
      ]
    },
    {
      "metadata": {
        "colab_type": "code",
        "id": "HUsn2lg8Jkjb",
        "outputId": "8e5b0013-6fe8-4ed3-b0cb-7137364a8bb6",
        "colab": {
          "base_uri": "https://localhost:8080/",
          "height": 80
        }
      },
      "cell_type": "code",
      "source": [
        "display[display['UserId']=='AZY10LLTJ71NX']"
      ],
      "execution_count": 5,
      "outputs": [
        {
          "output_type": "execute_result",
          "data": {
            "text/html": [
              "<div>\n",
              "<style scoped>\n",
              "    .dataframe tbody tr th:only-of-type {\n",
              "        vertical-align: middle;\n",
              "    }\n",
              "\n",
              "    .dataframe tbody tr th {\n",
              "        vertical-align: top;\n",
              "    }\n",
              "\n",
              "    .dataframe thead th {\n",
              "        text-align: right;\n",
              "    }\n",
              "</style>\n",
              "<table border=\"1\" class=\"dataframe\">\n",
              "  <thead>\n",
              "    <tr style=\"text-align: right;\">\n",
              "      <th></th>\n",
              "      <th>UserId</th>\n",
              "      <th>ProductId</th>\n",
              "      <th>ProfileName</th>\n",
              "      <th>Time</th>\n",
              "      <th>Score</th>\n",
              "      <th>Text</th>\n",
              "      <th>COUNT(*)</th>\n",
              "    </tr>\n",
              "  </thead>\n",
              "  <tbody>\n",
              "    <tr>\n",
              "      <th>80638</th>\n",
              "      <td>AZY10LLTJ71NX</td>\n",
              "      <td>B006P7E5ZI</td>\n",
              "      <td>undertheshrine \"undertheshrine\"</td>\n",
              "      <td>1334707200</td>\n",
              "      <td>5</td>\n",
              "      <td>I was recommended to try green tea extract to ...</td>\n",
              "      <td>5</td>\n",
              "    </tr>\n",
              "  </tbody>\n",
              "</table>\n",
              "</div>"
            ],
            "text/plain": [
              "              UserId   ProductId                      ProfileName        Time  \\\n",
              "80638  AZY10LLTJ71NX  B006P7E5ZI  undertheshrine \"undertheshrine\"  1334707200   \n",
              "\n",
              "       Score                                               Text  COUNT(*)  \n",
              "80638      5  I was recommended to try green tea extract to ...         5  "
            ]
          },
          "metadata": {
            "tags": []
          },
          "execution_count": 5
        }
      ]
    },
    {
      "metadata": {
        "colab_type": "code",
        "id": "CyPhzHZKJkjf",
        "outputId": "5821f348-3267-4d87-9336-a2116406897a",
        "colab": {
          "base_uri": "https://localhost:8080/",
          "height": 34
        }
      },
      "cell_type": "code",
      "source": [
        "display['COUNT(*)'].sum()"
      ],
      "execution_count": 6,
      "outputs": [
        {
          "output_type": "execute_result",
          "data": {
            "text/plain": [
              "393063"
            ]
          },
          "metadata": {
            "tags": []
          },
          "execution_count": 6
        }
      ]
    },
    {
      "metadata": {
        "colab_type": "text",
        "id": "y22fy_WtJkji"
      },
      "cell_type": "markdown",
      "source": [
        "#  [2] Exploratory Data Analysis"
      ]
    },
    {
      "metadata": {
        "colab_type": "text",
        "id": "ZqpW3tWPJkjl"
      },
      "cell_type": "markdown",
      "source": [
        "## [2.1] Data Cleaning: Deduplication\n",
        "\n",
        "It is observed (as shown in the table below) that the reviews data had many duplicate entries. Hence it was necessary to remove duplicates in order to get unbiased results for the analysis of the data.  Following is an example:"
      ]
    },
    {
      "metadata": {
        "colab_type": "code",
        "id": "fmlu_oooJkjl",
        "outputId": "ef77ec63-9fde-41ee-f599-fa7124cec3b6",
        "scrolled": false,
        "colab": {
          "base_uri": "https://localhost:8080/",
          "height": 459
        }
      },
      "cell_type": "code",
      "source": [
        "display= pd.read_sql_query(\"\"\"\n",
        "SELECT *\n",
        "FROM Reviews\n",
        "WHERE Score != 3 AND UserId=\"AR5J8UI46CURR\"\n",
        "ORDER BY ProductID\n",
        "\"\"\", con)\n",
        "display.head()"
      ],
      "execution_count": 7,
      "outputs": [
        {
          "output_type": "execute_result",
          "data": {
            "text/html": [
              "<div>\n",
              "<style scoped>\n",
              "    .dataframe tbody tr th:only-of-type {\n",
              "        vertical-align: middle;\n",
              "    }\n",
              "\n",
              "    .dataframe tbody tr th {\n",
              "        vertical-align: top;\n",
              "    }\n",
              "\n",
              "    .dataframe thead th {\n",
              "        text-align: right;\n",
              "    }\n",
              "</style>\n",
              "<table border=\"1\" class=\"dataframe\">\n",
              "  <thead>\n",
              "    <tr style=\"text-align: right;\">\n",
              "      <th></th>\n",
              "      <th>Id</th>\n",
              "      <th>ProductId</th>\n",
              "      <th>UserId</th>\n",
              "      <th>ProfileName</th>\n",
              "      <th>HelpfulnessNumerator</th>\n",
              "      <th>HelpfulnessDenominator</th>\n",
              "      <th>Score</th>\n",
              "      <th>Time</th>\n",
              "      <th>Summary</th>\n",
              "      <th>Text</th>\n",
              "    </tr>\n",
              "  </thead>\n",
              "  <tbody>\n",
              "    <tr>\n",
              "      <th>0</th>\n",
              "      <td>78445</td>\n",
              "      <td>B000HDL1RQ</td>\n",
              "      <td>AR5J8UI46CURR</td>\n",
              "      <td>Geetha Krishnan</td>\n",
              "      <td>2</td>\n",
              "      <td>2</td>\n",
              "      <td>5</td>\n",
              "      <td>1199577600</td>\n",
              "      <td>LOACKER QUADRATINI VANILLA WAFERS</td>\n",
              "      <td>DELICIOUS WAFERS. I FIND THAT EUROPEAN WAFERS ...</td>\n",
              "    </tr>\n",
              "    <tr>\n",
              "      <th>1</th>\n",
              "      <td>138317</td>\n",
              "      <td>B000HDOPYC</td>\n",
              "      <td>AR5J8UI46CURR</td>\n",
              "      <td>Geetha Krishnan</td>\n",
              "      <td>2</td>\n",
              "      <td>2</td>\n",
              "      <td>5</td>\n",
              "      <td>1199577600</td>\n",
              "      <td>LOACKER QUADRATINI VANILLA WAFERS</td>\n",
              "      <td>DELICIOUS WAFERS. I FIND THAT EUROPEAN WAFERS ...</td>\n",
              "    </tr>\n",
              "    <tr>\n",
              "      <th>2</th>\n",
              "      <td>138277</td>\n",
              "      <td>B000HDOPYM</td>\n",
              "      <td>AR5J8UI46CURR</td>\n",
              "      <td>Geetha Krishnan</td>\n",
              "      <td>2</td>\n",
              "      <td>2</td>\n",
              "      <td>5</td>\n",
              "      <td>1199577600</td>\n",
              "      <td>LOACKER QUADRATINI VANILLA WAFERS</td>\n",
              "      <td>DELICIOUS WAFERS. I FIND THAT EUROPEAN WAFERS ...</td>\n",
              "    </tr>\n",
              "    <tr>\n",
              "      <th>3</th>\n",
              "      <td>73791</td>\n",
              "      <td>B000HDOPZG</td>\n",
              "      <td>AR5J8UI46CURR</td>\n",
              "      <td>Geetha Krishnan</td>\n",
              "      <td>2</td>\n",
              "      <td>2</td>\n",
              "      <td>5</td>\n",
              "      <td>1199577600</td>\n",
              "      <td>LOACKER QUADRATINI VANILLA WAFERS</td>\n",
              "      <td>DELICIOUS WAFERS. I FIND THAT EUROPEAN WAFERS ...</td>\n",
              "    </tr>\n",
              "    <tr>\n",
              "      <th>4</th>\n",
              "      <td>155049</td>\n",
              "      <td>B000PAQ75C</td>\n",
              "      <td>AR5J8UI46CURR</td>\n",
              "      <td>Geetha Krishnan</td>\n",
              "      <td>2</td>\n",
              "      <td>2</td>\n",
              "      <td>5</td>\n",
              "      <td>1199577600</td>\n",
              "      <td>LOACKER QUADRATINI VANILLA WAFERS</td>\n",
              "      <td>DELICIOUS WAFERS. I FIND THAT EUROPEAN WAFERS ...</td>\n",
              "    </tr>\n",
              "  </tbody>\n",
              "</table>\n",
              "</div>"
            ],
            "text/plain": [
              "       Id   ProductId         UserId      ProfileName  HelpfulnessNumerator  \\\n",
              "0   78445  B000HDL1RQ  AR5J8UI46CURR  Geetha Krishnan                     2   \n",
              "1  138317  B000HDOPYC  AR5J8UI46CURR  Geetha Krishnan                     2   \n",
              "2  138277  B000HDOPYM  AR5J8UI46CURR  Geetha Krishnan                     2   \n",
              "3   73791  B000HDOPZG  AR5J8UI46CURR  Geetha Krishnan                     2   \n",
              "4  155049  B000PAQ75C  AR5J8UI46CURR  Geetha Krishnan                     2   \n",
              "\n",
              "   HelpfulnessDenominator  Score        Time  \\\n",
              "0                       2      5  1199577600   \n",
              "1                       2      5  1199577600   \n",
              "2                       2      5  1199577600   \n",
              "3                       2      5  1199577600   \n",
              "4                       2      5  1199577600   \n",
              "\n",
              "                             Summary  \\\n",
              "0  LOACKER QUADRATINI VANILLA WAFERS   \n",
              "1  LOACKER QUADRATINI VANILLA WAFERS   \n",
              "2  LOACKER QUADRATINI VANILLA WAFERS   \n",
              "3  LOACKER QUADRATINI VANILLA WAFERS   \n",
              "4  LOACKER QUADRATINI VANILLA WAFERS   \n",
              "\n",
              "                                                Text  \n",
              "0  DELICIOUS WAFERS. I FIND THAT EUROPEAN WAFERS ...  \n",
              "1  DELICIOUS WAFERS. I FIND THAT EUROPEAN WAFERS ...  \n",
              "2  DELICIOUS WAFERS. I FIND THAT EUROPEAN WAFERS ...  \n",
              "3  DELICIOUS WAFERS. I FIND THAT EUROPEAN WAFERS ...  \n",
              "4  DELICIOUS WAFERS. I FIND THAT EUROPEAN WAFERS ...  "
            ]
          },
          "metadata": {
            "tags": []
          },
          "execution_count": 7
        }
      ]
    },
    {
      "metadata": {
        "colab_type": "text",
        "id": "pvogJHEyJkjq"
      },
      "cell_type": "markdown",
      "source": [
        "As it can be seen above that same user has multiple reviews with same values for HelpfulnessNumerator, HelpfulnessDenominator, Score, Time, Summary and Text and on doing analysis it was found that <br>\n",
        "<br> \n",
        "ProductId=B000HDOPZG was Loacker Quadratini Vanilla Wafer Cookies, 8.82-Ounce Packages (Pack of 8)<br>\n",
        "<br> \n",
        "ProductId=B000HDL1RQ was Loacker Quadratini Lemon Wafer Cookies, 8.82-Ounce Packages (Pack of 8) and so on<br>\n",
        "\n",
        "It was inferred after analysis that reviews with same parameters other than ProductId belonged to the same product just having different flavour or quantity. Hence in order to reduce redundancy it was decided to eliminate the rows having same parameters.<br>\n",
        "\n",
        "The method used for the same was that we first sort the data according to ProductId and then just keep the first similar product review and delelte the others. for eg. in the above just the review for ProductId=B000HDL1RQ remains. This method ensures that there is only one representative for each product and deduplication without sorting would lead to possibility of different representatives still existing for the same product."
      ]
    },
    {
      "metadata": {
        "colab_type": "code",
        "id": "LAWOrfBaJkjr",
        "colab": {}
      },
      "cell_type": "code",
      "source": [
        "#Sorting data according to ProductId in ascending order\n",
        "sorted_data=filtered_data.sort_values('ProductId', axis=0, ascending=True, inplace=False, kind='quicksort', na_position='last')"
      ],
      "execution_count": 0,
      "outputs": []
    },
    {
      "metadata": {
        "colab_type": "code",
        "id": "dfaQob28Jkju",
        "outputId": "ce2024db-7e0b-4c42-fa15-09cf2afc931b",
        "colab": {
          "base_uri": "https://localhost:8080/",
          "height": 34
        }
      },
      "cell_type": "code",
      "source": [
        "#Deduplication of entries\n",
        "final=sorted_data.drop_duplicates(subset={\"UserId\",\"ProfileName\",\"Time\",\"Text\"}, keep='first', inplace=False)\n",
        "final.shape"
      ],
      "execution_count": 9,
      "outputs": [
        {
          "output_type": "execute_result",
          "data": {
            "text/plain": [
              "(87775, 10)"
            ]
          },
          "metadata": {
            "tags": []
          },
          "execution_count": 9
        }
      ]
    },
    {
      "metadata": {
        "colab_type": "code",
        "id": "9QVxT6oxJkjx",
        "outputId": "72b3eb79-a157-41bc-dc42-77666e5d93d9",
        "colab": {
          "base_uri": "https://localhost:8080/",
          "height": 34
        }
      },
      "cell_type": "code",
      "source": [
        "#Checking to see how much % of data still remains\n",
        "(final['Id'].size*1.0)/(filtered_data['Id'].size*1.0)*100"
      ],
      "execution_count": 10,
      "outputs": [
        {
          "output_type": "execute_result",
          "data": {
            "text/plain": [
              "87.775"
            ]
          },
          "metadata": {
            "tags": []
          },
          "execution_count": 10
        }
      ]
    },
    {
      "metadata": {
        "colab_type": "text",
        "id": "qVaxONHLJkj1"
      },
      "cell_type": "markdown",
      "source": [
        "<b>Observation:-</b> It was also seen that in two rows given below the value of HelpfulnessNumerator is greater than HelpfulnessDenominator which is not practically possible hence these two rows too are removed from calcualtions"
      ]
    },
    {
      "metadata": {
        "colab_type": "code",
        "id": "vLoqfOjcJkj1",
        "outputId": "ccf7a267-0263-4054-db99-8e602eda329a",
        "colab": {
          "base_uri": "https://localhost:8080/",
          "height": 179
        }
      },
      "cell_type": "code",
      "source": [
        "display= pd.read_sql_query(\"\"\"\n",
        "SELECT *\n",
        "FROM Reviews\n",
        "WHERE Score != 3 AND Id=44737 OR Id=64422\n",
        "ORDER BY ProductID\n",
        "\"\"\", con)\n",
        "\n",
        "display.head()"
      ],
      "execution_count": 11,
      "outputs": [
        {
          "output_type": "execute_result",
          "data": {
            "text/html": [
              "<div>\n",
              "<style scoped>\n",
              "    .dataframe tbody tr th:only-of-type {\n",
              "        vertical-align: middle;\n",
              "    }\n",
              "\n",
              "    .dataframe tbody tr th {\n",
              "        vertical-align: top;\n",
              "    }\n",
              "\n",
              "    .dataframe thead th {\n",
              "        text-align: right;\n",
              "    }\n",
              "</style>\n",
              "<table border=\"1\" class=\"dataframe\">\n",
              "  <thead>\n",
              "    <tr style=\"text-align: right;\">\n",
              "      <th></th>\n",
              "      <th>Id</th>\n",
              "      <th>ProductId</th>\n",
              "      <th>UserId</th>\n",
              "      <th>ProfileName</th>\n",
              "      <th>HelpfulnessNumerator</th>\n",
              "      <th>HelpfulnessDenominator</th>\n",
              "      <th>Score</th>\n",
              "      <th>Time</th>\n",
              "      <th>Summary</th>\n",
              "      <th>Text</th>\n",
              "    </tr>\n",
              "  </thead>\n",
              "  <tbody>\n",
              "    <tr>\n",
              "      <th>0</th>\n",
              "      <td>64422</td>\n",
              "      <td>B000MIDROQ</td>\n",
              "      <td>A161DK06JJMCYF</td>\n",
              "      <td>J. E. Stephens \"Jeanne\"</td>\n",
              "      <td>3</td>\n",
              "      <td>1</td>\n",
              "      <td>5</td>\n",
              "      <td>1224892800</td>\n",
              "      <td>Bought This for My Son at College</td>\n",
              "      <td>My son loves spaghetti so I didn't hesitate or...</td>\n",
              "    </tr>\n",
              "    <tr>\n",
              "      <th>1</th>\n",
              "      <td>44737</td>\n",
              "      <td>B001EQ55RW</td>\n",
              "      <td>A2V0I904FH7ABY</td>\n",
              "      <td>Ram</td>\n",
              "      <td>3</td>\n",
              "      <td>2</td>\n",
              "      <td>4</td>\n",
              "      <td>1212883200</td>\n",
              "      <td>Pure cocoa taste with crunchy almonds inside</td>\n",
              "      <td>It was almost a 'love at first bite' - the per...</td>\n",
              "    </tr>\n",
              "  </tbody>\n",
              "</table>\n",
              "</div>"
            ],
            "text/plain": [
              "      Id   ProductId          UserId              ProfileName  \\\n",
              "0  64422  B000MIDROQ  A161DK06JJMCYF  J. E. Stephens \"Jeanne\"   \n",
              "1  44737  B001EQ55RW  A2V0I904FH7ABY                      Ram   \n",
              "\n",
              "   HelpfulnessNumerator  HelpfulnessDenominator  Score        Time  \\\n",
              "0                     3                       1      5  1224892800   \n",
              "1                     3                       2      4  1212883200   \n",
              "\n",
              "                                        Summary  \\\n",
              "0             Bought This for My Son at College   \n",
              "1  Pure cocoa taste with crunchy almonds inside   \n",
              "\n",
              "                                                Text  \n",
              "0  My son loves spaghetti so I didn't hesitate or...  \n",
              "1  It was almost a 'love at first bite' - the per...  "
            ]
          },
          "metadata": {
            "tags": []
          },
          "execution_count": 11
        }
      ]
    },
    {
      "metadata": {
        "colab_type": "code",
        "id": "f_185ozFJkj9",
        "colab": {}
      },
      "cell_type": "code",
      "source": [
        "final=final[final.HelpfulnessNumerator<=final.HelpfulnessDenominator]"
      ],
      "execution_count": 0,
      "outputs": []
    },
    {
      "metadata": {
        "colab_type": "code",
        "id": "CofRySJyJkkC",
        "outputId": "95302c8f-77a4-449c-b9f8-9a29c859d72b",
        "colab": {
          "base_uri": "https://localhost:8080/",
          "height": 85
        }
      },
      "cell_type": "code",
      "source": [
        "#Before starting the next phase of preprocessing lets see the number of entries left\n",
        "print(final.shape)\n",
        "\n",
        "#How many positive and negative reviews are present in our dataset?\n",
        "final['Score'].value_counts()"
      ],
      "execution_count": 13,
      "outputs": [
        {
          "output_type": "stream",
          "text": [
            "(87773, 10)\n"
          ],
          "name": "stdout"
        },
        {
          "output_type": "execute_result",
          "data": {
            "text/plain": [
              "1    73592\n",
              "0    14181\n",
              "Name: Score, dtype: int64"
            ]
          },
          "metadata": {
            "tags": []
          },
          "execution_count": 13
        }
      ]
    },
    {
      "metadata": {
        "colab_type": "text",
        "id": "-fEWeywxJkkI"
      },
      "cell_type": "markdown",
      "source": [
        "#  [3] Preprocessing"
      ]
    },
    {
      "metadata": {
        "colab_type": "text",
        "id": "tzpbt9aOJkkJ"
      },
      "cell_type": "markdown",
      "source": [
        "## [3.1].  Preprocessing Review Text\n",
        "\n",
        "Now that we have finished deduplication our data requires some preprocessing before we go on further with analysis and making the prediction model.\n",
        "\n",
        "Hence in the Preprocessing phase we do the following in the order below:-\n",
        "\n",
        "1. Begin by removing the html tags\n",
        "2. Remove any punctuations or limited set of special characters like , or . or # etc.\n",
        "3. Check if the word is made up of english letters and is not alpha-numeric\n",
        "4. Check to see if the length of the word is greater than 2 (as it was researched that there is no adjective in 2-letters)\n",
        "5. Convert the word to lowercase\n",
        "6. Remove Stopwords\n",
        "7. Finally Snowball Stemming the word (it was obsereved to be better than Porter Stemming)<br>\n",
        "\n",
        "After which we collect the words used to describe positive and negative reviews"
      ]
    },
    {
      "metadata": {
        "colab_type": "code",
        "id": "YqxBeLk8JkkL",
        "outputId": "928b0b95-4b88-4e97-f733-f44fe7733e1f",
        "colab": {
          "base_uri": "https://localhost:8080/",
          "height": 173
        }
      },
      "cell_type": "code",
      "source": [
        "# printing some random reviews\n",
        "sent_0 = final['Text'].values[0]\n",
        "print(sent_0)\n",
        "print(\"=\"*50)\n",
        "\n",
        "sent_1000 = final['Text'].values[1000]\n",
        "print(sent_1000)\n",
        "print(\"=\"*50)\n",
        "\n",
        "sent_1500 = final['Text'].values[1500]\n",
        "print(sent_1500)\n",
        "print(\"=\"*50)\n",
        "\n",
        "sent_4900 = final['Text'].values[4900]\n",
        "print(sent_4900)\n",
        "print(\"=\"*50)"
      ],
      "execution_count": 14,
      "outputs": [
        {
          "output_type": "stream",
          "text": [
            "My dogs loves this chicken but its a product from China, so we wont be buying it anymore.  Its very hard to find any chicken products made in the USA but they are out there, but this one isnt.  Its too bad too because its a good product but I wont take any chances till they know what is going on with the china imports.\n",
            "==================================================\n",
            "The Candy Blocks were a nice visual for the Lego Birthday party but the candy has little taste to it.  Very little of the 2 lbs that I bought were eaten and I threw the rest away.  I would not buy the candy again.\n",
            "==================================================\n",
            "was way to hot for my blood, took a bite and did a jig  lol\n",
            "==================================================\n",
            "My dog LOVES these treats. They tend to have a very strong fish oil smell. So if you are afraid of the fishy smell, don't get it. But I think my dog likes it because of the smell. These treats are really small in size. They are great for training. You can give your dog several of these without worrying about him over eating. Amazon's price was much more reasonable than any other retailer. You can buy a 1 pound bag on Amazon for almost the same price as a 6 ounce bag at other retailers. It's definitely worth it to buy a big bag if your dog eats them a lot.\n",
            "==================================================\n"
          ],
          "name": "stdout"
        }
      ]
    },
    {
      "metadata": {
        "colab_type": "code",
        "id": "lWiJ2_9gJkkP",
        "outputId": "4b02e427-9b52-4d18-eb3f-87db500421d3",
        "colab": {
          "base_uri": "https://localhost:8080/",
          "height": 54
        }
      },
      "cell_type": "code",
      "source": [
        "# remove urls from text python: https://stackoverflow.com/a/40823105/4084039\n",
        "sent_0 = re.sub(r\"http\\S+\", \"\", sent_0)\n",
        "sent_1000 = re.sub(r\"http\\S+\", \"\", sent_1000)\n",
        "sent_150 = re.sub(r\"http\\S+\", \"\", sent_1500)\n",
        "sent_4900 = re.sub(r\"http\\S+\", \"\", sent_4900)\n",
        "\n",
        "print(sent_0)"
      ],
      "execution_count": 15,
      "outputs": [
        {
          "output_type": "stream",
          "text": [
            "My dogs loves this chicken but its a product from China, so we wont be buying it anymore.  Its very hard to find any chicken products made in the USA but they are out there, but this one isnt.  Its too bad too because its a good product but I wont take any chances till they know what is going on with the china imports.\n"
          ],
          "name": "stdout"
        }
      ]
    },
    {
      "metadata": {
        "colab_type": "code",
        "id": "cpLtZ-lAJkkR",
        "outputId": "a390fbdd-7007-4562-8caf-94e0de807036",
        "colab": {
          "base_uri": "https://localhost:8080/",
          "height": 156
        }
      },
      "cell_type": "code",
      "source": [
        "# https://stackoverflow.com/questions/16206380/python-beautifulsoup-how-to-remove-all-tags-from-an-element\n",
        "from bs4 import BeautifulSoup\n",
        "\n",
        "soup = BeautifulSoup(sent_0, 'lxml')\n",
        "text = soup.get_text()\n",
        "print(text)\n",
        "print(\"=\"*50)\n",
        "\n",
        "soup = BeautifulSoup(sent_1000, 'lxml')\n",
        "text = soup.get_text()\n",
        "print(text)\n",
        "print(\"=\"*50)\n",
        "\n",
        "soup = BeautifulSoup(sent_1500, 'lxml')\n",
        "text = soup.get_text()\n",
        "print(text)\n",
        "print(\"=\"*50)\n",
        "\n",
        "soup = BeautifulSoup(sent_4900, 'lxml')\n",
        "text = soup.get_text()\n",
        "print(text)"
      ],
      "execution_count": 16,
      "outputs": [
        {
          "output_type": "stream",
          "text": [
            "My dogs loves this chicken but its a product from China, so we wont be buying it anymore.  Its very hard to find any chicken products made in the USA but they are out there, but this one isnt.  Its too bad too because its a good product but I wont take any chances till they know what is going on with the china imports.\n",
            "==================================================\n",
            "The Candy Blocks were a nice visual for the Lego Birthday party but the candy has little taste to it.  Very little of the 2 lbs that I bought were eaten and I threw the rest away.  I would not buy the candy again.\n",
            "==================================================\n",
            "was way to hot for my blood, took a bite and did a jig  lol\n",
            "==================================================\n",
            "My dog LOVES these treats. They tend to have a very strong fish oil smell. So if you are afraid of the fishy smell, don't get it. But I think my dog likes it because of the smell. These treats are really small in size. They are great for training. You can give your dog several of these without worrying about him over eating. Amazon's price was much more reasonable than any other retailer. You can buy a 1 pound bag on Amazon for almost the same price as a 6 ounce bag at other retailers. It's definitely worth it to buy a big bag if your dog eats them a lot.\n"
          ],
          "name": "stdout"
        }
      ]
    },
    {
      "metadata": {
        "colab_type": "code",
        "id": "HYBbtiCMJkkW",
        "colab": {}
      },
      "cell_type": "code",
      "source": [
        "# https://stackoverflow.com/a/47091490/4084039\n",
        "import re\n",
        "\n",
        "def decontracted(phrase):\n",
        "    # specific\n",
        "    phrase = re.sub(r\"won't\", \"will not\", phrase)\n",
        "    phrase = re.sub(r\"can\\'t\", \"can not\", phrase)\n",
        "\n",
        "    # general\n",
        "    phrase = re.sub(r\"n\\'t\", \" not\", phrase)\n",
        "    phrase = re.sub(r\"\\'re\", \" are\", phrase)\n",
        "    phrase = re.sub(r\"\\'s\", \" is\", phrase)\n",
        "    phrase = re.sub(r\"\\'d\", \" would\", phrase)\n",
        "    phrase = re.sub(r\"\\'ll\", \" will\", phrase)\n",
        "    phrase = re.sub(r\"\\'t\", \" not\", phrase)\n",
        "    phrase = re.sub(r\"\\'ve\", \" have\", phrase)\n",
        "    phrase = re.sub(r\"\\'m\", \" am\", phrase)\n",
        "    return phrase"
      ],
      "execution_count": 0,
      "outputs": []
    },
    {
      "metadata": {
        "colab_type": "code",
        "id": "WPQSZurTJkkY",
        "outputId": "46759653-2c2f-4d3b-f030-573e321f60c3",
        "colab": {
          "base_uri": "https://localhost:8080/",
          "height": 51
        }
      },
      "cell_type": "code",
      "source": [
        "sent_1500 = decontracted(sent_1500)\n",
        "print(sent_1500)\n",
        "print(\"=\"*50)"
      ],
      "execution_count": 18,
      "outputs": [
        {
          "output_type": "stream",
          "text": [
            "was way to hot for my blood, took a bite and did a jig  lol\n",
            "==================================================\n"
          ],
          "name": "stdout"
        }
      ]
    },
    {
      "metadata": {
        "colab_type": "code",
        "id": "6bakeyaQJkkb",
        "outputId": "6834455d-1f56-4d41-f783-e90233929d23",
        "colab": {
          "base_uri": "https://localhost:8080/",
          "height": 54
        }
      },
      "cell_type": "code",
      "source": [
        "#remove words with numbers python: https://stackoverflow.com/a/18082370/4084039\n",
        "sent_0 = re.sub(\"\\S*\\d\\S*\", \"\", sent_0).strip()\n",
        "print(sent_0)"
      ],
      "execution_count": 19,
      "outputs": [
        {
          "output_type": "stream",
          "text": [
            "My dogs loves this chicken but its a product from China, so we wont be buying it anymore.  Its very hard to find any chicken products made in the USA but they are out there, but this one isnt.  Its too bad too because its a good product but I wont take any chances till they know what is going on with the china imports.\n"
          ],
          "name": "stdout"
        }
      ]
    },
    {
      "metadata": {
        "colab_type": "code",
        "id": "dMqqVqadJkkg",
        "outputId": "6eb7c4b5-60ea-43d2-e3d5-df2f54d76844",
        "colab": {
          "base_uri": "https://localhost:8080/",
          "height": 34
        }
      },
      "cell_type": "code",
      "source": [
        "#remove spacial character: https://stackoverflow.com/a/5843547/4084039\n",
        "sent_1500 = re.sub('[^A-Za-z0-9]+', ' ', sent_1500)\n",
        "print(sent_1500)"
      ],
      "execution_count": 20,
      "outputs": [
        {
          "output_type": "stream",
          "text": [
            "was way to hot for my blood took a bite and did a jig lol\n"
          ],
          "name": "stdout"
        }
      ]
    },
    {
      "metadata": {
        "colab_type": "code",
        "id": "bvEoXB5NJkkk",
        "colab": {}
      },
      "cell_type": "code",
      "source": [
        "# https://gist.github.com/sebleier/554280\n",
        "# we are removing the words from the stop words list: 'no', 'nor', 'not'\n",
        "# <br /><br /> ==> after the above steps, we are getting \"br br\"\n",
        "# we are including them into stop words list\n",
        "# instead of <br /> if we have <br/> these tags would have revmoved in the 1st step\n",
        "\n",
        "stopwords= set(['br', 'the', 'i', 'me', 'my', 'myself', 'we', 'our', 'ours', 'ourselves', 'you', \"you're\", \"you've\",\\\n",
        "            \"you'll\", \"you'd\", 'your', 'yours', 'yourself', 'yourselves', 'he', 'him', 'his', 'himself', \\\n",
        "            'she', \"she's\", 'her', 'hers', 'herself', 'it', \"it's\", 'its', 'itself', 'they', 'them', 'their',\\\n",
        "            'theirs', 'themselves', 'what', 'which', 'who', 'whom', 'this', 'that', \"that'll\", 'these', 'those', \\\n",
        "            'am', 'is', 'are', 'was', 'were', 'be', 'been', 'being', 'have', 'has', 'had', 'having', 'do', 'does', \\\n",
        "            'did', 'doing', 'a', 'an', 'the', 'and', 'but', 'if', 'or', 'because', 'as', 'until', 'while', 'of', \\\n",
        "            'at', 'by', 'for', 'with', 'about', 'against', 'between', 'into', 'through', 'during', 'before', 'after',\\\n",
        "            'above', 'below', 'to', 'from', 'up', 'down', 'in', 'out', 'on', 'off', 'over', 'under', 'again', 'further',\\\n",
        "            'then', 'once', 'here', 'there', 'when', 'where', 'why', 'how', 'all', 'any', 'both', 'each', 'few', 'more',\\\n",
        "            'most', 'other', 'some', 'such', 'only', 'own', 'same', 'so', 'than', 'too', 'very', \\\n",
        "            's', 't', 'can', 'will', 'just', 'don', \"don't\", 'should', \"should've\", 'now', 'd', 'll', 'm', 'o', 're', \\\n",
        "            've', 'y', 'ain', 'aren', \"aren't\", 'couldn', \"couldn't\", 'didn', \"didn't\", 'doesn', \"doesn't\", 'hadn',\\\n",
        "            \"hadn't\", 'hasn', \"hasn't\", 'haven', \"haven't\", 'isn', \"isn't\", 'ma', 'mightn', \"mightn't\", 'mustn',\\\n",
        "            \"mustn't\", 'needn', \"needn't\", 'shan', \"shan't\", 'shouldn', \"shouldn't\", 'wasn', \"wasn't\", 'weren', \"weren't\", \\\n",
        "            'won', \"won't\", 'wouldn', \"wouldn't\"])"
      ],
      "execution_count": 0,
      "outputs": []
    },
    {
      "metadata": {
        "colab_type": "code",
        "id": "0j3jfqWCJkko",
        "outputId": "dd2240c9-b3e9-4f60-8844-d4d0bdb97dfd",
        "colab": {
          "base_uri": "https://localhost:8080/",
          "height": 34
        }
      },
      "cell_type": "code",
      "source": [
        "# Combining all the above stundents \n",
        "from tqdm import tqdm\n",
        "preprocessed_reviews = []\n",
        "# tqdm is for printing the status bar\n",
        "for sentance in tqdm(final['Text'].values):\n",
        "    sentance = re.sub(r\"http\\S+\", \"\", sentance)\n",
        "    sentance = BeautifulSoup(sentance, 'lxml').get_text()\n",
        "    sentance = decontracted(sentance)\n",
        "    sentance = re.sub(\"\\S*\\d\\S*\", \"\", sentance).strip()\n",
        "    sentance = re.sub('[^A-Za-z]+', ' ', sentance)\n",
        "    # https://gist.github.com/sebleier/554280\n",
        "    sentance = ' '.join(e.lower() for e in sentance.split() if e.lower() not in stopwords)\n",
        "    preprocessed_reviews.append(sentance.strip())"
      ],
      "execution_count": 22,
      "outputs": [
        {
          "output_type": "stream",
          "text": [
            "100%|██████████| 87773/87773 [01:21<00:00, 1073.50it/s]\n"
          ],
          "name": "stderr"
        }
      ]
    },
    {
      "metadata": {
        "colab_type": "code",
        "id": "nS_7EeV7Jkkr",
        "outputId": "bf6808cf-084d-4473-ab86-664314554418",
        "colab": {
          "base_uri": "https://localhost:8080/",
          "height": 34
        }
      },
      "cell_type": "code",
      "source": [
        "preprocessed_reviews[1500]"
      ],
      "execution_count": 23,
      "outputs": [
        {
          "output_type": "execute_result",
          "data": {
            "text/plain": [
              "'way hot blood took bite jig lol'"
            ]
          },
          "metadata": {
            "tags": []
          },
          "execution_count": 23
        }
      ]
    },
    {
      "metadata": {
        "colab_type": "text",
        "id": "zak5yP5zJkkt"
      },
      "cell_type": "markdown",
      "source": [
        "<h2><font color='red'>[3.2] Preprocessing Review Summary</font></h2>"
      ]
    },
    {
      "metadata": {
        "colab_type": "code",
        "id": "wZ3Epk1wJkku",
        "colab": {}
      },
      "cell_type": "code",
      "source": [
        "## Similartly you can do preprocessing for review summary also."
      ],
      "execution_count": 0,
      "outputs": []
    },
    {
      "metadata": {
        "colab_type": "text",
        "id": "ChHwtw1iJkky"
      },
      "cell_type": "markdown",
      "source": [
        "# [4] Featurization"
      ]
    },
    {
      "metadata": {
        "colab_type": "text",
        "id": "qyWESNvzJkky"
      },
      "cell_type": "markdown",
      "source": [
        "## [4.1] BAG OF WORDS"
      ]
    },
    {
      "metadata": {
        "colab_type": "code",
        "id": "zS0niozAJkkz",
        "outputId": "fb9f41fb-965f-4177-eadb-2646b039ed94",
        "colab": {
          "base_uri": "https://localhost:8080/",
          "height": 102
        }
      },
      "cell_type": "code",
      "source": [
        "#BoW\n",
        "count_vect = CountVectorizer() #in scikit-learn\n",
        "count_vect.fit(preprocessed_reviews)\n",
        "print(\"some feature names \", count_vect.get_feature_names()[:10])\n",
        "print('='*50)\n",
        "\n",
        "final_counts = count_vect.transform(preprocessed_reviews)\n",
        "print(\"the type of count vectorizer \",type(final_counts))\n",
        "print(\"the shape of out text BOW vectorizer \",final_counts.get_shape())\n",
        "print(\"the number of unique words \", final_counts.get_shape()[1])"
      ],
      "execution_count": 25,
      "outputs": [
        {
          "output_type": "stream",
          "text": [
            "some feature names  ['aa', 'aaa', 'aaaa', 'aaaaa', 'aaaaaaaaaaaa', 'aaaaaaaaaaaaaaa', 'aaaaaaahhhhhh', 'aaaaaaarrrrrggghhh', 'aaaaaawwwwwwwwww', 'aaaaah']\n",
            "==================================================\n",
            "the type of count vectorizer  <class 'scipy.sparse.csr.csr_matrix'>\n",
            "the shape of out text BOW vectorizer  (87773, 54904)\n",
            "the number of unique words  54904\n"
          ],
          "name": "stdout"
        }
      ]
    },
    {
      "metadata": {
        "colab_type": "text",
        "id": "LChtHtLjJkk1"
      },
      "cell_type": "markdown",
      "source": [
        "## [4.2] Bi-Grams and n-Grams."
      ]
    },
    {
      "metadata": {
        "colab_type": "code",
        "id": "Xgw2pSsoJkk3",
        "outputId": "c6763353-5d44-4da2-b305-0e5451ca4cd6",
        "colab": {
          "base_uri": "https://localhost:8080/",
          "height": 68
        }
      },
      "cell_type": "code",
      "source": [
        "#bi-gram, tri-gram and n-gram\n",
        "\n",
        "#removing stop words like \"not\" should be avoided before building n-grams\n",
        "# count_vect = CountVectorizer(ngram_range=(1,2))\n",
        "# please do read the CountVectorizer documentation http://scikit-learn.org/stable/modules/generated/sklearn.feature_extraction.text.CountVectorizer.html\n",
        "\n",
        "# you can choose these numebrs min_df=10, max_features=5000, of your choice\n",
        "count_vect = CountVectorizer(ngram_range=(1,2), min_df=10, max_features=5000)\n",
        "final_bigram_counts = count_vect.fit_transform(preprocessed_reviews)\n",
        "print(\"the type of count vectorizer \",type(final_bigram_counts))\n",
        "print(\"the shape of out text BOW vectorizer \",final_bigram_counts.get_shape())\n",
        "print(\"the number of unique words including both unigrams and bigrams \", final_bigram_counts.get_shape()[1])"
      ],
      "execution_count": 26,
      "outputs": [
        {
          "output_type": "stream",
          "text": [
            "the type of count vectorizer  <class 'scipy.sparse.csr.csr_matrix'>\n",
            "the shape of out text BOW vectorizer  (87773, 5000)\n",
            "the number of unique words including both unigrams and bigrams  5000\n"
          ],
          "name": "stdout"
        }
      ]
    },
    {
      "metadata": {
        "colab_type": "text",
        "id": "1fvAmu91Jkk6"
      },
      "cell_type": "markdown",
      "source": [
        "## [4.3] TF-IDF"
      ]
    },
    {
      "metadata": {
        "colab_type": "code",
        "id": "ag5-WCR8Jkk7",
        "outputId": "46d301bc-26b3-4377-c50e-e29c4f819de7",
        "colab": {
          "base_uri": "https://localhost:8080/",
          "height": 102
        }
      },
      "cell_type": "code",
      "source": [
        "tf_idf_vect = TfidfVectorizer(ngram_range=(1,2), min_df=10)\n",
        "tf_idf_vect.fit(preprocessed_reviews)\n",
        "print(\"some sample features(unique words in the corpus)\",tf_idf_vect.get_feature_names()[0:10])\n",
        "print('='*50)\n",
        "\n",
        "final_tf_idf = tf_idf_vect.transform(preprocessed_reviews)\n",
        "print(\"the type of count vectorizer \",type(final_tf_idf))\n",
        "print(\"the shape of out text TFIDF vectorizer \",final_tf_idf.get_shape())\n",
        "print(\"the number of unique words including both unigrams and bigrams \", final_tf_idf.get_shape()[1])"
      ],
      "execution_count": 27,
      "outputs": [
        {
          "output_type": "stream",
          "text": [
            "some sample features(unique words in the corpus) ['aa', 'aafco', 'aback', 'abandon', 'abandoned', 'abdominal', 'ability', 'able', 'able add', 'able brew']\n",
            "==================================================\n",
            "the type of count vectorizer  <class 'scipy.sparse.csr.csr_matrix'>\n",
            "the shape of out text TFIDF vectorizer  (87773, 51709)\n",
            "the number of unique words including both unigrams and bigrams  51709\n"
          ],
          "name": "stdout"
        }
      ]
    },
    {
      "metadata": {
        "colab_type": "text",
        "id": "_jVNRd5hJkk-"
      },
      "cell_type": "markdown",
      "source": [
        "## [4.4] Word2Vec"
      ]
    },
    {
      "metadata": {
        "colab_type": "code",
        "id": "8jGeY1r5Jkk_",
        "colab": {}
      },
      "cell_type": "code",
      "source": [
        "# Train your own Word2Vec model using your own text corpus\n",
        "i=0\n",
        "list_of_sentance=[]\n",
        "for sentance in preprocessed_reviews:\n",
        "    list_of_sentance.append(sentance.split())"
      ],
      "execution_count": 0,
      "outputs": []
    },
    {
      "metadata": {
        "colab_type": "code",
        "id": "2X9M3ybMJklB",
        "outputId": "e0ac8eb3-c016-4235-bfb5-101c875001ba",
        "scrolled": true,
        "colab": {
          "base_uri": "https://localhost:8080/",
          "height": 88
        }
      },
      "cell_type": "code",
      "source": [
        "# Using Google News Word2Vectors\n",
        "\n",
        "# in this project we are using a pretrained model by google\n",
        "# its 3.3G file, once you load this into your memory \n",
        "# it occupies ~9Gb, so please do this step only if you have >12G of ram\n",
        "# we will provide a pickle file wich contains a dict , \n",
        "# and it contains all our courpus words as keys and  model[word] as values\n",
        "# To use this code-snippet, download \"GoogleNews-vectors-negative300.bin\" \n",
        "# from https://drive.google.com/file/d/0B7XkCwpI5KDYNlNUTTlSS21pQmM/edit\n",
        "# it's 1.9GB in size.\n",
        "\n",
        "\n",
        "# http://kavita-ganesan.com/gensim-word2vec-tutorial-starter-code/#.W17SRFAzZPY\n",
        "# you can comment this whole cell\n",
        "# or change these varible according to your need\n",
        "\n",
        "is_your_ram_gt_16g=False\n",
        "want_to_use_google_w2v = False\n",
        "want_to_train_w2v = True\n",
        "\n",
        "if want_to_train_w2v:\n",
        "    # min_count = 5 considers only words that occured atleast 5 times\n",
        "    w2v_model=Word2Vec(list_of_sentance,min_count=5,size=50, workers=4)\n",
        "    print(w2v_model.wv.most_similar('great'))\n",
        "    print('='*50)\n",
        "    print(w2v_model.wv.most_similar('worst'))\n",
        "    \n",
        "elif want_to_use_google_w2v and is_your_ram_gt_16g:\n",
        "    if os.path.isfile('GoogleNews-vectors-negative300.bin'):\n",
        "        w2v_model=KeyedVectors.load_word2vec_format('GoogleNews-vectors-negative300.bin', binary=True)\n",
        "        print(w2v_model.wv.most_similar('great'))\n",
        "        print(w2v_model.wv.most_similar('worst'))\n",
        "    else:\n",
        "        print(\"you don't have gogole's word2vec file, keep want_to_train_w2v = True, to train your own w2v \")"
      ],
      "execution_count": 29,
      "outputs": [
        {
          "output_type": "stream",
          "text": [
            "[('fantastic', 0.8470339775085449), ('good', 0.8222638964653015), ('awesome', 0.8219574689865112), ('terrific', 0.8170402646064758), ('excellent', 0.8102700114250183), ('wonderful', 0.7693427801132202), ('perfect', 0.7626690864562988), ('fabulous', 0.7307087779045105), ('amazing', 0.7149021625518799), ('nice', 0.6984242796897888)]\n",
            "==================================================\n",
            "[('greatest', 0.7525148391723633), ('tastiest', 0.7193955183029175), ('best', 0.7110207676887512), ('disgusting', 0.6632890701293945), ('nastiest', 0.6563620567321777), ('smoothest', 0.6517042517662048), ('softest', 0.6299763321876526), ('horrible', 0.6009072065353394), ('awful', 0.5977481603622437), ('closest', 0.5945303440093994)]\n"
          ],
          "name": "stdout"
        }
      ]
    },
    {
      "metadata": {
        "colab_type": "code",
        "id": "jIFbq6sDJklG",
        "outputId": "fa31dfdc-d6bb-4f45-fe3a-3aec9d1072da",
        "colab": {
          "base_uri": "https://localhost:8080/",
          "height": 71
        }
      },
      "cell_type": "code",
      "source": [
        "w2v_words = list(w2v_model.wv.vocab)\n",
        "print(\"number of words that occured minimum 5 times \",len(w2v_words))\n",
        "print(\"sample words \", w2v_words[0:50])"
      ],
      "execution_count": 30,
      "outputs": [
        {
          "output_type": "stream",
          "text": [
            "number of words that occured minimum 5 times  17386\n",
            "sample words  ['dogs', 'loves', 'chicken', 'product', 'china', 'wont', 'buying', 'anymore', 'hard', 'find', 'products', 'made', 'usa', 'one', 'isnt', 'bad', 'good', 'take', 'chances', 'till', 'know', 'going', 'imports', 'love', 'saw', 'pet', 'store', 'tag', 'attached', 'regarding', 'satisfied', 'safe', 'infestation', 'literally', 'everywhere', 'flying', 'around', 'kitchen', 'bought', 'hoping', 'least', 'get', 'rid', 'weeks', 'fly', 'stuck', 'squishing', 'buggers', 'success', 'rate']\n"
          ],
          "name": "stdout"
        }
      ]
    },
    {
      "metadata": {
        "colab_type": "text",
        "id": "bJ1C1s_eJklQ"
      },
      "cell_type": "markdown",
      "source": [
        "## [4.4.1] Converting text into vectors using Avg W2V, TFIDF-W2V"
      ]
    },
    {
      "metadata": {
        "colab_type": "text",
        "id": "33z1pU7zJklQ"
      },
      "cell_type": "markdown",
      "source": [
        "#### [4.4.1.1] Avg W2v"
      ]
    },
    {
      "metadata": {
        "colab_type": "code",
        "id": "Ce1_4JvaJklR",
        "outputId": "81659b25-3960-4102-c43a-9521d014e9ad",
        "colab": {
          "base_uri": "https://localhost:8080/",
          "height": 68
        }
      },
      "cell_type": "code",
      "source": [
        "# average Word2Vec\n",
        "# compute average word2vec for each review.\n",
        "sent_vectors = []; # the avg-w2v for each sentence/review is stored in this list\n",
        "for sent in tqdm(list_of_sentance): # for each review/sentence\n",
        "    sent_vec = np.zeros(50) # as word vectors are of zero length 50, you might need to change this to 300 if you use google's w2v\n",
        "    cnt_words =0; # num of words with a valid vector in the sentence/review\n",
        "    for word in sent: # for each word in a review/sentence\n",
        "        if word in w2v_words:\n",
        "            vec = w2v_model.wv[word]\n",
        "            sent_vec += vec\n",
        "            cnt_words += 1\n",
        "    if cnt_words != 0:\n",
        "        sent_vec /= cnt_words\n",
        "    sent_vectors.append(sent_vec)\n",
        "print(len(sent_vectors))\n",
        "print(len(sent_vectors[0]))"
      ],
      "execution_count": 31,
      "outputs": [
        {
          "output_type": "stream",
          "text": [
            "100%|██████████| 87773/87773 [09:04<00:00, 161.29it/s]"
          ],
          "name": "stderr"
        },
        {
          "output_type": "stream",
          "text": [
            "87773\n",
            "50\n"
          ],
          "name": "stdout"
        },
        {
          "output_type": "stream",
          "text": [
            "\n"
          ],
          "name": "stderr"
        }
      ]
    },
    {
      "metadata": {
        "colab_type": "text",
        "id": "-R_AYTtwJklT"
      },
      "cell_type": "markdown",
      "source": [
        "#### [4.4.1.2] TFIDF weighted W2v"
      ]
    },
    {
      "metadata": {
        "colab_type": "code",
        "id": "il5ldoFyJklU",
        "colab": {}
      },
      "cell_type": "code",
      "source": [
        "# S = [\"abc def pqr\", \"def def def abc\", \"pqr pqr def\"]\n",
        "model = TfidfVectorizer()\n",
        "tf_idf_matrix = model.fit_transform(preprocessed_reviews)\n",
        "# we are converting a dictionary with word as a key, and the idf as a value\n",
        "dictionary = dict(zip(model.get_feature_names(), list(model.idf_)))"
      ],
      "execution_count": 0,
      "outputs": []
    },
    {
      "metadata": {
        "colab_type": "code",
        "id": "VUZMBVxpJklX",
        "outputId": "6a0e3763-58da-437e-9751-9434edb848fe",
        "scrolled": true,
        "colab": {
          "base_uri": "https://localhost:8080/",
          "height": 54
        }
      },
      "cell_type": "code",
      "source": [
        "# TF-IDF weighted Word2Vec\n",
        "tfidf_feat = model.get_feature_names() # tfidf words/col-names\n",
        "# final_tf_idf is the sparse matrix with row= sentence, col=word and cell_val = tfidf\n",
        "\n",
        "#below code used to take too much time for running so i have created a pickle file so that i can load it whenever i want to \n",
        "# save my time. \n",
        "\"\"\"tfidf_sent_vectors = []; # the tfidf-w2v for each sentence/review is stored in this list\n",
        "row=0;\n",
        "for sent in tqdm(list_of_sentance): # for each review/sentence \n",
        "    sent_vec = np.zeros(50) # as word vectors are of zero length\n",
        "    weight_sum =0; # num of words with a valid vector in the sentence/review\n",
        "    for word in sent: # for each word in a review/sentence\n",
        "        if word in w2v_words and word in tfidf_feat:\n",
        "            vec = w2v_model.wv[word]\n",
        "#             tf_idf = tf_idf_matrix[row, tfidf_feat.index(word)]\n",
        "            # to reduce the computation we are \n",
        "            # dictionary[word] = idf value of word in whole courpus\n",
        "            # sent.count(word) = tf valeus of word in this review\n",
        "            tf_idf = dictionary[word]*(sent.count(word)/len(sent))\n",
        "            sent_vec += (vec * tf_idf)\n",
        "            weight_sum += tf_idf\n",
        "    if weight_sum != 0:\n",
        "        sent_vec /= weight_sum\n",
        "    tfidf_sent_vectors.append(sent_vec)\n",
        "    row += 1\"\"\""
      ],
      "execution_count": 33,
      "outputs": [
        {
          "output_type": "execute_result",
          "data": {
            "text/plain": [
              "'tfidf_sent_vectors = []; # the tfidf-w2v for each sentence/review is stored in this list\\nrow=0;\\nfor sent in tqdm(list_of_sentance): # for each review/sentence \\n    sent_vec = np.zeros(50) # as word vectors are of zero length\\n    weight_sum =0; # num of words with a valid vector in the sentence/review\\n    for word in sent: # for each word in a review/sentence\\n        if word in w2v_words and word in tfidf_feat:\\n            vec = w2v_model.wv[word]\\n#             tf_idf = tf_idf_matrix[row, tfidf_feat.index(word)]\\n            # to reduce the computation we are \\n            # dictionary[word] = idf value of word in whole courpus\\n            # sent.count(word) = tf valeus of word in this review\\n            tf_idf = dictionary[word]*(sent.count(word)/len(sent))\\n            sent_vec += (vec * tf_idf)\\n            weight_sum += tf_idf\\n    if weight_sum != 0:\\n        sent_vec /= weight_sum\\n    tfidf_sent_vectors.append(sent_vec)\\n    row += 1'"
            ]
          },
          "metadata": {
            "tags": []
          },
          "execution_count": 33
        }
      ]
    },
    {
      "metadata": {
        "id": "86DR52AC17Lv",
        "colab_type": "code",
        "colab": {
          "base_uri": "https://localhost:8080/",
          "height": 34
        },
        "outputId": "86c40180-5a80-44ab-9a7d-e663736a570d"
      },
      "cell_type": "code",
      "source": [
        "\"\"\"import pickle\n",
        "with open('tfidf_sent_vectors', 'wb') as fp:\n",
        "    pickle.dump(tfidf_sent_vectors, fp)\"\"\"\n",
        "#"
      ],
      "execution_count": 34,
      "outputs": [
        {
          "output_type": "execute_result",
          "data": {
            "text/plain": [
              "\"import pickle\\nwith open('tfidf_sent_vectors', 'wb') as fp:\\n    pickle.dump(tfidf_sent_vectors, fp)\""
            ]
          },
          "metadata": {
            "tags": []
          },
          "execution_count": 34
        }
      ]
    },
    {
      "metadata": {
        "id": "-Ais49I417L3",
        "colab_type": "code",
        "colab": {
          "base_uri": "https://localhost:8080/",
          "height": 34
        },
        "outputId": "8b1c15ac-29db-4dca-d81a-bbff61c6787c"
      },
      "cell_type": "code",
      "source": [
        "#loading the pickle file \n",
        "\n",
        "with open('/root/tfidf_sent_vectors', 'rb') as fp:\n",
        "    tfidf_sent_vectors= pickle.load(fp)\n",
        "len(tfidf_sent_vectors)"
      ],
      "execution_count": 36,
      "outputs": [
        {
          "output_type": "execute_result",
          "data": {
            "text/plain": [
              "87773"
            ]
          },
          "metadata": {
            "tags": []
          },
          "execution_count": 36
        }
      ]
    },
    {
      "metadata": {
        "colab_type": "text",
        "id": "ZFN0k_hEJklb"
      },
      "cell_type": "markdown",
      "source": [
        "# [5] Assignment 4: Apply Naive Bayes"
      ]
    },
    {
      "metadata": {
        "colab_type": "text",
        "id": "O1ABSoejJklc"
      },
      "cell_type": "markdown",
      "source": [
        "<ol>\n",
        "    <li><strong>Apply Multinomial NaiveBayes on these feature sets</strong>\n",
        "        <ul>\n",
        "            <li><font color='red'>SET 1:</font>Review text, preprocessed one converted into vectors using (BOW)</li>\n",
        "            <li><font color='red'>SET 2:</font>Review text, preprocessed one converted into vectors using (TFIDF)</li>\n",
        "        </ul>\n",
        "    </li>\n",
        "    <br>\n",
        "    <li><strong>The hyper paramter tuning(find best Alpha)</strong>\n",
        "        <ul>\n",
        "    <li>Find the best hyper parameter which will give the maximum <a href='https://www.appliedaicourse.com/course/applied-ai-course-online/lessons/receiver-operating-characteristic-curve-roc-curve-and-auc-1/'>AUC</a> value</li>\n",
        "    <li>Consider a wide range of alpha values for hyperparameter tuning, start as low as 0.00001</li>\n",
        "    <li>Find the best hyper paramter using k-fold cross validation or simple cross validation data</li>\n",
        "    <li>Use gridsearch cv or randomsearch cv or you can also write your own for loops to do this task of hyperparameter tuning</li>\n",
        "        </ul>\n",
        "    </li>\n",
        "    <br>\n",
        "    <li><strong>Feature importance</strong>\n",
        "        <ul>\n",
        "    <li>Find the top 10 features of positive class and top 10 features of negative class for both feature sets <font color='red'>Set 1</font> and <font color='red'>Set 2</font> using values of `feature_log_prob_` parameter of  <a href='https://scikit-learn.org/stable/modules/generated/sklearn.naive_bayes.MultinomialNB.html'>MultinomialNB</a> and print their corresponding feature names</li>\n",
        "        </ul>\n",
        "    </li>\n",
        "    <br>\n",
        "    <li><strong>Feature engineering</strong>\n",
        "        <ul>\n",
        "    <li>To increase the performance of your model, you can also experiment with with feature engineering like :</li>\n",
        "            <ul>\n",
        "            <li>Taking length of reviews as another feature.</li>\n",
        "            <li>Considering some features from review summary as well.</li>\n",
        "        </ul>\n",
        "        </ul>\n",
        "    </li>\n",
        "    <br>\n",
        "    <li><strong>Representation of results</strong>\n",
        "        <ul>\n",
        "    <li>You need to plot the performance of model both on train data and cross validation data for each hyper parameter, like shown in the figure. Here on X-axis you will have alpha values, since they have a wide range, just to represent those alpha values on the graph, apply log function on those alpha values.\n",
        "    <img src='train_cv_auc.JPG' width=300px></li>\n",
        "    <li>Once after you found the best hyper parameter, you need to train your model with it, and find the AUC on test data and plot the ROC curve on both train and test.\n",
        "    <img src='train_test_auc.JPG' width=300px></li>\n",
        "    <li>Along with plotting ROC curve, you need to print the <a href='https://www.appliedaicourse.com/course/applied-ai-course-online/lessons/confusion-matrix-tpr-fpr-fnr-tnr-1/'>confusion matrix</a> with predicted and original labels of test data points. Please visualize your confusion matrices using <a href='https://seaborn.pydata.org/generated/seaborn.heatmap.html'>seaborn heatmaps.\n",
        "    <img src='confusion_matrix.png' width=300px></li>\n",
        "        </ul>\n",
        "    </li>\n",
        "    <br>\n",
        "    <li><strong>Conclusion</strong>\n",
        "        <ul>\n",
        "    <li>You need to summarize the results at the end of the notebook, summarize it in the table format. To print out a table please refer to this prettytable library<a href='http://zetcode.com/python/prettytable/'>  link</a> \n",
        "        <img src='summary.JPG' width=400px>\n",
        "    </li>\n",
        "        </ul>\n",
        "</ol>"
      ]
    },
    {
      "metadata": {
        "colab_type": "text",
        "id": "YawkDx8TJklc"
      },
      "cell_type": "markdown",
      "source": [
        "<h4><font color='red'>Note: Data Leakage</font></h4>\n",
        "\n",
        "1. There will be an issue of data-leakage if you vectorize the entire data and then split it into train/cv/test.\n",
        "2. To avoid the issue of data-leakag, make sure to split your data first and then vectorize it. \n",
        "3. While vectorizing your data, apply the method fit_transform() on you train data, and apply the method transform() on cv/test data.\n",
        "4. For more details please go through this <a href='https://soundcloud.com/applied-ai-course/leakage-bow-and-tfidf'>link.</a>"
      ]
    },
    {
      "metadata": {
        "colab_type": "text",
        "id": "RGRFxjhgJklc"
      },
      "cell_type": "markdown",
      "source": [
        "# Applying Multinomial Naive Bayes"
      ]
    },
    {
      "metadata": {
        "colab_type": "text",
        "id": "FxGKHpZlJkle"
      },
      "cell_type": "markdown",
      "source": [
        "## [5.1] Applying Naive Bayes on BOW,<font color='red'> SET 1</font>"
      ]
    },
    {
      "metadata": {
        "colab_type": "code",
        "id": "UR0f8SfZJkle",
        "colab": {}
      },
      "cell_type": "code",
      "source": [
        "\n",
        "\n",
        "#spiliting the main data into train ,cv & test \n",
        "xtrain_Bow_NB,xtest_bow_NB,ytrain_Bow_NB,ytest_bow_NB=train_test_split(preprocessed_reviews,final[\"Score\"],test_size=0.30,random_state=40)\n"
      ],
      "execution_count": 0,
      "outputs": []
    },
    {
      "metadata": {
        "id": "mYMWua0g17MF",
        "colab_type": "code",
        "colab": {
          "base_uri": "https://localhost:8080/",
          "height": 68
        },
        "outputId": "dd4917a0-19af-47e9-943a-c079e65de3ea"
      },
      "cell_type": "code",
      "source": [
        "#fit_transform has to happen only on train data to avoid data leakage\n",
        "count_vect=CountVectorizer()\n",
        "xtrain_Bow_NB=count_vect.fit_transform(xtrain_Bow_NB)\n",
        "xtest_bow_NB=count_vect.transform(xtest_bow_NB)\n",
        "\n",
        "#check the size of our all data set\n",
        "\n",
        "print (xtrain_Bow_NB.shape)\n",
        "print (xtest_bow_NB.shape)\n",
        "print (ytest_bow_NB.shape)"
      ],
      "execution_count": 38,
      "outputs": [
        {
          "output_type": "stream",
          "text": [
            "(61441, 46085)\n",
            "(26332, 46085)\n",
            "(26332,)\n"
          ],
          "name": "stdout"
        }
      ]
    },
    {
      "metadata": {
        "id": "K1KxxbjC17MJ",
        "colab_type": "code",
        "colab": {}
      },
      "cell_type": "code",
      "source": [
        "#tunning the hyperparameter with gridsearchcv on BOW\n",
        "alpha=[10**i for i in range(-6, 5)]\n",
        "param={\"alpha\":alpha}       \n",
        "\n",
        "MNB=MultinomialNB()\n",
        "\n",
        "MNB_Grid=GridSearchCV(MNB,param_grid=param , cv=3, scoring='roc_auc')\n",
        "MNB_Bow=MNB_Grid.fit(xtrain_Bow_NB,ytrain_Bow_NB)\n"
      ],
      "execution_count": 0,
      "outputs": []
    },
    {
      "metadata": {
        "id": "QUMJvYRB17MM",
        "colab_type": "code",
        "colab": {
          "base_uri": "https://localhost:8080/",
          "height": 51
        },
        "outputId": "eab43e37-7d60-470f-9f13-4553cb01153e"
      },
      "cell_type": "code",
      "source": [
        "print (MNB_Grid.best_estimator_)\n",
        "MNB_Grid.best_score_"
      ],
      "execution_count": 40,
      "outputs": [
        {
          "output_type": "stream",
          "text": [
            "MultinomialNB(alpha=0.1, class_prior=None, fit_prior=True)\n"
          ],
          "name": "stdout"
        },
        {
          "output_type": "execute_result",
          "data": {
            "text/plain": [
              "0.9096348583575993"
            ]
          },
          "metadata": {
            "tags": []
          },
          "execution_count": 40
        }
      ]
    },
    {
      "metadata": {
        "id": "L4Pdlh8Z17MV",
        "colab_type": "code",
        "colab": {
          "base_uri": "https://localhost:8080/",
          "height": 34
        },
        "outputId": "649f5229-e075-4abc-dcd2-9fddb997b391"
      },
      "cell_type": "code",
      "source": [
        "#calculating the best alpha\n",
        "param_bow=pd.DataFrame(MNB_Grid.cv_results_).sort_values('rank_test_score')\n",
        "best_alpha_bow=param_bow[\"param_alpha\"].iloc[0]\n",
        "\n",
        "\n",
        "alpha_values_bow=param_bow[\"param_alpha\"].unique()\n",
        "\n",
        "print (\"The best alpha for bow is : {0}\".format(best_alpha_bow))\n"
      ],
      "execution_count": 41,
      "outputs": [
        {
          "output_type": "stream",
          "text": [
            "The best alpha for bow is : 0.1\n"
          ],
          "name": "stdout"
        }
      ]
    },
    {
      "metadata": {
        "id": "5f8a1w1d17MY",
        "colab_type": "code",
        "colab": {
          "base_uri": "https://localhost:8080/",
          "height": 298
        },
        "outputId": "eea960b4-fb73-4305-ac5c-be9e9c1c7b2c"
      },
      "cell_type": "code",
      "source": [
        "#graph for train scores of Grid search for all hyperparameters\n",
        "plt.figure(figsize=(8,6))\n",
        "plt.subplots_adjust(left=.2, right=0.95, bottom=0.15, top=0.65)\n",
        "\n",
        "sns.lineplot(param_bow[\"param_alpha\"],param_bow[\"mean_train_score\"],label=\"Grid_train score\")\n",
        "sns.lineplot(param_bow[\"param_alpha\"],param_bow[\"mean_test_score\"],label=\"Grid_test score\")\n",
        "plt.grid()\n",
        "plt.xlabel(\"alpha\")\n",
        "plt.ylabel(\"Accuracy score\")\n",
        "plt.xscale('log')\n",
        "plt.xticks(alpha)\n",
        "plt.title(\"Graph for auc train & test scores on BOW\")\n",
        "plt.show()"
      ],
      "execution_count": 47,
      "outputs": [
        {
          "output_type": "display_data",
          "data": {
            "image/png": "[encoded data removed]",
            "text/plain": [
              "<Figure size 576x432 with 1 Axes>"
            ]
          },
          "metadata": {
            "tags": []
          }
        }
      ]
    },
    {
      "metadata": {
        "id": "HpHh_Wc_17Mh",
        "colab_type": "code",
        "colab": {
          "base_uri": "https://localhost:8080/",
          "height": 295
        },
        "outputId": "411356db-bdac-4900-afc0-fdcfd35be92b"
      },
      "cell_type": "code",
      "source": [
        "#fitting our model on test(unseen data) data \n",
        "MNB=MultinomialNB(alpha=best_alpha_bow)\n",
        "MNB.fit(xtrain_Bow_NB,ytrain_Bow_NB)\n",
        "\n",
        "train_fpr_bow,train_tpr_bow,threshold=roc_curve(ytrain_Bow_NB,MNB.predict_proba(xtrain_Bow_NB)[:,1])\n",
        "test_fpr_bow,test_tpr_bow,threshold=roc_curve(ytest_bow_NB,MNB.predict_proba(xtest_bow_NB)[:,1])\n",
        "\n",
        "#plotiing the graph for auc score of both train & test \n",
        "sns.lineplot(train_fpr_bow,train_tpr_bow,color=\"r\",label=\"Train auc\" + str(auc(train_fpr_bow,train_tpr_bow) * float(100)))\n",
        "sns.lineplot(test_fpr_bow,test_tpr_bow,color=\"b\",label=\"Test auc\" + str(auc(test_fpr_bow,test_tpr_bow) * float(100)))\n",
        "plt.legend()\n",
        "plt.grid()\n",
        "plt.xlabel(\"alpha\")\n",
        "plt.ylabel(\"Accuracy score\")\n",
        "plt.title(\"Auc graph for test data\")\n",
        "plt.show()"
      ],
      "execution_count": 44,
      "outputs": [
        {
          "output_type": "display_data",
          "data": {
            "image/png": "[encoded data removed]",
            "text/plain": [
              "<Figure size 432x288 with 1 Axes>"
            ]
          },
          "metadata": {
            "tags": []
          }
        }
      ]
    },
    {
      "metadata": {
        "id": "pEMmya9J889T",
        "colab_type": "code",
        "colab": {}
      },
      "cell_type": "code",
      "source": [
        "#confusion matrix on train data \n",
        "confusion_bow_train=confusion_matrix(ytrain_Bow_NB,MNB.predict(xtrain_Bow_NB))\n",
        "sns.heatmap(confusion_bow_train,annot=True,fmt=\"d\",cmap=\"GnBu\")\n",
        "plt.title(\"confusion matrix on train data\")\n",
        "plt.xlabel(\"Predicated labels\")\n",
        "plt.ylabel(\"Actual labels\")\n",
        "plt.show()"
      ],
      "execution_count": 0,
      "outputs": []
    },
    {
      "metadata": {
        "id": "zicUbyH017Mk",
        "colab_type": "code",
        "colab": {
          "base_uri": "https://localhost:8080/",
          "height": 295
        },
        "outputId": "e9a68f35-a223-4172-ea01-276b60425188"
      },
      "cell_type": "code",
      "source": [
        "#confusion matrix on test data \n",
        "confusion_bow_test=confusion_matrix(ytest_bow_NB,MNB.predict(xtest_bow_NB))\n",
        "sns.heatmap(confusion_bow_test,annot=True,fmt=\"d\",cmap=\"GnBu\")\n",
        "plt.title(\"confusion matrix on test data\")\n",
        "plt.xlabel(\"Predicated labels\")\n",
        "plt.ylabel(\"Actual labels\")\n",
        "plt.show()"
      ],
      "execution_count": 45,
      "outputs": [
        {
          "output_type": "display_data",
          "data": {
            "image/png": "[encoded data removed]",
            "text/plain": [
              "<Figure size 432x288 with 2 Axes>"
            ]
          },
          "metadata": {
            "tags": []
          }
        }
      ]
    },
    {
      "metadata": {
        "colab_type": "text",
        "id": "u-ZSD3tlJklg"
      },
      "cell_type": "markdown",
      "source": [
        "### [5.1.1] Top 10 important features of positive class from<font color='red'> SET 1</font>"
      ]
    },
    {
      "metadata": {
        "colab_type": "code",
        "id": "86fu_aO8Jklg",
        "colab": {
          "base_uri": "https://localhost:8080/",
          "height": 68
        },
        "outputId": "747d7da9-28f9-45a7-f2a0-773ca257e4b0"
      },
      "cell_type": "code",
      "source": [
        "pos=MNB.feature_log_prob_.argsort()\n",
        "\n",
        "print (\"Top 10 Postive feature : \\n\",np.take(count_vect.get_feature_names(),pos[0][-10:]))"
      ],
      "execution_count": 74,
      "outputs": [
        {
          "output_type": "stream",
          "text": [
            "Top 10 Postive feature : \n",
            " ['flavor' 'no' 'coffee' 'good' 'one' 'product' 'taste' 'would' 'like'\n",
            " 'not']\n"
          ],
          "name": "stdout"
        }
      ]
    },
    {
      "metadata": {
        "colab_type": "text",
        "id": "mquFtwF5Jklj"
      },
      "cell_type": "markdown",
      "source": [
        "### [5.1.2] Top 10 important features of negative class from<font color='red'> SET 1</font>"
      ]
    },
    {
      "metadata": {
        "colab_type": "code",
        "id": "_RacUnTrJklj",
        "colab": {
          "base_uri": "https://localhost:8080/",
          "height": 68
        },
        "outputId": "5b4270ac-ad8b-47f8-be89-0214f4b31bc4"
      },
      "cell_type": "code",
      "source": [
        "neg=MNB.feature_log_prob_.argsort()\n",
        "print (\"Top 10 Negative feature : \\n\",np.take(count_vect.get_feature_names(),neg[1][-10:]))"
      ],
      "execution_count": 75,
      "outputs": [
        {
          "output_type": "stream",
          "text": [
            "Top 10 Negative feature : \n",
            " ['love' 'would' 'flavor' 'coffee' 'taste' 'one' 'great' 'good' 'like'\n",
            " 'not']\n"
          ],
          "name": "stdout"
        }
      ]
    },
    {
      "metadata": {
        "colab_type": "text",
        "id": "6bp7BbwCJkll"
      },
      "cell_type": "markdown",
      "source": [
        "## [5.2] Applying Naive Bayes on TFIDF,<font color='red'> SET 2</font>"
      ]
    },
    {
      "metadata": {
        "colab_type": "code",
        "id": "oL29fzPFJkll",
        "colab": {}
      },
      "cell_type": "code",
      "source": [
        "\n",
        "#spiliting the main data into train ,cv & test \n",
        "xtrain_tfidf_NB,xtest_tfidf_NB,ytrain_tfidf_NB,ytest_tfidf_NB=train_test_split(preprocessed_reviews,final[\"Score\"],test_size=0.30,random_state=40)\n"
      ],
      "execution_count": 0,
      "outputs": []
    },
    {
      "metadata": {
        "id": "didANKFQ17M5",
        "colab_type": "code",
        "colab": {
          "base_uri": "https://localhost:8080/",
          "height": 68
        },
        "outputId": "816d091b-b404-456f-b317-b6de8475ed5d"
      },
      "cell_type": "code",
      "source": [
        "#fit_transform has to happen only on train data to avoid data leakage\n",
        "count_vect1=TfidfVectorizer()\n",
        "xtrain_tfidf_NB=count_vect1.fit_transform(xtrain_tfidf_NB)\n",
        "xtest_tfidf_NB=count_vect1.transform(xtest_tfidf_NB)\n",
        "\n",
        "#check the size of our all data set\n",
        "\n",
        "print (xtrain_tfidf_NB.shape)\n",
        "print (xtest_tfidf_NB.shape)\n",
        "print (ytest_tfidf_NB.shape)"
      ],
      "execution_count": 77,
      "outputs": [
        {
          "output_type": "stream",
          "text": [
            "(61441, 46085)\n",
            "(26332, 46085)\n",
            "(26332,)\n"
          ],
          "name": "stdout"
        }
      ]
    },
    {
      "metadata": {
        "id": "ZbekQDKE17M8",
        "colab_type": "code",
        "colab": {}
      },
      "cell_type": "code",
      "source": [
        "#tunning the hyperparameter with gridsearchcv on BOW\n",
        "\n",
        "param={\"alpha\":alpha}       \n",
        "\n",
        "MNB=MultinomialNB()\n",
        "\n",
        "MNB_Grid=GridSearchCV(MNB,param_grid=param , cv=3, scoring='roc_auc')\n",
        "MNB_tfidf=MNB_Grid.fit(xtrain_tfidf_NB,ytrain_tfidf_NB)\n"
      ],
      "execution_count": 0,
      "outputs": []
    },
    {
      "metadata": {
        "id": "Ecj60wYW17M_",
        "colab_type": "code",
        "colab": {
          "base_uri": "https://localhost:8080/",
          "height": 51
        },
        "outputId": "6e89e0aa-9578-4728-ecc8-d9c952c1b9cf"
      },
      "cell_type": "code",
      "source": [
        "print (MNB_Grid.best_estimator_)\n",
        "MNB_Grid.best_score_"
      ],
      "execution_count": 79,
      "outputs": [
        {
          "output_type": "stream",
          "text": [
            "MultinomialNB(alpha=0.1, class_prior=None, fit_prior=True)\n"
          ],
          "name": "stdout"
        },
        {
          "output_type": "execute_result",
          "data": {
            "text/plain": [
              "0.9094789516384179"
            ]
          },
          "metadata": {
            "tags": []
          },
          "execution_count": 79
        }
      ]
    },
    {
      "metadata": {
        "id": "KEuc7aje17ND",
        "colab_type": "code",
        "colab": {
          "base_uri": "https://localhost:8080/",
          "height": 34
        },
        "outputId": "557524c8-6f29-498e-c0cc-e76cc9602d48"
      },
      "cell_type": "code",
      "source": [
        "#calculating the best alpha\n",
        "param_tfidf=pd.DataFrame(MNB_Grid.cv_results_).sort_values('rank_test_score')\n",
        "best_alpha_tfidf=param_tfidf[\"param_alpha\"].iloc[0]\n",
        "\n",
        "\n",
        "alpha_values_tfidf=param_tfidf[\"param_alpha\"].unique()\n",
        "\n",
        "print (\"The best alpha for tfidf is : {0}\".format(best_alpha_tfidf))\n"
      ],
      "execution_count": 80,
      "outputs": [
        {
          "output_type": "stream",
          "text": [
            "The best alpha for tfidf is : 0.1\n"
          ],
          "name": "stdout"
        }
      ]
    },
    {
      "metadata": {
        "id": "TD8TSgNl17NG",
        "colab_type": "code",
        "colab": {
          "base_uri": "https://localhost:8080/",
          "height": 298
        },
        "outputId": "340eaf10-04fd-40d0-cccd-7c207ed174f1"
      },
      "cell_type": "code",
      "source": [
        "#graph for train scores of Grid search for all hyperparameters\n",
        "plt.figure(figsize=(8,6))\n",
        "plt.subplots_adjust(left=.2, right=0.95, bottom=0.15, top=0.65)\n",
        "\n",
        "sns.lineplot(param_tfidf[\"param_alpha\"],param_tfidf[\"mean_train_score\"],label=\"Grid_train score\")\n",
        "\n",
        "sns.lineplot(param_tfidf[\"param_alpha\"],param_tfidf[\"mean_test_score\"],label=\"Grid_test score\")\n",
        "plt.grid()\n",
        "plt.xlabel(\"alpha\")\n",
        "plt.ylabel(\"Accuracy score\")\n",
        "plt.xscale('log')\n",
        "plt.xticks(alpha)\n",
        "plt.title(\"Graph for auc train & test scores on tfidf\")\n",
        "plt.show()"
      ],
      "execution_count": 81,
      "outputs": [
        {
          "output_type": "display_data",
          "data": {
            "image/png": "[encoded data removed]",
            "text/plain": [
              "<Figure size 576x432 with 1 Axes>"
            ]
          },
          "metadata": {
            "tags": []
          }
        }
      ]
    },
    {
      "metadata": {
        "id": "zl_keAfa17NM",
        "colab_type": "code",
        "colab": {
          "base_uri": "https://localhost:8080/",
          "height": 295
        },
        "outputId": "82b327c2-3475-4b5d-c354-0a5db1b0d31d"
      },
      "cell_type": "code",
      "source": [
        "#fitting our model on test(unseen data) data \n",
        "MNB=MultinomialNB(alpha=best_alpha_tfidf)\n",
        "MNB.fit(xtrain_tfidf_NB,ytrain_tfidf_NB)\n",
        "\n",
        "train_fpr_tfidf,train_tpr_tfidf,threshold=roc_curve(ytrain_tfidf_NB,MNB.predict_proba(xtrain_tfidf_NB)[:,1])\n",
        "test_fpr_tfidf,test_tpr_tfidf,threshold=roc_curve(ytest_tfidf_NB,MNB.predict_proba(xtest_tfidf_NB)[:,1])\n",
        "\n",
        "#plotiing the graph for auc score of both train & test \n",
        "sns.lineplot(train_fpr_tfidf,train_tpr_tfidf,color=\"r\",label=\"Train auc\" + str(auc(train_fpr_tfidf,train_tpr_tfidf) * float(100)))\n",
        "sns.lineplot(test_fpr_tfidf,test_tpr_tfidf,color=\"b\",label=\"Test auc\" + str(auc(test_fpr_tfidf,test_tpr_tfidf) * float(100)))\n",
        "plt.legend()\n",
        "plt.grid()\n",
        "plt.xlabel(\"hyperparametr\")\n",
        "plt.ylabel(\"auc scores\")\n",
        "plt.title(\"Auc graph for test data\")\n",
        "plt.show()"
      ],
      "execution_count": 82,
      "outputs": [
        {
          "output_type": "display_data",
          "data": {
            "image/png": "[encoded data removed]",
            "text/plain": [
              "<Figure size 432x288 with 1 Axes>"
            ]
          },
          "metadata": {
            "tags": []
          }
        }
      ]
    },
    {
      "metadata": {
        "id": "xLMk6x-yBhBD",
        "colab_type": "code",
        "colab": {
          "base_uri": "https://localhost:8080/",
          "height": 295
        },
        "outputId": "1d151c69-6f45-4385-876a-65feb8582168"
      },
      "cell_type": "code",
      "source": [
        "#confusion matrix on train data \n",
        "confusion_tfidf_train=confusion_matrix(ytrain_tfidf_NB,MNB.predict(xtrain_tfidf_NB))\n",
        "sns.heatmap(confusion_tfidf_train,annot=True,fmt=\"d\",cmap=\"GnBu\")\n",
        "plt.title(\"confusion matrix on train data\")\n",
        "plt.xlabel(\"Predicated labels\")\n",
        "plt.ylabel(\"Actual labels\")\n",
        "plt.show()"
      ],
      "execution_count": 83,
      "outputs": [
        {
          "output_type": "display_data",
          "data": {
            "image/png": "[encoded data removed]",
            "text/plain": [
              "<Figure size 432x288 with 2 Axes>"
            ]
          },
          "metadata": {
            "tags": []
          }
        }
      ]
    },
    {
      "metadata": {
        "id": "_QK_a_Bd17NQ",
        "colab_type": "code",
        "colab": {
          "base_uri": "https://localhost:8080/",
          "height": 295
        },
        "outputId": "b0dd2059-4d0d-437e-c8cf-f442c19e28b4"
      },
      "cell_type": "code",
      "source": [
        "#confusion matrix on test data \n",
        "confusion_tfidf_test=confusion_matrix(ytest_tfidf_NB,MNB.predict(xtest_tfidf_NB))\n",
        "sns.heatmap(confusion_tfidf_test,annot=True,fmt=\"d\",cmap=\"GnBu\")\n",
        "plt.title(\"confusion matrix on test data\")\n",
        "plt.xlabel(\"Predicated labels\")\n",
        "plt.ylabel(\"Actual labels\")\n",
        "plt.show()"
      ],
      "execution_count": 84,
      "outputs": [
        {
          "output_type": "display_data",
          "data": {
            "image/png": "[encoded data removed]",
            "text/plain": [
              "<Figure size 432x288 with 2 Axes>"
            ]
          },
          "metadata": {
            "tags": []
          }
        }
      ]
    },
    {
      "metadata": {
        "colab_type": "text",
        "id": "Dtpj7iMSJkln"
      },
      "cell_type": "markdown",
      "source": [
        "### [5.2.1] Top 10 important features of positive class from<font color='red'> SET 2</font>"
      ]
    },
    {
      "metadata": {
        "colab_type": "code",
        "id": "g3flcTmmJklo",
        "colab": {
          "base_uri": "https://localhost:8080/",
          "height": 68
        },
        "outputId": "1bce75bc-7e2a-4094-e7eb-3d1f2e1792e2"
      },
      "cell_type": "code",
      "source": [
        "\n",
        "pos=MNB.feature_log_prob_.argsort()\n",
        "\n",
        "print (\"Top 10 Postive feature : \\n\",np.take(count_vect1.get_feature_names(),pos[0][-10:]))"
      ],
      "execution_count": 85,
      "outputs": [
        {
          "output_type": "stream",
          "text": [
            "Top 10 Postive feature : \n",
            " ['good' 'no' 'flavor' 'one' 'coffee' 'would' 'product' 'taste' 'like'\n",
            " 'not']\n"
          ],
          "name": "stdout"
        }
      ]
    },
    {
      "metadata": {
        "colab_type": "text",
        "id": "UovIVRyEJklq"
      },
      "cell_type": "markdown",
      "source": [
        "### [5.2.2] Top 10 important features of negative class from<font color='red'> SET 2</font>"
      ]
    },
    {
      "metadata": {
        "colab_type": "code",
        "id": "i3i3cShuJklr",
        "colab": {
          "base_uri": "https://localhost:8080/",
          "height": 51
        },
        "outputId": "f7143650-264b-4c4b-db82-33d98c1530de"
      },
      "cell_type": "code",
      "source": [
        "neg=MNB.feature_log_prob_.argsort()\n",
        "print (\"Top 10 Negative feature : \\n\",np.take(count_vect1.get_feature_names(),neg[1][-10:]))"
      ],
      "execution_count": 86,
      "outputs": [
        {
          "output_type": "stream",
          "text": [
            "Top 10 Negative feature : \n",
            " ['flavor' 'one' 'taste' 'tea' 'love' 'like' 'coffee' 'good' 'great' 'not']\n"
          ],
          "name": "stdout"
        }
      ]
    },
    {
      "metadata": {
        "colab_type": "text",
        "id": "vst5Y7mmJklu"
      },
      "cell_type": "markdown",
      "source": [
        "# [6] Conclusions"
      ]
    },
    {
      "metadata": {
        "colab_type": "code",
        "id": "De9HYtIGJklv",
        "colab": {
          "base_uri": "https://localhost:8080/",
          "height": 119
        },
        "outputId": "b599cf6f-9e3f-4c9c-ae19-7b733d175b28"
      },
      "cell_type": "code",
      "source": [
        "\n",
        "\n",
        "# conclusions on BOW TFIDF\n",
        "conculsion=PrettyTable()\n",
        "conculsion.field_names=[\"Model\",\"best alpha\",\"Test_Auc\"]\n",
        "conculsion.add_row([\"Bow\",best_alpha_bow,auc(test_fpr_bow,test_tpr_bow) * float(100)])\n",
        "conculsion.add_row([\"Tfidf\",best_alpha_tfidf,auc(test_fpr_tfidf,test_tpr_tfidf) * float(100)])\n",
        "\n",
        "print (conculsion)"
      ],
      "execution_count": 87,
      "outputs": [
        {
          "output_type": "stream",
          "text": [
            "+-------+------------+-------------------+\n",
            "| Model | best alpha |      Test_Auc     |\n",
            "+-------+------------+-------------------+\n",
            "|  Bow  |    0.1     | 90.85028785495398 |\n",
            "| Tfidf |    0.1     | 92.40517408205332 |\n",
            "+-------+------------+-------------------+\n"
          ],
          "name": "stdout"
        }
      ]
    },
    {
      "metadata": {
        "id": "R1lK6wBW17Ni",
        "colab_type": "code",
        "colab": {}
      },
      "cell_type": "code",
      "source": [
        ""
      ],
      "execution_count": 0,
      "outputs": []
    },
    {
      "metadata": {
        "id": "etwdE5lI17Nk",
        "colab_type": "code",
        "colab": {}
      },
      "cell_type": "code",
      "source": [
        ""
      ],
      "execution_count": 0,
      "outputs": []
    }
  ]
}